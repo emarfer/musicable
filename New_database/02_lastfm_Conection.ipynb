{
 "cells": [
  {
   "cell_type": "code",
   "execution_count": 1,
   "id": "5ad5c917-2eb1-4f72-b9fe-9fcb8eaeddfc",
   "metadata": {},
   "outputs": [],
   "source": [
    "import requests \n",
    "import json\n",
    "import os\n",
    "from dotenv import load_dotenv\n",
    "load_dotenv()\n",
    "import pandas as pd\n",
    "from pandas import json_normalize\n",
    "import numpy as np"
   ]
  },
  {
   "cell_type": "code",
   "execution_count": 3,
   "id": "f99cc73a-a5f6-45a6-864e-28ec2b9f42d7",
   "metadata": {},
   "outputs": [],
   "source": [
    "keylast = os.getenv(\"keylast\")\n",
    "l_user = 'sinatxester'"
   ]
  },
  {
   "cell_type": "code",
   "execution_count": 4,
   "id": "73c081c7",
   "metadata": {},
   "outputs": [],
   "source": [
    "url_user = f'http://ws.audioscrobbler.com/2.0/?method=user.getinfo&user={l_user}&api_key={keylast}&format=json'"
   ]
  },
  {
   "cell_type": "code",
   "execution_count": 5,
   "id": "017a0644",
   "metadata": {},
   "outputs": [],
   "source": [
    "req_user = requests.get(url_user).json()['user']"
   ]
  },
  {
   "cell_type": "code",
   "execution_count": 6,
   "id": "0f68d790",
   "metadata": {},
   "outputs": [
    {
     "data": {
      "text/plain": [
       "{'name': 'sinatxester',\n",
       " 'age': '0',\n",
       " 'subscriber': '0',\n",
       " 'realname': 'Ester Sinatxe',\n",
       " 'bootstrap': '0',\n",
       " 'playcount': '81014',\n",
       " 'artist_count': '1123',\n",
       " 'playlists': '0',\n",
       " 'track_count': '12850',\n",
       " 'album_count': '2018',\n",
       " 'image': [{'size': 'small',\n",
       "   '#text': 'https://lastfm.freetls.fastly.net/i/u/34s/daa41927775a61b3e4762c4a8eda80f3.png'},\n",
       "  {'size': 'medium',\n",
       "   '#text': 'https://lastfm.freetls.fastly.net/i/u/64s/daa41927775a61b3e4762c4a8eda80f3.png'},\n",
       "  {'size': 'large',\n",
       "   '#text': 'https://lastfm.freetls.fastly.net/i/u/174s/daa41927775a61b3e4762c4a8eda80f3.png'},\n",
       "  {'size': 'extralarge',\n",
       "   '#text': 'https://lastfm.freetls.fastly.net/i/u/300x300/daa41927775a61b3e4762c4a8eda80f3.png'}],\n",
       " 'registered': {'unixtime': '1420141064', '#text': 1420141064},\n",
       " 'country': 'Spain',\n",
       " 'gender': 'n',\n",
       " 'url': 'https://www.last.fm/user/sinatxester',\n",
       " 'type': 'user'}"
      ]
     },
     "execution_count": 6,
     "metadata": {},
     "output_type": "execute_result"
    }
   ],
   "source": [
    "req_user"
   ]
  },
  {
   "cell_type": "code",
   "execution_count": 21,
   "id": "0094c6a8",
   "metadata": {},
   "outputs": [],
   "source": [
    "url_track = f'http://ws.audioscrobbler.com/2.0/?method=user.getrecenttracks&user={l_user}&api_key={keylast}&limit=1000&format=json'"
   ]
  },
  {
   "cell_type": "code",
   "execution_count": 22,
   "id": "49d99ab2",
   "metadata": {},
   "outputs": [],
   "source": [
    "req_tracks = requests.get(url_track).json()['recenttracks']"
   ]
  },
  {
   "cell_type": "code",
   "execution_count": 23,
   "id": "652d0f25",
   "metadata": {},
   "outputs": [
    {
     "data": {
      "text/plain": [
       "{'user': 'sinatxester',\n",
       " 'totalPages': '82',\n",
       " 'page': '1',\n",
       " 'total': '81016',\n",
       " 'perPage': '1000'}"
      ]
     },
     "execution_count": 23,
     "metadata": {},
     "output_type": "execute_result"
    }
   ],
   "source": [
    "req_tracks['@attr']"
   ]
  },
  {
   "cell_type": "code",
   "execution_count": 25,
   "id": "c6f4ed91",
   "metadata": {},
   "outputs": [
    {
     "data": {
      "text/plain": [
       "1001"
      ]
     },
     "execution_count": 25,
     "metadata": {},
     "output_type": "execute_result"
    }
   ],
   "source": [
    "len(req_tracks['track'])"
   ]
  },
  {
   "cell_type": "code",
   "execution_count": 29,
   "id": "c897ea3f",
   "metadata": {
    "scrolled": false
   },
   "outputs": [
    {
     "name": "stdout",
     "output_type": "stream",
     "text": [
      "['artist', 'streamable', 'image', 'mbid', 'album', 'name', '@attr', 'url']\n",
      "['artist', 'streamable', 'image', 'mbid', 'album', 'name', 'url', 'date']\n",
      "['artist', 'streamable', 'image', 'mbid', 'album', 'name', 'url', 'date']\n",
      "['artist', 'streamable', 'image', 'mbid', 'album', 'name', 'url', 'date']\n",
      "['artist', 'streamable', 'image', 'mbid', 'album', 'name', 'url', 'date']\n"
     ]
    }
   ],
   "source": [
    "for t in req_tracks['track'][:5]:\n",
    "    print(list(t.keys()))\n",
    "# if '@attr' in t.keys() -> now playing\n"
   ]
  },
  {
   "cell_type": "code",
   "execution_count": 33,
   "id": "29ac563e",
   "metadata": {},
   "outputs": [
    {
     "data": {
      "text/plain": [
       "{'artist': {'mbid': '65f4f0c5-ef9e-490c-aee3-909e7ae6b2ab',\n",
       "  '#text': 'Metallica'},\n",
       " 'streamable': '0',\n",
       " 'image': [{'size': 'small',\n",
       "   '#text': 'https://lastfm.freetls.fastly.net/i/u/34s/2a96cbd8b46e442fc41c2b86b821562f.png'},\n",
       "  {'size': 'medium',\n",
       "   '#text': 'https://lastfm.freetls.fastly.net/i/u/64s/2a96cbd8b46e442fc41c2b86b821562f.png'},\n",
       "  {'size': 'large',\n",
       "   '#text': 'https://lastfm.freetls.fastly.net/i/u/174s/2a96cbd8b46e442fc41c2b86b821562f.png'},\n",
       "  {'size': 'extralarge',\n",
       "   '#text': 'https://lastfm.freetls.fastly.net/i/u/300x300/2a96cbd8b46e442fc41c2b86b821562f.png'}],\n",
       " 'mbid': '',\n",
       " 'album': {'mbid': '0877d3eb-5d80-4e7d-b5d4-eb36d4dbc3ce', '#text': 'Reload'},\n",
       " 'name': 'The Memory Remains',\n",
       " 'url': 'https://www.last.fm/music/Metallica/_/The+Memory+Remains',\n",
       " 'date': {'uts': '1671654338', '#text': '21 Dec 2022, 20:25'}}"
      ]
     },
     "execution_count": 33,
     "metadata": {},
     "output_type": "execute_result"
    }
   ],
   "source": [
    " req_tracks['track'][1]"
   ]
  },
  {
   "cell_type": "code",
   "execution_count": null,
   "id": "7f32f8d3",
   "metadata": {},
   "outputs": [],
   "source": []
  }
 ],
 "metadata": {
  "kernelspec": {
   "display_name": "Python 3",
   "language": "python",
   "name": "python3"
  },
  "language_info": {
   "codemirror_mode": {
    "name": "ipython",
    "version": 3
   },
   "file_extension": ".py",
   "mimetype": "text/x-python",
   "name": "python",
   "nbconvert_exporter": "python",
   "pygments_lexer": "ipython3",
   "version": "3.8.5"
  }
 },
 "nbformat": 4,
 "nbformat_minor": 5
}
