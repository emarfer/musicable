{
 "cells": [
  {
   "cell_type": "code",
   "execution_count": 2,
   "id": "6c6de381",
   "metadata": {},
   "outputs": [
    {
     "data": {
      "text/plain": [
       "True"
      ]
     },
     "execution_count": 2,
     "metadata": {},
     "output_type": "execute_result"
    }
   ],
   "source": [
    "import pandas as pd\n",
    "from pymongo import MongoClient\n",
    "import pymongo\n",
    "import sys\n",
    "sys.path.append('../src')\n",
    "import apidiscogs as apd\n",
    "import os\n",
    "import sqlalchemy as alch\n",
    "import time\n",
    "import requests\n",
    "from dotenv import load_dotenv\n",
    "load_dotenv()"
   ]
  },
  {
   "cell_type": "markdown",
   "id": "0ce283e7",
   "metadata": {},
   "source": [
    "# Mongo Conection "
   ]
  },
  {
   "cell_type": "code",
   "execution_count": 6,
   "id": "2a5ee239",
   "metadata": {},
   "outputs": [],
   "source": [
    "myclient = pymongo.MongoClient(\"mongodb://localhost:27017/\")\n",
    "client = MongoClient(\"localhost:27017\")\n",
    "db = client.get_database(\"lastusers\")"
   ]
  },
  {
   "cell_type": "code",
   "execution_count": 10,
   "id": "931115f4",
   "metadata": {},
   "outputs": [
    {
     "data": {
      "text/plain": [
       "['jesteruki', 'avekaesar', 'sinatxester']"
      ]
     },
     "execution_count": 10,
     "metadata": {},
     "output_type": "execute_result"
    }
   ],
   "source": [
    "### list of colecction names\n",
    "db.list_collection_names()"
   ]
  },
  {
   "cell_type": "code",
   "execution_count": 14,
   "id": "6c535527",
   "metadata": {},
   "outputs": [],
   "source": [
    "### colection & documents\n",
    "sinatxe = db.get_collection('sinatxester')\n",
    "jesteruki = db.get_collection('jesteruki')"
   ]
  },
  {
   "cell_type": "code",
   "execution_count": 16,
   "id": "5b5ad4a9",
   "metadata": {},
   "outputs": [
    {
     "data": {
      "text/plain": [
       "175666"
      ]
     },
     "execution_count": 16,
     "metadata": {},
     "output_type": "execute_result"
    }
   ],
   "source": [
    "sinatxe_docs = list(sinatxe.find())\n",
    "jesteruki_docs = list(jesteruki.find())\n",
    "len(sinatxe_docs) + len(jesteruki_docs)"
   ]
  },
  {
   "cell_type": "code",
   "execution_count": 19,
   "id": "abd88805",
   "metadata": {},
   "outputs": [
    {
     "data": {
      "text/plain": [
       "dict_keys(['_id', 'artist', 'streamable', 'image', 'mbid', 'album', 'name', 'url', 'date'])"
      ]
     },
     "execution_count": 19,
     "metadata": {},
     "output_type": "execute_result"
    }
   ],
   "source": [
    "sinatxe_docs[0].keys()"
   ]
  },
  {
   "cell_type": "code",
   "execution_count": null,
   "id": "eea8a466",
   "metadata": {},
   "outputs": [],
   "source": [
    "lista = []\n",
    "for doc in sinatxe_docs:\n",
    "    "
   ]
  },
  {
   "cell_type": "code",
   "execution_count": 24,
   "id": "aa6479da",
   "metadata": {},
   "outputs": [
    {
     "name": "stdout",
     "output_type": "stream",
     "text": [
      "_id\n",
      "638f523c0a4bec1360bb4813\n",
      "----\n",
      "artist\n",
      "{'mbid': '481bf5f9-2e7c-4c44-b08a-05b32bc7c00d', '#text': 'INXS'}\n",
      "----\n",
      "streamable\n",
      "0\n",
      "----\n",
      "image\n",
      "[{'size': 'small', '#text': 'https://lastfm.freetls.fastly.net/i/u/34s/2a96cbd8b46e442fc41c2b86b821562f.png'}, {'size': 'medium', '#text': 'https://lastfm.freetls.fastly.net/i/u/64s/2a96cbd8b46e442fc41c2b86b821562f.png'}, {'size': 'large', '#text': 'https://lastfm.freetls.fastly.net/i/u/174s/2a96cbd8b46e442fc41c2b86b821562f.png'}, {'size': 'extralarge', '#text': 'https://lastfm.freetls.fastly.net/i/u/300x300/2a96cbd8b46e442fc41c2b86b821562f.png'}]\n",
      "----\n",
      "mbid\n",
      "00739069-87bb-4c58-940e-d4d26a121a46\n",
      "----\n",
      "album\n",
      "{'mbid': '0ae86d14-09a2-4b05-86e1-8b518dad95d1', '#text': 'Elegantly Wasted'}\n",
      "----\n",
      "name\n",
      "Girl On Fire\n",
      "----\n",
      "url\n",
      "https://www.last.fm/music/INXS/_/Girl+On+Fire\n",
      "----\n",
      "date\n",
      "{'uts': '1670102854', '#text': '03 Dec 2022, 21:27'}\n",
      "----\n"
     ]
    }
   ],
   "source": [
    "for k in sinatxe_docs[0].keys():\n",
    "    print(k)\n",
    "    print(sinatxe_docs[0][k])\n",
    "    print('----')"
   ]
  },
  {
   "cell_type": "code",
   "execution_count": null,
   "id": "a4add483",
   "metadata": {},
   "outputs": [],
   "source": []
  }
 ],
 "metadata": {
  "kernelspec": {
   "display_name": "Python 3",
   "language": "python",
   "name": "python3"
  },
  "language_info": {
   "codemirror_mode": {
    "name": "ipython",
    "version": 3
   },
   "file_extension": ".py",
   "mimetype": "text/x-python",
   "name": "python",
   "nbconvert_exporter": "python",
   "pygments_lexer": "ipython3",
   "version": "3.8.5"
  }
 },
 "nbformat": 4,
 "nbformat_minor": 5
}
