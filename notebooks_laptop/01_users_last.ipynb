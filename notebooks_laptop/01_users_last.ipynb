{
 "cells": [
  {
   "cell_type": "code",
   "execution_count": 49,
   "id": "d4d626f3",
   "metadata": {},
   "outputs": [],
   "source": [
    "import requests \n",
    "import json\n",
    "import os\n",
    "from dotenv import load_dotenv\n",
    "load_dotenv()\n",
    "import sys\n",
    "sys.path.append('../src')\n",
    "import apilast as als\n",
    "import sqltools as sqt\n",
    "import sqlalchemy as alch\n",
    "import cleansing as cls\n",
    "from pymongo import MongoClient\n",
    "import pymongo\n",
    "import random"
   ]
  },
  {
   "cell_type": "code",
   "execution_count": 4,
   "id": "e5948561",
   "metadata": {},
   "outputs": [],
   "source": [
    "keylast = os.getenv(\"keylast\")"
   ]
  },
  {
   "cell_type": "code",
   "execution_count": 5,
   "id": "3ed7b49e",
   "metadata": {},
   "outputs": [],
   "source": [
    "client = MongoClient(\"localhost:27017\")"
   ]
  },
  {
   "cell_type": "code",
   "execution_count": 6,
   "id": "1850f0d9",
   "metadata": {},
   "outputs": [
    {
     "data": {
      "text/plain": [
       "['First_try', 'admin', 'config', 'ironhack', 'lastusers', 'local', 'musicable']"
      ]
     },
     "execution_count": 6,
     "metadata": {},
     "output_type": "execute_result"
    }
   ],
   "source": [
    "client.list_database_names()"
   ]
  },
  {
   "cell_type": "code",
   "execution_count": 7,
   "id": "fd7d9665",
   "metadata": {},
   "outputs": [],
   "source": [
    "lastusers = client.get_database(\"lastusers\")"
   ]
  },
  {
   "cell_type": "code",
   "execution_count": 8,
   "id": "77f7c59b",
   "metadata": {},
   "outputs": [
    {
     "data": {
      "text/plain": [
       "['AveKaesar', 'usuarios', 'sinatxester']"
      ]
     },
     "execution_count": 8,
     "metadata": {},
     "output_type": "execute_result"
    }
   ],
   "source": [
    "lastusers.list_collection_names()"
   ]
  },
  {
   "cell_type": "code",
   "execution_count": 9,
   "id": "bb3bc5a6",
   "metadata": {},
   "outputs": [
    {
     "data": {
      "text/plain": [
       "<pymongo.results.InsertOneResult at 0x7fcd80381900>"
      ]
     },
     "execution_count": 9,
     "metadata": {},
     "output_type": "execute_result"
    }
   ],
   "source": [
    "lastusers.usuarios.insert_one({'hola':'prueba','flipa':'prueba'})"
   ]
  },
  {
   "cell_type": "code",
   "execution_count": 10,
   "id": "88cb456b",
   "metadata": {},
   "outputs": [],
   "source": [
    "lastuser = 'AveKaesar'"
   ]
  },
  {
   "cell_type": "code",
   "execution_count": 12,
   "id": "fcc49af7",
   "metadata": {},
   "outputs": [],
   "source": [
    "new_user = lastusers.create_collection(lastuser)"
   ]
  },
  {
   "cell_type": "code",
   "execution_count": 45,
   "id": "093d5011",
   "metadata": {},
   "outputs": [],
   "source": [
    "#totscrobles"
   ]
  },
  {
   "cell_type": "code",
   "execution_count": 72,
   "id": "99d700ef",
   "metadata": {},
   "outputs": [],
   "source": [
    "url = f'http://ws.audioscrobbler.com/2.0/?method=user.getrecenttracks&user={lastuser}&limit=1000&api_key={keylast}&format=json'\n",
    "req = requests.get(url).json()"
   ]
  },
  {
   "cell_type": "code",
   "execution_count": 85,
   "id": "d9c0ceba",
   "metadata": {},
   "outputs": [],
   "source": [
    "lastuser = 'sinatxester'"
   ]
  },
  {
   "cell_type": "code",
   "execution_count": 82,
   "id": "0d9cdcc5",
   "metadata": {},
   "outputs": [],
   "source": [
    "new_user = lastusers.create_collection(lastuser)"
   ]
  },
  {
   "cell_type": "code",
   "execution_count": 83,
   "id": "96447b23",
   "metadata": {},
   "outputs": [],
   "source": [
    "lastuser = 'jesteruki'"
   ]
  },
  {
   "cell_type": "code",
   "execution_count": 86,
   "id": "2bcde0e9",
   "metadata": {
    "scrolled": false
   },
   "outputs": [
    {
     "name": "stdout",
     "output_type": "stream",
     "text": [
      "recovering 76 pages\n",
      "pag 5 done\n",
      "pag 10 done\n",
      "pag 15 done\n",
      "pag 20 done\n",
      "pag 25 done\n",
      "pag 30 done\n",
      "pag 35 done\n",
      "pag 40 done\n",
      "pag 45 done\n",
      "pag 50 done\n",
      "pag 55 done\n",
      "pag 60 done\n",
      "pag 65 done\n",
      "pag 70 done\n",
      "pag 75 done\n"
     ]
    }
   ],
   "source": [
    "url = f'http://ws.audioscrobbler.com/2.0/?method=user.getrecenttracks&user={lastuser}&limit=1000&api_key={keylast}&format=json'\n",
    "req = requests.get(url).json()['recenttracks']\n",
    "pages = int(req['@attr']['totalPages'])\n",
    "print(f'recovering {pages} pages')\n",
    "\n",
    "\n",
    "for i in range(1,pages+1):\n",
    "    page = i\n",
    "    url_t = f'http://ws.audioscrobbler.com/2.0/?method=user.getrecenttracks&user={lastuser}&limit=1000&page={page}&api_key={keylast}&format=json'\n",
    "    req_t = requests.get(url_t).json()['recenttracks']['track']\n",
    "    for r in req_t:\n",
    "        #print(r)\n",
    "        lastusers.sinatxester.insert_one(r)\n",
    "    \n",
    "    if i%5==0:\n",
    "        print(f'pag {i} done')"
   ]
  },
  {
   "cell_type": "code",
   "execution_count": 87,
   "id": "9dd5e752",
   "metadata": {},
   "outputs": [
    {
     "data": {
      "text/plain": [
       "['AveKaesar', 'usuarios', 'sinatxester']"
      ]
     },
     "execution_count": 87,
     "metadata": {},
     "output_type": "execute_result"
    }
   ],
   "source": [
    "lastusers.list_collection_names()"
   ]
  },
  {
   "cell_type": "code",
   "execution_count": 13,
   "id": "1a38062b",
   "metadata": {},
   "outputs": [],
   "source": [
    "ester = lastusers.get_collection(\"sinatxester\")"
   ]
  },
  {
   "cell_type": "code",
   "execution_count": 14,
   "id": "8e2a9a36",
   "metadata": {},
   "outputs": [
    {
     "data": {
      "text/plain": [
       "{'_id': ObjectId('6217b85175bd69ba0374287e'),\n",
       " 'artist': {'mbid': 'e795e03d-b5d5-4a5f-834d-162cfb308a2c',\n",
       "  '#text': 'PJ Harvey'},\n",
       " 'streamable': '0',\n",
       " 'image': [{'size': 'small',\n",
       "   '#text': 'https://lastfm.freetls.fastly.net/i/u/34s/6bc1781107a6ff90158c0ab222188b0d.jpg'},\n",
       "  {'size': 'medium',\n",
       "   '#text': 'https://lastfm.freetls.fastly.net/i/u/64s/6bc1781107a6ff90158c0ab222188b0d.jpg'},\n",
       "  {'size': 'large',\n",
       "   '#text': 'https://lastfm.freetls.fastly.net/i/u/174s/6bc1781107a6ff90158c0ab222188b0d.jpg'},\n",
       "  {'size': 'extralarge',\n",
       "   '#text': 'https://lastfm.freetls.fastly.net/i/u/300x300/6bc1781107a6ff90158c0ab222188b0d.jpg'}],\n",
       " 'mbid': '0a684eac-dabc-3b19-a3aa-9dbb8cd9cf43',\n",
       " 'album': {'mbid': '1e9f36a7-074e-4a84-a6b2-c3ff82d7d1e1',\n",
       "  '#text': 'Stories From the City, Stories From the Sea'},\n",
       " 'name': 'Good Fortune',\n",
       " 'url': 'https://www.last.fm/music/PJ+Harvey/_/Good+Fortune',\n",
       " 'date': {'uts': '1420113107', '#text': '01 Jan 2015, 11:51'}}"
      ]
     },
     "execution_count": 14,
     "metadata": {},
     "output_type": "execute_result"
    }
   ],
   "source": [
    "ester.find_one()"
   ]
  },
  {
   "cell_type": "code",
   "execution_count": 15,
   "id": "70a245fd",
   "metadata": {},
   "outputs": [
    {
     "data": {
      "text/plain": [
       "170179"
      ]
     },
     "execution_count": 15,
     "metadata": {},
     "output_type": "execute_result"
    }
   ],
   "source": [
    "len(ester.distinct('date.uts'))"
   ]
  },
  {
   "cell_type": "code",
   "execution_count": 16,
   "id": "1daa8373",
   "metadata": {},
   "outputs": [],
   "source": [
    "\n",
    "numerito = 0\n",
    "for ut in lastusers.sinatxester.distinct('date.uts'):\n",
    "    if int(ut)>numerito:\n",
    "        numerito = int(ut)"
   ]
  },
  {
   "cell_type": "code",
   "execution_count": 17,
   "id": "1d2f0a6c",
   "metadata": {},
   "outputs": [
    {
     "data": {
      "text/plain": [
       "1645713076"
      ]
     },
     "execution_count": 17,
     "metadata": {},
     "output_type": "execute_result"
    }
   ],
   "source": [
    "numerito"
   ]
  },
  {
   "cell_type": "code",
   "execution_count": 22,
   "id": "c1b86fd2",
   "metadata": {},
   "outputs": [],
   "source": [
    "#creamos funcioncita\n",
    "def utsmongo(colecion):\n",
    "    '''\n",
    "    recibe un colección de una base de datos en mongo (usuario específico en lastusers)\n",
    "    devuelve el mayor uts de la colección.\n",
    "    '''\n",
    "    numerito = 0\n",
    "    for ut in colecion.distinct('date.uts'):\n",
    "        if int(ut)>numerito:\n",
    "            numerito = int(ut)\n",
    "    return numerito"
   ]
  },
  {
   "cell_type": "code",
   "execution_count": 23,
   "id": "a742d612",
   "metadata": {},
   "outputs": [
    {
     "data": {
      "text/plain": [
       "1645713076"
      ]
     },
     "execution_count": 23,
     "metadata": {},
     "output_type": "execute_result"
    }
   ],
   "source": [
    "utsmongo(ester)"
   ]
  },
  {
   "cell_type": "code",
   "execution_count": 20,
   "id": "66f103dc",
   "metadata": {},
   "outputs": [
    {
     "data": {
      "text/plain": [
       "'2022-02-24 15:31:16'"
      ]
     },
     "execution_count": 20,
     "metadata": {},
     "output_type": "execute_result"
    }
   ],
   "source": [
    "cls.utslocal(numerito)"
   ]
  },
  {
   "cell_type": "code",
   "execution_count": 21,
   "id": "af9f76cc",
   "metadata": {},
   "outputs": [
    {
     "data": {
      "text/plain": [
       "{'_id': ObjectId('6217b9ab75bd69ba03759a82'),\n",
       " 'artist': {'mbid': 'd54ea4a6-0b9c-4e47-bed0-289ae9ff4037',\n",
       "  '#text': 'Los Chichos'},\n",
       " 'streamable': '0',\n",
       " 'image': [{'size': 'small',\n",
       "   '#text': 'https://lastfm.freetls.fastly.net/i/u/34s/2a96cbd8b46e442fc41c2b86b821562f.png'},\n",
       "  {'size': 'medium',\n",
       "   '#text': 'https://lastfm.freetls.fastly.net/i/u/64s/2a96cbd8b46e442fc41c2b86b821562f.png'},\n",
       "  {'size': 'large',\n",
       "   '#text': 'https://lastfm.freetls.fastly.net/i/u/174s/2a96cbd8b46e442fc41c2b86b821562f.png'},\n",
       "  {'size': 'extralarge',\n",
       "   '#text': 'https://lastfm.freetls.fastly.net/i/u/300x300/2a96cbd8b46e442fc41c2b86b821562f.png'}],\n",
       " 'mbid': '4ccb539e-d661-4b6f-a184-29635571649f',\n",
       " 'album': {'mbid': '41240f03-c082-4dda-a5b4-8475fd18c706',\n",
       "  '#text': 'Son Ilusiones'},\n",
       " 'name': 'Eres falsa y embustera',\n",
       " 'url': 'https://www.last.fm/music/Los+Chichos/_/Eres+falsa+y+embustera',\n",
       " 'date': {'uts': '1645713076', '#text': '24 Feb 2022, 14:31'}}"
      ]
     },
     "execution_count": 21,
     "metadata": {},
     "output_type": "execute_result"
    }
   ],
   "source": [
    "ester.find_one({\"date.uts\": f\"{numerito}\"})"
   ]
  },
  {
   "cell_type": "code",
   "execution_count": 28,
   "id": "19607815",
   "metadata": {},
   "outputs": [
    {
     "data": {
      "text/plain": [
       "1645707198"
      ]
     },
     "execution_count": 28,
     "metadata": {},
     "output_type": "execute_result"
    }
   ],
   "source": [
    "\n",
    "avenum = utsmongo(lastusers.AveKaesar)\n",
    "avenum"
   ]
  },
  {
   "cell_type": "code",
   "execution_count": 29,
   "id": "da798bb9",
   "metadata": {},
   "outputs": [
    {
     "data": {
      "text/plain": [
       "'2022-02-24 13:53:18'"
      ]
     },
     "execution_count": 29,
     "metadata": {},
     "output_type": "execute_result"
    }
   ],
   "source": [
    "cls.utslocal(avenum)"
   ]
  },
  {
   "cell_type": "code",
   "execution_count": 30,
   "id": "d58c1477",
   "metadata": {},
   "outputs": [
    {
     "data": {
      "text/plain": [
       "{'_id': ObjectId('6217b70475bd69ba0372d467'),\n",
       " 'artist': {'mbid': 'c5c2ea1c-4bde-4f4d-bd0b-47b200bf99d6', '#text': 'The xx'},\n",
       " 'streamable': '0',\n",
       " 'image': [{'size': 'small',\n",
       "   '#text': 'https://lastfm.freetls.fastly.net/i/u/34s/2a96cbd8b46e442fc41c2b86b821562f.png'},\n",
       "  {'size': 'medium',\n",
       "   '#text': 'https://lastfm.freetls.fastly.net/i/u/64s/2a96cbd8b46e442fc41c2b86b821562f.png'},\n",
       "  {'size': 'large',\n",
       "   '#text': 'https://lastfm.freetls.fastly.net/i/u/174s/2a96cbd8b46e442fc41c2b86b821562f.png'},\n",
       "  {'size': 'extralarge',\n",
       "   '#text': 'https://lastfm.freetls.fastly.net/i/u/300x300/2a96cbd8b46e442fc41c2b86b821562f.png'}],\n",
       " 'mbid': '11be1671-4cb4-418c-a066-426bde94cac7',\n",
       " 'album': {'mbid': '0732d223-484b-440f-a031-2ff5dd5b2ede',\n",
       "  '#text': 'I See You'},\n",
       " 'name': 'A Violent Noise',\n",
       " 'url': 'https://www.last.fm/music/The+xx/_/A+Violent+Noise',\n",
       " 'date': {'uts': '1645707198', '#text': '24 Feb 2022, 12:53'}}"
      ]
     },
     "execution_count": 30,
     "metadata": {},
     "output_type": "execute_result"
    }
   ],
   "source": [
    "lastusers.AveKaesar.find_one({\"date.uts\": f\"{avenum}\"})"
   ]
  },
  {
   "cell_type": "code",
   "execution_count": 31,
   "id": "dcc5ed55",
   "metadata": {},
   "outputs": [],
   "source": [
    "primera = ester.find_one({\"date.uts\": f\"{numerito}\"})"
   ]
  },
  {
   "cell_type": "code",
   "execution_count": 32,
   "id": "da5f176d",
   "metadata": {},
   "outputs": [
    {
     "data": {
      "text/plain": [
       "{'_id': ObjectId('6217b9ab75bd69ba03759a82'),\n",
       " 'artist': {'mbid': 'd54ea4a6-0b9c-4e47-bed0-289ae9ff4037',\n",
       "  '#text': 'Los Chichos'},\n",
       " 'streamable': '0',\n",
       " 'image': [{'size': 'small',\n",
       "   '#text': 'https://lastfm.freetls.fastly.net/i/u/34s/2a96cbd8b46e442fc41c2b86b821562f.png'},\n",
       "  {'size': 'medium',\n",
       "   '#text': 'https://lastfm.freetls.fastly.net/i/u/64s/2a96cbd8b46e442fc41c2b86b821562f.png'},\n",
       "  {'size': 'large',\n",
       "   '#text': 'https://lastfm.freetls.fastly.net/i/u/174s/2a96cbd8b46e442fc41c2b86b821562f.png'},\n",
       "  {'size': 'extralarge',\n",
       "   '#text': 'https://lastfm.freetls.fastly.net/i/u/300x300/2a96cbd8b46e442fc41c2b86b821562f.png'}],\n",
       " 'mbid': '4ccb539e-d661-4b6f-a184-29635571649f',\n",
       " 'album': {'mbid': '41240f03-c082-4dda-a5b4-8475fd18c706',\n",
       "  '#text': 'Son Ilusiones'},\n",
       " 'name': 'Eres falsa y embustera',\n",
       " 'url': 'https://www.last.fm/music/Los+Chichos/_/Eres+falsa+y+embustera',\n",
       " 'date': {'uts': '1645713076', '#text': '24 Feb 2022, 14:31'}}"
      ]
     },
     "execution_count": 32,
     "metadata": {},
     "output_type": "execute_result"
    }
   ],
   "source": [
    "primera"
   ]
  },
  {
   "cell_type": "code",
   "execution_count": 33,
   "id": "698b635a",
   "metadata": {},
   "outputs": [
    {
     "data": {
      "text/plain": [
       "dict_keys(['_id', 'artist', 'streamable', 'image', 'mbid', 'album', 'name', 'url', 'date'])"
      ]
     },
     "execution_count": 33,
     "metadata": {},
     "output_type": "execute_result"
    }
   ],
   "source": [
    "primera.keys()"
   ]
  },
  {
   "cell_type": "code",
   "execution_count": 34,
   "id": "e1ae2d8c",
   "metadata": {},
   "outputs": [
    {
     "data": {
      "text/plain": [
       "{'mbid': 'd54ea4a6-0b9c-4e47-bed0-289ae9ff4037', '#text': 'Los Chichos'}"
      ]
     },
     "execution_count": 34,
     "metadata": {},
     "output_type": "execute_result"
    }
   ],
   "source": [
    "primera['artist']"
   ]
  },
  {
   "cell_type": "code",
   "execution_count": 36,
   "id": "9de24243",
   "metadata": {},
   "outputs": [
    {
     "data": {
      "text/plain": [
       "1935"
      ]
     },
     "execution_count": 36,
     "metadata": {},
     "output_type": "execute_result"
    }
   ],
   "source": [
    "len(ester.distinct('artist.mbid'))"
   ]
  },
  {
   "cell_type": "code",
   "execution_count": 37,
   "id": "12e15f42",
   "metadata": {},
   "outputs": [
    {
     "data": {
      "text/plain": [
       "2550"
      ]
     },
     "execution_count": 37,
     "metadata": {},
     "output_type": "execute_result"
    }
   ],
   "source": [
    "len(ester.distinct('artist.#text'))"
   ]
  },
  {
   "cell_type": "code",
   "execution_count": 38,
   "id": "f7f283c7",
   "metadata": {},
   "outputs": [
    {
     "data": {
      "text/plain": [
       "4849"
      ]
     },
     "execution_count": 38,
     "metadata": {},
     "output_type": "execute_result"
    }
   ],
   "source": [
    "len(lastusers.AveKaesar.distinct('artist.#text'))"
   ]
  },
  {
   "cell_type": "code",
   "execution_count": 39,
   "id": "e4370c8b",
   "metadata": {},
   "outputs": [],
   "source": [
    "artistasester = ester.distinct('artist.#text')\n"
   ]
  },
  {
   "cell_type": "code",
   "execution_count": 56,
   "id": "2c2fe72f",
   "metadata": {},
   "outputs": [],
   "source": [
    "mbdester = ester.distinct('artist.mbid')"
   ]
  },
  {
   "cell_type": "code",
   "execution_count": 41,
   "id": "e0a7c656",
   "metadata": {},
   "outputs": [],
   "source": [
    "#artistasester"
   ]
  },
  {
   "cell_type": "code",
   "execution_count": 42,
   "id": "45b3080e",
   "metadata": {},
   "outputs": [
    {
     "data": {
      "text/plain": [
       "'Black Country Communion'"
      ]
     },
     "execution_count": 42,
     "metadata": {},
     "output_type": "execute_result"
    }
   ],
   "source": [
    "artistasester[256]"
   ]
  },
  {
   "cell_type": "code",
   "execution_count": 116,
   "id": "6fe2280a",
   "metadata": {},
   "outputs": [],
   "source": [
    "artistasdb = client.get_database(\"musicable\")"
   ]
  },
  {
   "cell_type": "code",
   "execution_count": 117,
   "id": "7c5676e3",
   "metadata": {},
   "outputs": [],
   "source": [
    "art_c = artistasdb.get_collection(\"artistas\")"
   ]
  },
  {
   "cell_type": "code",
   "execution_count": 118,
   "id": "7e96bade",
   "metadata": {},
   "outputs": [
    {
     "data": {
      "text/plain": [
       "Collection(Database(MongoClient(host=['localhost:27017'], document_class=dict, tz_aware=False, connect=True), 'musicable'), 'artistas')"
      ]
     },
     "execution_count": 118,
     "metadata": {},
     "output_type": "execute_result"
    }
   ],
   "source": [
    "art_c"
   ]
  },
  {
   "cell_type": "code",
   "execution_count": 54,
   "id": "3c37d49d",
   "metadata": {},
   "outputs": [],
   "source": [
    "#probando artistas inserccion = \n",
    "inserart = random.choice(artistasester)"
   ]
  },
  {
   "cell_type": "code",
   "execution_count": 55,
   "id": "dd63bb8e",
   "metadata": {},
   "outputs": [
    {
     "data": {
      "text/plain": [
       "'Howie Day'"
      ]
     },
     "execution_count": 55,
     "metadata": {},
     "output_type": "execute_result"
    }
   ],
   "source": [
    "inserart"
   ]
  },
  {
   "cell_type": "code",
   "execution_count": 58,
   "id": "77a0e52a",
   "metadata": {},
   "outputs": [],
   "source": [
    "ranmbid = random.choice(mbdester)"
   ]
  },
  {
   "cell_type": "code",
   "execution_count": null,
   "id": "823c9a0b",
   "metadata": {},
   "outputs": [],
   "source": []
  },
  {
   "cell_type": "code",
   "execution_count": 59,
   "id": "caa7a80d",
   "metadata": {},
   "outputs": [],
   "source": [
    "art_url = f'http://ws.audioscrobbler.com/2.0/?method=artist.getinfo&mbid={ranmbid}&limit=1000&api_key={keylast}&format=json'"
   ]
  },
  {
   "cell_type": "code",
   "execution_count": 65,
   "id": "cd4aa4b9",
   "metadata": {},
   "outputs": [],
   "source": [
    "reqart = requests.get(art_url).json()"
   ]
  },
  {
   "cell_type": "code",
   "execution_count": 72,
   "id": "937cfb9d",
   "metadata": {
    "scrolled": false
   },
   "outputs": [],
   "source": [
    "#reqart['artist']"
   ]
  },
  {
   "cell_type": "code",
   "execution_count": 88,
   "id": "a9b54f26",
   "metadata": {},
   "outputs": [],
   "source": [
    "\n",
    "for m in mbdester[16:]:\n",
    "    \n",
    "    art_url = f'http://ws.audioscrobbler.com/2.0/?method=artist.getinfo&mbid={m}&limit=1000&api_key={keylast}&format=json'\n",
    "    reqart = requests.get(art_url).json()\n",
    "    if 'artist' in reqart.keys():\n",
    "        art_c.insert_one(reqart['artist'])"
   ]
  },
  {
   "cell_type": "code",
   "execution_count": 81,
   "id": "86a3f4ed",
   "metadata": {},
   "outputs": [
    {
     "data": {
      "text/plain": [
       "'01b8b5bf-06cb-45da-85fb-61ada72fcd69'"
      ]
     },
     "execution_count": 81,
     "metadata": {},
     "output_type": "execute_result"
    }
   ],
   "source": [
    "mbdester[12]"
   ]
  },
  {
   "cell_type": "code",
   "execution_count": 82,
   "id": "802fd450",
   "metadata": {},
   "outputs": [],
   "source": [
    "art_url = f'http://ws.audioscrobbler.com/2.0/?method=artist.getinfo&mbid={mbdester[12]}&limit=1000&api_key={keylast}&format=json'\n",
    "reqart = requests.get(art_url).json()"
   ]
  },
  {
   "cell_type": "code",
   "execution_count": 83,
   "id": "fb1ded71",
   "metadata": {},
   "outputs": [
    {
     "data": {
      "text/plain": [
       "{'error': 6,\n",
       " 'message': 'The artist you supplied could not be found',\n",
       " 'links': []}"
      ]
     },
     "execution_count": 83,
     "metadata": {},
     "output_type": "execute_result"
    }
   ],
   "source": [
    "reqart"
   ]
  },
  {
   "cell_type": "code",
   "execution_count": 91,
   "id": "1f357d4c",
   "metadata": {},
   "outputs": [],
   "source": [
    "avekasmbd = lastusers.AveKaesar.distinct('artist.mbid')"
   ]
  },
  {
   "cell_type": "code",
   "execution_count": 92,
   "id": "5478025c",
   "metadata": {},
   "outputs": [
    {
     "data": {
      "text/plain": [
       "2905"
      ]
     },
     "execution_count": 92,
     "metadata": {},
     "output_type": "execute_result"
    }
   ],
   "source": [
    "len(avekasmbd)"
   ]
  },
  {
   "cell_type": "code",
   "execution_count": 93,
   "id": "f1198241",
   "metadata": {},
   "outputs": [],
   "source": [
    "for a in avekasmbd:\n",
    "    if a in mbdester:\n",
    "        avekasmbd.remove(a)"
   ]
  },
  {
   "cell_type": "code",
   "execution_count": 94,
   "id": "93b301f9",
   "metadata": {},
   "outputs": [
    {
     "data": {
      "text/plain": [
       "2428"
      ]
     },
     "execution_count": 94,
     "metadata": {},
     "output_type": "execute_result"
    }
   ],
   "source": [
    "len(avekasmbd)"
   ]
  },
  {
   "cell_type": "code",
   "execution_count": 96,
   "id": "5f43cf17",
   "metadata": {},
   "outputs": [],
   "source": [
    "for m in avekasmbd:\n",
    "    \n",
    "    art_url = f'http://ws.audioscrobbler.com/2.0/?method=artist.getinfo&mbid={m}&limit=1000&api_key={keylast}&format=json'\n",
    "    reqart = requests.get(art_url).json()\n",
    "    if 'artist' in reqart.keys():\n",
    "        art_c.insert_one(reqart['artist'])"
   ]
  },
  {
   "cell_type": "code",
   "execution_count": 103,
   "id": "35ca211a",
   "metadata": {
    "scrolled": false
   },
   "outputs": [],
   "source": [
    "artistas = art_c.distinct('name')"
   ]
  },
  {
   "cell_type": "code",
   "execution_count": 104,
   "id": "dc63b07a",
   "metadata": {},
   "outputs": [],
   "source": [
    "artistasester = ester.distinct('artist.#text')"
   ]
  },
  {
   "cell_type": "code",
   "execution_count": 105,
   "id": "5e23f252",
   "metadata": {},
   "outputs": [
    {
     "data": {
      "text/plain": [
       "2550"
      ]
     },
     "execution_count": 105,
     "metadata": {},
     "output_type": "execute_result"
    }
   ],
   "source": [
    "len(artistasester)"
   ]
  },
  {
   "cell_type": "code",
   "execution_count": 106,
   "id": "a4d5bd8b",
   "metadata": {},
   "outputs": [],
   "source": [
    "for art in artistasester:\n",
    "    if art in artistas:\n",
    "        artistasester.remove(art)"
   ]
  },
  {
   "cell_type": "code",
   "execution_count": 107,
   "id": "eaa389f7",
   "metadata": {
    "scrolled": true
   },
   "outputs": [
    {
     "data": {
      "text/plain": [
       "1495"
      ]
     },
     "execution_count": 107,
     "metadata": {},
     "output_type": "execute_result"
    }
   ],
   "source": [
    "len(artistasester)"
   ]
  },
  {
   "cell_type": "code",
   "execution_count": 112,
   "id": "2357bacb",
   "metadata": {},
   "outputs": [],
   "source": [
    "art_url = f'http://ws.audioscrobbler.com/2.0/?method=artist.getinfo&artist={artistasester[3]}&limit=1000&api_key={keylast}&format=json'\n",
    "reqart = requests.get(art_url).json()"
   ]
  },
  {
   "cell_type": "code",
   "execution_count": 122,
   "id": "fd5d47d6",
   "metadata": {
    "scrolled": false
   },
   "outputs": [],
   "source": [
    "for art in artistasester[800:]:\n",
    "    \n",
    "    art_url = f'http://ws.audioscrobbler.com/2.0/?method=artist.getinfo&artist={art}&limit=1000&api_key={keylast}&format=json'\n",
    "    reqart = requests.get(art_url).json()\n",
    "    \n",
    "    if 'artist' in reqart.keys():\n",
    "        art_c.insert_one(reqart['artist'])"
   ]
  },
  {
   "cell_type": "code",
   "execution_count": 120,
   "id": "6a39ff1e",
   "metadata": {},
   "outputs": [
    {
     "data": {
      "text/plain": [
       "799"
      ]
     },
     "execution_count": 120,
     "metadata": {},
     "output_type": "execute_result"
    }
   ],
   "source": [
    "artistasester.index('M.I.A.')"
   ]
  },
  {
   "cell_type": "code",
   "execution_count": 126,
   "id": "3a2fe37f",
   "metadata": {},
   "outputs": [
    {
     "data": {
      "text/plain": [
       "'Madness'"
      ]
     },
     "execution_count": 126,
     "metadata": {},
     "output_type": "execute_result"
    }
   ],
   "source": [
    "artistasester[802]"
   ]
  },
  {
   "cell_type": "code",
   "execution_count": 127,
   "id": "e9a4755b",
   "metadata": {
    "scrolled": false
   },
   "outputs": [
    {
     "data": {
      "text/plain": [
       "{'artist': {'name': 'Madness',\n",
       "  'mbid': '5f58803e-8c4c-478e-8b51-477f38483ede',\n",
       "  'url': 'https://www.last.fm/music/Madness',\n",
       "  'image': [{'#text': 'https://lastfm.freetls.fastly.net/i/u/34s/2a96cbd8b46e442fc41c2b86b821562f.png',\n",
       "    'size': 'small'},\n",
       "   {'#text': 'https://lastfm.freetls.fastly.net/i/u/64s/2a96cbd8b46e442fc41c2b86b821562f.png',\n",
       "    'size': 'medium'},\n",
       "   {'#text': 'https://lastfm.freetls.fastly.net/i/u/174s/2a96cbd8b46e442fc41c2b86b821562f.png',\n",
       "    'size': 'large'},\n",
       "   {'#text': 'https://lastfm.freetls.fastly.net/i/u/300x300/2a96cbd8b46e442fc41c2b86b821562f.png',\n",
       "    'size': 'extralarge'},\n",
       "   {'#text': 'https://lastfm.freetls.fastly.net/i/u/300x300/2a96cbd8b46e442fc41c2b86b821562f.png',\n",
       "    'size': 'mega'},\n",
       "   {'#text': 'https://lastfm.freetls.fastly.net/i/u/300x300/2a96cbd8b46e442fc41c2b86b821562f.png',\n",
       "    'size': ''}],\n",
       "  'streamable': '0',\n",
       "  'ontour': '0',\n",
       "  'stats': {'listeners': '915517', 'playcount': '15261909'},\n",
       "  'similar': {'artist': [{'name': 'The Specials',\n",
       "     'url': 'https://www.last.fm/music/The+Specials',\n",
       "     'image': [{'#text': 'https://lastfm.freetls.fastly.net/i/u/34s/2a96cbd8b46e442fc41c2b86b821562f.png',\n",
       "       'size': 'small'},\n",
       "      {'#text': 'https://lastfm.freetls.fastly.net/i/u/64s/2a96cbd8b46e442fc41c2b86b821562f.png',\n",
       "       'size': 'medium'},\n",
       "      {'#text': 'https://lastfm.freetls.fastly.net/i/u/174s/2a96cbd8b46e442fc41c2b86b821562f.png',\n",
       "       'size': 'large'},\n",
       "      {'#text': 'https://lastfm.freetls.fastly.net/i/u/300x300/2a96cbd8b46e442fc41c2b86b821562f.png',\n",
       "       'size': 'extralarge'},\n",
       "      {'#text': 'https://lastfm.freetls.fastly.net/i/u/300x300/2a96cbd8b46e442fc41c2b86b821562f.png',\n",
       "       'size': 'mega'},\n",
       "      {'#text': 'https://lastfm.freetls.fastly.net/i/u/300x300/2a96cbd8b46e442fc41c2b86b821562f.png',\n",
       "       'size': ''}]},\n",
       "    {'name': 'Bad Manners',\n",
       "     'url': 'https://www.last.fm/music/Bad+Manners',\n",
       "     'image': [{'#text': 'https://lastfm.freetls.fastly.net/i/u/34s/2a96cbd8b46e442fc41c2b86b821562f.png',\n",
       "       'size': 'small'},\n",
       "      {'#text': 'https://lastfm.freetls.fastly.net/i/u/64s/2a96cbd8b46e442fc41c2b86b821562f.png',\n",
       "       'size': 'medium'},\n",
       "      {'#text': 'https://lastfm.freetls.fastly.net/i/u/174s/2a96cbd8b46e442fc41c2b86b821562f.png',\n",
       "       'size': 'large'},\n",
       "      {'#text': 'https://lastfm.freetls.fastly.net/i/u/300x300/2a96cbd8b46e442fc41c2b86b821562f.png',\n",
       "       'size': 'extralarge'},\n",
       "      {'#text': 'https://lastfm.freetls.fastly.net/i/u/300x300/2a96cbd8b46e442fc41c2b86b821562f.png',\n",
       "       'size': 'mega'},\n",
       "      {'#text': 'https://lastfm.freetls.fastly.net/i/u/300x300/2a96cbd8b46e442fc41c2b86b821562f.png',\n",
       "       'size': ''}]},\n",
       "    {'name': 'The Selecter',\n",
       "     'url': 'https://www.last.fm/music/The+Selecter',\n",
       "     'image': [{'#text': 'https://lastfm.freetls.fastly.net/i/u/34s/2a96cbd8b46e442fc41c2b86b821562f.png',\n",
       "       'size': 'small'},\n",
       "      {'#text': 'https://lastfm.freetls.fastly.net/i/u/64s/2a96cbd8b46e442fc41c2b86b821562f.png',\n",
       "       'size': 'medium'},\n",
       "      {'#text': 'https://lastfm.freetls.fastly.net/i/u/174s/2a96cbd8b46e442fc41c2b86b821562f.png',\n",
       "       'size': 'large'},\n",
       "      {'#text': 'https://lastfm.freetls.fastly.net/i/u/300x300/2a96cbd8b46e442fc41c2b86b821562f.png',\n",
       "       'size': 'extralarge'},\n",
       "      {'#text': 'https://lastfm.freetls.fastly.net/i/u/300x300/2a96cbd8b46e442fc41c2b86b821562f.png',\n",
       "       'size': 'mega'},\n",
       "      {'#text': 'https://lastfm.freetls.fastly.net/i/u/300x300/2a96cbd8b46e442fc41c2b86b821562f.png',\n",
       "       'size': ''}]},\n",
       "    {'name': 'The Beat',\n",
       "     'url': 'https://www.last.fm/music/The+Beat',\n",
       "     'image': [{'#text': 'https://lastfm.freetls.fastly.net/i/u/34s/2a96cbd8b46e442fc41c2b86b821562f.png',\n",
       "       'size': 'small'},\n",
       "      {'#text': 'https://lastfm.freetls.fastly.net/i/u/64s/2a96cbd8b46e442fc41c2b86b821562f.png',\n",
       "       'size': 'medium'},\n",
       "      {'#text': 'https://lastfm.freetls.fastly.net/i/u/174s/2a96cbd8b46e442fc41c2b86b821562f.png',\n",
       "       'size': 'large'},\n",
       "      {'#text': 'https://lastfm.freetls.fastly.net/i/u/300x300/2a96cbd8b46e442fc41c2b86b821562f.png',\n",
       "       'size': 'extralarge'},\n",
       "      {'#text': 'https://lastfm.freetls.fastly.net/i/u/300x300/2a96cbd8b46e442fc41c2b86b821562f.png',\n",
       "       'size': 'mega'},\n",
       "      {'#text': 'https://lastfm.freetls.fastly.net/i/u/300x300/2a96cbd8b46e442fc41c2b86b821562f.png',\n",
       "       'size': ''}]},\n",
       "    {'name': 'The Jam',\n",
       "     'url': 'https://www.last.fm/music/The+Jam',\n",
       "     'image': [{'#text': 'https://lastfm.freetls.fastly.net/i/u/34s/2a96cbd8b46e442fc41c2b86b821562f.png',\n",
       "       'size': 'small'},\n",
       "      {'#text': 'https://lastfm.freetls.fastly.net/i/u/64s/2a96cbd8b46e442fc41c2b86b821562f.png',\n",
       "       'size': 'medium'},\n",
       "      {'#text': 'https://lastfm.freetls.fastly.net/i/u/174s/2a96cbd8b46e442fc41c2b86b821562f.png',\n",
       "       'size': 'large'},\n",
       "      {'#text': 'https://lastfm.freetls.fastly.net/i/u/300x300/2a96cbd8b46e442fc41c2b86b821562f.png',\n",
       "       'size': 'extralarge'},\n",
       "      {'#text': 'https://lastfm.freetls.fastly.net/i/u/300x300/2a96cbd8b46e442fc41c2b86b821562f.png',\n",
       "       'size': 'mega'},\n",
       "      {'#text': 'https://lastfm.freetls.fastly.net/i/u/300x300/2a96cbd8b46e442fc41c2b86b821562f.png',\n",
       "       'size': ''}]}]},\n",
       "  'tags': {'tag': [{'name': 'ska', 'url': 'https://www.last.fm/tag/ska'},\n",
       "    {'name': '80s', 'url': 'https://www.last.fm/tag/80s'},\n",
       "    {'name': 'british', 'url': 'https://www.last.fm/tag/british'},\n",
       "    {'name': 'new wave', 'url': 'https://www.last.fm/tag/new+wave'},\n",
       "    {'name': 'seen live', 'url': 'https://www.last.fm/tag/seen+live'}]},\n",
       "  'bio': {'links': {'link': {'#text': '',\n",
       "     'rel': 'original',\n",
       "     'href': 'https://last.fm/music/Madness/+wiki'}},\n",
       "   'published': '15 Feb 2006, 22:18',\n",
       "   'summary': 'At least three artists exist by this name:\\n1) a British band \\n2) an American rapper\\n3) a Brazilian death metal group\\n4) an Mongolian rock band\\n\\n1) Madness is a British pop and ska band from Camden Town, London, England that was formed in 1976. As of 2012, the group has continued to perform with their most recognised lineup of seven members, although that has varied slightly over the years. Known for their cheeky humour and musical eclecticism, the band members called a \"dysfunctional family\" <a href=\"https://www.last.fm/music/Madness\">Read more on Last.fm</a>',\n",
       "   'content': 'At least three artists exist by this name:\\n1) a British band \\n2) an American rapper\\n3) a Brazilian death metal group\\n4) an Mongolian rock band\\n\\n1) Madness is a British pop and ska band from Camden Town, London, England that was formed in 1976. As of 2012, the group has continued to perform with their most recognised lineup of seven members, although that has varied slightly over the years. Known for their cheeky humour and musical eclecticism, the band members called a \"dysfunctional family\", the group was one of most prominent artists in the late-70s 2 Tone ska movement. As their career progressed, Madness moved closer toward conventional pop music and has become one of the most successful British bands of all time.\\n\\nThe guys achieved most of their success in the 80s, often picking up new wave fans who enjoyed the band\\'s eclectic sound. Madness, in fact, spent exactly 214 weeks on the U.K. singles charts from 1980-89, thereby sharing the record for most weeks spent by a group in said charts with UB40. Examples of some of their most popular songs include 1979\\'s \"One Step Beyond\", 1982\\'s \"Our House\", and 1984\\'s \"Keep Moving\".\\n\\nFormation\\nThe core of the band formed as \"The North London Invaders\" in 1976. This outfit included Mike Barson (Monsieur Barso) on keyboards and vocals, Chris Foreman (Chrissy Boy) on guitar and Lee Thompson (Kix) on saxophone and vocals. They later recruited John Hasler on drums and Cathal Smyth (better known as Chas Smash) on bass guitar. Later in the year, they were joined by lead vocalist \"Dikron\". This six-piece lineup lasted until part way through 1977, when Graham McPherson (better known as Suggs) took over the lead vocals after seeing the band perform in a friend\\'s garden. Smyth, who was poor on bass guitar, was replaced by Gavin Rogers, an acquaintance of Barson. McPherson was kicked out of the band for too often choosing to watch football instead of rehearsing. As well, Thompson left the band after Barson criticised his saxophone playing.\\n\\nBy 1978, the band had allowed McPherson to return, after filling in temporarily for Hasler (who had taken over vocals when McPherson was removed). Thompson returned after patching things up with Barson, and Daniel Woodgate (Woody) and Mark Bedford (Bedders) also joined the band, on drums and bass guitar respectively. After briefly changing their name to Morris and the Minors, the band renamed itself as Madness; paying homage to one of their favourite songs by ska/reggae artist Prince Buster. The band remained a sextet until late 1979, when Chas Smash rejoined and officially became the seventh member of Madness as a backing vocalist and trumpet player.\\n\\nEarly success\\nIn 1979, the band recorded the Lee Thompson composition \"The Prince\". The song, like the band\\'s name, paid homage to their idol, Prince Buster. The song was released through 2 Tone Records, the label of The Specials founder Jerry Dammers. The song was a surprise hit, peaking in the UK music charts at #16. A performance of \"The Prince\" on popular UK music show Top of the Pops helped Madness gain public recognition. Madness then toured with fellow 2 Tone bands The Specials and The Selecter, before recording their debut album, One Step Beyond..., which was released by Stiff Records. The album included a re-recording of \"The Prince\" and the band\\'s second and third singles: \"One Step Beyond\" and \"My Girl\". The title song was a cover of the B-side of the 1960s Prince Buster hit \"Al Capone\". One Step Beyond... stayed in the British charts for over a year, peaking at #2. After the release of \"My Girl\", the band felt that they had exhausted the material from One Step Beyond..., and did not want to release any more singles from the album. However, Dave Robinson, head of Stiff Records, disagreed. Eventually, a compromise was made, and the band decided to release an EP featuring one album track and three new tracks. The result was the Work Rest and Play EP, which was headlined by the song \"Night Boat to Cairo\", from the One Step Beyond album. The EP reached #6 in the UK singles chart.\\n\\nThe following year, the band\\'s second album, Absolutely reached #2 in the UK album charts. Absolutely spawned some of the band\\'s biggest hits, most notably \"Baggy Trousers\"; which peaked at #3 in the UK singles chart. \"Embarrassment\" reached #4 in the charts, and the instrumental song \"Return of the Los Palmas 7\" climbed to #7.\\n\\nChange of direction\\nIn 1981, the band\\'s third studio album, 7 reached #5 in the UK album charts and contained three hit singles. In an article in 1979, Chris Foreman explained that the band\\'s music would move with the times, and change styles as time goes on. This was shown to be the case, as unlike the two ska-filled, fast-paced albums that preceded it, 7 was somewhat of a change in direction. Suggs\\' vocal performance changed significantly, and his strong Cockney accent from the previous albums had been watered down. The album strayed from the ska-influenced sound of One Step Beyond... and Absolutely, and moved towards a more conventional and mature pop sound; a trend that continued with subsequent albums. Near the end of 1981, Madness released one of their most recognised songs; a remake of Labi Siffre\\'s 1971 hit \"It Must Be Love\". The song climbed to #4 in the UK and entered the US charts at #33. In 1982, Madness released their only #1 hit to date, \"House of Fun\"; as well as their fourth studio album The Rise & Fall. The album contained their most internationally successful single to date, \"Our House\", which reached #5 in the UK music charts and # 7 in the US charts. In 1983, their single \"Wings of a Dove\" peaked at #2 in the UK charts. Their following album, Keep Moving, peaked at #6 in the UK album charts, and several singles from that album reached the top 20 in the UK music charts.\\n\\nDecline and breakup\\nIn October 1983, the band\\'s founder, keyboardist and prominent songwriter Mike Barson decided to leave the band, partly because he had relocated to Amsterdam, Netherlands. He officially left the band in June 1984, following the release of \"One Better Day\". The six remaining members left Stiff Records and formed their own label, Zarjazz Records, which was sub-label of Virgin Records. In 1985, the label released the band\\'s sixth album, Mad Not Mad. Barson\\'s keyboard parts were filled by synthesisers, and in later years, frontman Suggs described the production as \"polished turd\". The album reached #16 in the UK charts, which was the band\\'s lowest position on the album charts to date. Despite the poor chart showing, the album was listed as #55 in NME\\'s All Time 100 Albums. The singles for the album fared even worse, with \"Yesterday\\'s Men\" peaking at #18 in the UK charts. The subsequent singles, \"Uncle Sam\" and \"Sweetest Girl\", failed to make the top 20, which was a first for Madness singles.\\n\\nThe band then attempted to record a new album, and 11 demo tracks were recorded. However, musical differences arose between band members, and in September 1986, the band announced that they were to split. Barson rejoined the band for a farewell single, \"(Waiting For) The Ghost Train\", but did not appear in the music video. The band officially split following the release of the single, which reached a high of #18 in the UK. In 1988, four members of the band — Suggs, Chas Smash, Lee Thompson and Chris Foreman — created a new band, using the name The Madness. After one self-titled album and two singles that failed to make the the top 40, the band split.\\n\\nReunions and The Dangermen\\nIn early 1992, \"It Must Be Love\" was re-released and reached #6 in the UK singles chart. Following that, the singles compilation Divine Madness was released and peaked at #1 in the album charts. Madness then announced plans for a reunion concert, Madstock!, which was held at Finsbury Park, London on August 8 and 9 of that year. The original lineup reunited, performing together for the first time since Mike Barson left the band in 1984. Over 75,000 fans attended the weekend festival, and during \"One Step Beyond\", the crowd danced so much they caused an earth tremor which measured over 4 on the richter scale. A subsequent live album was released, and the associated single, \"The Harder They Come\" (a cover of Jimmy Cliff\\'s 1973 song) reached #44 in the UK.\\n\\nThe band continued to reunite for annual UK Christmas season tours and held three more Madstock! festivals; in 1994, 1996 and 1998. In 1999, Madness released their first studio album since 1986, entitled Wonderful. The album reached #17 in the UK album charts, and the lead single, \"Lovestruck\", gave the band their first new top 10 hit in the UK since 1983. Neither of the two subsequent singles from the album, \"Johnny The Horse\" and \"Drip Fed Fred\", entered the top 40 of the UK charts.\\n\\nFrom October 28, 2002 to August 16, 2003, a musical based on Madness songs, Our House, ran at the Cambridge Theatre in west London. Madness played a role in the executive production of the show, and Suggs played a role in the production for a period of time, playing the central character\\'s father. It won an Olivier Award for best new musical of 2003, and the performance was released on DVD on November 1, 2004. There was also a previous musical based on Madness songs, One Step Beyond!, written by Alan Gilbey. The musical had a brief run at the Theatre Royal Stratford East in 1993.\\n\\nIn 2004, the band played a series of low-key concerts as The Dangermen, performing covers of classic reggae and ska songs. A lot of the songs were those played by the band when they were first forming, and the band performed the songs as a celebration of their 25 year anniversary. This led to the release of the album The Dangermen Sessions Vol. 1 in August 2005. However, during the sessions which produced the album, the band\\'s guitarist Chris Foreman announced his departure. Foreman left the band in mid 2005, citing \"the petty, time consuming bollocks that goes on in the band\" in a statement announcing his decision to leave. The band completed the album without him, and on release, it peaked at #11 in the UK album charts, which was the band\\'s highest studio album chart position in 21 years. Although two singles were released, neither was a major success in the UK. The more successful of the two, \"Shame & Scandal\", reached #38. Despite the poor chart showing, the single reached #12 in France.\\n\\nIn late 2006, this six remaining members of Madness began working on their first original album in seven years. However, for Madness\\' 2006 Christmas season tour, Foreman rejoined the band. In March 2007, the single \"Sorry\" was released from the band\\'s upcoming album, peaking in the UK charts at #23. The single included a version featuring UK hip hop artists Sway DaSafo and Baby Blue. Both artists were included on the music video which accompanied the hip-hop version of the song, but not on the original music video. Both music videos were also without Chris Foreman, despite the fact that he was a band member at the time of release.\\n\\nThe new Madness song \"NW5 (I Would Give You Everything)\" and a re-recorded version of \"It Must Be Love\" were featured in the German film Neues vom Wixxer. The two songs were released in Germany as a double A-Side, and both of them were turned into music videos. While promoting \"Sorry\", Sway DaSafo confirmed in an interview with NME that he will perform in the recording of Madness\\' updated version of their song \"Baggy Trousers\", entitled \"Baggy Jeans\". The updated song will be featured on Madness\\' upcoming studio album, and also released as a single. DaSafo predicted the song will be a \"huge smash gaurenteed\", although the date of release is not yet known.\\n\\nLyrical themes\\nAlthough Madness were seen by many as somewhat of a humorous band with catchy, bouncy songs, they sometimes tackled, what were at the time, controversial issues in their lyrics. \"Embarrassment\" (from the \"Absolutely\" album) was written by Lee Thompson, and reflected the unfolding turmoil following the news that his teenage sister had become pregnant and was carrying a black man\\'s child. The band discussed animal testing in the song \"Tomorrow\\'s Dream\". The band criticized the National Health Service in \"Mrs. Hutchinson\"; which told the story of a woman who, after several misdiagnoses and mistreatment, became terminally ill. The story was based on the experiences of Mike Barson\\'s mother. Madness\\' final single prior to disbanding, \"(Waiting For) The Ghost Train\", commented on apartheid in South Africa.\\n\\nSkinhead controversy\\nEarly in their career, Madness were linked to skinheads; members of a British working class subculture that the media often stereotyped as racist (although the clear majority of skinheads were anti-racist). Not only were Madness, along with other 2 Tone bands, popular with skinheads, but it was said that the band members themselves were associated with the subculture. The band\\'s relationship with the skinheads varied at times. Mike Barson was particularly displeased with the band\\'s skinhead following, often finding it disappointing that so many were present at performances. Prior to becoming a full member of the band, Chas Smash had been involved in fights with skinheads at performances. In one particular incident on November 18, 1979, Madness were supported by \"Red Beans and Rice\", who featured a black lead singer, and the band were prevented from completing the performance due to the racist chants from certain members of the skinhead filled audience. Suggs later came on stage to show his displeasure at their behaviour, but this didn\\'t stop much of the audience from Nazi saluting at the end of the show.\\n\\nIn a 1979 NME interview, Madness member Chas Smash was quoted as saying \"We don\\'t care if people are in the NF as long as they\\'re having a good time.\" This added to speculation that Madness was a racist band supporting the fascist group National Front, although the band members denied those allegations. Numerous fans felt upset that Chas Smash\\'s views were mispresented by the media, with yellow journalists just looking for a story in their eyes. Smash responded to the NME article in the song \"Don\\'t Quote Me On That\". Eventually, band members denied their skinhead roots, which disappointed much of their skinhead fan base. The issue faded as the years went by and the far-right skinhead groups failed completely in winning converts, their particular fringe shrinking massively while in the meantime Madness\\' international popularity grew.\\n\\nAwards\\nThe band\\'s first notable musical award came in 1983 when they won an \"Ivor Novello Award\" for Best Song for the international hit \"Our House\". They received another \"Ivor Novello Award\" 17 years later for an \"Outstanding Song Collection\". In 2005, they were awarded the Mojo Magazine \"Hall Of Fame\" award, notably for being \\'an artist\\'s artist\\'. As of 2007, a campaign is taking place by fans of Madness for the band to be awarded a Brit award. Many fans and critics feel they have been overlooked over their past 30 years in the music industry.\\n\\nWebsite\\nmadness.co.uk\\n\\n2) Madness is also the name of a hip-hop artist from Florida in the U.S. He has competed in many Grindtime Rap Battle events, and the rapper work is featured on the release \\'Fresh Coast Perishables Volume One\\' as well as in his own underground albums.\\n\\n3)  Madness is a Brazilian death metal band.\\n4) Madness is also name of Mongolian  rock band.  <a href=\"https://www.last.fm/music/Madness\">Read more on Last.fm</a>. User-contributed text is available under the Creative Commons By-SA License; additional terms may apply.'}}}"
      ]
     },
     "execution_count": 127,
     "metadata": {},
     "output_type": "execute_result"
    }
   ],
   "source": [
    "requests.get(f'http://ws.audioscrobbler.com/2.0/?method=artist.getinfo&artist=Madness&limit=1000&api_key={keylast}&format=json').json()"
   ]
  },
  {
   "cell_type": "code",
   "execution_count": 133,
   "id": "a8c1426a",
   "metadata": {},
   "outputs": [
    {
     "data": {
      "text/plain": [
       "4782"
      ]
     },
     "execution_count": 133,
     "metadata": {},
     "output_type": "execute_result"
    }
   ],
   "source": [
    "len(list(art_c.find({'mbid': {'$exists': 'True'}})))"
   ]
  },
  {
   "cell_type": "code",
   "execution_count": 134,
   "id": "9c00fb75",
   "metadata": {},
   "outputs": [
    {
     "data": {
      "text/plain": [
       "4782"
      ]
     },
     "execution_count": 134,
     "metadata": {},
     "output_type": "execute_result"
    }
   ],
   "source": [
    "len(list(art_c.find({'mbid': {'$exists': 'False'}})))"
   ]
  },
  {
   "cell_type": "code",
   "execution_count": 139,
   "id": "25ae1450",
   "metadata": {},
   "outputs": [
    {
     "data": {
      "text/plain": [
       "[]"
      ]
     },
     "execution_count": 139,
     "metadata": {},
     "output_type": "execute_result"
    }
   ],
   "source": [
    "list(art_c.find({\"mbid\":''}))"
   ]
  },
  {
   "cell_type": "code",
   "execution_count": 145,
   "id": "1d448fcf",
   "metadata": {
    "scrolled": false
   },
   "outputs": [],
   "source": [
    "#list(art_c.distinct('mbid'))"
   ]
  },
  {
   "cell_type": "code",
   "execution_count": 142,
   "id": "e4459424",
   "metadata": {},
   "outputs": [],
   "source": [
    "leng = 80\n",
    "idlen = 0\n",
    "for element in list(art_c.distinct('mbid')):\n",
    "    if len(element) < leng:\n",
    "        leng = len(element)\n",
    "        idlen = art_c.distinct('mbid').index(element)"
   ]
  },
  {
   "cell_type": "code",
   "execution_count": 143,
   "id": "b07faa1b",
   "metadata": {},
   "outputs": [
    {
     "data": {
      "text/plain": [
       "36"
      ]
     },
     "execution_count": 143,
     "metadata": {},
     "output_type": "execute_result"
    }
   ],
   "source": [
    "leng"
   ]
  },
  {
   "cell_type": "code",
   "execution_count": 144,
   "id": "279f04c6",
   "metadata": {},
   "outputs": [
    {
     "data": {
      "text/plain": [
       "0"
      ]
     },
     "execution_count": 144,
     "metadata": {},
     "output_type": "execute_result"
    }
   ],
   "source": [
    "idlen"
   ]
  },
  {
   "cell_type": "code",
   "execution_count": 149,
   "id": "ee8a1efa",
   "metadata": {},
   "outputs": [
    {
     "data": {
      "text/plain": [
       "4782"
      ]
     },
     "execution_count": 149,
     "metadata": {},
     "output_type": "execute_result"
    }
   ],
   "source": [
    "len(list(art_c.find({'mbid': {'$exists': True}})))"
   ]
  },
  {
   "cell_type": "code",
   "execution_count": 150,
   "id": "4d87570d",
   "metadata": {},
   "outputs": [
    {
     "data": {
      "text/plain": [
       "308"
      ]
     },
     "execution_count": 150,
     "metadata": {},
     "output_type": "execute_result"
    }
   ],
   "source": [
    "len(list(art_c.find({'mbid': {'$exists': False }})))"
   ]
  },
  {
   "cell_type": "code",
   "execution_count": 152,
   "id": "abfa4930",
   "metadata": {
    "scrolled": false
   },
   "outputs": [
    {
     "name": "stdout",
     "output_type": "stream",
     "text": [
      "A League of My Own\n",
      "Anohni\n",
      "Afrika Bambaataa \n",
      "Al Este Del Eden\n",
      "Alaska Y Kaka Deluxe\n",
      "Albano y Romina Power\n",
      "Albert Plá\n",
      "Alex \n",
      "Alex \n",
      "Alex Ubago\n",
      "Alice on the Roof\n",
      "Alicia Ramos\n",
      "All-4-One\n",
      "Amanita Suit\n",
      "Amigos De Gines\n",
      "Aminata\n",
      "Ana Belén, Miguel Ríos, Víctor Manuel, Joan Manuel Serrat\n",
      "Ana Belén;Joan Manuel Serrat\n",
      "Ana Belén;Victor Manuel\n",
      "A League of My Own\n",
      "Anohni\n",
      "Afrika Bambaataa \n",
      "Al Este Del Eden\n",
      "Alaska Y Kaka Deluxe\n",
      "Albano y Romina Power\n",
      "Albert Plá\n",
      "Alex \n",
      "Alex \n",
      "Alex Ubago\n",
      "Alice on the Roof\n",
      "Alicia Ramos\n",
      "All-4-One\n",
      "Amanita Suit\n",
      "Amigos De Gines\n",
      "Aminata\n",
      "Ana Belén, Miguel Ríos, Víctor Manuel, Joan Manuel Serrat\n",
      "Ana Belén;Joan Manuel Serrat\n",
      "Ana Belén;Victor Manuel\n",
      "Andrés Lewin\n",
      "Andrés Sudón\n",
      "Angeles del Infierno\n",
      "Anna Naklab\n",
      "Anni B. Sweet\n",
      "Anton Leuba\n",
      "Arcade (Stephen Pearcy Of Ratt)\n",
      "As the World Falls Down\n",
      "Attaboy Skip's\n",
      "Aurora\n",
      "Aute\n",
      "B.B. King \n",
      "B105\n",
      "Back To Life\n",
      "Banda Regimiento de Montaña\n",
      "Beatlegras\n",
      "Bego\n",
      "Bhajan\n",
      "Big Brother \n",
      "Bill Haley \n",
      "Bill Medley \n",
      "Bill Medley / Jennifer Warnes\n",
      "Bill Medley/Jennifer Warnes\n",
      "Billie Eilish\n",
      "Bob Dylan and The Band\n",
      "Bob Marley \n",
      "Booker T. \n",
      "Bravo Allstars\n",
      "Brooks \n",
      "Buddy Holly \n",
      "Burial \n",
      "Butt First\n",
      "C. Tangana\n",
      "CRIENIUM\n",
      "Camila Cabello\n",
      "Carmen De Mairena\n",
      "Chichos, Los\n",
      "Chivo Chivato\n",
      "ChivoChivato\n",
      "Christina Aguilera , Lil'kim , Mya , Pink\n",
      "Christopher B McCarty\n",
      "Ciencias Naturales\n",
      "Cole Deggs \n",
      "Comalcool\n",
      "Costas\n",
      "Cristinita Percances\n",
      "DAVID SANTIESTEBAN\n",
      "Def Con Dios\n",
      "Desakordes\n",
      "Diego Andres\n",
      "Diego Cantero\n",
      "Diego Ojeda\n",
      "Dj Frank E\n",
      "Dolly Parton (with Billy Ray Cyrus, Tanya Tucker, Mary Chapin Carpenter, Kathy Mattea, Pam Tillis)\n",
      "Donato Y Estefano\n",
      "Dream Wife\n",
      "Dulzaineros Del Vilorio\n",
      "Dulzaineros de Segovia\n",
      "EVA AMARAL y LA LEY\n",
      "Earth, Wind \n",
      "echo \n",
      "El libro de la selva\n",
      "Elvis Costello \n",
      "Emilio Rúa\n",
      "Emmylou Harris2\n",
      "Enanitos Verdes\n",
      "Fabio McNamara\n",
      "Fangoria and Fabio Mcnamara\n",
      "Fito Y Fitipaldis\n",
      "Forengier\n",
      "Frankie Valli  Four Seasons\n",
      "Fred Coury (of Cinderella)\n",
      "Fritanga\n",
      "Fulanos de tal y la mengana band\n",
      "G5\n",
      "Garfield Mayor\n",
      "Gastelo\n",
      "Gatas Negras\n",
      "Gente de Gines\n",
      "Gloria Estefan  So Pra Contrariar\n",
      "Grover Washington Jr.\n",
      "Guevara\n",
      "HIJOS DE KING KONG\n",
      "Hair OST\n",
      "Hall \n",
      "Harry Styles\n",
      "Hifiklub\n",
      "Hinds\n",
      "Huey Lewis \n",
      "Insoportables, Los\n",
      "Iron \n",
      "JUANJO MARTIN FEAT. REBEKA BROWN\n",
      "JUANJO MARTIN feat REBEKA BROWN\n",
      "Joan Berenguer\n",
      "Joaquín Calderón\n",
      "Joe Queer And The Nobodys\n",
      "John Harold Kander\n",
      "John Mayall \n",
      "John Parish and Polly Jean Harvey\n",
      "Jordi Estévez\n",
      "Jose Maria Del Rio\n",
      "Juanjo Martin\n",
      "Julieta Venegas , Panteon Rococo , Chenko Biloba\n",
      "Julieta Venegas, Panteon Rococo, Chenko Biloba\n",
      "Julio Muñoz\n",
      "Julito Rodriguez\n",
      "Kambotes\n",
      "Kelly Hansen (Of Foreigner)\n",
      "LOU REED2\n",
      "La Guardia y Susana\n",
      "La Llave de Allen\n",
      "La Mandragora\n",
      "La Mandrágora\n",
      "La Prohibida, Glenda Galore, Agnes la Sucia y DJ Chavala\n",
      "La débil\n",
      "La mandragora (Krahe, Sabina y A. Perez)\n",
      "Ladilla Rusa\n",
      "Lalo Rodriguez\n",
      "Las Odio\n",
      "Las seventies\n",
      "Lil' Wayne\n",
      "Lizza Minelli\n",
      "Loco Mia\n",
      "Loco Mía\n",
      "Locomía\n",
      "Lola Indigo\n",
      "Loquillo y Trogloditas\n",
      "Lorena Álvarez\n",
      "Los Chamarones\n",
      "Los Insoportables\n",
      "Los Seis Días\n",
      "Los Trotamúsicos\n",
      "Los Zigarros\n",
      "Los de abajo, Julieta Venegas, Panteon Rococo, Chenko Biloba\n",
      "Lou Reed (Featuring Antony)\n",
      "Luis Pastor (F)\n",
      "Luis Ramiro y Marwan\n",
      "Lupe Yoli\n",
      "Låpsley\n",
      "Macaco (con Fito Cabrales)\n",
      "Maldita Nerea y Los Delinquentes\n",
      "Manifa\n",
      "Manolita Domínguez, Ángela Aloy, Sergio Zamora, Òscar Mas, Miguel Ángel Jenner\n",
      "Marc Pociello, Ángela Aloy, Eduard Doncos, Coros\n",
      "Marea, Disidencia, Fe de Ratas, La fuga, Extremo Duro, Reincidentes\n",
      "Maria Arnal i Marcel Bagés\n",
      "Maria de Medeiros\n",
      "Marta Mendez\n",
      "Martes y 13\n",
      "Marvin Gaye \n",
      "Marwan y Fran\n",
      "Mary Chapin Carpenter with Shawn Colvin\n",
      "Mathias Malzieu\n",
      "Mathilda Plum Doucette Zappa\n",
      "Melora Creager feat Daniel de Jesus\n",
      "Mestizaje\n",
      "Miss Kittin \n",
      "Motley Crue\n",
      "Music: Galt MacDermont, Words..\n",
      "Mychael Danna \n",
      "Nacho Vegas \n",
      "Navajita Platea´\n",
      "Neil Young \n",
      "Niall Horan\n",
      "Nick Cave \n",
      "Niño de Elche\n",
      "Nosotras\n",
      "Nuevo Mester Juglaria\n",
      "Obus\n",
      "Outlandish;Isam Bachiri;Lenny Martinez;Waqas Qadri\n",
      "PSC unkonwn\n",
      "Pabellon Psiquiatrico\n",
      "Pablo Ager\n",
      "Patricio B\n",
      "Patricio B.\n",
      "Patricio Barandiaran\n",
      "Paul Doucette\n",
      "Pedrito Fernandez\n",
      "Pedrito Infante\n",
      "Pedro Pastor\n",
      "Peinados nuevos\n",
      "Peret con Macaco y ojos de bru\n",
      "Peret feat. Macaco con Ojos de Brujo\n",
      "Peret ft Macaco con Ojos de Brujo\n",
      "Petula Clark\n",
      "Philip George\n",
      "Phoebe Bridgers\n",
      "Pino D´angio\n",
      "PorDescargaDirecta.Com\n",
      "Prince \n",
      "Propellerheads Shirley Bassey\n",
      "Punk Ska Covers\n",
      "Queen \n",
      "Ramón Algeciras\n",
      "Rebeca Lane\n",
      "Reckless Drivers\n",
      "Red Hot Chilly Peeppers\n",
      "Refrescos , The\n",
      "Refrescos, The\n",
      "Refugio\n",
      "Reggetton\n",
      "Requiebros\n",
      "Riki López\n",
      "Robe\n",
      "Roberta Marrero and Elektro\n",
      "Rocio Durcal\n",
      "Rocio Jurado\n",
      "Rufus T. Firefly\n",
      "Run-D.M.C.\n",
      "Salvador Amor\n",
      "Sam The Sham \n",
      "Sandie Posey\n",
      "Sasha Sokol\n",
      "Sevdaliza\n",
      "Sex Pistols - (Sid Vicious)\n",
      "Shabba Ranks (featuring Chevelle Franklin)\n",
      "Shakira (www.primemusic.ru)\n",
      "Shannon Shaw\n",
      "She \n",
      "Siempre Asi\n",
      "Ska Covers\n",
      "Skamikazee\n",
      "Slumcats\n",
      "So Pra Contrariar E Gloria Estefan\n",
      "Sober\n",
      "Soleá Morente\n",
      "Sophie Ellis‐Bextor\n",
      "Step Wolf\n",
      "Sunflower Bean\n",
      "Sü\n",
      "T. Tommy , Dj Nano And Andre Vicenzo\n",
      "Tahures Zurdos\n",
      "Tahúres Zúrdos\n",
      "The Billy Rubin Trio\n",
      "The Doodletown pipers\n",
      "The Magic Time Travelers\n",
      "The Party Band\n",
      "The Slatler Brothers\n",
      "The Sweet Release of Death\n",
      "Theme Songs\n",
      "Tiim de Luxe\n",
      "Tiketto\n",
      "Tito y los tarántulas\n",
      "Todo Está Bien feat. Rafa Pons\n",
      "Tote King\n",
      "Tracii Guns (of L.A. Guns)\n",
      "Trio Los Panchos\n",
      "Tuna Universitaria\n",
      "Tuna Universitaria de Salamanca\n",
      "Tuna de Veterinaria de Madrid\n",
      "USA for Africa\n",
      "Unkown\n",
      "Vainica Doble y Joaquín Sabina\n",
      "Victor Jara\n",
      "Victor Manuel;Pablo Milanés\n",
      "Vikxie\n",
      "Vino Tinto\n",
      "Vulpes\n",
      "Willy Naves\n",
      "Wisin \n",
      "Y.V.E. 48\n",
      "ZeQu\n",
      "[wWw.MiFlowLatino.Tk]\n",
      "funk2maka\n",
      "recetasdeescandalo.com\n",
      "wilfrido vargas banda blanca\n",
      "®L©_©ÔSHAKIRA\n",
      "ÃûÕìÌ½¿ÂÄÏ\n",
      "Òscar Mas, Miguel Ángel Jenner, Marc Pociello, Sergio Zamora\n",
      "名侦探柯南\n"
     ]
    }
   ],
   "source": [
    "for e in list(art_c.find({'mbid': {'$exists': False }})):\n",
    "    print(e['name'])"
   ]
  },
  {
   "cell_type": "code",
   "execution_count": null,
   "id": "661987d4",
   "metadata": {},
   "outputs": [],
   "source": []
  }
 ],
 "metadata": {
  "kernelspec": {
   "display_name": "ironhack",
   "language": "python",
   "name": "ironhack"
  },
  "language_info": {
   "codemirror_mode": {
    "name": "ipython",
    "version": 3
   },
   "file_extension": ".py",
   "mimetype": "text/x-python",
   "name": "python",
   "nbconvert_exporter": "python",
   "pygments_lexer": "ipython3",
   "version": "3.8.5"
  }
 },
 "nbformat": 4,
 "nbformat_minor": 5
}
