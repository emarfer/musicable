{
 "cells": [
  {
   "cell_type": "code",
   "execution_count": 37,
   "id": "d4d626f3",
   "metadata": {},
   "outputs": [],
   "source": [
    "import requests \n",
    "import json\n",
    "import os\n",
    "from dotenv import load_dotenv\n",
    "load_dotenv()\n",
    "import sys\n",
    "sys.path.append('../src')\n",
    "import apilast as als\n",
    "import sqltools as sqt\n",
    "import sqlalchemy as alch\n",
    "import cleansing as cls\n",
    "from pymongo import MongoClient\n",
    "import pymongo"
   ]
  },
  {
   "cell_type": "code",
   "execution_count": 48,
   "id": "e5948561",
   "metadata": {},
   "outputs": [],
   "source": [
    "keylast = os.getenv(\"keylast\")"
   ]
  },
  {
   "cell_type": "code",
   "execution_count": 38,
   "id": "3ed7b49e",
   "metadata": {},
   "outputs": [],
   "source": [
    "client = MongoClient(\"localhost:27017\")"
   ]
  },
  {
   "cell_type": "code",
   "execution_count": 39,
   "id": "1850f0d9",
   "metadata": {},
   "outputs": [
    {
     "data": {
      "text/plain": [
       "['First_try', 'admin', 'config', 'ironhack', 'lastusers', 'local', 'musicable']"
      ]
     },
     "execution_count": 39,
     "metadata": {},
     "output_type": "execute_result"
    }
   ],
   "source": [
    "client.list_database_names()"
   ]
  },
  {
   "cell_type": "code",
   "execution_count": 40,
   "id": "fd7d9665",
   "metadata": {},
   "outputs": [],
   "source": [
    "lastusers = client.get_database(\"lastusers\")"
   ]
  },
  {
   "cell_type": "code",
   "execution_count": 75,
   "id": "77f7c59b",
   "metadata": {},
   "outputs": [
    {
     "data": {
      "text/plain": [
       "['AveKaesar', 'usuarios', 'name=AveKaesar']"
      ]
     },
     "execution_count": 75,
     "metadata": {},
     "output_type": "execute_result"
    }
   ],
   "source": [
    "lastusers.list_collection_names()"
   ]
  },
  {
   "cell_type": "code",
   "execution_count": 42,
   "id": "bb3bc5a6",
   "metadata": {},
   "outputs": [
    {
     "data": {
      "text/plain": [
       "<pymongo.results.InsertOneResult at 0x7fba24665ec0>"
      ]
     },
     "execution_count": 42,
     "metadata": {},
     "output_type": "execute_result"
    }
   ],
   "source": [
    "lastusers.usuarios.insert_one({'hola':'prueba','flipa':'prueba'})"
   ]
  },
  {
   "cell_type": "code",
   "execution_count": 43,
   "id": "88cb456b",
   "metadata": {},
   "outputs": [],
   "source": [
    "lastuser = 'AveKaesar'"
   ]
  },
  {
   "cell_type": "code",
   "execution_count": 74,
   "id": "fcc49af7",
   "metadata": {},
   "outputs": [],
   "source": [
    "new_user = lastusers.create_collection(lastuser)"
   ]
  },
  {
   "cell_type": "code",
   "execution_count": 45,
   "id": "093d5011",
   "metadata": {},
   "outputs": [],
   "source": [
    "#totscrobles"
   ]
  },
  {
   "cell_type": "code",
   "execution_count": 72,
   "id": "99d700ef",
   "metadata": {},
   "outputs": [],
   "source": [
    "url = f'http://ws.audioscrobbler.com/2.0/?method=user.getrecenttracks&user={lastuser}&limit=1000&api_key={keylast}&format=json'\n",
    "req = requests.get(url).json()"
   ]
  },
  {
   "cell_type": "code",
   "execution_count": 85,
   "id": "d9c0ceba",
   "metadata": {},
   "outputs": [],
   "source": [
    "lastuser = 'sinatxester'"
   ]
  },
  {
   "cell_type": "code",
   "execution_count": 82,
   "id": "0d9cdcc5",
   "metadata": {},
   "outputs": [],
   "source": [
    "new_user = lastusers.create_collection(lastuser)"
   ]
  },
  {
   "cell_type": "code",
   "execution_count": 83,
   "id": "96447b23",
   "metadata": {},
   "outputs": [],
   "source": [
    "lastuser = 'jesteruki'"
   ]
  },
  {
   "cell_type": "code",
   "execution_count": 86,
   "id": "2bcde0e9",
   "metadata": {
    "scrolled": false
   },
   "outputs": [
    {
     "name": "stdout",
     "output_type": "stream",
     "text": [
      "recovering 76 pages\n",
      "pag 5 done\n",
      "pag 10 done\n",
      "pag 15 done\n",
      "pag 20 done\n",
      "pag 25 done\n",
      "pag 30 done\n",
      "pag 35 done\n",
      "pag 40 done\n",
      "pag 45 done\n",
      "pag 50 done\n",
      "pag 55 done\n",
      "pag 60 done\n",
      "pag 65 done\n",
      "pag 70 done\n",
      "pag 75 done\n"
     ]
    }
   ],
   "source": [
    "url = f'http://ws.audioscrobbler.com/2.0/?method=user.getrecenttracks&user={lastuser}&limit=1000&api_key={keylast}&format=json'\n",
    "req = requests.get(url).json()['recenttracks']\n",
    "pages = int(req['@attr']['totalPages'])\n",
    "print(f'recovering {pages} pages')\n",
    "\n",
    "\n",
    "for i in range(1,pages+1):\n",
    "    page = i\n",
    "    url_t = f'http://ws.audioscrobbler.com/2.0/?method=user.getrecenttracks&user={lastuser}&limit=1000&page={page}&api_key={keylast}&format=json'\n",
    "    req_t = requests.get(url_t).json()['recenttracks']['track']\n",
    "    for r in req_t:\n",
    "        #print(r)\n",
    "        lastusers.sinatxester.insert_one(r)\n",
    "    \n",
    "    if i%5==0:\n",
    "        print(f'pag {i} done')"
   ]
  },
  {
   "cell_type": "code",
   "execution_count": 87,
   "id": "9dd5e752",
   "metadata": {},
   "outputs": [
    {
     "data": {
      "text/plain": [
       "['AveKaesar', 'usuarios', 'sinatxester']"
      ]
     },
     "execution_count": 87,
     "metadata": {},
     "output_type": "execute_result"
    }
   ],
   "source": [
    "lastusers.list_collection_names()"
   ]
  },
  {
   "cell_type": "code",
   "execution_count": 91,
   "id": "1a38062b",
   "metadata": {},
   "outputs": [],
   "source": [
    "ester = lastusers.get_collection(\"sinatxester\")"
   ]
  },
  {
   "cell_type": "code",
   "execution_count": 124,
   "id": "8e2a9a36",
   "metadata": {},
   "outputs": [
    {
     "data": {
      "text/plain": [
       "{'_id': ObjectId('6217b85175bd69ba0374287e'),\n",
       " 'artist': {'mbid': 'e795e03d-b5d5-4a5f-834d-162cfb308a2c',\n",
       "  '#text': 'PJ Harvey'},\n",
       " 'streamable': '0',\n",
       " 'image': [{'size': 'small',\n",
       "   '#text': 'https://lastfm.freetls.fastly.net/i/u/34s/6bc1781107a6ff90158c0ab222188b0d.jpg'},\n",
       "  {'size': 'medium',\n",
       "   '#text': 'https://lastfm.freetls.fastly.net/i/u/64s/6bc1781107a6ff90158c0ab222188b0d.jpg'},\n",
       "  {'size': 'large',\n",
       "   '#text': 'https://lastfm.freetls.fastly.net/i/u/174s/6bc1781107a6ff90158c0ab222188b0d.jpg'},\n",
       "  {'size': 'extralarge',\n",
       "   '#text': 'https://lastfm.freetls.fastly.net/i/u/300x300/6bc1781107a6ff90158c0ab222188b0d.jpg'}],\n",
       " 'mbid': '0a684eac-dabc-3b19-a3aa-9dbb8cd9cf43',\n",
       " 'album': {'mbid': '1e9f36a7-074e-4a84-a6b2-c3ff82d7d1e1',\n",
       "  '#text': 'Stories From the City, Stories From the Sea'},\n",
       " 'name': 'Good Fortune',\n",
       " 'url': 'https://www.last.fm/music/PJ+Harvey/_/Good+Fortune',\n",
       " 'date': {'uts': '1420113107', '#text': '01 Jan 2015, 11:51'}}"
      ]
     },
     "execution_count": 124,
     "metadata": {},
     "output_type": "execute_result"
    }
   ],
   "source": [
    "ester.find_one()"
   ]
  },
  {
   "cell_type": "code",
   "execution_count": 142,
   "id": "70a245fd",
   "metadata": {},
   "outputs": [
    {
     "data": {
      "text/plain": [
       "170179"
      ]
     },
     "execution_count": 142,
     "metadata": {},
     "output_type": "execute_result"
    }
   ],
   "source": [
    "len(ester.distinct('date.uts'))"
   ]
  },
  {
   "cell_type": "code",
   "execution_count": 143,
   "id": "1daa8373",
   "metadata": {},
   "outputs": [],
   "source": [
    "numerito = 0\n",
    "for ut in lastusers.sinatxester.distinct('date.uts'):\n",
    "    if int(ut)>numerito:\n",
    "        numerito = int(ut)"
   ]
  },
  {
   "cell_type": "code",
   "execution_count": 144,
   "id": "118e74e9",
   "metadata": {},
   "outputs": [
    {
     "data": {
      "text/plain": [
       "1645713076"
      ]
     },
     "execution_count": 144,
     "metadata": {},
     "output_type": "execute_result"
    }
   ],
   "source": [
    "numerito"
   ]
  },
  {
   "cell_type": "code",
   "execution_count": 145,
   "id": "66f103dc",
   "metadata": {},
   "outputs": [
    {
     "data": {
      "text/plain": [
       "'2022-02-24 15:31:16'"
      ]
     },
     "execution_count": 145,
     "metadata": {},
     "output_type": "execute_result"
    }
   ],
   "source": [
    "cls.utslocal(numerito)"
   ]
  },
  {
   "cell_type": "code",
   "execution_count": 146,
   "id": "af9f76cc",
   "metadata": {},
   "outputs": [
    {
     "data": {
      "text/plain": [
       "{'_id': ObjectId('6217b9ab75bd69ba03759a82'),\n",
       " 'artist': {'mbid': 'd54ea4a6-0b9c-4e47-bed0-289ae9ff4037',\n",
       "  '#text': 'Los Chichos'},\n",
       " 'streamable': '0',\n",
       " 'image': [{'size': 'small',\n",
       "   '#text': 'https://lastfm.freetls.fastly.net/i/u/34s/2a96cbd8b46e442fc41c2b86b821562f.png'},\n",
       "  {'size': 'medium',\n",
       "   '#text': 'https://lastfm.freetls.fastly.net/i/u/64s/2a96cbd8b46e442fc41c2b86b821562f.png'},\n",
       "  {'size': 'large',\n",
       "   '#text': 'https://lastfm.freetls.fastly.net/i/u/174s/2a96cbd8b46e442fc41c2b86b821562f.png'},\n",
       "  {'size': 'extralarge',\n",
       "   '#text': 'https://lastfm.freetls.fastly.net/i/u/300x300/2a96cbd8b46e442fc41c2b86b821562f.png'}],\n",
       " 'mbid': '4ccb539e-d661-4b6f-a184-29635571649f',\n",
       " 'album': {'mbid': '41240f03-c082-4dda-a5b4-8475fd18c706',\n",
       "  '#text': 'Son Ilusiones'},\n",
       " 'name': 'Eres falsa y embustera',\n",
       " 'url': 'https://www.last.fm/music/Los+Chichos/_/Eres+falsa+y+embustera',\n",
       " 'date': {'uts': '1645713076', '#text': '24 Feb 2022, 14:31'}}"
      ]
     },
     "execution_count": 146,
     "metadata": {},
     "output_type": "execute_result"
    }
   ],
   "source": [
    "ester.find_one({\"date.uts\": f\"{numerito}\"})"
   ]
  },
  {
   "cell_type": "code",
   "execution_count": null,
   "id": "19607815",
   "metadata": {},
   "outputs": [],
   "source": []
  }
 ],
 "metadata": {
  "kernelspec": {
   "display_name": "ironhack",
   "language": "python",
   "name": "ironhack"
  },
  "language_info": {
   "codemirror_mode": {
    "name": "ipython",
    "version": 3
   },
   "file_extension": ".py",
   "mimetype": "text/x-python",
   "name": "python",
   "nbconvert_exporter": "python",
   "pygments_lexer": "ipython3",
   "version": "3.8.5"
  }
 },
 "nbformat": 4,
 "nbformat_minor": 5
}
