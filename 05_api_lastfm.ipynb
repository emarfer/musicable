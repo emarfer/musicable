{
 "cells": [
  {
   "cell_type": "code",
   "execution_count": 25,
   "id": "1612150a",
   "metadata": {},
   "outputs": [],
   "source": [
    "import requests\n",
    "import requests \n",
    "import json\n",
    "import os\n",
    "from dotenv import load_dotenv\n",
    "import pandas as pd\n",
    "from pandas import json_normalize\n",
    "import numpy as np\n",
    "import sys\n",
    "sys.path.append('src')\n",
    "import apilast as als\n",
    "import sqltools as sqt"
   ]
  },
  {
   "cell_type": "code",
   "execution_count": 26,
   "id": "909f9109",
   "metadata": {},
   "outputs": [
    {
     "data": {
      "text/plain": [
       "True"
      ]
     },
     "execution_count": 26,
     "metadata": {},
     "output_type": "execute_result"
    }
   ],
   "source": [
    "load_dotenv()"
   ]
  },
  {
   "cell_type": "code",
   "execution_count": 27,
   "id": "12788615",
   "metadata": {},
   "outputs": [],
   "source": [
    "keylast = os.getenv(\"keylast\") #apikey de lastfm"
   ]
  },
  {
   "cell_type": "code",
   "execution_count": 28,
   "id": "db08e03a",
   "metadata": {},
   "outputs": [],
   "source": [
    "l_user = 'sinatxester'"
   ]
  },
  {
   "cell_type": "code",
   "execution_count": 29,
   "id": "65ed8995",
   "metadata": {},
   "outputs": [],
   "source": [
    "limit = 1000\n",
    "lastuts = sqt.maxuts()\n",
    "# lastuts = 1640351615 +1 \n",
    "# lastuts = 1628946354"
   ]
  },
  {
   "cell_type": "code",
   "execution_count": 30,
   "id": "e57d06e8",
   "metadata": {},
   "outputs": [
    {
     "data": {
      "text/plain": [
       "1642353859"
      ]
     },
     "execution_count": 30,
     "metadata": {},
     "output_type": "execute_result"
    }
   ],
   "source": [
    "lastuts"
   ]
  },
  {
   "cell_type": "code",
   "execution_count": 31,
   "id": "50387ada",
   "metadata": {},
   "outputs": [],
   "source": [
    "recenttracks = als.req_lastfm (l_user,limit,lastuts)"
   ]
  },
  {
   "cell_type": "code",
   "execution_count": 32,
   "id": "43796b86",
   "metadata": {},
   "outputs": [
    {
     "data": {
      "text/plain": [
       "'No hay nuevos scrobbles'"
      ]
     },
     "execution_count": 32,
     "metadata": {},
     "output_type": "execute_result"
    }
   ],
   "source": [
    "recenttracks"
   ]
  },
  {
   "cell_type": "code",
   "execution_count": 33,
   "id": "82eac8ad",
   "metadata": {},
   "outputs": [
    {
     "ename": "AttributeError",
     "evalue": "'str' object has no attribute 'sample'",
     "output_type": "error",
     "traceback": [
      "\u001b[0;31m---------------------------------------------------------------------------\u001b[0m",
      "\u001b[0;31mAttributeError\u001b[0m                            Traceback (most recent call last)",
      "\u001b[0;32m<ipython-input-33-45c37d197c8d>\u001b[0m in \u001b[0;36m<module>\u001b[0;34m\u001b[0m\n\u001b[0;32m----> 1\u001b[0;31m \u001b[0mrecenttracks\u001b[0m\u001b[0;34m.\u001b[0m\u001b[0msample\u001b[0m\u001b[0;34m(\u001b[0m\u001b[0;36m5\u001b[0m\u001b[0;34m)\u001b[0m\u001b[0;34m\u001b[0m\u001b[0;34m\u001b[0m\u001b[0m\n\u001b[0m",
      "\u001b[0;31mAttributeError\u001b[0m: 'str' object has no attribute 'sample'"
     ]
    }
   ],
   "source": [
    "recenttracks.sample(5)"
   ]
  },
  {
   "cell_type": "code",
   "execution_count": null,
   "id": "1c6b9839",
   "metadata": {},
   "outputs": [],
   "source": [
    "for i,r in recenttracks.iterrows():\n",
    "    sqt.insert_data(r.uts, r.artist, r.artist_mbid, r.album, r.album_mbid, r.title, r.track_mbid)"
   ]
  },
  {
   "cell_type": "code",
   "execution_count": null,
   "id": "fa010369",
   "metadata": {},
   "outputs": [],
   "source": []
  }
 ],
 "metadata": {
  "kernelspec": {
   "display_name": "ironhack",
   "language": "python",
   "name": "ironhack"
  },
  "language_info": {
   "codemirror_mode": {
    "name": "ipython",
    "version": 3
   },
   "file_extension": ".py",
   "mimetype": "text/x-python",
   "name": "python",
   "nbconvert_exporter": "python",
   "pygments_lexer": "ipython3",
   "version": "3.8.5"
  }
 },
 "nbformat": 4,
 "nbformat_minor": 5
}
