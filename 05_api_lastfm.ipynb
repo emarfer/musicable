{
 "cells": [
  {
   "cell_type": "code",
   "execution_count": 1,
   "id": "1612150a",
   "metadata": {},
   "outputs": [],
   "source": [
    "import requests \n",
    "import json\n",
    "import os\n",
    "from dotenv import load_dotenv\n",
    "import pandas as pd\n",
    "from pandas import json_normalize\n",
    "import numpy as np\n",
    "import sys\n",
    "sys.path.append('src')\n",
    "import apilast as als\n",
    "import sqltools as sqt"
   ]
  },
  {
   "cell_type": "code",
   "execution_count": 2,
   "id": "909f9109",
   "metadata": {},
   "outputs": [
    {
     "data": {
      "text/plain": [
       "True"
      ]
     },
     "execution_count": 2,
     "metadata": {},
     "output_type": "execute_result"
    }
   ],
   "source": [
    "load_dotenv()"
   ]
  },
  {
   "cell_type": "code",
   "execution_count": 3,
   "id": "12788615",
   "metadata": {},
   "outputs": [],
   "source": [
    "keylast = os.getenv(\"keylast\") #apikey de lastfm"
   ]
  },
  {
   "cell_type": "code",
   "execution_count": 4,
   "id": "db08e03a",
   "metadata": {},
   "outputs": [],
   "source": [
    "l_user = 'sinatxester'"
   ]
  },
  {
   "cell_type": "code",
   "execution_count": 5,
   "id": "ec1f58e2",
   "metadata": {},
   "outputs": [],
   "source": [
    "limit = 1000\n",
    "lastuts = sqt.maxuts()\n",
    "# lastuts = 1640351615 +1 \n",
    "# lastuts = 1628946354"
   ]
  },
  {
   "cell_type": "code",
   "execution_count": 6,
   "id": "e1f88219",
   "metadata": {},
   "outputs": [
    {
     "data": {
      "text/plain": [
       "1639842671"
      ]
     },
     "execution_count": 6,
     "metadata": {},
     "output_type": "execute_result"
    }
   ],
   "source": [
    "lastuts"
   ]
  },
  {
   "cell_type": "code",
   "execution_count": 7,
   "id": "5fd4d2ae",
   "metadata": {},
   "outputs": [],
   "source": [
    "recenttracks = als.req_lastfm (l_user,limit,lastuts)"
   ]
  },
  {
   "cell_type": "code",
   "execution_count": 8,
   "id": "84df3f27",
   "metadata": {},
   "outputs": [
    {
     "data": {
      "text/html": [
       "<div>\n",
       "<style scoped>\n",
       "    .dataframe tbody tr th:only-of-type {\n",
       "        vertical-align: middle;\n",
       "    }\n",
       "\n",
       "    .dataframe tbody tr th {\n",
       "        vertical-align: top;\n",
       "    }\n",
       "\n",
       "    .dataframe thead th {\n",
       "        text-align: right;\n",
       "    }\n",
       "</style>\n",
       "<table border=\"1\" class=\"dataframe\">\n",
       "  <thead>\n",
       "    <tr style=\"text-align: right;\">\n",
       "      <th></th>\n",
       "      <th>uts</th>\n",
       "      <th>artist</th>\n",
       "      <th>artist_mbid</th>\n",
       "      <th>album</th>\n",
       "      <th>album_mbid</th>\n",
       "      <th>title</th>\n",
       "      <th>track_mbid</th>\n",
       "    </tr>\n",
       "  </thead>\n",
       "  <tbody>\n",
       "    <tr>\n",
       "      <th>0</th>\n",
       "      <td>1643574665</td>\n",
       "      <td>La Pegatina</td>\n",
       "      <td>be21bd32-0edc-4075-8872-1ca274a14893</td>\n",
       "      <td>Xapomelön</td>\n",
       "      <td>ad0083bf-8c71-4b4a-923c-e7f93a9820d6</td>\n",
       "      <td>Mari Carmen</td>\n",
       "      <td>6c81e2c0-afd0-3f4b-83a4-33457afb3df4</td>\n",
       "    </tr>\n",
       "    <tr>\n",
       "      <th>1</th>\n",
       "      <td>1643574513</td>\n",
       "      <td>La Pegatina</td>\n",
       "      <td>be21bd32-0edc-4075-8872-1ca274a14893</td>\n",
       "      <td>Xapomelön</td>\n",
       "      <td>ad0083bf-8c71-4b4a-923c-e7f93a9820d6</td>\n",
       "      <td>Lacón con grelos</td>\n",
       "      <td>02f12ad9-1e63-35eb-aada-29bfaf197ce6</td>\n",
       "    </tr>\n",
       "    <tr>\n",
       "      <th>2</th>\n",
       "      <td>1643574149</td>\n",
       "      <td>Cutting Crew</td>\n",
       "      <td>2aa79fa9-7ac0-443b-b250-18d67227a1cb</td>\n",
       "      <td>Broadcast</td>\n",
       "      <td>07e8751b-d8be-4d09-81e6-62cd27061c7e</td>\n",
       "      <td>(I Just) Died in Your Arms</td>\n",
       "      <td>00734dfa-a187-3b54-ad65-0d8e8694edfe</td>\n",
       "    </tr>\n",
       "    <tr>\n",
       "      <th>3</th>\n",
       "      <td>1643570849</td>\n",
       "      <td>Garth Brooks</td>\n",
       "      <td>b76645c5-78b0-4e4c-8f95-003f40013a45</td>\n",
       "      <td>Ropin' the Wind</td>\n",
       "      <td>0d32d936-41ae-4582-9554-c8e14dcb546a</td>\n",
       "      <td>Burning Bridges</td>\n",
       "      <td>081c1750-546d-386d-b151-0f9ba74327b9</td>\n",
       "    </tr>\n",
       "    <tr>\n",
       "      <th>4</th>\n",
       "      <td>1643570627</td>\n",
       "      <td>Fleetwood Mac</td>\n",
       "      <td>bd13909f-1c29-4c27-a874-d4aaf27c5b1a</td>\n",
       "      <td>Tango in the Night</td>\n",
       "      <td>2494fb25-071e-39fa-aaec-2ea85f86b82e</td>\n",
       "      <td>Little Lies</td>\n",
       "      <td>00b023a5-d465-4f73-8a3d-3b706f3d64c8</td>\n",
       "    </tr>\n",
       "    <tr>\n",
       "      <th>...</th>\n",
       "      <td>...</td>\n",
       "      <td>...</td>\n",
       "      <td>...</td>\n",
       "      <td>...</td>\n",
       "      <td>...</td>\n",
       "      <td>...</td>\n",
       "      <td>...</td>\n",
       "    </tr>\n",
       "    <tr>\n",
       "      <th>435</th>\n",
       "      <td>1639937848</td>\n",
       "      <td>Fleetwood Mac</td>\n",
       "      <td>bd13909f-1c29-4c27-a874-d4aaf27c5b1a</td>\n",
       "      <td>Fleetwood Mac</td>\n",
       "      <td>072b83ba-8238-4c89-9f19-24f991528a6a</td>\n",
       "      <td>Landslide</td>\n",
       "      <td>032e8921-64ae-4a35-a020-7100b9413bc8</td>\n",
       "    </tr>\n",
       "    <tr>\n",
       "      <th>436</th>\n",
       "      <td>1639937672</td>\n",
       "      <td>Lana Del Rey</td>\n",
       "      <td>b7539c32-53e7-4908-bda3-81449c367da6</td>\n",
       "      <td>Chemtrails Over the Country Club</td>\n",
       "      <td>0084311d-5257-492f-a37a-1295ecc41011</td>\n",
       "      <td>Dance Till We Die</td>\n",
       "      <td>0842e6d2-35c6-4daa-b5e3-0f0afc9ed896</td>\n",
       "    </tr>\n",
       "    <tr>\n",
       "      <th>437</th>\n",
       "      <td>1639844301</td>\n",
       "      <td>Lana Del Rey</td>\n",
       "      <td>b7539c32-53e7-4908-bda3-81449c367da6</td>\n",
       "      <td>Chemtrails Over the Country Club</td>\n",
       "      <td>0084311d-5257-492f-a37a-1295ecc41011</td>\n",
       "      <td>Dance Till We Die</td>\n",
       "      <td>0842e6d2-35c6-4daa-b5e3-0f0afc9ed896</td>\n",
       "    </tr>\n",
       "    <tr>\n",
       "      <th>438</th>\n",
       "      <td>1639844078</td>\n",
       "      <td>Lou Reed</td>\n",
       "      <td>9d1ebcfe-4c15-4d18-95d3-d919898638a1</td>\n",
       "      <td>Transformer</td>\n",
       "      <td>013f8cfd-cd52-40ab-af26-4fb44c95a70e</td>\n",
       "      <td>Vicious</td>\n",
       "      <td>001b56ec-d218-4c3b-86e3-fe6235b932c0</td>\n",
       "    </tr>\n",
       "    <tr>\n",
       "      <th>439</th>\n",
       "      <td>1639843825</td>\n",
       "      <td>Canteca De Macao</td>\n",
       "      <td>248f1ef9-5509-43b1-a4fa-751d5e65d88c</td>\n",
       "      <td>Camino de la vida entera</td>\n",
       "      <td>c7549490-0cb7-4362-b9d2-7a850d4d0a50</td>\n",
       "      <td>Los pies en el aire</td>\n",
       "      <td>bfa80183-9e2e-3844-a11e-a26080e186ca</td>\n",
       "    </tr>\n",
       "  </tbody>\n",
       "</table>\n",
       "<p>440 rows × 7 columns</p>\n",
       "</div>"
      ],
      "text/plain": [
       "            uts            artist                           artist_mbid  \\\n",
       "0    1643574665       La Pegatina  be21bd32-0edc-4075-8872-1ca274a14893   \n",
       "1    1643574513       La Pegatina  be21bd32-0edc-4075-8872-1ca274a14893   \n",
       "2    1643574149      Cutting Crew  2aa79fa9-7ac0-443b-b250-18d67227a1cb   \n",
       "3    1643570849      Garth Brooks  b76645c5-78b0-4e4c-8f95-003f40013a45   \n",
       "4    1643570627     Fleetwood Mac  bd13909f-1c29-4c27-a874-d4aaf27c5b1a   \n",
       "..          ...               ...                                   ...   \n",
       "435  1639937848     Fleetwood Mac  bd13909f-1c29-4c27-a874-d4aaf27c5b1a   \n",
       "436  1639937672      Lana Del Rey  b7539c32-53e7-4908-bda3-81449c367da6   \n",
       "437  1639844301      Lana Del Rey  b7539c32-53e7-4908-bda3-81449c367da6   \n",
       "438  1639844078          Lou Reed  9d1ebcfe-4c15-4d18-95d3-d919898638a1   \n",
       "439  1639843825  Canteca De Macao  248f1ef9-5509-43b1-a4fa-751d5e65d88c   \n",
       "\n",
       "                                album                            album_mbid  \\\n",
       "0                           Xapomelön  ad0083bf-8c71-4b4a-923c-e7f93a9820d6   \n",
       "1                           Xapomelön  ad0083bf-8c71-4b4a-923c-e7f93a9820d6   \n",
       "2                           Broadcast  07e8751b-d8be-4d09-81e6-62cd27061c7e   \n",
       "3                     Ropin' the Wind  0d32d936-41ae-4582-9554-c8e14dcb546a   \n",
       "4                  Tango in the Night  2494fb25-071e-39fa-aaec-2ea85f86b82e   \n",
       "..                                ...                                   ...   \n",
       "435                     Fleetwood Mac  072b83ba-8238-4c89-9f19-24f991528a6a   \n",
       "436  Chemtrails Over the Country Club  0084311d-5257-492f-a37a-1295ecc41011   \n",
       "437  Chemtrails Over the Country Club  0084311d-5257-492f-a37a-1295ecc41011   \n",
       "438                       Transformer  013f8cfd-cd52-40ab-af26-4fb44c95a70e   \n",
       "439          Camino de la vida entera  c7549490-0cb7-4362-b9d2-7a850d4d0a50   \n",
       "\n",
       "                          title                            track_mbid  \n",
       "0                   Mari Carmen  6c81e2c0-afd0-3f4b-83a4-33457afb3df4  \n",
       "1              Lacón con grelos  02f12ad9-1e63-35eb-aada-29bfaf197ce6  \n",
       "2    (I Just) Died in Your Arms  00734dfa-a187-3b54-ad65-0d8e8694edfe  \n",
       "3               Burning Bridges  081c1750-546d-386d-b151-0f9ba74327b9  \n",
       "4                   Little Lies  00b023a5-d465-4f73-8a3d-3b706f3d64c8  \n",
       "..                          ...                                   ...  \n",
       "435                   Landslide  032e8921-64ae-4a35-a020-7100b9413bc8  \n",
       "436           Dance Till We Die  0842e6d2-35c6-4daa-b5e3-0f0afc9ed896  \n",
       "437           Dance Till We Die  0842e6d2-35c6-4daa-b5e3-0f0afc9ed896  \n",
       "438                     Vicious  001b56ec-d218-4c3b-86e3-fe6235b932c0  \n",
       "439         Los pies en el aire  bfa80183-9e2e-3844-a11e-a26080e186ca  \n",
       "\n",
       "[440 rows x 7 columns]"
      ]
     },
     "execution_count": 8,
     "metadata": {},
     "output_type": "execute_result"
    }
   ],
   "source": [
    "recenttracks"
   ]
  },
  {
   "cell_type": "code",
   "execution_count": null,
   "id": "de28155b",
   "metadata": {},
   "outputs": [],
   "source": [
    "#recenttracks.sample(5)"
   ]
  },
  {
   "cell_type": "code",
   "execution_count": 9,
   "id": "ec72432f",
   "metadata": {},
   "outputs": [],
   "source": [
    "for i,r in recenttracks.iterrows():\n",
    "    sqt.insert_data(r.uts, r.artist, r.artist_mbid, r.album, r.album_mbid, r.title, r.track_mbid)"
   ]
  },
  {
   "cell_type": "code",
   "execution_count": null,
   "id": "3a47f5ec",
   "metadata": {},
   "outputs": [],
   "source": []
  }
 ],
 "metadata": {
  "kernelspec": {
   "display_name": "sinatxe",
   "language": "python",
   "name": "sinatxe"
  },
  "language_info": {
   "codemirror_mode": {
    "name": "ipython",
    "version": 3
   },
   "file_extension": ".py",
   "mimetype": "text/x-python",
   "name": "python",
   "nbconvert_exporter": "python",
   "pygments_lexer": "ipython3",
   "version": "3.8.5"
  }
 },
 "nbformat": 4,
 "nbformat_minor": 5
}
