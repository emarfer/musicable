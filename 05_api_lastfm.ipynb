{
 "cells": [
  {
   "cell_type": "code",
   "execution_count": 16,
   "id": "1612150a",
   "metadata": {},
   "outputs": [],
   "source": [
    "import requests\n",
    "import requests \n",
    "import json\n",
    "import os\n",
    "from dotenv import load_dotenv\n",
    "import pandas as pd\n",
    "from pandas import json_normalize\n",
    "import numpy as np\n",
    "import sys\n",
    "sys.path.append('src')\n",
    "import apilast as als\n",
    "import sqltools as sqt"
   ]
  },
  {
   "cell_type": "code",
   "execution_count": 17,
   "id": "909f9109",
   "metadata": {},
   "outputs": [
    {
     "data": {
      "text/plain": [
       "True"
      ]
     },
     "execution_count": 17,
     "metadata": {},
     "output_type": "execute_result"
    }
   ],
   "source": [
    "load_dotenv()"
   ]
  },
  {
   "cell_type": "code",
   "execution_count": 18,
   "id": "12788615",
   "metadata": {},
   "outputs": [],
   "source": [
    "keylast = os.getenv(\"keylast\") #apikey de lastfm"
   ]
  },
  {
   "cell_type": "code",
   "execution_count": 19,
   "id": "db08e03a",
   "metadata": {},
   "outputs": [],
   "source": [
    "l_user = 'sinatxester'"
   ]
  },
  {
   "cell_type": "code",
   "execution_count": 20,
   "id": "fbac3c0e",
   "metadata": {},
   "outputs": [],
   "source": [
    "limit = 1000\n",
    "lastuts = sqt.maxuts()\n",
    "#lastuts = 1640351615 -1 "
   ]
  },
  {
   "cell_type": "code",
   "execution_count": 21,
   "id": "58f25f2c",
   "metadata": {},
   "outputs": [
    {
     "data": {
      "text/plain": [
       "1634159065"
      ]
     },
     "execution_count": 21,
     "metadata": {},
     "output_type": "execute_result"
    }
   ],
   "source": [
    "lastuts"
   ]
  },
  {
   "cell_type": "code",
   "execution_count": 22,
   "id": "ae8eb6b8",
   "metadata": {},
   "outputs": [],
   "source": [
    "recenttracks = als.req_lastfm (l_user,limit,lastuts)"
   ]
  },
  {
   "cell_type": "code",
   "execution_count": 23,
   "id": "bec45ebe",
   "metadata": {},
   "outputs": [
    {
     "data": {
      "text/html": [
       "<div>\n",
       "<style scoped>\n",
       "    .dataframe tbody tr th:only-of-type {\n",
       "        vertical-align: middle;\n",
       "    }\n",
       "\n",
       "    .dataframe tbody tr th {\n",
       "        vertical-align: top;\n",
       "    }\n",
       "\n",
       "    .dataframe thead th {\n",
       "        text-align: right;\n",
       "    }\n",
       "</style>\n",
       "<table border=\"1\" class=\"dataframe\">\n",
       "  <thead>\n",
       "    <tr style=\"text-align: right;\">\n",
       "      <th></th>\n",
       "      <th>uts</th>\n",
       "      <th>artist</th>\n",
       "      <th>artist_mbid</th>\n",
       "      <th>album</th>\n",
       "      <th>album_mbid</th>\n",
       "      <th>title</th>\n",
       "      <th>track_mbid</th>\n",
       "    </tr>\n",
       "  </thead>\n",
       "  <tbody>\n",
       "    <tr>\n",
       "      <th>382</th>\n",
       "      <td>1638812137</td>\n",
       "      <td>Zahara</td>\n",
       "      <td>e9539da6-28a4-4daf-a6e0-755ab21c9a0b</td>\n",
       "      <td>Puta</td>\n",
       "      <td>a803ea63-0be7-4360-af7d-c4200ec7ef4a</td>\n",
       "      <td>berlín U5</td>\n",
       "      <td>9c79ad57-0ff6-4a59-924f-040f42502176</td>\n",
       "    </tr>\n",
       "    <tr>\n",
       "      <th>691</th>\n",
       "      <td>1635617296</td>\n",
       "      <td>Rufus T. Firefly</td>\n",
       "      <td>d902ed3e-1e77-4b5d-86b5-58e46718bbf7</td>\n",
       "      <td>Magnolia</td>\n",
       "      <td>37ff6d16-2378-4fc7-83fe-b9b9a26de52e</td>\n",
       "      <td>Pulp Fiction</td>\n",
       "      <td>520628ab-2e95-41b6-810d-0fcd1134b266</td>\n",
       "    </tr>\n",
       "    <tr>\n",
       "      <th>386</th>\n",
       "      <td>1638811146</td>\n",
       "      <td>Zahara</td>\n",
       "      <td>e9539da6-28a4-4daf-a6e0-755ab21c9a0b</td>\n",
       "      <td>Puta</td>\n",
       "      <td>a803ea63-0be7-4360-af7d-c4200ec7ef4a</td>\n",
       "      <td>MERICHANE</td>\n",
       "      <td>06f7e686-1853-4fde-826b-e64d7d3652d2</td>\n",
       "    </tr>\n",
       "    <tr>\n",
       "      <th>250</th>\n",
       "      <td>1640725650</td>\n",
       "      <td>Handsome Furs</td>\n",
       "      <td>912f8045-c9ec-4020-b89e-44f748b5012b</td>\n",
       "      <td>Sound Kapital</td>\n",
       "      <td>19279f35-3bb1-3631-9817-3d5e1807cbd2</td>\n",
       "      <td>What About Us</td>\n",
       "      <td>0fe8e1f0-85b1-3f14-8be3-3ce90873ea6a</td>\n",
       "    </tr>\n",
       "    <tr>\n",
       "      <th>109</th>\n",
       "      <td>1641256493</td>\n",
       "      <td>Jotamayúscula</td>\n",
       "      <td></td>\n",
       "      <td>Hombre Negro Soltero Busca</td>\n",
       "      <td>c50f8d85-0701-481e-8ccc-cf6c40ae660b</td>\n",
       "      <td>Tirititi Tirititero (Feat. La Mala Rodríguez)</td>\n",
       "      <td></td>\n",
       "    </tr>\n",
       "  </tbody>\n",
       "</table>\n",
       "</div>"
      ],
      "text/plain": [
       "            uts            artist                           artist_mbid  \\\n",
       "382  1638812137            Zahara  e9539da6-28a4-4daf-a6e0-755ab21c9a0b   \n",
       "691  1635617296  Rufus T. Firefly  d902ed3e-1e77-4b5d-86b5-58e46718bbf7   \n",
       "386  1638811146            Zahara  e9539da6-28a4-4daf-a6e0-755ab21c9a0b   \n",
       "250  1640725650     Handsome Furs  912f8045-c9ec-4020-b89e-44f748b5012b   \n",
       "109  1641256493     Jotamayúscula                                         \n",
       "\n",
       "                          album                            album_mbid  \\\n",
       "382                        Puta  a803ea63-0be7-4360-af7d-c4200ec7ef4a   \n",
       "691                    Magnolia  37ff6d16-2378-4fc7-83fe-b9b9a26de52e   \n",
       "386                        Puta  a803ea63-0be7-4360-af7d-c4200ec7ef4a   \n",
       "250               Sound Kapital  19279f35-3bb1-3631-9817-3d5e1807cbd2   \n",
       "109  Hombre Negro Soltero Busca  c50f8d85-0701-481e-8ccc-cf6c40ae660b   \n",
       "\n",
       "                                             title  \\\n",
       "382                                      berlín U5   \n",
       "691                                   Pulp Fiction   \n",
       "386                                      MERICHANE   \n",
       "250                                  What About Us   \n",
       "109  Tirititi Tirititero (Feat. La Mala Rodríguez)   \n",
       "\n",
       "                               track_mbid  \n",
       "382  9c79ad57-0ff6-4a59-924f-040f42502176  \n",
       "691  520628ab-2e95-41b6-810d-0fcd1134b266  \n",
       "386  06f7e686-1853-4fde-826b-e64d7d3652d2  \n",
       "250  0fe8e1f0-85b1-3f14-8be3-3ce90873ea6a  \n",
       "109                                        "
      ]
     },
     "execution_count": 23,
     "metadata": {},
     "output_type": "execute_result"
    }
   ],
   "source": [
    "recenttracks.sample(5)"
   ]
  },
  {
   "cell_type": "code",
   "execution_count": 24,
   "id": "6fa42928",
   "metadata": {},
   "outputs": [],
   "source": [
    "for i,r in recenttracks.iterrows():\n",
    "    sqt.insert_data(r.uts, r.artist, r.artist_mbid, r.album, r.album_mbid, r.title, r.track_mbid)"
   ]
  },
  {
   "cell_type": "code",
   "execution_count": null,
   "id": "8e6ae308",
   "metadata": {},
   "outputs": [],
   "source": []
  }
 ],
 "metadata": {
  "kernelspec": {
   "display_name": "ironhack",
   "language": "python",
   "name": "ironhack"
  },
  "language_info": {
   "codemirror_mode": {
    "name": "ipython",
    "version": 3
   },
   "file_extension": ".py",
   "mimetype": "text/x-python",
   "name": "python",
   "nbconvert_exporter": "python",
   "pygments_lexer": "ipython3",
   "version": "3.8.5"
  }
 },
 "nbformat": 4,
 "nbformat_minor": 5
}
