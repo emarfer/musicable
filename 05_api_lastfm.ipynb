{
 "cells": [
  {
   "cell_type": "code",
   "execution_count": 1,
   "id": "1612150a",
   "metadata": {},
   "outputs": [],
   "source": [
    "import requests \n",
    "import json\n",
    "import os\n",
    "from dotenv import load_dotenv\n",
    "import pandas as pd\n",
    "from pandas import json_normalize\n",
    "import numpy as np\n",
    "import sys\n",
    "sys.path.append('src')\n",
    "import apilast as als\n",
    "import sqltools as sqt"
   ]
  },
  {
   "cell_type": "code",
   "execution_count": 2,
   "id": "909f9109",
   "metadata": {},
   "outputs": [
    {
     "data": {
      "text/plain": [
       "True"
      ]
     },
     "execution_count": 2,
     "metadata": {},
     "output_type": "execute_result"
    }
   ],
   "source": [
    "load_dotenv()"
   ]
  },
  {
   "cell_type": "code",
   "execution_count": 3,
   "id": "12788615",
   "metadata": {},
   "outputs": [],
   "source": [
    "keylast = os.getenv(\"keylast\") #apikey de lastfm"
   ]
  },
  {
   "cell_type": "code",
   "execution_count": 4,
   "id": "db08e03a",
   "metadata": {},
   "outputs": [],
   "source": [
    "l_user = 'sinatxester'"
   ]
  },
  {
   "cell_type": "code",
   "execution_count": 5,
   "id": "ec1f58e2",
   "metadata": {},
   "outputs": [],
   "source": [
    "limit = 1000\n",
    "lastuts = sqt.maxuts()\n",
    "# lastuts = 1640351615 +1 \n",
    "# lastuts = 1628946354"
   ]
  },
  {
   "cell_type": "code",
   "execution_count": 6,
   "id": "e1f88219",
   "metadata": {},
   "outputs": [
    {
     "data": {
      "text/plain": [
       "1642353859"
      ]
     },
     "execution_count": 6,
     "metadata": {},
     "output_type": "execute_result"
    }
   ],
   "source": [
    "lastuts"
   ]
  },
  {
   "cell_type": "code",
   "execution_count": 7,
   "id": "5fd4d2ae",
   "metadata": {},
   "outputs": [],
   "source": [
    "recenttracks = als.req_lastfm (l_user,limit,lastuts)"
   ]
  },
  {
   "cell_type": "code",
   "execution_count": 8,
   "id": "84df3f27",
   "metadata": {},
   "outputs": [
    {
     "data": {
      "text/html": [
       "<div>\n",
       "<style scoped>\n",
       "    .dataframe tbody tr th:only-of-type {\n",
       "        vertical-align: middle;\n",
       "    }\n",
       "\n",
       "    .dataframe tbody tr th {\n",
       "        vertical-align: top;\n",
       "    }\n",
       "\n",
       "    .dataframe thead th {\n",
       "        text-align: right;\n",
       "    }\n",
       "</style>\n",
       "<table border=\"1\" class=\"dataframe\">\n",
       "  <thead>\n",
       "    <tr style=\"text-align: right;\">\n",
       "      <th></th>\n",
       "      <th>uts</th>\n",
       "      <th>artist</th>\n",
       "      <th>artist_mbid</th>\n",
       "      <th>album</th>\n",
       "      <th>album_mbid</th>\n",
       "      <th>title</th>\n",
       "      <th>track_mbid</th>\n",
       "    </tr>\n",
       "  </thead>\n",
       "  <tbody>\n",
       "    <tr>\n",
       "      <th>0</th>\n",
       "      <td>1643574665</td>\n",
       "      <td>La Pegatina</td>\n",
       "      <td>be21bd32-0edc-4075-8872-1ca274a14893</td>\n",
       "      <td>Xapomelön</td>\n",
       "      <td>ad0083bf-8c71-4b4a-923c-e7f93a9820d6</td>\n",
       "      <td>Mari Carmen</td>\n",
       "      <td>6c81e2c0-afd0-3f4b-83a4-33457afb3df4</td>\n",
       "    </tr>\n",
       "    <tr>\n",
       "      <th>1</th>\n",
       "      <td>1643574513</td>\n",
       "      <td>La Pegatina</td>\n",
       "      <td>be21bd32-0edc-4075-8872-1ca274a14893</td>\n",
       "      <td>Xapomelön</td>\n",
       "      <td>ad0083bf-8c71-4b4a-923c-e7f93a9820d6</td>\n",
       "      <td>Lacón con grelos</td>\n",
       "      <td>02f12ad9-1e63-35eb-aada-29bfaf197ce6</td>\n",
       "    </tr>\n",
       "    <tr>\n",
       "      <th>2</th>\n",
       "      <td>1643574149</td>\n",
       "      <td>Cutting Crew</td>\n",
       "      <td>2aa79fa9-7ac0-443b-b250-18d67227a1cb</td>\n",
       "      <td>Broadcast</td>\n",
       "      <td>07e8751b-d8be-4d09-81e6-62cd27061c7e</td>\n",
       "      <td>(I Just) Died in Your Arms</td>\n",
       "      <td>00734dfa-a187-3b54-ad65-0d8e8694edfe</td>\n",
       "    </tr>\n",
       "    <tr>\n",
       "      <th>3</th>\n",
       "      <td>1643570849</td>\n",
       "      <td>Garth Brooks</td>\n",
       "      <td>b76645c5-78b0-4e4c-8f95-003f40013a45</td>\n",
       "      <td>Ropin' the Wind</td>\n",
       "      <td>0d32d936-41ae-4582-9554-c8e14dcb546a</td>\n",
       "      <td>Burning Bridges</td>\n",
       "      <td>081c1750-546d-386d-b151-0f9ba74327b9</td>\n",
       "    </tr>\n",
       "    <tr>\n",
       "      <th>4</th>\n",
       "      <td>1643570627</td>\n",
       "      <td>Fleetwood Mac</td>\n",
       "      <td>bd13909f-1c29-4c27-a874-d4aaf27c5b1a</td>\n",
       "      <td>Tango in the Night</td>\n",
       "      <td>2494fb25-071e-39fa-aaec-2ea85f86b82e</td>\n",
       "      <td>Little Lies</td>\n",
       "      <td>00b023a5-d465-4f73-8a3d-3b706f3d64c8</td>\n",
       "    </tr>\n",
       "    <tr>\n",
       "      <th>...</th>\n",
       "      <td>...</td>\n",
       "      <td>...</td>\n",
       "      <td>...</td>\n",
       "      <td>...</td>\n",
       "      <td>...</td>\n",
       "      <td>...</td>\n",
       "      <td>...</td>\n",
       "    </tr>\n",
       "    <tr>\n",
       "      <th>80</th>\n",
       "      <td>1642685295</td>\n",
       "      <td>Lana Del Rey</td>\n",
       "      <td>b7539c32-53e7-4908-bda3-81449c367da6</td>\n",
       "      <td>Ultraviolence</td>\n",
       "      <td>060d1168-7ea0-4290-9b05-ea3d23b14966</td>\n",
       "      <td>Old Money</td>\n",
       "      <td>090afbbf-cef6-4e69-958f-4b3a11a36758</td>\n",
       "    </tr>\n",
       "    <tr>\n",
       "      <th>81</th>\n",
       "      <td>1642685042</td>\n",
       "      <td>Lana Del Rey</td>\n",
       "      <td>b7539c32-53e7-4908-bda3-81449c367da6</td>\n",
       "      <td>Lust for Life</td>\n",
       "      <td>00d42a8c-af17-46c3-a20f-f439b46ffe77</td>\n",
       "      <td>Beautiful People Beautiful Problems</td>\n",
       "      <td></td>\n",
       "    </tr>\n",
       "    <tr>\n",
       "      <th>82</th>\n",
       "      <td>1642684742</td>\n",
       "      <td>Lana Del Rey</td>\n",
       "      <td>b7539c32-53e7-4908-bda3-81449c367da6</td>\n",
       "      <td>Born to Die</td>\n",
       "      <td>00309c41-3bd8-44f6-93e6-a04e2766a6b8</td>\n",
       "      <td>Off to the Races</td>\n",
       "      <td>00fb1156-7159-452e-8dac-cde70b45261f</td>\n",
       "    </tr>\n",
       "    <tr>\n",
       "      <th>83</th>\n",
       "      <td>1642684478</td>\n",
       "      <td>Lana Del Rey</td>\n",
       "      <td>b7539c32-53e7-4908-bda3-81449c367da6</td>\n",
       "      <td>Lust for Life</td>\n",
       "      <td>00d42a8c-af17-46c3-a20f-f439b46ffe77</td>\n",
       "      <td>Groupie Love</td>\n",
       "      <td>64b54d63-5b9a-4db4-b2ae-05cbf8b79088</td>\n",
       "    </tr>\n",
       "    <tr>\n",
       "      <th>84</th>\n",
       "      <td>1642684193</td>\n",
       "      <td>Lana Del Rey</td>\n",
       "      <td>b7539c32-53e7-4908-bda3-81449c367da6</td>\n",
       "      <td>Born to Die</td>\n",
       "      <td>00309c41-3bd8-44f6-93e6-a04e2766a6b8</td>\n",
       "      <td>Born to Die</td>\n",
       "      <td>00f60777-318c-4184-a78f-253ad3507021</td>\n",
       "    </tr>\n",
       "  </tbody>\n",
       "</table>\n",
       "<p>85 rows × 7 columns</p>\n",
       "</div>"
      ],
      "text/plain": [
       "           uts         artist                           artist_mbid  \\\n",
       "0   1643574665    La Pegatina  be21bd32-0edc-4075-8872-1ca274a14893   \n",
       "1   1643574513    La Pegatina  be21bd32-0edc-4075-8872-1ca274a14893   \n",
       "2   1643574149   Cutting Crew  2aa79fa9-7ac0-443b-b250-18d67227a1cb   \n",
       "3   1643570849   Garth Brooks  b76645c5-78b0-4e4c-8f95-003f40013a45   \n",
       "4   1643570627  Fleetwood Mac  bd13909f-1c29-4c27-a874-d4aaf27c5b1a   \n",
       "..         ...            ...                                   ...   \n",
       "80  1642685295   Lana Del Rey  b7539c32-53e7-4908-bda3-81449c367da6   \n",
       "81  1642685042   Lana Del Rey  b7539c32-53e7-4908-bda3-81449c367da6   \n",
       "82  1642684742   Lana Del Rey  b7539c32-53e7-4908-bda3-81449c367da6   \n",
       "83  1642684478   Lana Del Rey  b7539c32-53e7-4908-bda3-81449c367da6   \n",
       "84  1642684193   Lana Del Rey  b7539c32-53e7-4908-bda3-81449c367da6   \n",
       "\n",
       "                 album                            album_mbid  \\\n",
       "0            Xapomelön  ad0083bf-8c71-4b4a-923c-e7f93a9820d6   \n",
       "1            Xapomelön  ad0083bf-8c71-4b4a-923c-e7f93a9820d6   \n",
       "2            Broadcast  07e8751b-d8be-4d09-81e6-62cd27061c7e   \n",
       "3      Ropin' the Wind  0d32d936-41ae-4582-9554-c8e14dcb546a   \n",
       "4   Tango in the Night  2494fb25-071e-39fa-aaec-2ea85f86b82e   \n",
       "..                 ...                                   ...   \n",
       "80       Ultraviolence  060d1168-7ea0-4290-9b05-ea3d23b14966   \n",
       "81       Lust for Life  00d42a8c-af17-46c3-a20f-f439b46ffe77   \n",
       "82         Born to Die  00309c41-3bd8-44f6-93e6-a04e2766a6b8   \n",
       "83       Lust for Life  00d42a8c-af17-46c3-a20f-f439b46ffe77   \n",
       "84         Born to Die  00309c41-3bd8-44f6-93e6-a04e2766a6b8   \n",
       "\n",
       "                                  title                            track_mbid  \n",
       "0                           Mari Carmen  6c81e2c0-afd0-3f4b-83a4-33457afb3df4  \n",
       "1                      Lacón con grelos  02f12ad9-1e63-35eb-aada-29bfaf197ce6  \n",
       "2            (I Just) Died in Your Arms  00734dfa-a187-3b54-ad65-0d8e8694edfe  \n",
       "3                       Burning Bridges  081c1750-546d-386d-b151-0f9ba74327b9  \n",
       "4                           Little Lies  00b023a5-d465-4f73-8a3d-3b706f3d64c8  \n",
       "..                                  ...                                   ...  \n",
       "80                            Old Money  090afbbf-cef6-4e69-958f-4b3a11a36758  \n",
       "81  Beautiful People Beautiful Problems                                        \n",
       "82                     Off to the Races  00fb1156-7159-452e-8dac-cde70b45261f  \n",
       "83                         Groupie Love  64b54d63-5b9a-4db4-b2ae-05cbf8b79088  \n",
       "84                          Born to Die  00f60777-318c-4184-a78f-253ad3507021  \n",
       "\n",
       "[85 rows x 7 columns]"
      ]
     },
     "execution_count": 8,
     "metadata": {},
     "output_type": "execute_result"
    }
   ],
   "source": [
    "recenttracks"
   ]
  },
  {
   "cell_type": "code",
   "execution_count": 34,
   "id": "de28155b",
   "metadata": {},
   "outputs": [],
   "source": [
    "#recenttracks.sample(5)"
   ]
  },
  {
   "cell_type": "code",
   "execution_count": 9,
   "id": "ec72432f",
   "metadata": {},
   "outputs": [],
   "source": [
    "for i,r in recenttracks.iterrows():\n",
    "    sqt.insert_data(r.uts, r.artist, r.artist_mbid, r.album, r.album_mbid, r.title, r.track_mbid)"
   ]
  },
  {
   "cell_type": "code",
   "execution_count": null,
   "id": "3a47f5ec",
   "metadata": {},
   "outputs": [],
   "source": []
  }
 ],
 "metadata": {
  "kernelspec": {
   "display_name": "ironhack",
   "language": "python",
   "name": "ironhack"
  },
  "language_info": {
   "codemirror_mode": {
    "name": "ipython",
    "version": 3
   },
   "file_extension": ".py",
   "mimetype": "text/x-python",
   "name": "python",
   "nbconvert_exporter": "python",
   "pygments_lexer": "ipython3",
   "version": "3.8.5"
  }
 },
 "nbformat": 4,
 "nbformat_minor": 5
}
