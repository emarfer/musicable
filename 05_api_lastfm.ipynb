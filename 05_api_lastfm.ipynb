{
 "cells": [
  {
   "cell_type": "code",
   "execution_count": 1,
   "id": "1612150a",
   "metadata": {},
   "outputs": [],
   "source": [
    "import requests\n",
    "import requests \n",
    "import json\n",
    "import os\n",
    "from dotenv import load_dotenv\n",
    "import pandas as pd\n",
    "from pandas import json_normalize\n",
    "import numpy as np\n",
    "import sys\n",
    "sys.path.append('src')\n",
    "import apilast as als\n",
    "import sqltools as sqt"
   ]
  },
  {
   "cell_type": "code",
   "execution_count": 2,
   "id": "909f9109",
   "metadata": {},
   "outputs": [
    {
     "data": {
      "text/plain": [
       "True"
      ]
     },
     "execution_count": 2,
     "metadata": {},
     "output_type": "execute_result"
    }
   ],
   "source": [
    "load_dotenv()"
   ]
  },
  {
   "cell_type": "code",
   "execution_count": 3,
   "id": "12788615",
   "metadata": {},
   "outputs": [],
   "source": [
    "keylast = os.getenv(\"keylast\") #apikey de lastfm"
   ]
  },
  {
   "cell_type": "code",
   "execution_count": 4,
   "id": "db08e03a",
   "metadata": {},
   "outputs": [],
   "source": [
    "l_user = 'sinatxester'"
   ]
  },
  {
   "cell_type": "code",
   "execution_count": 5,
   "id": "ec1f58e2",
   "metadata": {},
   "outputs": [],
   "source": [
    "limit = 1000\n",
    "lastuts = sqt.maxuts()\n",
    "# lastuts = 1640351615 +1 \n",
    "# lastuts = 1628946354"
   ]
  },
  {
   "cell_type": "code",
   "execution_count": 6,
   "id": "e1f88219",
   "metadata": {},
   "outputs": [
    {
     "data": {
      "text/plain": [
       "1642353859"
      ]
     },
     "execution_count": 6,
     "metadata": {},
     "output_type": "execute_result"
    }
   ],
   "source": [
    "lastuts"
   ]
  },
  {
   "cell_type": "code",
   "execution_count": 7,
   "id": "5fd4d2ae",
   "metadata": {},
   "outputs": [],
   "source": [
    "recenttracks = als.req_lastfm (l_user,limit,lastuts)"
   ]
  },
  {
   "cell_type": "code",
   "execution_count": 8,
   "id": "84df3f27",
   "metadata": {},
   "outputs": [
    {
     "data": {
      "text/plain": [
       "'No hay nuevos scrobbles'"
      ]
     },
     "execution_count": 8,
     "metadata": {},
     "output_type": "execute_result"
    }
   ],
   "source": [
    "recenttracks"
   ]
  },
  {
   "cell_type": "code",
   "execution_count": 34,
   "id": "de28155b",
   "metadata": {},
   "outputs": [],
   "source": [
    "#recenttracks.sample(5)"
   ]
  },
  {
   "cell_type": "code",
   "execution_count": null,
   "id": "ec72432f",
   "metadata": {},
   "outputs": [],
   "source": [
    "for i,r in recenttracks.iterrows():\n",
    "    sqt.insert_data(r.uts, r.artist, r.artist_mbid, r.album, r.album_mbid, r.title, r.track_mbid)"
   ]
  },
  {
   "cell_type": "code",
   "execution_count": null,
   "id": "3a47f5ec",
   "metadata": {},
   "outputs": [],
   "source": []
  }
 ],
 "metadata": {
  "kernelspec": {
   "display_name": "ironhack",
   "language": "python",
   "name": "ironhack"
  },
  "language_info": {
   "codemirror_mode": {
    "name": "ipython",
    "version": 3
   },
   "file_extension": ".py",
   "mimetype": "text/x-python",
   "name": "python",
   "nbconvert_exporter": "python",
   "pygments_lexer": "ipython3",
   "version": "3.8.5"
  }
 },
 "nbformat": 4,
 "nbformat_minor": 5
}
