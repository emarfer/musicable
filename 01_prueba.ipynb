{
 "cells": [
  {
   "cell_type": "code",
   "execution_count": 1,
   "id": "d4538082",
   "metadata": {},
   "outputs": [],
   "source": [
    "import os\n",
    "from os import walk\n",
    "import pandas as pd\n",
    "import tinytag\n",
    "from tinytag import TinyTag\n"
   ]
  },
  {
   "cell_type": "code",
   "execution_count": 2,
   "id": "3cbae1d0",
   "metadata": {},
   "outputs": [
    {
     "data": {
      "text/plain": [
       "['$RECYCLE.BIN',\n",
       " '.ipynb_checkpoints',\n",
       " '.Trash-1000',\n",
       " 'Cortos',\n",
       " 'Descargas antiguo pc',\n",
       " 'Desorganización',\n",
       " 'Documentales',\n",
       " 'Escritorio',\n",
       " 'Geo Historia',\n",
       " 'Juegos',\n",
       " 'Libros',\n",
       " 'Listado tera externo.txt',\n",
       " 'Luis Ramiro',\n",
       " 'Movil',\n",
       " 'Music',\n",
       " 'musicable',\n",
       " 'Música Miscelánea',\n",
       " 'Música xtra',\n",
       " 'Padre',\n",
       " 'pc antiguo total',\n",
       " 'Pelis Sagas',\n",
       " 'Programas',\n",
       " 'proyecto_music',\n",
       " 'Recovery',\n",
       " 'Series',\n",
       " 'System Volume Information',\n",
       " 'Torrent',\n",
       " 'Videos']"
      ]
     },
     "execution_count": 2,
     "metadata": {},
     "output_type": "execute_result"
    }
   ],
   "source": [
    "os.listdir('../')"
   ]
  },
  {
   "cell_type": "code",
   "execution_count": 3,
   "id": "8ec7f8fb",
   "metadata": {},
   "outputs": [],
   "source": [
    "from os import walk\n",
    "\n",
    "total = []\n",
    "for (path, ficheros, archivos) in walk(\"../Music\"):\n",
    "    dicc = {}\n",
    "    dicc['path'] =  path\n",
    "    dicc['ficheros'] = ficheros\n",
    "    dicc['archivos'] = archivos\n",
    "    total.append(dicc)\n",
    "    #print(dicc['path'])"
   ]
  },
  {
   "cell_type": "code",
   "execution_count": 4,
   "id": "7685018a",
   "metadata": {},
   "outputs": [],
   "source": [
    "dataf = pd.DataFrame(total)"
   ]
  },
  {
   "cell_type": "code",
   "execution_count": 5,
   "id": "32b1a093",
   "metadata": {},
   "outputs": [
    {
     "data": {
      "text/html": [
       "<div>\n",
       "<style scoped>\n",
       "    .dataframe tbody tr th:only-of-type {\n",
       "        vertical-align: middle;\n",
       "    }\n",
       "\n",
       "    .dataframe tbody tr th {\n",
       "        vertical-align: top;\n",
       "    }\n",
       "\n",
       "    .dataframe thead th {\n",
       "        text-align: right;\n",
       "    }\n",
       "</style>\n",
       "<table border=\"1\" class=\"dataframe\">\n",
       "  <thead>\n",
       "    <tr style=\"text-align: right;\">\n",
       "      <th></th>\n",
       "      <th>path</th>\n",
       "      <th>ficheros</th>\n",
       "      <th>archivos</th>\n",
       "    </tr>\n",
       "  </thead>\n",
       "  <tbody>\n",
       "    <tr>\n",
       "      <th>69</th>\n",
       "      <td>../Music/Britpop, Indie y rock alt británico/M...</td>\n",
       "      <td>[1992 Your Arsenal, 1994 Vauxhall And I, 2004 ...</td>\n",
       "      <td>[]</td>\n",
       "    </tr>\n",
       "    <tr>\n",
       "      <th>2182</th>\n",
       "      <td>../Music/Pop, Pop Dance, Club/Niall Horan/2020...</td>\n",
       "      <td>[]</td>\n",
       "      <td>[01 Heartbreak Weather.mp3, 02 Black and White...</td>\n",
       "    </tr>\n",
       "    <tr>\n",
       "      <th>1599</th>\n",
       "      <td>../Music/Indie, Rock Alt, Grunge/Joe 90</td>\n",
       "      <td>[1999 Dream this]</td>\n",
       "      <td>[]</td>\n",
       "    </tr>\n",
       "    <tr>\n",
       "      <th>976</th>\n",
       "      <td>../Music/Electronica, House, Chill out &amp; Inndu...</td>\n",
       "      <td>[]</td>\n",
       "      <td>[01 Illness.mp3, 02 For Me Tonight.mp3, 03 Cri...</td>\n",
       "    </tr>\n",
       "    <tr>\n",
       "      <th>2326</th>\n",
       "      <td>../Music/Rock Ibérico, punkarra y rock latino/...</td>\n",
       "      <td>[]</td>\n",
       "      <td>[01 El Sol De Verano.mp3, 02 Joaquín El Necio....</td>\n",
       "    </tr>\n",
       "    <tr>\n",
       "      <th>1099</th>\n",
       "      <td>../Music/Flamenco, Fusión, Música del mundo, r...</td>\n",
       "      <td>[]</td>\n",
       "      <td>[01 Attaccami la spina.mp3, 02 Serenata rap.mp...</td>\n",
       "    </tr>\n",
       "    <tr>\n",
       "      <th>1705</th>\n",
       "      <td>../Music/Indie, Rock Alt, Grunge/Tori Amos/201...</td>\n",
       "      <td>[]</td>\n",
       "      <td>[01 America.mp3, 02 Trouble's Lament.mp3, 03 W...</td>\n",
       "    </tr>\n",
       "    <tr>\n",
       "      <th>1503</th>\n",
       "      <td>../Music/Indie en español/Sr. Chinarro/2006 El...</td>\n",
       "      <td>[]</td>\n",
       "      <td>[01 esplendor en la hierba.mp3, 02 la decoraci...</td>\n",
       "    </tr>\n",
       "  </tbody>\n",
       "</table>\n",
       "</div>"
      ],
      "text/plain": [
       "                                                   path  \\\n",
       "69    ../Music/Britpop, Indie y rock alt británico/M...   \n",
       "2182  ../Music/Pop, Pop Dance, Club/Niall Horan/2020...   \n",
       "1599            ../Music/Indie, Rock Alt, Grunge/Joe 90   \n",
       "976   ../Music/Electronica, House, Chill out & Inndu...   \n",
       "2326  ../Music/Rock Ibérico, punkarra y rock latino/...   \n",
       "1099  ../Music/Flamenco, Fusión, Música del mundo, r...   \n",
       "1705  ../Music/Indie, Rock Alt, Grunge/Tori Amos/201...   \n",
       "1503  ../Music/Indie en español/Sr. Chinarro/2006 El...   \n",
       "\n",
       "                                               ficheros  \\\n",
       "69    [1992 Your Arsenal, 1994 Vauxhall And I, 2004 ...   \n",
       "2182                                                 []   \n",
       "1599                                  [1999 Dream this]   \n",
       "976                                                  []   \n",
       "2326                                                 []   \n",
       "1099                                                 []   \n",
       "1705                                                 []   \n",
       "1503                                                 []   \n",
       "\n",
       "                                               archivos  \n",
       "69                                                   []  \n",
       "2182  [01 Heartbreak Weather.mp3, 02 Black and White...  \n",
       "1599                                                 []  \n",
       "976   [01 Illness.mp3, 02 For Me Tonight.mp3, 03 Cri...  \n",
       "2326  [01 El Sol De Verano.mp3, 02 Joaquín El Necio....  \n",
       "1099  [01 Attaccami la spina.mp3, 02 Serenata rap.mp...  \n",
       "1705  [01 America.mp3, 02 Trouble's Lament.mp3, 03 W...  \n",
       "1503  [01 esplendor en la hierba.mp3, 02 la decoraci...  "
      ]
     },
     "execution_count": 5,
     "metadata": {},
     "output_type": "execute_result"
    }
   ],
   "source": [
    "dataf.sample(8)"
   ]
  },
  {
   "cell_type": "code",
   "execution_count": 6,
   "id": "dbfa39ac",
   "metadata": {},
   "outputs": [],
   "source": [
    "lista = list(dataf.archivos.value_counts().head(8).keys())"
   ]
  },
  {
   "cell_type": "code",
   "execution_count": 7,
   "id": "9d307d23",
   "metadata": {},
   "outputs": [],
   "source": [
    "dropeando = dataf[dataf['archivos'].isin(lista)].index"
   ]
  },
  {
   "cell_type": "code",
   "execution_count": 8,
   "id": "76f3904d",
   "metadata": {},
   "outputs": [
    {
     "data": {
      "text/plain": [
       "[[],\n",
       " ['folder.jpg'],\n",
       " ['desktop.ini'],\n",
       " ['Folder.jpg'],\n",
       " ['Thumbs.db'],\n",
       " ['.BridgeLabelsAndRatings'],\n",
       " ['photothumb.db'],\n",
       " ['.DS_Store']]"
      ]
     },
     "execution_count": 8,
     "metadata": {},
     "output_type": "execute_result"
    }
   ],
   "source": [
    "lista"
   ]
  },
  {
   "cell_type": "code",
   "execution_count": 9,
   "id": "15e93363",
   "metadata": {},
   "outputs": [],
   "source": [
    "dataf.drop(dropeando,inplace = True)"
   ]
  },
  {
   "cell_type": "code",
   "execution_count": 10,
   "id": "6928a820",
   "metadata": {},
   "outputs": [
    {
     "data": {
      "text/html": [
       "<div>\n",
       "<style scoped>\n",
       "    .dataframe tbody tr th:only-of-type {\n",
       "        vertical-align: middle;\n",
       "    }\n",
       "\n",
       "    .dataframe tbody tr th {\n",
       "        vertical-align: top;\n",
       "    }\n",
       "\n",
       "    .dataframe thead th {\n",
       "        text-align: right;\n",
       "    }\n",
       "</style>\n",
       "<table border=\"1\" class=\"dataframe\">\n",
       "  <thead>\n",
       "    <tr style=\"text-align: right;\">\n",
       "      <th></th>\n",
       "      <th>path</th>\n",
       "      <th>ficheros</th>\n",
       "      <th>archivos</th>\n",
       "    </tr>\n",
       "  </thead>\n",
       "  <tbody>\n",
       "    <tr>\n",
       "      <th>639</th>\n",
       "      <td>../Music/Country, Folk, singersongwritters/Bon...</td>\n",
       "      <td>[]</td>\n",
       "      <td>[01 Have You Ever Seen the Rain.mp3, 02 Faster...</td>\n",
       "    </tr>\n",
       "    <tr>\n",
       "      <th>1661</th>\n",
       "      <td>../Music/Indie, Rock Alt, Grunge/Sia/2014 1000...</td>\n",
       "      <td>[]</td>\n",
       "      <td>[01 Chandelier.mp3, 02 Big Girls Cry.mp3, 03 B...</td>\n",
       "    </tr>\n",
       "    <tr>\n",
       "      <th>1816</th>\n",
       "      <td>../Music/Metal, hard rock/Lacuna Coil/2001 Unl...</td>\n",
       "      <td>[]</td>\n",
       "      <td>[01 Heir Of A Dying Day.mp3, 02 To Live Is To ...</td>\n",
       "    </tr>\n",
       "    <tr>\n",
       "      <th>1136</th>\n",
       "      <td>../Music/Flamenco, Fusión, Música del mundo, r...</td>\n",
       "      <td>[]</td>\n",
       "      <td>[01 Son ilusiones.mp3, 02 Hermano.mp3, 03 No m...</td>\n",
       "    </tr>\n",
       "    <tr>\n",
       "      <th>2345</th>\n",
       "      <td>../Music/Rock Ibérico, punkarra y rock latino/...</td>\n",
       "      <td>[]</td>\n",
       "      <td>[01 Peligrosa Katatonia.mp3, 02 El Mecánico De...</td>\n",
       "    </tr>\n",
       "    <tr>\n",
       "      <th>546</th>\n",
       "      <td>../Music/Classic Rock/The Animals/1965 Animal ...</td>\n",
       "      <td>[]</td>\n",
       "      <td>[01 We Gotta Get Out Of This Place.mp3, 02 Tak...</td>\n",
       "    </tr>\n",
       "    <tr>\n",
       "      <th>2229</th>\n",
       "      <td>../Music/Pop, Pop Dance, Club/Sinéad O'Connor/...</td>\n",
       "      <td>[]</td>\n",
       "      <td>[01 Feel So Different.mp3, 02 I Am Stretched O...</td>\n",
       "    </tr>\n",
       "    <tr>\n",
       "      <th>378</th>\n",
       "      <td>../Music/Classic Punk, New Wave, Garage Rock y...</td>\n",
       "      <td>[]</td>\n",
       "      <td>[01 Gloria.mp3, 02 Redondo Beach.mp3, 03 Birdl...</td>\n",
       "    </tr>\n",
       "  </tbody>\n",
       "</table>\n",
       "</div>"
      ],
      "text/plain": [
       "                                                   path ficheros  \\\n",
       "639   ../Music/Country, Folk, singersongwritters/Bon...       []   \n",
       "1661  ../Music/Indie, Rock Alt, Grunge/Sia/2014 1000...       []   \n",
       "1816  ../Music/Metal, hard rock/Lacuna Coil/2001 Unl...       []   \n",
       "1136  ../Music/Flamenco, Fusión, Música del mundo, r...       []   \n",
       "2345  ../Music/Rock Ibérico, punkarra y rock latino/...       []   \n",
       "546   ../Music/Classic Rock/The Animals/1965 Animal ...       []   \n",
       "2229  ../Music/Pop, Pop Dance, Club/Sinéad O'Connor/...       []   \n",
       "378   ../Music/Classic Punk, New Wave, Garage Rock y...       []   \n",
       "\n",
       "                                               archivos  \n",
       "639   [01 Have You Ever Seen the Rain.mp3, 02 Faster...  \n",
       "1661  [01 Chandelier.mp3, 02 Big Girls Cry.mp3, 03 B...  \n",
       "1816  [01 Heir Of A Dying Day.mp3, 02 To Live Is To ...  \n",
       "1136  [01 Son ilusiones.mp3, 02 Hermano.mp3, 03 No m...  \n",
       "2345  [01 Peligrosa Katatonia.mp3, 02 El Mecánico De...  \n",
       "546   [01 We Gotta Get Out Of This Place.mp3, 02 Tak...  \n",
       "2229  [01 Feel So Different.mp3, 02 I Am Stretched O...  \n",
       "378   [01 Gloria.mp3, 02 Redondo Beach.mp3, 03 Birdl...  "
      ]
     },
     "execution_count": 10,
     "metadata": {},
     "output_type": "execute_result"
    }
   ],
   "source": [
    "dataf.sample(8)"
   ]
  },
  {
   "cell_type": "code",
   "execution_count": 11,
   "id": "4cac126f",
   "metadata": {},
   "outputs": [],
   "source": [
    "# listaind = []\n",
    "# for i,r in dataf.iterrows():\n",
    "#     if r.ficheros == []:\n",
    "#         listaind.append(i)"
   ]
  },
  {
   "cell_type": "code",
   "execution_count": 12,
   "id": "54636d42",
   "metadata": {},
   "outputs": [],
   "source": [
    "# dataf.drop(listaind,inplace = True)"
   ]
  },
  {
   "cell_type": "code",
   "execution_count": 13,
   "id": "bbb0b534",
   "metadata": {},
   "outputs": [],
   "source": [
    "prueba = list(dataf.ficheros.value_counts()[1:8].keys())"
   ]
  },
  {
   "cell_type": "code",
   "execution_count": 14,
   "id": "43e3ea64",
   "metadata": {},
   "outputs": [
    {
     "data": {
      "text/plain": [
       "[['CD 1', 'CD 2'],\n",
       " ['CD 1', 'CD2'],\n",
       " ['CD 1', 'CD 2 Dry & Demonstration (Limited Edition)'],\n",
       " ['Disco 1 Maquetas', 'Disco 3 En Directo'],\n",
       " ['1999 Surrender'],\n",
       " ['2000 Tanto Tempo'],\n",
       " ['2004 La maqueta',\n",
       "  '2005 Cachai',\n",
       "  '2007 Camino De La Vida Entera',\n",
       "  '2015 Lugares Comunes']]"
      ]
     },
     "execution_count": 14,
     "metadata": {},
     "output_type": "execute_result"
    }
   ],
   "source": [
    "prueba"
   ]
  },
  {
   "cell_type": "code",
   "execution_count": 15,
   "id": "a0f39949",
   "metadata": {},
   "outputs": [
    {
     "data": {
      "text/plain": [
       "(1715, 3)"
      ]
     },
     "execution_count": 15,
     "metadata": {},
     "output_type": "execute_result"
    }
   ],
   "source": [
    "dataf.shape"
   ]
  },
  {
   "cell_type": "code",
   "execution_count": 16,
   "id": "7bfb5627",
   "metadata": {},
   "outputs": [
    {
     "data": {
      "text/html": [
       "<div>\n",
       "<style scoped>\n",
       "    .dataframe tbody tr th:only-of-type {\n",
       "        vertical-align: middle;\n",
       "    }\n",
       "\n",
       "    .dataframe tbody tr th {\n",
       "        vertical-align: top;\n",
       "    }\n",
       "\n",
       "    .dataframe thead th {\n",
       "        text-align: right;\n",
       "    }\n",
       "</style>\n",
       "<table border=\"1\" class=\"dataframe\">\n",
       "  <thead>\n",
       "    <tr style=\"text-align: right;\">\n",
       "      <th></th>\n",
       "      <th>path</th>\n",
       "      <th>ficheros</th>\n",
       "      <th>archivos</th>\n",
       "    </tr>\n",
       "  </thead>\n",
       "  <tbody>\n",
       "    <tr>\n",
       "      <th>984</th>\n",
       "      <td>../Music/Electronica, House, Chill out &amp; Inndu...</td>\n",
       "      <td>[]</td>\n",
       "      <td>[01 Power User.mp3, 02 Doppio.mp3, 03 Randomne...</td>\n",
       "    </tr>\n",
       "    <tr>\n",
       "      <th>2535</th>\n",
       "      <td>../Music/V.A/Luis Ramiro Inéditas</td>\n",
       "      <td>[]</td>\n",
       "      <td>[Amanda.mp3, Descafeinado.mp3, El mar.mp3, Hab...</td>\n",
       "    </tr>\n",
       "    <tr>\n",
       "      <th>894</th>\n",
       "      <td>../Music/Electronica, House, Chill out &amp; Inndu...</td>\n",
       "      <td>[]</td>\n",
       "      <td>[01 Daftendirekt.mp3, 02 Wdpk 83.7 Fm.mp3, 03 ...</td>\n",
       "    </tr>\n",
       "    <tr>\n",
       "      <th>600</th>\n",
       "      <td>../Music/Classic Rock/The Velvet Underground/1...</td>\n",
       "      <td>[]</td>\n",
       "      <td>[01 Who Loves the Sun.mp3, 02 Sweet Jane.mp3, ...</td>\n",
       "    </tr>\n",
       "    <tr>\n",
       "      <th>390</th>\n",
       "      <td>../Music/Classic Punk, New Wave, Garage Rock y...</td>\n",
       "      <td>[]</td>\n",
       "      <td>[01 Trompe le Monde.mp3, 02 Planet of Sound.mp...</td>\n",
       "    </tr>\n",
       "    <tr>\n",
       "      <th>1192</th>\n",
       "      <td>../Music/Flamenco, Fusión, Música del mundo, r...</td>\n",
       "      <td>[]</td>\n",
       "      <td>[01 Mi tierra.mp3, 02 Vete.mp3, 03 Volver a em...</td>\n",
       "    </tr>\n",
       "    <tr>\n",
       "      <th>1831</th>\n",
       "      <td>../Music/Metal, hard rock/Metallica/1999 S&amp;M/CD 2</td>\n",
       "      <td>[]</td>\n",
       "      <td>[01 Nothing Else Matters (London Symphony Orch...</td>\n",
       "    </tr>\n",
       "    <tr>\n",
       "      <th>1347</th>\n",
       "      <td>../Music/Funk, Jazz, Blues, Swing y Rock and r...</td>\n",
       "      <td>[]</td>\n",
       "      <td>[01 Umbrella.mp3, 02 Love in This Club.mp3, 03...</td>\n",
       "    </tr>\n",
       "  </tbody>\n",
       "</table>\n",
       "</div>"
      ],
      "text/plain": [
       "                                                   path ficheros  \\\n",
       "984   ../Music/Electronica, House, Chill out & Inndu...       []   \n",
       "2535                  ../Music/V.A/Luis Ramiro Inéditas       []   \n",
       "894   ../Music/Electronica, House, Chill out & Inndu...       []   \n",
       "600   ../Music/Classic Rock/The Velvet Underground/1...       []   \n",
       "390   ../Music/Classic Punk, New Wave, Garage Rock y...       []   \n",
       "1192  ../Music/Flamenco, Fusión, Música del mundo, r...       []   \n",
       "1831  ../Music/Metal, hard rock/Metallica/1999 S&M/CD 2       []   \n",
       "1347  ../Music/Funk, Jazz, Blues, Swing y Rock and r...       []   \n",
       "\n",
       "                                               archivos  \n",
       "984   [01 Power User.mp3, 02 Doppio.mp3, 03 Randomne...  \n",
       "2535  [Amanda.mp3, Descafeinado.mp3, El mar.mp3, Hab...  \n",
       "894   [01 Daftendirekt.mp3, 02 Wdpk 83.7 Fm.mp3, 03 ...  \n",
       "600   [01 Who Loves the Sun.mp3, 02 Sweet Jane.mp3, ...  \n",
       "390   [01 Trompe le Monde.mp3, 02 Planet of Sound.mp...  \n",
       "1192  [01 Mi tierra.mp3, 02 Vete.mp3, 03 Volver a em...  \n",
       "1831  [01 Nothing Else Matters (London Symphony Orch...  \n",
       "1347  [01 Umbrella.mp3, 02 Love in This Club.mp3, 03...  "
      ]
     },
     "execution_count": 16,
     "metadata": {},
     "output_type": "execute_result"
    }
   ],
   "source": [
    "dataf.sample(8)"
   ]
  },
  {
   "cell_type": "code",
   "execution_count": 17,
   "id": "7f536b50",
   "metadata": {},
   "outputs": [],
   "source": [
    "dropeando_fich=[] \n",
    "for p in prueba:\n",
    "    for i,r in dataf.iterrows():\n",
    "        if r.ficheros == p:\n",
    "            dropeando_fich.append(i)"
   ]
  },
  {
   "cell_type": "code",
   "execution_count": 18,
   "id": "be845a4c",
   "metadata": {},
   "outputs": [
    {
     "data": {
      "text/plain": [
       "[2132, 2168, 53, 87, 265, 1000, 1021, 1036]"
      ]
     },
     "execution_count": 18,
     "metadata": {},
     "output_type": "execute_result"
    }
   ],
   "source": [
    "dropeando_fich"
   ]
  },
  {
   "cell_type": "code",
   "execution_count": 19,
   "id": "0cf76ad9",
   "metadata": {},
   "outputs": [],
   "source": [
    "dataf.drop(dropeando_fich, inplace = True)"
   ]
  },
  {
   "cell_type": "code",
   "execution_count": 20,
   "id": "01b4abb0",
   "metadata": {},
   "outputs": [
    {
     "data": {
      "text/plain": [
       "(1707, 3)"
      ]
     },
     "execution_count": 20,
     "metadata": {},
     "output_type": "execute_result"
    }
   ],
   "source": [
    "dataf.shape"
   ]
  },
  {
   "cell_type": "code",
   "execution_count": 21,
   "id": "68df947b",
   "metadata": {},
   "outputs": [],
   "source": [
    "dataf.drop('ficheros',axis=1,inplace = True)"
   ]
  },
  {
   "cell_type": "code",
   "execution_count": 22,
   "id": "12e9ca38",
   "metadata": {},
   "outputs": [
    {
     "data": {
      "text/html": [
       "<div>\n",
       "<style scoped>\n",
       "    .dataframe tbody tr th:only-of-type {\n",
       "        vertical-align: middle;\n",
       "    }\n",
       "\n",
       "    .dataframe tbody tr th {\n",
       "        vertical-align: top;\n",
       "    }\n",
       "\n",
       "    .dataframe thead th {\n",
       "        text-align: right;\n",
       "    }\n",
       "</style>\n",
       "<table border=\"1\" class=\"dataframe\">\n",
       "  <thead>\n",
       "    <tr style=\"text-align: right;\">\n",
       "      <th></th>\n",
       "      <th>path</th>\n",
       "      <th>archivos</th>\n",
       "    </tr>\n",
       "  </thead>\n",
       "  <tbody>\n",
       "    <tr>\n",
       "      <th>1614</th>\n",
       "      <td>../Music/Indie, Rock Alt, Grunge/Lorde/2013 Pu...</td>\n",
       "      <td>[01 Tennis Court.mp3, 02 400 Lux.mp3, 03 Royal...</td>\n",
       "    </tr>\n",
       "    <tr>\n",
       "      <th>300</th>\n",
       "      <td>../Music/Cantautores/Sabina/2000 Nos sobran lo...</td>\n",
       "      <td>[01 Yo Me Bajo En Atocha (live).mp3, 02 Prince...</td>\n",
       "    </tr>\n",
       "    <tr>\n",
       "      <th>440</th>\n",
       "      <td>../Music/Classic Punk, New Wave, Garage Rock y...</td>\n",
       "      <td>[01 River of orchids.mp3, 02 I'd like that.mp3...</td>\n",
       "    </tr>\n",
       "    <tr>\n",
       "      <th>1553</th>\n",
       "      <td>../Music/Indie, Rock Alt, Grunge/Björk/2015 Vu...</td>\n",
       "      <td>[01 Stonemilker.mp3, 02 Lionsong.mp3, 03 Histo...</td>\n",
       "    </tr>\n",
       "    <tr>\n",
       "      <th>1230</th>\n",
       "      <td>../Music/Flamenco, Fusión, Música del mundo, r...</td>\n",
       "      <td>[01 An Introduction To Indian Music.mp3, 02 Dá...</td>\n",
       "    </tr>\n",
       "  </tbody>\n",
       "</table>\n",
       "</div>"
      ],
      "text/plain": [
       "                                                   path  \\\n",
       "1614  ../Music/Indie, Rock Alt, Grunge/Lorde/2013 Pu...   \n",
       "300   ../Music/Cantautores/Sabina/2000 Nos sobran lo...   \n",
       "440   ../Music/Classic Punk, New Wave, Garage Rock y...   \n",
       "1553  ../Music/Indie, Rock Alt, Grunge/Björk/2015 Vu...   \n",
       "1230  ../Music/Flamenco, Fusión, Música del mundo, r...   \n",
       "\n",
       "                                               archivos  \n",
       "1614  [01 Tennis Court.mp3, 02 400 Lux.mp3, 03 Royal...  \n",
       "300   [01 Yo Me Bajo En Atocha (live).mp3, 02 Prince...  \n",
       "440   [01 River of orchids.mp3, 02 I'd like that.mp3...  \n",
       "1553  [01 Stonemilker.mp3, 02 Lionsong.mp3, 03 Histo...  \n",
       "1230  [01 An Introduction To Indian Music.mp3, 02 Dá...  "
      ]
     },
     "execution_count": 22,
     "metadata": {},
     "output_type": "execute_result"
    }
   ],
   "source": [
    "dataf.sample(5)"
   ]
  },
  {
   "cell_type": "code",
   "execution_count": 23,
   "id": "5ff973a6",
   "metadata": {},
   "outputs": [],
   "source": [
    "newdata = []\n",
    "for i,r in dataf.iterrows():\n",
    "    for e in r.archivos:\n",
    "\n",
    "        if e[-3:] !='jpg':\n",
    "            \n",
    "            dicc = {}\n",
    "            dicc['song'] = e\n",
    "            dicc['alb'] = r.path\n",
    "            newdata.append(dicc)"
   ]
  },
  {
   "cell_type": "code",
   "execution_count": 24,
   "id": "ca3f8731",
   "metadata": {},
   "outputs": [
    {
     "data": {
      "text/plain": [
       "21392"
      ]
     },
     "execution_count": 24,
     "metadata": {},
     "output_type": "execute_result"
    }
   ],
   "source": [
    "len(newdata)"
   ]
  },
  {
   "cell_type": "code",
   "execution_count": 25,
   "id": "c3b30843",
   "metadata": {},
   "outputs": [],
   "source": [
    "archiveros = pd.DataFrame(newdata)"
   ]
  },
  {
   "cell_type": "code",
   "execution_count": 26,
   "id": "42653047",
   "metadata": {},
   "outputs": [
    {
     "data": {
      "text/html": [
       "<div>\n",
       "<style scoped>\n",
       "    .dataframe tbody tr th:only-of-type {\n",
       "        vertical-align: middle;\n",
       "    }\n",
       "\n",
       "    .dataframe tbody tr th {\n",
       "        vertical-align: top;\n",
       "    }\n",
       "\n",
       "    .dataframe thead th {\n",
       "        text-align: right;\n",
       "    }\n",
       "</style>\n",
       "<table border=\"1\" class=\"dataframe\">\n",
       "  <thead>\n",
       "    <tr style=\"text-align: right;\">\n",
       "      <th></th>\n",
       "      <th>song</th>\n",
       "      <th>alb</th>\n",
       "    </tr>\n",
       "  </thead>\n",
       "  <tbody>\n",
       "    <tr>\n",
       "      <th>10375</th>\n",
       "      <td>04 Long Black Limousine.mp3</td>\n",
       "      <td>../Music/Funk, Jazz, Blues, Swing y Rock and r...</td>\n",
       "    </tr>\n",
       "    <tr>\n",
       "      <th>6184</th>\n",
       "      <td>03 I Feel Your Love.mp3</td>\n",
       "      <td>../Music/Country, Folk, singersongwritters/Lau...</td>\n",
       "    </tr>\n",
       "    <tr>\n",
       "      <th>19211</th>\n",
       "      <td>11 Medalla de Cartón.mp3</td>\n",
       "      <td>../Music/Rock Ibérico, punkarra y rock latino/...</td>\n",
       "    </tr>\n",
       "    <tr>\n",
       "      <th>2340</th>\n",
       "      <td>15 Voypersiguiendoalaluna.mp3</td>\n",
       "      <td>../Music/Cantautores/Rafa Pons/2009 Insisto</td>\n",
       "    </tr>\n",
       "    <tr>\n",
       "      <th>17320</th>\n",
       "      <td>09 Fire Away.mp3</td>\n",
       "      <td>../Music/Pop, Pop Dance, Club/Niall Horan/2017...</td>\n",
       "    </tr>\n",
       "    <tr>\n",
       "      <th>1236</th>\n",
       "      <td>05 The Hand That Rocks The Cradle.mp3</td>\n",
       "      <td>../Music/Britpop, Indie y rock alt británico/T...</td>\n",
       "    </tr>\n",
       "    <tr>\n",
       "      <th>18441</th>\n",
       "      <td>06 Leave It Behind.mp3</td>\n",
       "      <td>../Music/Punky, rap metal, Ska y Reggae/The Of...</td>\n",
       "    </tr>\n",
       "    <tr>\n",
       "      <th>7542</th>\n",
       "      <td>09 Pin.mp3</td>\n",
       "      <td>../Music/Electronica, House, Chill out &amp; Inndu...</td>\n",
       "    </tr>\n",
       "  </tbody>\n",
       "</table>\n",
       "</div>"
      ],
      "text/plain": [
       "                                        song  \\\n",
       "10375            04 Long Black Limousine.mp3   \n",
       "6184                 03 I Feel Your Love.mp3   \n",
       "19211               11 Medalla de Cartón.mp3   \n",
       "2340           15 Voypersiguiendoalaluna.mp3   \n",
       "17320                       09 Fire Away.mp3   \n",
       "1236   05 The Hand That Rocks The Cradle.mp3   \n",
       "18441                 06 Leave It Behind.mp3   \n",
       "7542                              09 Pin.mp3   \n",
       "\n",
       "                                                     alb  \n",
       "10375  ../Music/Funk, Jazz, Blues, Swing y Rock and r...  \n",
       "6184   ../Music/Country, Folk, singersongwritters/Lau...  \n",
       "19211  ../Music/Rock Ibérico, punkarra y rock latino/...  \n",
       "2340         ../Music/Cantautores/Rafa Pons/2009 Insisto  \n",
       "17320  ../Music/Pop, Pop Dance, Club/Niall Horan/2017...  \n",
       "1236   ../Music/Britpop, Indie y rock alt británico/T...  \n",
       "18441  ../Music/Punky, rap metal, Ska y Reggae/The Of...  \n",
       "7542   ../Music/Electronica, House, Chill out & Inndu...  "
      ]
     },
     "execution_count": 26,
     "metadata": {},
     "output_type": "execute_result"
    }
   ],
   "source": [
    "archiveros.sample(8)"
   ]
  },
  {
   "cell_type": "code",
   "execution_count": 27,
   "id": "b979671c",
   "metadata": {},
   "outputs": [
    {
     "data": {
      "text/plain": [
       "(21392, 2)"
      ]
     },
     "execution_count": 27,
     "metadata": {},
     "output_type": "execute_result"
    }
   ],
   "source": [
    "archiveros.shape"
   ]
  },
  {
   "cell_type": "code",
   "execution_count": 28,
   "id": "04155aca",
   "metadata": {},
   "outputs": [],
   "source": [
    "archiveros['ending'] = archiveros.song.str[-3:]"
   ]
  },
  {
   "cell_type": "code",
   "execution_count": 29,
   "id": "8f93ca76",
   "metadata": {},
   "outputs": [
    {
     "data": {
      "text/plain": [
       "array(['mp3', 'ngs', 'm4a', 'MP3', 'JPG', '.db', 'wma', 'peg', 'png',\n",
       "       'ore', 'txt', 'tml', 'ini', 'ico', 'm3u', 'Mp3', 'bmp'],\n",
       "      dtype=object)"
      ]
     },
     "execution_count": 29,
     "metadata": {},
     "output_type": "execute_result"
    }
   ],
   "source": [
    "archiveros.ending.unique()"
   ]
  },
  {
   "cell_type": "code",
   "execution_count": 30,
   "id": "811edfc9",
   "metadata": {},
   "outputs": [],
   "source": [
    "fuera =  ['ngs', 'JPG', '.db','peg','png','ore','txt','tml','ini','ico','bmp','m3u']"
   ]
  },
  {
   "cell_type": "code",
   "execution_count": 31,
   "id": "46206688",
   "metadata": {},
   "outputs": [],
   "source": [
    "fueraar = archiveros[archiveros['ending'].isin(fuera)].index"
   ]
  },
  {
   "cell_type": "code",
   "execution_count": 32,
   "id": "e1405b53",
   "metadata": {},
   "outputs": [],
   "source": [
    "archiveros.drop(fueraar,inplace = True)"
   ]
  },
  {
   "cell_type": "code",
   "execution_count": 33,
   "id": "d918cae1",
   "metadata": {},
   "outputs": [
    {
     "data": {
      "text/html": [
       "<div>\n",
       "<style scoped>\n",
       "    .dataframe tbody tr th:only-of-type {\n",
       "        vertical-align: middle;\n",
       "    }\n",
       "\n",
       "    .dataframe tbody tr th {\n",
       "        vertical-align: top;\n",
       "    }\n",
       "\n",
       "    .dataframe thead th {\n",
       "        text-align: right;\n",
       "    }\n",
       "</style>\n",
       "<table border=\"1\" class=\"dataframe\">\n",
       "  <thead>\n",
       "    <tr style=\"text-align: right;\">\n",
       "      <th></th>\n",
       "      <th>song</th>\n",
       "      <th>alb</th>\n",
       "      <th>ending</th>\n",
       "    </tr>\n",
       "  </thead>\n",
       "  <tbody>\n",
       "    <tr>\n",
       "      <th>5428</th>\n",
       "      <td>09 Holding Out for a Hero.mp3</td>\n",
       "      <td>../Music/Country, Folk, singersongwritters/Bon...</td>\n",
       "      <td>mp3</td>\n",
       "    </tr>\n",
       "    <tr>\n",
       "      <th>7529</th>\n",
       "      <td>09 Colour of Moonlight (Antiochus) (feat. Dold...</td>\n",
       "      <td>../Music/Electronica, House, Chill out &amp; Inndu...</td>\n",
       "      <td>mp3</td>\n",
       "    </tr>\n",
       "    <tr>\n",
       "      <th>7745</th>\n",
       "      <td>04 Jimmy.mp3</td>\n",
       "      <td>../Music/Electronica, House, Chill out &amp; Inndu...</td>\n",
       "      <td>mp3</td>\n",
       "    </tr>\n",
       "  </tbody>\n",
       "</table>\n",
       "</div>"
      ],
      "text/plain": [
       "                                                   song  \\\n",
       "5428                      09 Holding Out for a Hero.mp3   \n",
       "7529  09 Colour of Moonlight (Antiochus) (feat. Dold...   \n",
       "7745                                       04 Jimmy.mp3   \n",
       "\n",
       "                                                    alb ending  \n",
       "5428  ../Music/Country, Folk, singersongwritters/Bon...    mp3  \n",
       "7529  ../Music/Electronica, House, Chill out & Inndu...    mp3  \n",
       "7745  ../Music/Electronica, House, Chill out & Inndu...    mp3  "
      ]
     },
     "execution_count": 33,
     "metadata": {},
     "output_type": "execute_result"
    }
   ],
   "source": [
    "archiveros.sample(3)"
   ]
  },
  {
   "cell_type": "code",
   "execution_count": 34,
   "id": "23c489f3",
   "metadata": {},
   "outputs": [
    {
     "data": {
      "text/plain": [
       "array(['mp3', 'm4a', 'MP3', 'wma', 'Mp3'], dtype=object)"
      ]
     },
     "execution_count": 34,
     "metadata": {},
     "output_type": "execute_result"
    }
   ],
   "source": [
    "archiveros.ending.unique()"
   ]
  },
  {
   "cell_type": "code",
   "execution_count": 35,
   "id": "162bc794",
   "metadata": {},
   "outputs": [],
   "source": [
    "archiveros['total'] = archiveros.alb+'/'+archiveros.song"
   ]
  },
  {
   "cell_type": "code",
   "execution_count": 36,
   "id": "f8632f43",
   "metadata": {},
   "outputs": [
    {
     "data": {
      "text/html": [
       "<div>\n",
       "<style scoped>\n",
       "    .dataframe tbody tr th:only-of-type {\n",
       "        vertical-align: middle;\n",
       "    }\n",
       "\n",
       "    .dataframe tbody tr th {\n",
       "        vertical-align: top;\n",
       "    }\n",
       "\n",
       "    .dataframe thead th {\n",
       "        text-align: right;\n",
       "    }\n",
       "</style>\n",
       "<table border=\"1\" class=\"dataframe\">\n",
       "  <thead>\n",
       "    <tr style=\"text-align: right;\">\n",
       "      <th></th>\n",
       "      <th>song</th>\n",
       "      <th>alb</th>\n",
       "      <th>ending</th>\n",
       "      <th>total</th>\n",
       "    </tr>\n",
       "  </thead>\n",
       "  <tbody>\n",
       "    <tr>\n",
       "      <th>1411</th>\n",
       "      <td>07 Se dejaba llevar por ti.mp3</td>\n",
       "      <td>../Music/Cantautores/Antonio Vega/1991 No me i...</td>\n",
       "      <td>mp3</td>\n",
       "      <td>../Music/Cantautores/Antonio Vega/1991 No me i...</td>\n",
       "    </tr>\n",
       "    <tr>\n",
       "      <th>17234</th>\n",
       "      <td>06 I Will.mp3</td>\n",
       "      <td>../Music/Pop, Pop Dance, Club/Matchbox 20/2012...</td>\n",
       "      <td>mp3</td>\n",
       "      <td>../Music/Pop, Pop Dance, Club/Matchbox 20/2012...</td>\n",
       "    </tr>\n",
       "    <tr>\n",
       "      <th>3030</th>\n",
       "      <td>07 L.A. Blues.mp3</td>\n",
       "      <td>../Music/Classic Punk, New Wave, Garage Rock y...</td>\n",
       "      <td>mp3</td>\n",
       "      <td>../Music/Classic Punk, New Wave, Garage Rock y...</td>\n",
       "    </tr>\n",
       "  </tbody>\n",
       "</table>\n",
       "</div>"
      ],
      "text/plain": [
       "                                 song  \\\n",
       "1411   07 Se dejaba llevar por ti.mp3   \n",
       "17234                   06 I Will.mp3   \n",
       "3030                07 L.A. Blues.mp3   \n",
       "\n",
       "                                                     alb ending  \\\n",
       "1411   ../Music/Cantautores/Antonio Vega/1991 No me i...    mp3   \n",
       "17234  ../Music/Pop, Pop Dance, Club/Matchbox 20/2012...    mp3   \n",
       "3030   ../Music/Classic Punk, New Wave, Garage Rock y...    mp3   \n",
       "\n",
       "                                                   total  \n",
       "1411   ../Music/Cantautores/Antonio Vega/1991 No me i...  \n",
       "17234  ../Music/Pop, Pop Dance, Club/Matchbox 20/2012...  \n",
       "3030   ../Music/Classic Punk, New Wave, Garage Rock y...  "
      ]
     },
     "execution_count": 36,
     "metadata": {},
     "output_type": "execute_result"
    }
   ],
   "source": [
    "archiveros.sample(3)"
   ]
  },
  {
   "cell_type": "code",
   "execution_count": 37,
   "id": "c8efc216",
   "metadata": {},
   "outputs": [
    {
     "name": "stdout",
     "output_type": "stream",
     "text": [
      "Help on class TinyTag in module tinytag.tinytag:\n",
      "\n",
      "class TinyTag(builtins.object)\n",
      " |  TinyTag(filehandler, filesize, ignore_errors=False)\n",
      " |  \n",
      " |  Methods defined here:\n",
      " |  \n",
      " |  __init__(self, filehandler, filesize, ignore_errors=False)\n",
      " |      Initialize self.  See help(type(self)) for accurate signature.\n",
      " |  \n",
      " |  __repr__(self)\n",
      " |      Return repr(self).\n",
      " |  \n",
      " |  __str__(self)\n",
      " |      Return str(self).\n",
      " |  \n",
      " |  as_dict(self)\n",
      " |  \n",
      " |  get_image(self)\n",
      " |  \n",
      " |  load(self, tags, duration, image=False)\n",
      " |  \n",
      " |  update(self, other)\n",
      " |  \n",
      " |  ----------------------------------------------------------------------\n",
      " |  Class methods defined here:\n",
      " |  \n",
      " |  get(filename, tags=True, duration=True, image=False, ignore_errors=False, encoding=None) from builtins.type\n",
      " |  \n",
      " |  get_parser_class(filename, filehandle) from builtins.type\n",
      " |  \n",
      " |  is_supported(filename) from builtins.type\n",
      " |  \n",
      " |  ----------------------------------------------------------------------\n",
      " |  Data descriptors defined here:\n",
      " |  \n",
      " |  __dict__\n",
      " |      dictionary for instance variables (if defined)\n",
      " |  \n",
      " |  __weakref__\n",
      " |      list of weak references to the object (if defined)\n",
      "\n"
     ]
    }
   ],
   "source": [
    "help(TinyTag)"
   ]
  },
  {
   "cell_type": "code",
   "execution_count": 38,
   "id": "18dc426b",
   "metadata": {},
   "outputs": [],
   "source": [
    "# self._filehandler = filehandler\n",
    "# self._filename = None  # for debugging purposes\n",
    "# self._default_encoding = None  # allow override for some file formats\n",
    "# self.filesize = filesize\n",
    "# self.album = None\n",
    "# self.albumartist = None\n",
    "# self.artist = None\n",
    "# self.audio_offset = None\n",
    "# self.bitrate = None\n",
    "# self.channels = None\n",
    "# self.comment = None\n",
    "# self.composer = None\n",
    "# self.disc = None\n",
    "# self.disc_total = None\n",
    "# self.duration = None\n",
    "# self.extra = defaultdict(lambda: None)\n",
    "# self.genre = None\n",
    "# self.samplerate = None\n",
    "# self.title = None\n",
    "# self.track = None\n",
    "# self.track_total = None\n",
    "# self.year = None\n",
    "# self._load_image = False\n",
    "# self._image_data = None\n",
    "# self._ignore_errors = ignore_errors"
   ]
  },
  {
   "cell_type": "code",
   "execution_count": 39,
   "id": "ea8cdbf3",
   "metadata": {},
   "outputs": [
    {
     "name": "stdout",
     "output_type": "stream",
     "text": [
      "../Music/Britpop, Indie y rock alt británico/Alex Turner/2011 Submarine/01 Stuck On The Puzzle (Intro).mp3done\n",
      "../Music/Britpop, Indie y rock alt británico/Royal blood/2017 How Did We Get So Dark/03 I Only Lie When I Love You.mp3done\n",
      "../Music/Cantautores/Marwan/2011 Las cosas que no pude responder/09 París.mp3done\n",
      "../Music/Classic Punk, New Wave, Garage Rock y psicodelia/Happy mondays/1987 Squirrel and G-Man Twenty Four Hour Party People Plastic Face Carnt Smile (White Out)/07 Little Matchstick Owen.mp3done\n",
      "../Music/Classic Rock/Fleetwood Mac/1977 Rumours/04 Don't Stop.mp3done\n",
      "../Music/Classic Rock/The Kinks/1969 Arthur Or the Decline & Fall of the British Empire/03 Some Mother's Son.mp3done\n",
      "../Music/Country, Folk, singersongwritters/Johnny Cash/1964 I Walk The Line/02 Bad News.mp3done\n",
      "../Music/Country, Folk, singersongwritters/The White Stripes/1999 The White Stripes/04 Suzy Lee.mp3done\n",
      "../Music/Electronica, House, Chill out & Inndustrial/Portishead/2008 - Third/09 Small.mp3done\n",
      "../Music/Flamenco, Fusión, Música del mundo, ritmos latinos y Francia/Las Niñas/2003 Ojú/11 Te Queiro (El Cuentecito).mp3done\n",
      "../Music/Flamenco, Fusión, Música del mundo, ritmos latinos y Francia/Rubén Blades/1978 Siembra/02 Buscando Güayaba.mp3done\n",
      "../Music/Hip hop, funky, R&B/Mark Ronson/2015 Uptown Special/05 I Can't Lose (Ft. Keyone Starr) .mp3done\n",
      "../Music/Indie en español/Zahara/2015 Santa/03 El Deshielo.mp3done\n",
      "../Music/Indie, Rock Alt, Grunge/R.E.M/1991 out of time/02 Losing My Religion.mp3done\n",
      "../Music/Metal, hard rock/Bon Jovi/2005 - Have a Nice Day (Special Edition) 2010/11 Novocaine.mp3done\n",
      "../Music/Metal, hard rock/Vixen/1988 Vixen/03 Cryin'.mp3done\n",
      "../Music/Pop Rock en español y movida/Nacha Pop/1980 Nacha Pop/08 Cita con el rock and roll.mp3done\n",
      "../Music/Pop, Pop Dance, Club/Madonna/2005 Confessions On A Dance Floor/12 Like It Or Not.mp3done\n",
      "../Music/Punky, rap metal, Ska y Reggae/Banda Bassotti/1993 - Bella Ciao/02 Bella Ciao.mp3done\n",
      "../Music/Rock Ibérico, punkarra y rock latino/Eskorbuto/1986 Impuesto revolucionario/16 Ha Llegado El Momento.mp3done\n",
      "../Music/Rock Ibérico, punkarra y rock latino/Porretas/1993 Ultima Generación/09 Puertas fuera.mp3done\n",
      "../Music/V.A/Miscelánea/Marisol - Porom Pompero.mp3done\n",
      "done, bitches\n"
     ]
    }
   ],
   "source": [
    "listadef = []\n",
    "\n",
    "for i,r in archiveros.iterrows():\n",
    "    try:\n",
    "              \n",
    "        dicc = {}\n",
    "        tag = TinyTag.get(r.total)\n",
    "       \n",
    "        dicc['albumartist'] = tag.albumartist\n",
    "        dicc['artist'] = tag.artist\n",
    "        dicc['genre'] = tag.genre\n",
    "        dicc['album'] = tag.album\n",
    "        dicc['year'] = tag.year\n",
    "        dicc['track'] = tag.track    \n",
    "        #dicc['track_total'] = tag.track_total\n",
    "        dicc['title'] = tag.title    \n",
    "        dicc['duration'] = tag.duration\n",
    "        dicc['filesize'] = tag.filesize\n",
    "        dicc['audio_offset'] = tag.audio_offset\n",
    "        #dicc['channels'] = l.channels\n",
    "        #dicc['comment'] = l.comment\n",
    "        #dicc['composer'] = l.composer\n",
    "        #dicc['disc_total'] = l.disc_total\n",
    "        #dicc['extra'] = l.extra\n",
    "        dicc['samplerate'] = tag.samplerate        \n",
    "        dicc['archivo'] = r.song\n",
    "        dicc['ruta'] = r.alb        \n",
    "        dicc['ruta_total'] = r.total\n",
    "        #listadef.append(tag)\n",
    "        listadef.append(dicc)\n",
    "\n",
    "        if i%1000 == 0:\n",
    "            print(r.total+ 'done')\n",
    "        elif i == len(archiveros):\n",
    "            print('done, bitches')\n",
    "    except:\n",
    "        print(f'cant be done: {i}, {r.total}')\n"
   ]
  },
  {
   "cell_type": "code",
   "execution_count": 40,
   "id": "9b9a30f3",
   "metadata": {},
   "outputs": [
    {
     "data": {
      "text/plain": [
       "{'albumartist': 'Alt-J',\n",
       " 'artist': 'Alt-J',\n",
       " 'genre': 'Alternative',\n",
       " 'album': 'An Awesome Wave',\n",
       " 'year': '2012',\n",
       " 'track': '10',\n",
       " 'title': 'Fitzpleasure',\n",
       " 'duration': 220.14422550180328,\n",
       " 'filesize': 8830883,\n",
       " 'audio_offset': 27497,\n",
       " 'samplerate': 44100,\n",
       " 'archivo': '10 Fitzpleasure.mp3',\n",
       " 'ruta': '../Music/Britpop, Indie y rock alt británico/Alt J/2012 An awesome wave',\n",
       " 'ruta_total': '../Music/Britpop, Indie y rock alt británico/Alt J/2012 An awesome wave/10 Fitzpleasure.mp3'}"
      ]
     },
     "execution_count": 40,
     "metadata": {},
     "output_type": "execute_result"
    }
   ],
   "source": [
    "listadef[15]"
   ]
  },
  {
   "cell_type": "code",
   "execution_count": 41,
   "id": "24400bae",
   "metadata": {},
   "outputs": [],
   "source": [
    "#tagi = TinyTag.get('../Music/Britpop, Indie y rock alt británico/Alex Turner/2011 Submarine/01 Stuck On The Puzzle (Intro).mp3')"
   ]
  },
  {
   "cell_type": "code",
   "execution_count": 43,
   "id": "ede13fcb",
   "metadata": {},
   "outputs": [],
   "source": [
    "#type(tagi)"
   ]
  },
  {
   "cell_type": "code",
   "execution_count": 42,
   "id": "ee5c20ac",
   "metadata": {},
   "outputs": [],
   "source": [
    "music_df = pd.DataFrame(listadef)"
   ]
  },
  {
   "cell_type": "code",
   "execution_count": 44,
   "id": "c9153006",
   "metadata": {
    "scrolled": true
   },
   "outputs": [
    {
     "data": {
      "text/html": [
       "<div>\n",
       "<style scoped>\n",
       "    .dataframe tbody tr th:only-of-type {\n",
       "        vertical-align: middle;\n",
       "    }\n",
       "\n",
       "    .dataframe tbody tr th {\n",
       "        vertical-align: top;\n",
       "    }\n",
       "\n",
       "    .dataframe thead th {\n",
       "        text-align: right;\n",
       "    }\n",
       "</style>\n",
       "<table border=\"1\" class=\"dataframe\">\n",
       "  <thead>\n",
       "    <tr style=\"text-align: right;\">\n",
       "      <th></th>\n",
       "      <th>albumartist</th>\n",
       "      <th>artist</th>\n",
       "      <th>genre</th>\n",
       "      <th>album</th>\n",
       "      <th>year</th>\n",
       "      <th>track</th>\n",
       "      <th>title</th>\n",
       "      <th>duration</th>\n",
       "      <th>filesize</th>\n",
       "      <th>audio_offset</th>\n",
       "      <th>samplerate</th>\n",
       "      <th>archivo</th>\n",
       "      <th>ruta</th>\n",
       "      <th>ruta_total</th>\n",
       "    </tr>\n",
       "  </thead>\n",
       "  <tbody>\n",
       "    <tr>\n",
       "      <th>16474</th>\n",
       "      <td>Dido</td>\n",
       "      <td>Dido</td>\n",
       "      <td>Pop</td>\n",
       "      <td>No Angel</td>\n",
       "      <td>1999</td>\n",
       "      <td>2</td>\n",
       "      <td>Hunter</td>\n",
       "      <td>237.832269</td>\n",
       "      <td>9530256</td>\n",
       "      <td>19550.0</td>\n",
       "      <td>44100.0</td>\n",
       "      <td>02 Hunter.mp3</td>\n",
       "      <td>../Music/Pop, Pop Dance, Club/Dido/1999 No Angel</td>\n",
       "      <td>../Music/Pop, Pop Dance, Club/Dido/1999 No Ang...</td>\n",
       "    </tr>\n",
       "    <tr>\n",
       "      <th>6340</th>\n",
       "      <td>Marika Hackman</td>\n",
       "      <td>Marika Hackman</td>\n",
       "      <td>Indie</td>\n",
       "      <td>We Slept at Last</td>\n",
       "      <td>2015</td>\n",
       "      <td>12</td>\n",
       "      <td>Let Me In</td>\n",
       "      <td>224.127712</td>\n",
       "      <td>8987198</td>\n",
       "      <td>22802.0</td>\n",
       "      <td>44100.0</td>\n",
       "      <td>12 Let Me In.mp3</td>\n",
       "      <td>../Music/Country, Folk, singersongwritters/Mar...</td>\n",
       "      <td>../Music/Country, Folk, singersongwritters/Mar...</td>\n",
       "    </tr>\n",
       "    <tr>\n",
       "      <th>10744</th>\n",
       "      <td>Christina Aguilera</td>\n",
       "      <td>Christina Aguilera</td>\n",
       "      <td>Pop</td>\n",
       "      <td>Back to Basics</td>\n",
       "      <td>2006</td>\n",
       "      <td>02</td>\n",
       "      <td>Welcome</td>\n",
       "      <td>162.817089</td>\n",
       "      <td>6539576</td>\n",
       "      <td>27375.0</td>\n",
       "      <td>44100.0</td>\n",
       "      <td>02 Welcome.mp3</td>\n",
       "      <td>../Music/Hip hop, funky, R&amp;B/Christina Aguiler...</td>\n",
       "      <td>../Music/Hip hop, funky, R&amp;B/Christina Aguiler...</td>\n",
       "    </tr>\n",
       "  </tbody>\n",
       "</table>\n",
       "</div>"
      ],
      "text/plain": [
       "              albumartist              artist  genre             album  year  \\\n",
       "16474                Dido                Dido    Pop          No Angel  1999   \n",
       "6340       Marika Hackman      Marika Hackman  Indie  We Slept at Last  2015   \n",
       "10744  Christina Aguilera  Christina Aguilera    Pop    Back to Basics  2006   \n",
       "\n",
       "      track      title    duration  filesize  audio_offset  samplerate  \\\n",
       "16474     2     Hunter  237.832269   9530256       19550.0     44100.0   \n",
       "6340     12  Let Me In  224.127712   8987198       22802.0     44100.0   \n",
       "10744    02    Welcome  162.817089   6539576       27375.0     44100.0   \n",
       "\n",
       "                archivo                                               ruta  \\\n",
       "16474     02 Hunter.mp3   ../Music/Pop, Pop Dance, Club/Dido/1999 No Angel   \n",
       "6340   12 Let Me In.mp3  ../Music/Country, Folk, singersongwritters/Mar...   \n",
       "10744    02 Welcome.mp3  ../Music/Hip hop, funky, R&B/Christina Aguiler...   \n",
       "\n",
       "                                              ruta_total  \n",
       "16474  ../Music/Pop, Pop Dance, Club/Dido/1999 No Ang...  \n",
       "6340   ../Music/Country, Folk, singersongwritters/Mar...  \n",
       "10744  ../Music/Hip hop, funky, R&B/Christina Aguiler...  "
      ]
     },
     "execution_count": 44,
     "metadata": {},
     "output_type": "execute_result"
    }
   ],
   "source": [
    "music_df.sample(3)"
   ]
  },
  {
   "cell_type": "code",
   "execution_count": 45,
   "id": "87d64fb9",
   "metadata": {},
   "outputs": [
    {
     "data": {
      "text/plain": [
       "(21189, 14)"
      ]
     },
     "execution_count": 45,
     "metadata": {},
     "output_type": "execute_result"
    }
   ],
   "source": [
    "music_df.shape"
   ]
  },
  {
   "cell_type": "code",
   "execution_count": 46,
   "id": "bc78836a",
   "metadata": {},
   "outputs": [
    {
     "name": "stdout",
     "output_type": "stream",
     "text": [
      "<class 'pandas.core.frame.DataFrame'>\n",
      "RangeIndex: 21189 entries, 0 to 21188\n",
      "Data columns (total 14 columns):\n",
      " #   Column        Non-Null Count  Dtype  \n",
      "---  ------        --------------  -----  \n",
      " 0   albumartist   21187 non-null  object \n",
      " 1   artist        21189 non-null  object \n",
      " 2   genre         14446 non-null  object \n",
      " 3   album         21189 non-null  object \n",
      " 4   year          21189 non-null  object \n",
      " 5   track         20328 non-null  object \n",
      " 6   title         21189 non-null  object \n",
      " 7   duration      21188 non-null  float64\n",
      " 8   filesize      21189 non-null  int64  \n",
      " 9   audio_offset  21089 non-null  float64\n",
      " 10  samplerate    21188 non-null  float64\n",
      " 11  archivo       21189 non-null  object \n",
      " 12  ruta          21189 non-null  object \n",
      " 13  ruta_total    21189 non-null  object \n",
      "dtypes: float64(3), int64(1), object(10)\n",
      "memory usage: 2.3+ MB\n"
     ]
    }
   ],
   "source": [
    "music_df.info()"
   ]
  },
  {
   "cell_type": "code",
   "execution_count": 47,
   "id": "a9483bd9",
   "metadata": {},
   "outputs": [
    {
     "data": {
      "text/plain": [
       "albumartist        2\n",
       "artist             0\n",
       "genre           6743\n",
       "album              0\n",
       "year               0\n",
       "track            861\n",
       "title              0\n",
       "duration           1\n",
       "filesize           0\n",
       "audio_offset     100\n",
       "samplerate         1\n",
       "archivo            0\n",
       "ruta               0\n",
       "ruta_total         0\n",
       "dtype: int64"
      ]
     },
     "execution_count": 47,
     "metadata": {},
     "output_type": "execute_result"
    }
   ],
   "source": [
    "music_df.isna().sum()"
   ]
  },
  {
   "cell_type": "code",
   "execution_count": 48,
   "id": "eaa054c6",
   "metadata": {},
   "outputs": [
    {
     "data": {
      "text/plain": [
       "array(['2011', '2012', '2014', '2006', '2007', '2009', '2013', '2018',\n",
       "       '1996', '2016', '2019', '1993', '1994', '1995', '1997', '1999',\n",
       "       '2015', '2000', '2002', '2005', '2008', '2010', '2004', '1992',\n",
       "       '2001', '1998', '2017', '1991', '1983', '1985', '1990', '1984',\n",
       "       '1986', '1987', '1989', '2003', '2020', '1981', '', '1976', '1978',\n",
       "       '1979', '1980', '1977', '1982', '1988', '1970', '1975', '1972',\n",
       "       '1967', '1963', '1966', '1968', '1969', '1971', '1974', '1973',\n",
       "       '1965', '1964', '1960', '20102010', '1958', '1956', '1955', '1959',\n",
       "       '1962', '1957', '2021', '1942', '1961', '0', '1952', '1938'],\n",
       "      dtype=object)"
      ]
     },
     "execution_count": 48,
     "metadata": {},
     "output_type": "execute_result"
    }
   ],
   "source": [
    "music_df.year.unique()"
   ]
  },
  {
   "cell_type": "code",
   "execution_count": 49,
   "id": "e7b81eef",
   "metadata": {},
   "outputs": [
    {
     "data": {
      "text/plain": [
       "'/mnt/i/musicable'"
      ]
     },
     "execution_count": 49,
     "metadata": {},
     "output_type": "execute_result"
    }
   ],
   "source": [
    "pwd"
   ]
  },
  {
   "cell_type": "code",
   "execution_count": null,
   "id": "3e088444",
   "metadata": {},
   "outputs": [],
   "source": []
  }
 ],
 "metadata": {
  "kernelspec": {
   "display_name": "ironhack",
   "language": "python",
   "name": "ironhack"
  },
  "language_info": {
   "codemirror_mode": {
    "name": "ipython",
    "version": 3
   },
   "file_extension": ".py",
   "mimetype": "text/x-python",
   "name": "python",
   "nbconvert_exporter": "python",
   "pygments_lexer": "ipython3",
   "version": "3.8.5"
  }
 },
 "nbformat": 4,
 "nbformat_minor": 5
}
