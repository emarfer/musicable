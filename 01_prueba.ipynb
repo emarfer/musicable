{
 "cells": [
  {
   "cell_type": "code",
   "execution_count": 1,
   "id": "d4538082",
   "metadata": {},
   "outputs": [],
   "source": [
    "import os\n",
    "from os import walk\n",
    "import pandas as pd\n",
    "import tinytag\n",
    "from tinytag import TinyTag\n"
   ]
  },
  {
   "cell_type": "code",
   "execution_count": 2,
   "id": "3cbae1d0",
   "metadata": {},
   "outputs": [
    {
     "data": {
      "text/plain": [
       "['$RECYCLE.BIN',\n",
       " '.ipynb_checkpoints',\n",
       " '.Trash-1000',\n",
       " 'Cortos',\n",
       " 'Descargas antiguo pc',\n",
       " 'Desorganización',\n",
       " 'Documentales',\n",
       " 'Escritorio',\n",
       " 'Geo Historia',\n",
       " 'Juegos',\n",
       " 'Libros',\n",
       " 'Listado tera externo.txt',\n",
       " 'Luis Ramiro',\n",
       " 'Movil',\n",
       " 'Music',\n",
       " 'Música Miscelánea',\n",
       " 'Música xtra',\n",
       " 'Padre',\n",
       " 'pc antiguo total',\n",
       " 'Pelis Sagas',\n",
       " 'Programas',\n",
       " 'proyecto_music',\n",
       " 'Recovery',\n",
       " 'Series',\n",
       " 'System Volume Information',\n",
       " 'Torrent',\n",
       " 'Videos']"
      ]
     },
     "execution_count": 2,
     "metadata": {},
     "output_type": "execute_result"
    }
   ],
   "source": [
    "os.listdir('../')"
   ]
  },
  {
   "cell_type": "code",
   "execution_count": 3,
   "id": "8ec7f8fb",
   "metadata": {},
   "outputs": [],
   "source": [
    "from os import walk\n",
    "\n",
    "total = []\n",
    "for (path, ficheros, archivos) in walk(\"../Music\"):\n",
    "    dicc = {}\n",
    "    dicc['path'] =  path\n",
    "    dicc['ficheros'] = ficheros\n",
    "    dicc['archivos'] = archivos\n",
    "    total.append(dicc)"
   ]
  },
  {
   "cell_type": "code",
   "execution_count": 4,
   "id": "7685018a",
   "metadata": {},
   "outputs": [],
   "source": [
    "dataf = pd.DataFrame(total)"
   ]
  },
  {
   "cell_type": "code",
   "execution_count": 5,
   "id": "32b1a093",
   "metadata": {},
   "outputs": [
    {
     "data": {
      "text/html": [
       "<div>\n",
       "<style scoped>\n",
       "    .dataframe tbody tr th:only-of-type {\n",
       "        vertical-align: middle;\n",
       "    }\n",
       "\n",
       "    .dataframe tbody tr th {\n",
       "        vertical-align: top;\n",
       "    }\n",
       "\n",
       "    .dataframe thead th {\n",
       "        text-align: right;\n",
       "    }\n",
       "</style>\n",
       "<table border=\"1\" class=\"dataframe\">\n",
       "  <thead>\n",
       "    <tr style=\"text-align: right;\">\n",
       "      <th></th>\n",
       "      <th>path</th>\n",
       "      <th>ficheros</th>\n",
       "      <th>archivos</th>\n",
       "    </tr>\n",
       "  </thead>\n",
       "  <tbody>\n",
       "    <tr>\n",
       "      <th>1601</th>\n",
       "      <td>../Music/Indie, Rock Alt, Grunge/Kaiser Chiefs</td>\n",
       "      <td>[2005 Employment]</td>\n",
       "      <td>[]</td>\n",
       "    </tr>\n",
       "    <tr>\n",
       "      <th>1116</th>\n",
       "      <td>../Music/Flamenco, Fusión, Música del mundo, r...</td>\n",
       "      <td>[]</td>\n",
       "      <td>[01 Intro.mp3, 02 Miranda.mp3, 03 La Toalla.mp...</td>\n",
       "    </tr>\n",
       "    <tr>\n",
       "      <th>315</th>\n",
       "      <td>../Music/Classic Punk, New Wave, Garage Rock y...</td>\n",
       "      <td>[]</td>\n",
       "      <td>[01 De Vida Voz.mp3, 02 Had It All.mp3, 03 Art...</td>\n",
       "    </tr>\n",
       "    <tr>\n",
       "      <th>1276</th>\n",
       "      <td>../Music/Flamenco, Fusión, Música del mundo, r...</td>\n",
       "      <td>[2010 Zaz, 2018 Effet miroir]</td>\n",
       "      <td>[]</td>\n",
       "    </tr>\n",
       "    <tr>\n",
       "      <th>864</th>\n",
       "      <td>../Music/Country, Folk, singersongwritters/Tra...</td>\n",
       "      <td>[]</td>\n",
       "      <td>[01 Bang Bang Bang.mp3, 02 So.mp3, 03 I Used T...</td>\n",
       "    </tr>\n",
       "    <tr>\n",
       "      <th>2160</th>\n",
       "      <td>../Music/Pop, Pop Dance, Club/Matchbox 20/1996...</td>\n",
       "      <td>[]</td>\n",
       "      <td>[01 Real World.mp3, 02 Long Day.mp3, 03 3 A.M....</td>\n",
       "    </tr>\n",
       "    <tr>\n",
       "      <th>313</th>\n",
       "      <td>../Music/Classic Punk, New Wave, Garage Rock y...</td>\n",
       "      <td>[Allah-Las, Bikini Kill, Blondie, Chastity Bel...</td>\n",
       "      <td>[desktop.ini]</td>\n",
       "    </tr>\n",
       "    <tr>\n",
       "      <th>1321</th>\n",
       "      <td>../Music/Funk, Jazz, Blues, Swing y Rock and r...</td>\n",
       "      <td>[1960 Muddy Waters at Newport 1960]</td>\n",
       "      <td>[]</td>\n",
       "    </tr>\n",
       "  </tbody>\n",
       "</table>\n",
       "</div>"
      ],
      "text/plain": [
       "                                                   path  \\\n",
       "1601     ../Music/Indie, Rock Alt, Grunge/Kaiser Chiefs   \n",
       "1116  ../Music/Flamenco, Fusión, Música del mundo, r...   \n",
       "315   ../Music/Classic Punk, New Wave, Garage Rock y...   \n",
       "1276  ../Music/Flamenco, Fusión, Música del mundo, r...   \n",
       "864   ../Music/Country, Folk, singersongwritters/Tra...   \n",
       "2160  ../Music/Pop, Pop Dance, Club/Matchbox 20/1996...   \n",
       "313   ../Music/Classic Punk, New Wave, Garage Rock y...   \n",
       "1321  ../Music/Funk, Jazz, Blues, Swing y Rock and r...   \n",
       "\n",
       "                                               ficheros  \\\n",
       "1601                                  [2005 Employment]   \n",
       "1116                                                 []   \n",
       "315                                                  []   \n",
       "1276                      [2010 Zaz, 2018 Effet miroir]   \n",
       "864                                                  []   \n",
       "2160                                                 []   \n",
       "313   [Allah-Las, Bikini Kill, Blondie, Chastity Bel...   \n",
       "1321                [1960 Muddy Waters at Newport 1960]   \n",
       "\n",
       "                                               archivos  \n",
       "1601                                                 []  \n",
       "1116  [01 Intro.mp3, 02 Miranda.mp3, 03 La Toalla.mp...  \n",
       "315   [01 De Vida Voz.mp3, 02 Had It All.mp3, 03 Art...  \n",
       "1276                                                 []  \n",
       "864   [01 Bang Bang Bang.mp3, 02 So.mp3, 03 I Used T...  \n",
       "2160  [01 Real World.mp3, 02 Long Day.mp3, 03 3 A.M....  \n",
       "313                                       [desktop.ini]  \n",
       "1321                                                 []  "
      ]
     },
     "execution_count": 5,
     "metadata": {},
     "output_type": "execute_result"
    }
   ],
   "source": [
    "dataf.sample(8)"
   ]
  },
  {
   "cell_type": "code",
   "execution_count": 6,
   "id": "dbfa39ac",
   "metadata": {},
   "outputs": [],
   "source": [
    "lista = list(dataf.archivos.value_counts().head(8).keys())"
   ]
  },
  {
   "cell_type": "code",
   "execution_count": 7,
   "id": "9d307d23",
   "metadata": {},
   "outputs": [],
   "source": [
    "dropeando = dataf[dataf['archivos'].isin(lista)].index"
   ]
  },
  {
   "cell_type": "code",
   "execution_count": 8,
   "id": "76f3904d",
   "metadata": {},
   "outputs": [
    {
     "data": {
      "text/plain": [
       "[[],\n",
       " ['folder.jpg'],\n",
       " ['desktop.ini'],\n",
       " ['Folder.jpg'],\n",
       " ['Thumbs.db'],\n",
       " ['.BridgeLabelsAndRatings'],\n",
       " ['photothumb.db'],\n",
       " ['.DS_Store']]"
      ]
     },
     "execution_count": 8,
     "metadata": {},
     "output_type": "execute_result"
    }
   ],
   "source": [
    "lista"
   ]
  },
  {
   "cell_type": "code",
   "execution_count": 9,
   "id": "15e93363",
   "metadata": {},
   "outputs": [],
   "source": [
    "dataf.drop(dropeando,inplace = True)"
   ]
  },
  {
   "cell_type": "code",
   "execution_count": 10,
   "id": "6928a820",
   "metadata": {},
   "outputs": [
    {
     "data": {
      "text/html": [
       "<div>\n",
       "<style scoped>\n",
       "    .dataframe tbody tr th:only-of-type {\n",
       "        vertical-align: middle;\n",
       "    }\n",
       "\n",
       "    .dataframe tbody tr th {\n",
       "        vertical-align: top;\n",
       "    }\n",
       "\n",
       "    .dataframe thead th {\n",
       "        text-align: right;\n",
       "    }\n",
       "</style>\n",
       "<table border=\"1\" class=\"dataframe\">\n",
       "  <thead>\n",
       "    <tr style=\"text-align: right;\">\n",
       "      <th></th>\n",
       "      <th>path</th>\n",
       "      <th>ficheros</th>\n",
       "      <th>archivos</th>\n",
       "    </tr>\n",
       "  </thead>\n",
       "  <tbody>\n",
       "    <tr>\n",
       "      <th>1061</th>\n",
       "      <td>../Music/Flamenco, Fusión, Música del mundo, r...</td>\n",
       "      <td>[]</td>\n",
       "      <td>[01 De Vivir.mp3, 02 De Respirar.mp3, 03 De Es...</td>\n",
       "    </tr>\n",
       "    <tr>\n",
       "      <th>2164</th>\n",
       "      <td>../Music/Pop, Pop Dance, Club/Matchbox 20/2001...</td>\n",
       "      <td>[]</td>\n",
       "      <td>[01 Bent.mp3, 02 Mad Season.mp3, 03 Black &amp; Wh...</td>\n",
       "    </tr>\n",
       "    <tr>\n",
       "      <th>1093</th>\n",
       "      <td>../Music/Flamenco, Fusión, Música del mundo, r...</td>\n",
       "      <td>[]</td>\n",
       "      <td>[01 4 Door Maverick.mp3, 02 Uneven Light of Da...</td>\n",
       "    </tr>\n",
       "    <tr>\n",
       "      <th>1741</th>\n",
       "      <td>../Music/Metal, hard rock/Avalanch/2001 El Áng...</td>\n",
       "      <td>[]</td>\n",
       "      <td>[01 Hacia la luz.mp3, 02 Tierra de nadie.mp3, ...</td>\n",
       "    </tr>\n",
       "    <tr>\n",
       "      <th>372</th>\n",
       "      <td>../Music/Classic Punk, New Wave, Garage Rock y...</td>\n",
       "      <td>[]</td>\n",
       "      <td>[01 Noticeable One.mp3, 02 Windows.mp3, 03 It ...</td>\n",
       "    </tr>\n",
       "    <tr>\n",
       "      <th>392</th>\n",
       "      <td>../Music/Classic Punk, New Wave, Garage Rock y...</td>\n",
       "      <td>[]</td>\n",
       "      <td>[.DS_Store, 01 Blitzkrieg Bop.mp3, 02 Beat On ...</td>\n",
       "    </tr>\n",
       "    <tr>\n",
       "      <th>1764</th>\n",
       "      <td>../Music/Metal, hard rock/Bon Jovi/2005 - Have...</td>\n",
       "      <td>[]</td>\n",
       "      <td>[01 Have a Nice Day.mp3, 02 I Want to be Loved...</td>\n",
       "    </tr>\n",
       "    <tr>\n",
       "      <th>1745</th>\n",
       "      <td>../Music/Metal, hard rock/Barón Rojo/1982 Volu...</td>\n",
       "      <td>[]</td>\n",
       "      <td>[01 Incomunicación.mp3, 02 Los Rockeros Van Al...</td>\n",
       "    </tr>\n",
       "  </tbody>\n",
       "</table>\n",
       "</div>"
      ],
      "text/plain": [
       "                                                   path ficheros  \\\n",
       "1061  ../Music/Flamenco, Fusión, Música del mundo, r...       []   \n",
       "2164  ../Music/Pop, Pop Dance, Club/Matchbox 20/2001...       []   \n",
       "1093  ../Music/Flamenco, Fusión, Música del mundo, r...       []   \n",
       "1741  ../Music/Metal, hard rock/Avalanch/2001 El Áng...       []   \n",
       "372   ../Music/Classic Punk, New Wave, Garage Rock y...       []   \n",
       "392   ../Music/Classic Punk, New Wave, Garage Rock y...       []   \n",
       "1764  ../Music/Metal, hard rock/Bon Jovi/2005 - Have...       []   \n",
       "1745  ../Music/Metal, hard rock/Barón Rojo/1982 Volu...       []   \n",
       "\n",
       "                                               archivos  \n",
       "1061  [01 De Vivir.mp3, 02 De Respirar.mp3, 03 De Es...  \n",
       "2164  [01 Bent.mp3, 02 Mad Season.mp3, 03 Black & Wh...  \n",
       "1093  [01 4 Door Maverick.mp3, 02 Uneven Light of Da...  \n",
       "1741  [01 Hacia la luz.mp3, 02 Tierra de nadie.mp3, ...  \n",
       "372   [01 Noticeable One.mp3, 02 Windows.mp3, 03 It ...  \n",
       "392   [.DS_Store, 01 Blitzkrieg Bop.mp3, 02 Beat On ...  \n",
       "1764  [01 Have a Nice Day.mp3, 02 I Want to be Loved...  \n",
       "1745  [01 Incomunicación.mp3, 02 Los Rockeros Van Al...  "
      ]
     },
     "execution_count": 10,
     "metadata": {},
     "output_type": "execute_result"
    }
   ],
   "source": [
    "dataf.sample(8)"
   ]
  },
  {
   "cell_type": "code",
   "execution_count": 11,
   "id": "4cac126f",
   "metadata": {},
   "outputs": [],
   "source": [
    "# listaind = []\n",
    "# for i,r in dataf.iterrows():\n",
    "#     if r.ficheros == []:\n",
    "#         listaind.append(i)"
   ]
  },
  {
   "cell_type": "code",
   "execution_count": 12,
   "id": "54636d42",
   "metadata": {},
   "outputs": [],
   "source": [
    "# dataf.drop(listaind,inplace = True)"
   ]
  },
  {
   "cell_type": "code",
   "execution_count": 13,
   "id": "bbb0b534",
   "metadata": {},
   "outputs": [],
   "source": [
    "prueba = list(dataf.ficheros.value_counts()[1:8].keys())"
   ]
  },
  {
   "cell_type": "code",
   "execution_count": 14,
   "id": "43e3ea64",
   "metadata": {},
   "outputs": [
    {
     "data": {
      "text/plain": [
       "[['CD 1', 'CD 2'],\n",
       " ['CD 1', 'CD2'],\n",
       " ['CD 1', 'CD 2 Dry & Demonstration (Limited Edition)'],\n",
       " ['Disco 1 Maquetas', 'Disco 3 En Directo'],\n",
       " ['1999 Surrender'],\n",
       " ['2000 Tanto Tempo'],\n",
       " ['2004 La maqueta',\n",
       "  '2005 Cachai',\n",
       "  '2007 Camino De La Vida Entera',\n",
       "  '2015 Lugares Comunes']]"
      ]
     },
     "execution_count": 14,
     "metadata": {},
     "output_type": "execute_result"
    }
   ],
   "source": [
    "prueba"
   ]
  },
  {
   "cell_type": "code",
   "execution_count": 15,
   "id": "a0f39949",
   "metadata": {},
   "outputs": [
    {
     "data": {
      "text/plain": [
       "(1715, 3)"
      ]
     },
     "execution_count": 15,
     "metadata": {},
     "output_type": "execute_result"
    }
   ],
   "source": [
    "dataf.shape"
   ]
  },
  {
   "cell_type": "code",
   "execution_count": 16,
   "id": "7bfb5627",
   "metadata": {},
   "outputs": [
    {
     "data": {
      "text/html": [
       "<div>\n",
       "<style scoped>\n",
       "    .dataframe tbody tr th:only-of-type {\n",
       "        vertical-align: middle;\n",
       "    }\n",
       "\n",
       "    .dataframe tbody tr th {\n",
       "        vertical-align: top;\n",
       "    }\n",
       "\n",
       "    .dataframe thead th {\n",
       "        text-align: right;\n",
       "    }\n",
       "</style>\n",
       "<table border=\"1\" class=\"dataframe\">\n",
       "  <thead>\n",
       "    <tr style=\"text-align: right;\">\n",
       "      <th></th>\n",
       "      <th>path</th>\n",
       "      <th>ficheros</th>\n",
       "      <th>archivos</th>\n",
       "    </tr>\n",
       "  </thead>\n",
       "  <tbody>\n",
       "    <tr>\n",
       "      <th>542</th>\n",
       "      <td>../Music/Classic Rock/Stevie Nicks/1983 The wi...</td>\n",
       "      <td>[]</td>\n",
       "      <td>[01 Wild heart.mp3, 02 If anyone falls.mp3, 03...</td>\n",
       "    </tr>\n",
       "    <tr>\n",
       "      <th>100</th>\n",
       "      <td>../Music/Britpop, Indie y rock alt británico/P...</td>\n",
       "      <td>[]</td>\n",
       "      <td>[01 Meds (feat. Alison Mosshart).mp3, 02 Infra...</td>\n",
       "    </tr>\n",
       "    <tr>\n",
       "      <th>2047</th>\n",
       "      <td>../Music/Pop Rock en español y movida/Tam Tam ...</td>\n",
       "      <td>[]</td>\n",
       "      <td>[01 Jennifer Bones.mp3, 02 Asunción en avión.m...</td>\n",
       "    </tr>\n",
       "    <tr>\n",
       "      <th>2411</th>\n",
       "      <td>../Music/Rock Ibérico, punkarra y rock latino/...</td>\n",
       "      <td>[]</td>\n",
       "      <td>[01 Buscando En La Basura.mp3, 02 El Manual.mp...</td>\n",
       "    </tr>\n",
       "    <tr>\n",
       "      <th>800</th>\n",
       "      <td>../Music/Country, Folk, singersongwritters/Nic...</td>\n",
       "      <td>[]</td>\n",
       "      <td>[01 Time Has Told Me.mp3, 02 River Man.mp3, 03...</td>\n",
       "    </tr>\n",
       "    <tr>\n",
       "      <th>1927</th>\n",
       "      <td>../Music/Pop Rock en español y movida/Alejandr...</td>\n",
       "      <td>[]</td>\n",
       "      <td>[01 Y, ¿Si Fuera Ella .mp3, 02 Ese Último Mome...</td>\n",
       "    </tr>\n",
       "    <tr>\n",
       "      <th>1443</th>\n",
       "      <td>../Music/Indie en español/Hinds/2016 leave me ...</td>\n",
       "      <td>[]</td>\n",
       "      <td>[01 Garden.mp3, 02 Fat Calmed Kiddos.mp3, 03 W...</td>\n",
       "    </tr>\n",
       "    <tr>\n",
       "      <th>2012</th>\n",
       "      <td>../Music/Pop Rock en español y movida/Mecano/1...</td>\n",
       "      <td>[]</td>\n",
       "      <td>[01 Ay, qué pesado.mp3, 02 Ángel.mp3, 03 Hijo ...</td>\n",
       "    </tr>\n",
       "  </tbody>\n",
       "</table>\n",
       "</div>"
      ],
      "text/plain": [
       "                                                   path ficheros  \\\n",
       "542   ../Music/Classic Rock/Stevie Nicks/1983 The wi...       []   \n",
       "100   ../Music/Britpop, Indie y rock alt británico/P...       []   \n",
       "2047  ../Music/Pop Rock en español y movida/Tam Tam ...       []   \n",
       "2411  ../Music/Rock Ibérico, punkarra y rock latino/...       []   \n",
       "800   ../Music/Country, Folk, singersongwritters/Nic...       []   \n",
       "1927  ../Music/Pop Rock en español y movida/Alejandr...       []   \n",
       "1443  ../Music/Indie en español/Hinds/2016 leave me ...       []   \n",
       "2012  ../Music/Pop Rock en español y movida/Mecano/1...       []   \n",
       "\n",
       "                                               archivos  \n",
       "542   [01 Wild heart.mp3, 02 If anyone falls.mp3, 03...  \n",
       "100   [01 Meds (feat. Alison Mosshart).mp3, 02 Infra...  \n",
       "2047  [01 Jennifer Bones.mp3, 02 Asunción en avión.m...  \n",
       "2411  [01 Buscando En La Basura.mp3, 02 El Manual.mp...  \n",
       "800   [01 Time Has Told Me.mp3, 02 River Man.mp3, 03...  \n",
       "1927  [01 Y, ¿Si Fuera Ella .mp3, 02 Ese Último Mome...  \n",
       "1443  [01 Garden.mp3, 02 Fat Calmed Kiddos.mp3, 03 W...  \n",
       "2012  [01 Ay, qué pesado.mp3, 02 Ángel.mp3, 03 Hijo ...  "
      ]
     },
     "execution_count": 16,
     "metadata": {},
     "output_type": "execute_result"
    }
   ],
   "source": [
    "dataf.sample(8)"
   ]
  },
  {
   "cell_type": "code",
   "execution_count": 17,
   "id": "7f536b50",
   "metadata": {},
   "outputs": [],
   "source": [
    "dropeando_fich=[] \n",
    "for p in prueba:\n",
    "    for i,r in dataf.iterrows():\n",
    "        if r.ficheros == p:\n",
    "            dropeando_fich.append(i)"
   ]
  },
  {
   "cell_type": "code",
   "execution_count": 18,
   "id": "be845a4c",
   "metadata": {},
   "outputs": [
    {
     "data": {
      "text/plain": [
       "[2132, 2168, 53, 87, 265, 1000, 1021, 1036]"
      ]
     },
     "execution_count": 18,
     "metadata": {},
     "output_type": "execute_result"
    }
   ],
   "source": [
    "dropeando_fich"
   ]
  },
  {
   "cell_type": "code",
   "execution_count": 19,
   "id": "0cf76ad9",
   "metadata": {},
   "outputs": [],
   "source": [
    "dataf.drop(dropeando_fich, inplace = True)"
   ]
  },
  {
   "cell_type": "code",
   "execution_count": 20,
   "id": "01b4abb0",
   "metadata": {},
   "outputs": [
    {
     "data": {
      "text/plain": [
       "(1707, 3)"
      ]
     },
     "execution_count": 20,
     "metadata": {},
     "output_type": "execute_result"
    }
   ],
   "source": [
    "dataf.shape"
   ]
  },
  {
   "cell_type": "code",
   "execution_count": 21,
   "id": "68df947b",
   "metadata": {},
   "outputs": [],
   "source": [
    "dataf.drop('ficheros',axis=1,inplace = True)"
   ]
  },
  {
   "cell_type": "code",
   "execution_count": 22,
   "id": "12e9ca38",
   "metadata": {},
   "outputs": [
    {
     "data": {
      "text/html": [
       "<div>\n",
       "<style scoped>\n",
       "    .dataframe tbody tr th:only-of-type {\n",
       "        vertical-align: middle;\n",
       "    }\n",
       "\n",
       "    .dataframe tbody tr th {\n",
       "        vertical-align: top;\n",
       "    }\n",
       "\n",
       "    .dataframe thead th {\n",
       "        text-align: right;\n",
       "    }\n",
       "</style>\n",
       "<table border=\"1\" class=\"dataframe\">\n",
       "  <thead>\n",
       "    <tr style=\"text-align: right;\">\n",
       "      <th></th>\n",
       "      <th>path</th>\n",
       "      <th>archivos</th>\n",
       "    </tr>\n",
       "  </thead>\n",
       "  <tbody>\n",
       "    <tr>\n",
       "      <th>1052</th>\n",
       "      <td>../Music/Flamenco, Fusión, Música del mundo, r...</td>\n",
       "      <td>[01 Bird 'N' Roll.mp3, 02 Cloudman.mp3, 03 La ...</td>\n",
       "    </tr>\n",
       "    <tr>\n",
       "      <th>1326</th>\n",
       "      <td>../Music/Funk, Jazz, Blues, Swing y Rock and r...</td>\n",
       "      <td>[01 I Love Your Lovin' Ways.mp3, 02 Four Women...</td>\n",
       "    </tr>\n",
       "    <tr>\n",
       "      <th>2317</th>\n",
       "      <td>../Music/Punky, rap metal, Ska y Reggae/The Sp...</td>\n",
       "      <td>[01 Enjoy Yourself (It's Later Than You Think)...</td>\n",
       "    </tr>\n",
       "    <tr>\n",
       "      <th>1944</th>\n",
       "      <td>../Music/Pop Rock en español y movida/Amistade...</td>\n",
       "      <td>[01 Estoy por ti.mp3, 02 Muy peligroso.mp3, 03...</td>\n",
       "    </tr>\n",
       "    <tr>\n",
       "      <th>1238</th>\n",
       "      <td>../Music/Flamenco, Fusión, Música del mundo, r...</td>\n",
       "      <td>[01 El Primer Rayo De Luz.mp3, 02 Gritos Sordo...</td>\n",
       "    </tr>\n",
       "  </tbody>\n",
       "</table>\n",
       "</div>"
      ],
      "text/plain": [
       "                                                   path  \\\n",
       "1052  ../Music/Flamenco, Fusión, Música del mundo, r...   \n",
       "1326  ../Music/Funk, Jazz, Blues, Swing y Rock and r...   \n",
       "2317  ../Music/Punky, rap metal, Ska y Reggae/The Sp...   \n",
       "1944  ../Music/Pop Rock en español y movida/Amistade...   \n",
       "1238  ../Music/Flamenco, Fusión, Música del mundo, r...   \n",
       "\n",
       "                                               archivos  \n",
       "1052  [01 Bird 'N' Roll.mp3, 02 Cloudman.mp3, 03 La ...  \n",
       "1326  [01 I Love Your Lovin' Ways.mp3, 02 Four Women...  \n",
       "2317  [01 Enjoy Yourself (It's Later Than You Think)...  \n",
       "1944  [01 Estoy por ti.mp3, 02 Muy peligroso.mp3, 03...  \n",
       "1238  [01 El Primer Rayo De Luz.mp3, 02 Gritos Sordo...  "
      ]
     },
     "execution_count": 22,
     "metadata": {},
     "output_type": "execute_result"
    }
   ],
   "source": [
    "dataf.sample(5)"
   ]
  },
  {
   "cell_type": "code",
   "execution_count": 23,
   "id": "5ff973a6",
   "metadata": {},
   "outputs": [],
   "source": [
    "newdata = []\n",
    "for i,r in dataf.iterrows():\n",
    "    for e in r.archivos:\n",
    "\n",
    "        if e[-3:] !='jpg':\n",
    "            \n",
    "            dicc = {}\n",
    "            dicc['song'] = e\n",
    "            dicc['alb'] = r.path\n",
    "            newdata.append(dicc)"
   ]
  },
  {
   "cell_type": "code",
   "execution_count": 24,
   "id": "ca3f8731",
   "metadata": {},
   "outputs": [
    {
     "data": {
      "text/plain": [
       "21392"
      ]
     },
     "execution_count": 24,
     "metadata": {},
     "output_type": "execute_result"
    }
   ],
   "source": [
    "len(newdata)"
   ]
  },
  {
   "cell_type": "code",
   "execution_count": 25,
   "id": "c3b30843",
   "metadata": {},
   "outputs": [],
   "source": [
    "archiveros = pd.DataFrame(newdata)"
   ]
  },
  {
   "cell_type": "code",
   "execution_count": 26,
   "id": "42653047",
   "metadata": {},
   "outputs": [
    {
     "data": {
      "text/html": [
       "<div>\n",
       "<style scoped>\n",
       "    .dataframe tbody tr th:only-of-type {\n",
       "        vertical-align: middle;\n",
       "    }\n",
       "\n",
       "    .dataframe tbody tr th {\n",
       "        vertical-align: top;\n",
       "    }\n",
       "\n",
       "    .dataframe thead th {\n",
       "        text-align: right;\n",
       "    }\n",
       "</style>\n",
       "<table border=\"1\" class=\"dataframe\">\n",
       "  <thead>\n",
       "    <tr style=\"text-align: right;\">\n",
       "      <th></th>\n",
       "      <th>song</th>\n",
       "      <th>alb</th>\n",
       "    </tr>\n",
       "  </thead>\n",
       "  <tbody>\n",
       "    <tr>\n",
       "      <th>15026</th>\n",
       "      <td>08 Látigo negro.mp3</td>\n",
       "      <td>../Music/Pop Rock en español y movida/Aerolíne...</td>\n",
       "    </tr>\n",
       "    <tr>\n",
       "      <th>5044</th>\n",
       "      <td>07 Look Out (Here Comes Tomorrow).mp3</td>\n",
       "      <td>../Music/Classic Rock/The Monkees/1967 More of...</td>\n",
       "    </tr>\n",
       "    <tr>\n",
       "      <th>18684</th>\n",
       "      <td>03 Dos De Corazones.mp3</td>\n",
       "      <td>../Music/Rock Ibérico, punkarra y rock latino/...</td>\n",
       "    </tr>\n",
       "    <tr>\n",
       "      <th>2029</th>\n",
       "      <td>10 Cenizas.mp3</td>\n",
       "      <td>../Music/Cantautores/Pablo Ager/2005 Durmiendo...</td>\n",
       "    </tr>\n",
       "    <tr>\n",
       "      <th>6466</th>\n",
       "      <td>06 Was It A Dream.mp3</td>\n",
       "      <td>../Music/Country, Folk, singersongwritters/Mar...</td>\n",
       "    </tr>\n",
       "    <tr>\n",
       "      <th>9534</th>\n",
       "      <td>Thumbs.db</td>\n",
       "      <td>../Music/Flamenco, Fusión, Música del mundo, r...</td>\n",
       "    </tr>\n",
       "    <tr>\n",
       "      <th>5627</th>\n",
       "      <td>01 I Don't Want to Bother You.mp3</td>\n",
       "      <td>../Music/Country, Folk, singersongwritters/Ele...</td>\n",
       "    </tr>\n",
       "    <tr>\n",
       "      <th>2262</th>\n",
       "      <td>01 Detectives .mp3</td>\n",
       "      <td>../Music/Cantautores/Quique González/2016 Me m...</td>\n",
       "    </tr>\n",
       "  </tbody>\n",
       "</table>\n",
       "</div>"
      ],
      "text/plain": [
       "                                        song  \\\n",
       "15026                    08 Látigo negro.mp3   \n",
       "5044   07 Look Out (Here Comes Tomorrow).mp3   \n",
       "18684                03 Dos De Corazones.mp3   \n",
       "2029                          10 Cenizas.mp3   \n",
       "6466                   06 Was It A Dream.mp3   \n",
       "9534                               Thumbs.db   \n",
       "5627       01 I Don't Want to Bother You.mp3   \n",
       "2262                      01 Detectives .mp3   \n",
       "\n",
       "                                                     alb  \n",
       "15026  ../Music/Pop Rock en español y movida/Aerolíne...  \n",
       "5044   ../Music/Classic Rock/The Monkees/1967 More of...  \n",
       "18684  ../Music/Rock Ibérico, punkarra y rock latino/...  \n",
       "2029   ../Music/Cantautores/Pablo Ager/2005 Durmiendo...  \n",
       "6466   ../Music/Country, Folk, singersongwritters/Mar...  \n",
       "9534   ../Music/Flamenco, Fusión, Música del mundo, r...  \n",
       "5627   ../Music/Country, Folk, singersongwritters/Ele...  \n",
       "2262   ../Music/Cantautores/Quique González/2016 Me m...  "
      ]
     },
     "execution_count": 26,
     "metadata": {},
     "output_type": "execute_result"
    }
   ],
   "source": [
    "archiveros.sample(8)"
   ]
  },
  {
   "cell_type": "code",
   "execution_count": 27,
   "id": "b979671c",
   "metadata": {},
   "outputs": [
    {
     "data": {
      "text/plain": [
       "(21392, 2)"
      ]
     },
     "execution_count": 27,
     "metadata": {},
     "output_type": "execute_result"
    }
   ],
   "source": [
    "archiveros.shape"
   ]
  },
  {
   "cell_type": "code",
   "execution_count": 28,
   "id": "04155aca",
   "metadata": {},
   "outputs": [],
   "source": [
    "archiveros['ending'] = archiveros.song.str[-3:]"
   ]
  },
  {
   "cell_type": "code",
   "execution_count": 29,
   "id": "8f93ca76",
   "metadata": {},
   "outputs": [
    {
     "data": {
      "text/plain": [
       "array(['mp3', 'ngs', 'm4a', 'MP3', 'JPG', '.db', 'wma', 'peg', 'png',\n",
       "       'ore', 'txt', 'tml', 'ini', 'ico', 'm3u', 'Mp3', 'bmp'],\n",
       "      dtype=object)"
      ]
     },
     "execution_count": 29,
     "metadata": {},
     "output_type": "execute_result"
    }
   ],
   "source": [
    "archiveros.ending.unique()"
   ]
  },
  {
   "cell_type": "code",
   "execution_count": 30,
   "id": "811edfc9",
   "metadata": {},
   "outputs": [],
   "source": [
    "fuera =  ['ngs', 'JPG', '.db','peg','png','ore','txt','tml','ini','ico','bmp','m3u']"
   ]
  },
  {
   "cell_type": "code",
   "execution_count": 31,
   "id": "46206688",
   "metadata": {},
   "outputs": [],
   "source": [
    "fueraar = archiveros[archiveros['ending'].isin(fuera)].index"
   ]
  },
  {
   "cell_type": "code",
   "execution_count": 32,
   "id": "e1405b53",
   "metadata": {},
   "outputs": [],
   "source": [
    "archiveros.drop(fueraar,inplace = True)"
   ]
  },
  {
   "cell_type": "code",
   "execution_count": 33,
   "id": "d918cae1",
   "metadata": {},
   "outputs": [
    {
     "data": {
      "text/html": [
       "<div>\n",
       "<style scoped>\n",
       "    .dataframe tbody tr th:only-of-type {\n",
       "        vertical-align: middle;\n",
       "    }\n",
       "\n",
       "    .dataframe tbody tr th {\n",
       "        vertical-align: top;\n",
       "    }\n",
       "\n",
       "    .dataframe thead th {\n",
       "        text-align: right;\n",
       "    }\n",
       "</style>\n",
       "<table border=\"1\" class=\"dataframe\">\n",
       "  <thead>\n",
       "    <tr style=\"text-align: right;\">\n",
       "      <th></th>\n",
       "      <th>song</th>\n",
       "      <th>alb</th>\n",
       "      <th>ending</th>\n",
       "    </tr>\n",
       "  </thead>\n",
       "  <tbody>\n",
       "    <tr>\n",
       "      <th>187</th>\n",
       "      <td>08 Far Out.mp3</td>\n",
       "      <td>../Music/Britpop, Indie y rock alt británico/B...</td>\n",
       "      <td>mp3</td>\n",
       "    </tr>\n",
       "    <tr>\n",
       "      <th>20708</th>\n",
       "      <td>Amy Macdonald - This Is The Life.mp3</td>\n",
       "      <td>../Music/V.A/Miscelánea</td>\n",
       "      <td>mp3</td>\n",
       "    </tr>\n",
       "    <tr>\n",
       "      <th>5635</th>\n",
       "      <td>09 I Am the Past.mp3</td>\n",
       "      <td>../Music/Country, Folk, singersongwritters/Ele...</td>\n",
       "      <td>mp3</td>\n",
       "    </tr>\n",
       "  </tbody>\n",
       "</table>\n",
       "</div>"
      ],
      "text/plain": [
       "                                       song  \\\n",
       "187                          08 Far Out.mp3   \n",
       "20708  Amy Macdonald - This Is The Life.mp3   \n",
       "5635                   09 I Am the Past.mp3   \n",
       "\n",
       "                                                     alb ending  \n",
       "187    ../Music/Britpop, Indie y rock alt británico/B...    mp3  \n",
       "20708                            ../Music/V.A/Miscelánea    mp3  \n",
       "5635   ../Music/Country, Folk, singersongwritters/Ele...    mp3  "
      ]
     },
     "execution_count": 33,
     "metadata": {},
     "output_type": "execute_result"
    }
   ],
   "source": [
    "archiveros.sample(3)"
   ]
  },
  {
   "cell_type": "code",
   "execution_count": 34,
   "id": "23c489f3",
   "metadata": {},
   "outputs": [
    {
     "data": {
      "text/plain": [
       "array(['mp3', 'm4a', 'MP3', 'wma', 'Mp3'], dtype=object)"
      ]
     },
     "execution_count": 34,
     "metadata": {},
     "output_type": "execute_result"
    }
   ],
   "source": [
    "archiveros.ending.unique()"
   ]
  },
  {
   "cell_type": "code",
   "execution_count": 35,
   "id": "162bc794",
   "metadata": {},
   "outputs": [],
   "source": [
    "archiveros['total'] = archiveros.alb+'/'+archiveros.song"
   ]
  },
  {
   "cell_type": "code",
   "execution_count": 36,
   "id": "f8632f43",
   "metadata": {},
   "outputs": [
    {
     "data": {
      "text/html": [
       "<div>\n",
       "<style scoped>\n",
       "    .dataframe tbody tr th:only-of-type {\n",
       "        vertical-align: middle;\n",
       "    }\n",
       "\n",
       "    .dataframe tbody tr th {\n",
       "        vertical-align: top;\n",
       "    }\n",
       "\n",
       "    .dataframe thead th {\n",
       "        text-align: right;\n",
       "    }\n",
       "</style>\n",
       "<table border=\"1\" class=\"dataframe\">\n",
       "  <thead>\n",
       "    <tr style=\"text-align: right;\">\n",
       "      <th></th>\n",
       "      <th>song</th>\n",
       "      <th>alb</th>\n",
       "      <th>ending</th>\n",
       "      <th>total</th>\n",
       "    </tr>\n",
       "  </thead>\n",
       "  <tbody>\n",
       "    <tr>\n",
       "      <th>20597</th>\n",
       "      <td>3T - Casanova.mp3</td>\n",
       "      <td>../Music/V.A/Miscelanea 3a</td>\n",
       "      <td>mp3</td>\n",
       "      <td>../Music/V.A/Miscelanea 3a/3T - Casanova.mp3</td>\n",
       "    </tr>\n",
       "    <tr>\n",
       "      <th>12252</th>\n",
       "      <td>02 Lionsong.mp3</td>\n",
       "      <td>../Music/Indie, Rock Alt, Grunge/Björk/2015 Vu...</td>\n",
       "      <td>mp3</td>\n",
       "      <td>../Music/Indie, Rock Alt, Grunge/Björk/2015 Vu...</td>\n",
       "    </tr>\n",
       "    <tr>\n",
       "      <th>3556</th>\n",
       "      <td>05 Three.mp3</td>\n",
       "      <td>../Music/Classic Punk, New Wave, Garage Rock y...</td>\n",
       "      <td>mp3</td>\n",
       "      <td>../Music/Classic Punk, New Wave, Garage Rock y...</td>\n",
       "    </tr>\n",
       "  </tbody>\n",
       "</table>\n",
       "</div>"
      ],
      "text/plain": [
       "                    song                                                alb  \\\n",
       "20597  3T - Casanova.mp3                         ../Music/V.A/Miscelanea 3a   \n",
       "12252    02 Lionsong.mp3  ../Music/Indie, Rock Alt, Grunge/Björk/2015 Vu...   \n",
       "3556        05 Three.mp3  ../Music/Classic Punk, New Wave, Garage Rock y...   \n",
       "\n",
       "      ending                                              total  \n",
       "20597    mp3       ../Music/V.A/Miscelanea 3a/3T - Casanova.mp3  \n",
       "12252    mp3  ../Music/Indie, Rock Alt, Grunge/Björk/2015 Vu...  \n",
       "3556     mp3  ../Music/Classic Punk, New Wave, Garage Rock y...  "
      ]
     },
     "execution_count": 36,
     "metadata": {},
     "output_type": "execute_result"
    }
   ],
   "source": [
    "archiveros.sample(3)"
   ]
  },
  {
   "cell_type": "code",
   "execution_count": 37,
   "id": "c8efc216",
   "metadata": {},
   "outputs": [
    {
     "name": "stdout",
     "output_type": "stream",
     "text": [
      "Help on class TinyTag in module tinytag.tinytag:\n",
      "\n",
      "class TinyTag(builtins.object)\n",
      " |  TinyTag(filehandler, filesize, ignore_errors=False)\n",
      " |  \n",
      " |  Methods defined here:\n",
      " |  \n",
      " |  __init__(self, filehandler, filesize, ignore_errors=False)\n",
      " |      Initialize self.  See help(type(self)) for accurate signature.\n",
      " |  \n",
      " |  __repr__(self)\n",
      " |      Return repr(self).\n",
      " |  \n",
      " |  __str__(self)\n",
      " |      Return str(self).\n",
      " |  \n",
      " |  as_dict(self)\n",
      " |  \n",
      " |  get_image(self)\n",
      " |  \n",
      " |  load(self, tags, duration, image=False)\n",
      " |  \n",
      " |  update(self, other)\n",
      " |  \n",
      " |  ----------------------------------------------------------------------\n",
      " |  Class methods defined here:\n",
      " |  \n",
      " |  get(filename, tags=True, duration=True, image=False, ignore_errors=False, encoding=None) from builtins.type\n",
      " |  \n",
      " |  get_parser_class(filename, filehandle) from builtins.type\n",
      " |  \n",
      " |  is_supported(filename) from builtins.type\n",
      " |  \n",
      " |  ----------------------------------------------------------------------\n",
      " |  Data descriptors defined here:\n",
      " |  \n",
      " |  __dict__\n",
      " |      dictionary for instance variables (if defined)\n",
      " |  \n",
      " |  __weakref__\n",
      " |      list of weak references to the object (if defined)\n",
      "\n"
     ]
    }
   ],
   "source": [
    "help(TinyTag)"
   ]
  },
  {
   "cell_type": "code",
   "execution_count": 38,
   "id": "18dc426b",
   "metadata": {},
   "outputs": [],
   "source": [
    "# self._filehandler = filehandler\n",
    "# self._filename = None  # for debugging purposes\n",
    "# self._default_encoding = None  # allow override for some file formats\n",
    "# self.filesize = filesize\n",
    "# self.album = None\n",
    "# self.albumartist = None\n",
    "# self.artist = None\n",
    "# self.audio_offset = None\n",
    "# self.bitrate = None\n",
    "# self.channels = None\n",
    "# self.comment = None\n",
    "# self.composer = None\n",
    "# self.disc = None\n",
    "# self.disc_total = None\n",
    "# self.duration = None\n",
    "# self.extra = defaultdict(lambda: None)\n",
    "# self.genre = None\n",
    "# self.samplerate = None\n",
    "# self.title = None\n",
    "# self.track = None\n",
    "# self.track_total = None\n",
    "# self.year = None\n",
    "# self._load_image = False\n",
    "# self._image_data = None\n",
    "# self._ignore_errors = ignore_errors"
   ]
  },
  {
   "cell_type": "code",
   "execution_count": 39,
   "id": "ea8cdbf3",
   "metadata": {},
   "outputs": [
    {
     "name": "stdout",
     "output_type": "stream",
     "text": [
      "../Music/Britpop, Indie y rock alt británico/Alex Turner/2011 Submarine/01 Stuck On The Puzzle (Intro).mp3done\n",
      "../Music/Britpop, Indie y rock alt británico/Royal blood/2017 How Did We Get So Dark/03 I Only Lie When I Love You.mp3done\n",
      "../Music/Cantautores/Marwan/2011 Las cosas que no pude responder/09 París.mp3done\n",
      "../Music/Classic Punk, New Wave, Garage Rock y psicodelia/Happy mondays/1987 Squirrel and G-Man Twenty Four Hour Party People Plastic Face Carnt Smile (White Out)/07 Little Matchstick Owen.mp3done\n",
      "../Music/Classic Rock/Fleetwood Mac/1977 Rumours/04 Don't Stop.mp3done\n",
      "../Music/Classic Rock/The Kinks/1969 Arthur Or the Decline & Fall of the British Empire/03 Some Mother's Son.mp3done\n",
      "../Music/Country, Folk, singersongwritters/Johnny Cash/1964 I Walk The Line/02 Bad News.mp3done\n",
      "../Music/Country, Folk, singersongwritters/The White Stripes/1999 The White Stripes/04 Suzy Lee.mp3done\n",
      "../Music/Electronica, House, Chill out & Inndustrial/Portishead/2008 - Third/09 Small.mp3done\n",
      "../Music/Flamenco, Fusión, Música del mundo, ritmos latinos y Francia/Las Niñas/2003 Ojú/11 Te Queiro (El Cuentecito).mp3done\n",
      "../Music/Flamenco, Fusión, Música del mundo, ritmos latinos y Francia/Rubén Blades/1978 Siembra/02 Buscando Güayaba.mp3done\n",
      "../Music/Hip hop, funky, R&B/Mark Ronson/2015 Uptown Special/05 I Can't Lose (Ft. Keyone Starr) .mp3done\n",
      "../Music/Indie en español/Zahara/2015 Santa/03 El Deshielo.mp3done\n",
      "../Music/Indie, Rock Alt, Grunge/R.E.M/1991 out of time/02 Losing My Religion.mp3done\n",
      "../Music/Metal, hard rock/Bon Jovi/2005 - Have a Nice Day (Special Edition) 2010/11 Novocaine.mp3done\n",
      "../Music/Metal, hard rock/Vixen/1988 Vixen/03 Cryin'.mp3done\n",
      "../Music/Pop Rock en español y movida/Nacha Pop/1980 Nacha Pop/08 Cita con el rock and roll.mp3done\n",
      "../Music/Pop, Pop Dance, Club/Madonna/2005 Confessions On A Dance Floor/12 Like It Or Not.mp3done\n",
      "../Music/Punky, rap metal, Ska y Reggae/Banda Bassotti/1993 - Bella Ciao/02 Bella Ciao.mp3done\n",
      "../Music/Rock Ibérico, punkarra y rock latino/Eskorbuto/1986 Impuesto revolucionario/16 Ha Llegado El Momento.mp3done\n",
      "../Music/Rock Ibérico, punkarra y rock latino/Porretas/1993 Ultima Generación/09 Puertas fuera.mp3done\n",
      "../Music/V.A/Miscelánea/Marisol - Porom Pompero.mp3done\n",
      "done, bitches\n"
     ]
    }
   ],
   "source": [
    "listadef = []\n",
    "\n",
    "for i,r in archiveros.iterrows():\n",
    "    try:\n",
    "              \n",
    "        dicc = {}\n",
    "        tag = TinyTag.get(r.total)\n",
    "       \n",
    "        dicc['albumartist'] = tag.albumartist\n",
    "        dicc['artist'] = tag.artist\n",
    "        dicc['genre'] = tag.genre\n",
    "        dicc['album'] = tag.album\n",
    "        dicc['year'] = tag.year\n",
    "        dicc['track'] = tag.track    \n",
    "        #dicc['track_total'] = tag.track_total\n",
    "        dicc['title'] = tag.title    \n",
    "        dicc['duration'] = tag.duration\n",
    "        dicc['filesize'] = tag.filesize\n",
    "        dicc['audio_offset'] = tag.audio_offset\n",
    "        #dicc['channels'] = l.channels\n",
    "        #dicc['comment'] = l.comment\n",
    "        #dicc['composer'] = l.composer\n",
    "        #dicc['disc_total'] = l.disc_total\n",
    "        #dicc['extra'] = l.extra\n",
    "        dicc['samplerate'] = tag.samplerate        \n",
    "        dicc['archivo'] = r.song\n",
    "        dicc['ruta'] = r.alb        \n",
    "        dicc['ruta_total'] = r.total\n",
    "        #listadef.append(tag)\n",
    "        listadef.append(dicc)\n",
    "\n",
    "        if i%1000 == 0:\n",
    "            print(r.total+'done')\n",
    "        elif i == len(archiveros):\n",
    "            print('done, bitches')\n",
    "    except:\n",
    "        print(f'cant be done: {i}, {r.total}')\n"
   ]
  },
  {
   "cell_type": "code",
   "execution_count": 40,
   "id": "9b9a30f3",
   "metadata": {},
   "outputs": [
    {
     "data": {
      "text/plain": [
       "{'albumartist': 'Alt-J',\n",
       " 'artist': 'Alt-J',\n",
       " 'genre': 'Alternative',\n",
       " 'album': 'An Awesome Wave',\n",
       " 'year': '2012',\n",
       " 'track': '10',\n",
       " 'title': 'Fitzpleasure',\n",
       " 'duration': 220.14422550180328,\n",
       " 'filesize': 8830883,\n",
       " 'audio_offset': 27497,\n",
       " 'samplerate': 44100,\n",
       " 'archivo': '10 Fitzpleasure.mp3',\n",
       " 'ruta': '../Music/Britpop, Indie y rock alt británico/Alt J/2012 An awesome wave',\n",
       " 'ruta_total': '../Music/Britpop, Indie y rock alt británico/Alt J/2012 An awesome wave/10 Fitzpleasure.mp3'}"
      ]
     },
     "execution_count": 40,
     "metadata": {},
     "output_type": "execute_result"
    }
   ],
   "source": [
    "listadef[15]"
   ]
  },
  {
   "cell_type": "code",
   "execution_count": 41,
   "id": "24400bae",
   "metadata": {},
   "outputs": [],
   "source": [
    "#tagi = TinyTag.get('../Music/Britpop, Indie y rock alt británico/Alex Turner/2011 Submarine/01 Stuck On The Puzzle (Intro).mp3')"
   ]
  },
  {
   "cell_type": "code",
   "execution_count": 42,
   "id": "ee5c20ac",
   "metadata": {},
   "outputs": [],
   "source": [
    "music_df = pd.DataFrame(listadef)"
   ]
  },
  {
   "cell_type": "code",
   "execution_count": 43,
   "id": "ede13fcb",
   "metadata": {},
   "outputs": [],
   "source": [
    "#type(tagi)"
   ]
  },
  {
   "cell_type": "code",
   "execution_count": 44,
   "id": "c9153006",
   "metadata": {
    "scrolled": true
   },
   "outputs": [
    {
     "data": {
      "text/html": [
       "<div>\n",
       "<style scoped>\n",
       "    .dataframe tbody tr th:only-of-type {\n",
       "        vertical-align: middle;\n",
       "    }\n",
       "\n",
       "    .dataframe tbody tr th {\n",
       "        vertical-align: top;\n",
       "    }\n",
       "\n",
       "    .dataframe thead th {\n",
       "        text-align: right;\n",
       "    }\n",
       "</style>\n",
       "<table border=\"1\" class=\"dataframe\">\n",
       "  <thead>\n",
       "    <tr style=\"text-align: right;\">\n",
       "      <th></th>\n",
       "      <th>albumartist</th>\n",
       "      <th>artist</th>\n",
       "      <th>genre</th>\n",
       "      <th>album</th>\n",
       "      <th>year</th>\n",
       "      <th>track</th>\n",
       "      <th>title</th>\n",
       "      <th>duration</th>\n",
       "      <th>filesize</th>\n",
       "      <th>audio_offset</th>\n",
       "      <th>samplerate</th>\n",
       "      <th>archivo</th>\n",
       "      <th>ruta</th>\n",
       "      <th>ruta_total</th>\n",
       "    </tr>\n",
       "  </thead>\n",
       "  <tbody>\n",
       "    <tr>\n",
       "      <th>8997</th>\n",
       "      <td>Los delinqüentes</td>\n",
       "      <td>Los delinqüentes</td>\n",
       "      <td>None</td>\n",
       "      <td>El Verde Rebelde Vuelve</td>\n",
       "      <td>2005</td>\n",
       "      <td>7</td>\n",
       "      <td>Johnny Chaparrón (El hombre lluvia)</td>\n",
       "      <td>300.756438</td>\n",
       "      <td>12060283</td>\n",
       "      <td>33328.0</td>\n",
       "      <td>44100.0</td>\n",
       "      <td>07 Johnny Chaparrón (El hombre lluvia).mp3</td>\n",
       "      <td>../Music/Flamenco, Fusión, Música del mundo, r...</td>\n",
       "      <td>../Music/Flamenco, Fusión, Música del mundo, r...</td>\n",
       "    </tr>\n",
       "    <tr>\n",
       "      <th>12197</th>\n",
       "      <td>Destroyer</td>\n",
       "      <td>Destroyer</td>\n",
       "      <td>Indie Rock</td>\n",
       "      <td>City Of Daughters</td>\n",
       "      <td>1998</td>\n",
       "      <td>2</td>\n",
       "      <td>No Cease Fires</td>\n",
       "      <td>211.227108</td>\n",
       "      <td>8466328</td>\n",
       "      <td>19525.0</td>\n",
       "      <td>44100.0</td>\n",
       "      <td>02 No Cease Fires.mp3</td>\n",
       "      <td>../Music/Indie, Rock Alt, Grunge/Destroyer/199...</td>\n",
       "      <td>../Music/Indie, Rock Alt, Grunge/Destroyer/199...</td>\n",
       "    </tr>\n",
       "    <tr>\n",
       "      <th>11743</th>\n",
       "      <td>Sr. Chinarro</td>\n",
       "      <td>Sr. Chinarro</td>\n",
       "      <td>Indie</td>\n",
       "      <td>El Mundo Según</td>\n",
       "      <td>2006</td>\n",
       "      <td>6</td>\n",
       "      <td>G.G. Penningstone</td>\n",
       "      <td>168.397012</td>\n",
       "      <td>6753961</td>\n",
       "      <td>18584.0</td>\n",
       "      <td>44100.0</td>\n",
       "      <td>06 g.g. penningstone.mp3</td>\n",
       "      <td>../Music/Indie en español/Sr. Chinarro/2006 El...</td>\n",
       "      <td>../Music/Indie en español/Sr. Chinarro/2006 El...</td>\n",
       "    </tr>\n",
       "  </tbody>\n",
       "</table>\n",
       "</div>"
      ],
      "text/plain": [
       "            albumartist            artist       genre  \\\n",
       "8997   Los delinqüentes  Los delinqüentes        None   \n",
       "12197         Destroyer         Destroyer  Indie Rock   \n",
       "11743      Sr. Chinarro      Sr. Chinarro       Indie   \n",
       "\n",
       "                         album  year track  \\\n",
       "8997   El Verde Rebelde Vuelve  2005     7   \n",
       "12197        City Of Daughters  1998     2   \n",
       "11743           El Mundo Según  2006     6   \n",
       "\n",
       "                                     title    duration  filesize  \\\n",
       "8997   Johnny Chaparrón (El hombre lluvia)  300.756438  12060283   \n",
       "12197                       No Cease Fires  211.227108   8466328   \n",
       "11743                    G.G. Penningstone  168.397012   6753961   \n",
       "\n",
       "       audio_offset  samplerate                                     archivo  \\\n",
       "8997        33328.0     44100.0  07 Johnny Chaparrón (El hombre lluvia).mp3   \n",
       "12197       19525.0     44100.0                       02 No Cease Fires.mp3   \n",
       "11743       18584.0     44100.0                    06 g.g. penningstone.mp3   \n",
       "\n",
       "                                                    ruta  \\\n",
       "8997   ../Music/Flamenco, Fusión, Música del mundo, r...   \n",
       "12197  ../Music/Indie, Rock Alt, Grunge/Destroyer/199...   \n",
       "11743  ../Music/Indie en español/Sr. Chinarro/2006 El...   \n",
       "\n",
       "                                              ruta_total  \n",
       "8997   ../Music/Flamenco, Fusión, Música del mundo, r...  \n",
       "12197  ../Music/Indie, Rock Alt, Grunge/Destroyer/199...  \n",
       "11743  ../Music/Indie en español/Sr. Chinarro/2006 El...  "
      ]
     },
     "execution_count": 44,
     "metadata": {},
     "output_type": "execute_result"
    }
   ],
   "source": [
    "music_df.sample(3)"
   ]
  },
  {
   "cell_type": "code",
   "execution_count": 45,
   "id": "87d64fb9",
   "metadata": {},
   "outputs": [
    {
     "data": {
      "text/plain": [
       "(21189, 14)"
      ]
     },
     "execution_count": 45,
     "metadata": {},
     "output_type": "execute_result"
    }
   ],
   "source": [
    "music_df.shape"
   ]
  },
  {
   "cell_type": "code",
   "execution_count": 46,
   "id": "bc78836a",
   "metadata": {},
   "outputs": [
    {
     "name": "stdout",
     "output_type": "stream",
     "text": [
      "<class 'pandas.core.frame.DataFrame'>\n",
      "RangeIndex: 21189 entries, 0 to 21188\n",
      "Data columns (total 14 columns):\n",
      " #   Column        Non-Null Count  Dtype  \n",
      "---  ------        --------------  -----  \n",
      " 0   albumartist   21187 non-null  object \n",
      " 1   artist        21189 non-null  object \n",
      " 2   genre         14446 non-null  object \n",
      " 3   album         21189 non-null  object \n",
      " 4   year          21189 non-null  object \n",
      " 5   track         20328 non-null  object \n",
      " 6   title         21189 non-null  object \n",
      " 7   duration      21188 non-null  float64\n",
      " 8   filesize      21189 non-null  int64  \n",
      " 9   audio_offset  21089 non-null  float64\n",
      " 10  samplerate    21188 non-null  float64\n",
      " 11  archivo       21189 non-null  object \n",
      " 12  ruta          21189 non-null  object \n",
      " 13  ruta_total    21189 non-null  object \n",
      "dtypes: float64(3), int64(1), object(10)\n",
      "memory usage: 2.3+ MB\n"
     ]
    }
   ],
   "source": [
    "music_df.info()"
   ]
  },
  {
   "cell_type": "code",
   "execution_count": 47,
   "id": "a9483bd9",
   "metadata": {},
   "outputs": [
    {
     "data": {
      "text/plain": [
       "albumartist        2\n",
       "artist             0\n",
       "genre           6743\n",
       "album              0\n",
       "year               0\n",
       "track            861\n",
       "title              0\n",
       "duration           1\n",
       "filesize           0\n",
       "audio_offset     100\n",
       "samplerate         1\n",
       "archivo            0\n",
       "ruta               0\n",
       "ruta_total         0\n",
       "dtype: int64"
      ]
     },
     "execution_count": 47,
     "metadata": {},
     "output_type": "execute_result"
    }
   ],
   "source": [
    "music_df.isna().sum()"
   ]
  },
  {
   "cell_type": "code",
   "execution_count": 48,
   "id": "eaa054c6",
   "metadata": {},
   "outputs": [
    {
     "data": {
      "text/plain": [
       "array(['2011', '2012', '2014', '2006', '2007', '2009', '2013', '2018',\n",
       "       '1996', '2016', '2019', '1993', '1994', '1995', '1997', '1999',\n",
       "       '2015', '2000', '2002', '2005', '2008', '2010', '2004', '1992',\n",
       "       '2001', '1998', '2017', '1991', '1983', '1985', '1990', '1984',\n",
       "       '1986', '1987', '1989', '2003', '2020', '1981', '', '1976', '1978',\n",
       "       '1979', '1980', '1977', '1982', '1988', '1970', '1975', '1972',\n",
       "       '1967', '1963', '1966', '1968', '1969', '1971', '1974', '1973',\n",
       "       '1965', '1964', '1960', '20102010', '1958', '1956', '1955', '1959',\n",
       "       '1962', '1957', '2021', '1942', '1961', '0', '1952', '1938'],\n",
       "      dtype=object)"
      ]
     },
     "execution_count": 48,
     "metadata": {},
     "output_type": "execute_result"
    }
   ],
   "source": [
    "music_df.year.unique()"
   ]
  },
  {
   "cell_type": "code",
   "execution_count": null,
   "id": "e7b81eef",
   "metadata": {},
   "outputs": [],
   "source": []
  },
  {
   "cell_type": "code",
   "execution_count": null,
   "id": "3e088444",
   "metadata": {},
   "outputs": [],
   "source": []
  }
 ],
 "metadata": {
  "kernelspec": {
   "display_name": "musicali",
   "language": "python",
   "name": "musicali"
  },
  "language_info": {
   "codemirror_mode": {
    "name": "ipython",
    "version": 3
   },
   "file_extension": ".py",
   "mimetype": "text/x-python",
   "name": "python",
   "nbconvert_exporter": "python",
   "pygments_lexer": "ipython3",
   "version": "3.8.10"
  }
 },
 "nbformat": 4,
 "nbformat_minor": 5
}
