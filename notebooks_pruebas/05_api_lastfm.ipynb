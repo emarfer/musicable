{
 "cells": [
  {
   "cell_type": "code",
   "execution_count": 24,
   "id": "1612150a",
   "metadata": {},
   "outputs": [],
   "source": [
    "import requests \n",
    "import json\n",
    "import os\n",
    "from dotenv import load_dotenv\n",
    "import pandas as pd\n",
    "from pandas import json_normalize\n",
    "import numpy as np\n",
    "import sys\n",
    "sys.path.append('../src')\n",
    "import apilast as als\n",
    "import sqltools as sqt\n",
    "import sqlalchemy as alch\n",
    "import cleansing as cls\n"
   ]
  },
  {
   "cell_type": "code",
   "execution_count": 25,
   "id": "909f9109",
   "metadata": {},
   "outputs": [
    {
     "data": {
      "text/plain": [
       "True"
      ]
     },
     "execution_count": 25,
     "metadata": {},
     "output_type": "execute_result"
    }
   ],
   "source": [
    "load_dotenv()"
   ]
  },
  {
   "cell_type": "code",
   "execution_count": 26,
   "id": "12788615",
   "metadata": {},
   "outputs": [],
   "source": [
    "keylast = os.getenv(\"keylast\") #apikey de lastfm"
   ]
  },
  {
   "cell_type": "code",
   "execution_count": 27,
   "id": "db08e03a",
   "metadata": {},
   "outputs": [],
   "source": [
    "l_user = 'sinatxester'"
   ]
  },
  {
   "cell_type": "code",
   "execution_count": 28,
   "id": "ec1f58e2",
   "metadata": {},
   "outputs": [],
   "source": [
    "limit = 1000\n",
    "lastuts = sqt.maxuts()\n",
    "# lastuts = 1640351615 +1 \n",
    "# lastuts = 1628946354"
   ]
  },
  {
   "cell_type": "code",
   "execution_count": 29,
   "id": "e1f88219",
   "metadata": {},
   "outputs": [
    {
     "data": {
      "text/plain": [
       "1644419747"
      ]
     },
     "execution_count": 29,
     "metadata": {},
     "output_type": "execute_result"
    }
   ],
   "source": [
    "lastuts"
   ]
  },
  {
   "cell_type": "code",
   "execution_count": 30,
   "id": "5fd4d2ae",
   "metadata": {},
   "outputs": [
    {
     "name": "stdout",
     "output_type": "stream",
     "text": [
      "Now playing: Robe - Destrozares\n"
     ]
    }
   ],
   "source": [
    "recenttracks = als.req_lastfm (l_user,limit,lastuts)"
   ]
  },
  {
   "cell_type": "code",
   "execution_count": 31,
   "id": "84df3f27",
   "metadata": {},
   "outputs": [],
   "source": [
    "# if recenttracks.shape[0] <= 10:\n",
    "#     display(recenttracks)\n",
    "# else:\n",
    "#     display(recenttracks.head(10))"
   ]
  },
  {
   "cell_type": "code",
   "execution_count": 32,
   "id": "b8189afd",
   "metadata": {},
   "outputs": [
    {
     "data": {
      "text/plain": [
       "str"
      ]
     },
     "execution_count": 32,
     "metadata": {},
     "output_type": "execute_result"
    }
   ],
   "source": [
    "type(recenttracks)"
   ]
  },
  {
   "cell_type": "code",
   "execution_count": 36,
   "id": "d5964ec9",
   "metadata": {},
   "outputs": [
    {
     "name": "stdout",
     "output_type": "stream",
     "text": [
      "No hay nuevos scrobbles\n"
     ]
    }
   ],
   "source": [
    "if type(recenttracks) == str:\n",
    "    print(recenttracks)"
   ]
  },
  {
   "cell_type": "code",
   "execution_count": 37,
   "id": "ec72432f",
   "metadata": {},
   "outputs": [
    {
     "name": "stdout",
     "output_type": "stream",
     "text": [
      "No hay nuevos scrobbles\n"
     ]
    }
   ],
   "source": [
    "if type(recenttracks) == str:\n",
    "    print('No hay nuevos scrobbles')\n",
    "    \n",
    "elif type(recenttracks) == pd.DataFrame:\n",
    "    for i,r in recenttracks.iterrows():\n",
    "        sqt.insert_data(r.uts, r.artist, r.artist_mbid, r.album, r.album_mbid, r.title, r.track_mbid)"
   ]
  },
  {
   "cell_type": "code",
   "execution_count": 34,
   "id": "3a47f5ec",
   "metadata": {
    "scrolled": false
   },
   "outputs": [],
   "source": [
    "# insertadas = sqt.insert_scro()\n",
    "# insertadas"
   ]
  },
  {
   "cell_type": "code",
   "execution_count": 35,
   "id": "34dde434",
   "metadata": {
    "scrolled": false
   },
   "outputs": [
    {
     "name": "stdout",
     "output_type": "stream",
     "text": [
      "Filas actualizadas: 0\n"
     ]
    },
    {
     "data": {
      "text/html": [
       "<div>\n",
       "<style scoped>\n",
       "    .dataframe tbody tr th:only-of-type {\n",
       "        vertical-align: middle;\n",
       "    }\n",
       "\n",
       "    .dataframe tbody tr th {\n",
       "        vertical-align: top;\n",
       "    }\n",
       "\n",
       "    .dataframe thead th {\n",
       "        text-align: right;\n",
       "    }\n",
       "</style>\n",
       "<table border=\"1\" class=\"dataframe\">\n",
       "  <thead>\n",
       "    <tr style=\"text-align: right;\">\n",
       "      <th></th>\n",
       "      <th>uts</th>\n",
       "      <th>artist</th>\n",
       "      <th>artist_mbid</th>\n",
       "      <th>album</th>\n",
       "      <th>album_mbid</th>\n",
       "      <th>title</th>\n",
       "      <th>track_mbid</th>\n",
       "      <th>id_can</th>\n",
       "      <th>fechahora</th>\n",
       "    </tr>\n",
       "  </thead>\n",
       "  <tbody>\n",
       "  </tbody>\n",
       "</table>\n",
       "</div>"
      ],
      "text/plain": [
       "Empty DataFrame\n",
       "Columns: [uts, artist, artist_mbid, album, album_mbid, title, track_mbid, id_can, fechahora]\n",
       "Index: []"
      ]
     },
     "execution_count": 35,
     "metadata": {},
     "output_type": "execute_result"
    }
   ],
   "source": [
    "insertadas = sqt.act_scro()\n",
    "insertadas"
   ]
  },
  {
   "cell_type": "code",
   "execution_count": null,
   "id": "8bd8a040",
   "metadata": {},
   "outputs": [],
   "source": []
  }
 ],
 "metadata": {
  "kernelspec": {
   "display_name": "sinatxe",
   "language": "python",
   "name": "sinatxe"
  },
  "language_info": {
   "codemirror_mode": {
    "name": "ipython",
    "version": 3
   },
   "file_extension": ".py",
   "mimetype": "text/x-python",
   "name": "python",
   "nbconvert_exporter": "python",
   "pygments_lexer": "ipython3",
   "version": "3.8.5"
  }
 },
 "nbformat": 4,
 "nbformat_minor": 5
}
