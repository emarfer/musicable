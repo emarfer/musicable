{
 "cells": [
  {
   "cell_type": "code",
   "execution_count": 14,
   "id": "1612150a",
   "metadata": {},
   "outputs": [],
   "source": [
    "import requests \n",
    "import json\n",
    "import os\n",
    "from dotenv import load_dotenv\n",
    "import pandas as pd\n",
    "from pandas import json_normalize\n",
    "import numpy as np\n",
    "import sys\n",
    "sys.path.append('../src')\n",
    "import apilast as als\n",
    "import sqltools as sqt\n",
    "import sqlalchemy as alch\n",
    "import cleansing as cls\n"
   ]
  },
  {
   "cell_type": "code",
   "execution_count": 15,
   "id": "909f9109",
   "metadata": {},
   "outputs": [
    {
     "data": {
      "text/plain": [
       "True"
      ]
     },
     "execution_count": 15,
     "metadata": {},
     "output_type": "execute_result"
    }
   ],
   "source": [
    "load_dotenv()"
   ]
  },
  {
   "cell_type": "code",
   "execution_count": 16,
   "id": "12788615",
   "metadata": {},
   "outputs": [],
   "source": [
    "keylast = os.getenv(\"keylast\") #apikey de lastfm"
   ]
  },
  {
   "cell_type": "code",
   "execution_count": 17,
   "id": "db08e03a",
   "metadata": {},
   "outputs": [],
   "source": [
    "l_user = 'sinatxester'"
   ]
  },
  {
   "cell_type": "code",
   "execution_count": 18,
   "id": "ec1f58e2",
   "metadata": {},
   "outputs": [],
   "source": [
    "limit = 1000\n",
    "lastuts = sqt.maxuts()\n",
    "# lastuts = 1640351615 +1 \n",
    "# lastuts = 1628946354"
   ]
  },
  {
   "cell_type": "code",
   "execution_count": 19,
   "id": "e1f88219",
   "metadata": {},
   "outputs": [
    {
     "data": {
      "text/plain": [
       "1644424525"
      ]
     },
     "execution_count": 19,
     "metadata": {},
     "output_type": "execute_result"
    }
   ],
   "source": [
    "lastuts"
   ]
  },
  {
   "cell_type": "code",
   "execution_count": 20,
   "id": "5fd4d2ae",
   "metadata": {},
   "outputs": [],
   "source": [
    "recenttracks = als.req_lastfm (l_user,limit,lastuts)"
   ]
  },
  {
   "cell_type": "code",
   "execution_count": 21,
   "id": "84df3f27",
   "metadata": {},
   "outputs": [],
   "source": [
    "# if recenttracks.shape[0] <= 10:\n",
    "#     display(recenttracks)\n",
    "# else:\n",
    "#     display(recenttracks.head(10))"
   ]
  },
  {
   "cell_type": "code",
   "execution_count": 22,
   "id": "b8189afd",
   "metadata": {},
   "outputs": [
    {
     "data": {
      "text/plain": [
       "pandas.core.frame.DataFrame"
      ]
     },
     "execution_count": 22,
     "metadata": {},
     "output_type": "execute_result"
    }
   ],
   "source": [
    "type(recenttracks)"
   ]
  },
  {
   "cell_type": "code",
   "execution_count": 23,
   "id": "d5964ec9",
   "metadata": {},
   "outputs": [],
   "source": [
    "if type(recenttracks) == str:\n",
    "    print(recenttracks)"
   ]
  },
  {
   "cell_type": "code",
   "execution_count": 24,
   "id": "ec72432f",
   "metadata": {},
   "outputs": [],
   "source": [
    "if type(recenttracks) == str:\n",
    "    print('No hay nuevos scrobbles')\n",
    "    \n",
    "elif type(recenttracks) == pd.DataFrame:\n",
    "    for i,r in recenttracks.iterrows():\n",
    "        sqt.insert_data(r.uts, r.artist, r.artist_mbid, r.album, r.album_mbid, r.title, r.track_mbid)"
   ]
  },
  {
   "cell_type": "code",
   "execution_count": 25,
   "id": "3a47f5ec",
   "metadata": {
    "scrolled": false
   },
   "outputs": [],
   "source": [
    "# insertadas = sqt.insert_scro()\n",
    "# insertadas"
   ]
  },
  {
   "cell_type": "code",
   "execution_count": 26,
   "id": "34dde434",
   "metadata": {
    "scrolled": false
   },
   "outputs": [
    {
     "name": "stdout",
     "output_type": "stream",
     "text": [
      "corrigiendo algunos errores de insertación\n",
      "los siguientes errores no se han podido corregir\n",
      "(no se insertarán ninguno de los nuevos scrobbles hasta corregir erroes, stay tuned)\n"
     ]
    },
    {
     "data": {
      "text/html": [
       "<div>\n",
       "<style scoped>\n",
       "    .dataframe tbody tr th:only-of-type {\n",
       "        vertical-align: middle;\n",
       "    }\n",
       "\n",
       "    .dataframe tbody tr th {\n",
       "        vertical-align: top;\n",
       "    }\n",
       "\n",
       "    .dataframe thead th {\n",
       "        text-align: right;\n",
       "    }\n",
       "</style>\n",
       "<table border=\"1\" class=\"dataframe\">\n",
       "  <thead>\n",
       "    <tr style=\"text-align: right;\">\n",
       "      <th></th>\n",
       "      <th>uts</th>\n",
       "      <th>artist</th>\n",
       "      <th>album</th>\n",
       "      <th>title</th>\n",
       "      <th>fechahora</th>\n",
       "    </tr>\n",
       "  </thead>\n",
       "  <tbody>\n",
       "    <tr>\n",
       "      <th>0</th>\n",
       "      <td>1644425364</td>\n",
       "      <td>Quique González</td>\n",
       "      <td>Kamikazes Enamorados</td>\n",
       "      <td>7/11</td>\n",
       "      <td>2022-02-09 17:49:24</td>\n",
       "    </tr>\n",
       "    <tr>\n",
       "      <th>1</th>\n",
       "      <td>1644425777</td>\n",
       "      <td>Anastacia</td>\n",
       "      <td>Anastacia</td>\n",
       "      <td>Sick and Tired</td>\n",
       "      <td>2022-02-09 17:56:17</td>\n",
       "    </tr>\n",
       "    <tr>\n",
       "      <th>2</th>\n",
       "      <td>1644425927</td>\n",
       "      <td>Amaral</td>\n",
       "      <td>Hacia lo salvaje</td>\n",
       "      <td>Hoy Es El Principio Del Final (Versión Acústica)</td>\n",
       "      <td>2022-02-09 17:58:47</td>\n",
       "    </tr>\n",
       "    <tr>\n",
       "      <th>3</th>\n",
       "      <td>1644426132</td>\n",
       "      <td>Matchbox Twenty</td>\n",
       "      <td>Live From Australia</td>\n",
       "      <td>You And I &amp; I (Live) (Live Australia)</td>\n",
       "      <td>2022-02-09 18:02:12</td>\n",
       "    </tr>\n",
       "    <tr>\n",
       "      <th>4</th>\n",
       "      <td>1644426312</td>\n",
       "      <td>Elvis Perkins</td>\n",
       "      <td>I Aubade</td>\n",
       "      <td>It’s Now or Never Loves</td>\n",
       "      <td>2022-02-09 18:05:12</td>\n",
       "    </tr>\n",
       "    <tr>\n",
       "      <th>5</th>\n",
       "      <td>1644428604</td>\n",
       "      <td>Jennifer Lopez</td>\n",
       "      <td>LOVE?</td>\n",
       "      <td>On the Floor (feat. Pitbull)</td>\n",
       "      <td>2022-02-09 18:43:24</td>\n",
       "    </tr>\n",
       "    <tr>\n",
       "      <th>6</th>\n",
       "      <td>1644428924</td>\n",
       "      <td>Missing Persons</td>\n",
       "      <td>Spring Session M</td>\n",
       "      <td>Rock And Roll Suspension</td>\n",
       "      <td>2022-02-09 18:48:44</td>\n",
       "    </tr>\n",
       "  </tbody>\n",
       "</table>\n",
       "</div>"
      ],
      "text/plain": [
       "          uts           artist                 album  \\\n",
       "0  1644425364  Quique González  Kamikazes Enamorados   \n",
       "1  1644425777        Anastacia             Anastacia   \n",
       "2  1644425927           Amaral      Hacia lo salvaje   \n",
       "3  1644426132  Matchbox Twenty   Live From Australia   \n",
       "4  1644426312    Elvis Perkins              I Aubade   \n",
       "5  1644428604   Jennifer Lopez                 LOVE?   \n",
       "6  1644428924  Missing Persons      Spring Session M   \n",
       "\n",
       "                                              title           fechahora  \n",
       "0                                              7/11 2022-02-09 17:49:24  \n",
       "1                                    Sick and Tired 2022-02-09 17:56:17  \n",
       "2  Hoy Es El Principio Del Final (Versión Acústica) 2022-02-09 17:58:47  \n",
       "3             You And I & I (Live) (Live Australia) 2022-02-09 18:02:12  \n",
       "4                           It’s Now or Never Loves 2022-02-09 18:05:12  \n",
       "5                      On the Floor (feat. Pitbull) 2022-02-09 18:43:24  \n",
       "6                          Rock And Roll Suspension 2022-02-09 18:48:44  "
      ]
     },
     "execution_count": 26,
     "metadata": {},
     "output_type": "execute_result"
    }
   ],
   "source": [
    "insertadas = sqt.act_scro()\n",
    "insertadas"
   ]
  },
  {
   "cell_type": "code",
   "execution_count": null,
   "id": "8bd8a040",
   "metadata": {},
   "outputs": [],
   "source": []
  }
 ],
 "metadata": {
  "kernelspec": {
   "display_name": "sinatxe",
   "language": "python",
   "name": "sinatxe"
  },
  "language_info": {
   "codemirror_mode": {
    "name": "ipython",
    "version": 3
   },
   "file_extension": ".py",
   "mimetype": "text/x-python",
   "name": "python",
   "nbconvert_exporter": "python",
   "pygments_lexer": "ipython3",
   "version": "3.8.5"
  }
 },
 "nbformat": 4,
 "nbformat_minor": 5
}
