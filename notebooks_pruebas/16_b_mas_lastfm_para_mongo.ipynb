{
 "cells": [
  {
   "cell_type": "code",
   "execution_count": 11,
   "id": "d0bdcf78",
   "metadata": {},
   "outputs": [],
   "source": [
    "import pandas as pd\n",
    "import requests\n",
    "import os\n",
    "from dotenv import load_dotenv\n",
    "load_dotenv()\n",
    "from pymongo import MongoClient\n",
    "import sys\n",
    "sys.path.append('../src')\n",
    "import mongofun as mon"
   ]
  },
  {
   "cell_type": "code",
   "execution_count": 9,
   "id": "93f8f830",
   "metadata": {},
   "outputs": [],
   "source": [
    "keylast = os.getenv(\"keylast\")"
   ]
  },
  {
   "cell_type": "code",
   "execution_count": 10,
   "id": "5a3b2f75",
   "metadata": {},
   "outputs": [],
   "source": [
    "client = MongoClient(\"localhost:27017\")\n",
    "lastusers = client.get_database(\"lastusers\")"
   ]
  },
  {
   "cell_type": "markdown",
   "id": "dbc567bb",
   "metadata": {},
   "source": [
    " ```python\n",
    "def mongouser(lastuser):\n",
    "    if lastuser.lower() not in lastusers.list_collection_names():\n",
    "        lastusers.create_collection(lastuser.lower())\n",
    "        coluser = lastusers.get_collection(f\"{lastuser.lower()}\")\n",
    "\n",
    "        url = f'http://ws.audioscrobbler.com/2.0/?method=user.getrecenttracks&user={lastuser}&limit=1000&api_key={keylast}&format=json'\n",
    "        req = requests.get(url).json()['recenttracks']\n",
    "        scrobs = req['@attr']['total']\n",
    "        pages = int(req['@attr']['totalPages'])\n",
    "        print(f'recovering {scrobs} scrobbles in {pages} pages')\n",
    "\n",
    "\n",
    "        for i in range(1,pages+1):\n",
    "            page = i\n",
    "            url_t = f'http://ws.audioscrobbler.com/2.0/?method=user.getrecenttracks&user={lastuser}&limit=1000&page={page}&api_key={keylast}&format=json'\n",
    "            req_t = requests.get(url_t).json()['recenttracks']['track']\n",
    "            for r in req_t:\n",
    "                if '@attr' not in r.keys():\n",
    "                    coluser.insert_one(r)\n",
    "                elif '@attr' in r.keys() and i ==1:\n",
    "                    art_play = r['artist']['#text']\n",
    "                    tit_play = r['name']\n",
    "                    print (f'Now playing: {art_play.capitalize()} - {tit_play.capitalize()}')\n",
    "\n",
    "            if i%5==0:\n",
    "                print(f'pag {i} done')\n",
    "            elif i == pages:\n",
    "                print('all done, bitches')\n",
    "    else:\n",
    "       \n",
    "        coluser = lastusers.get_collection(f\"{lastuser.lower()}\")\n",
    "        uts_num = utsmongo(coluser) + 1\n",
    "        url = f'http://ws.audioscrobbler.com/2.0/?method=user.getrecenttracks&user={lastuser}&limit=1000&from={uts_num}&api_key={keylast}&format=json'\n",
    "        req = requests.get(url).json()['recenttracks']\n",
    "\n",
    "         \n",
    "        if req['@attr']['totalPages'] == '0':\n",
    "            if len(req['track']) == 0:            \n",
    "                return 'no hay nada que insertar'\n",
    "            \n",
    "            else:\n",
    "                if '@attr' in req['track'].keys():                    \n",
    "                    art_play = req['track']['artist']['#text']\n",
    "                    tit_play = req['track']['name']\n",
    "                    print('nada que insertar')\n",
    "                    return f'Now playing: {art_play.capitalize()} - {tit_play.capitalize()}'\n",
    "\n",
    "\n",
    "        elif req['@attr']['totalPages'] != '0':   \n",
    "            scrobs = req['@attr']['total']\n",
    "            pages = int(req['@attr']['totalPages'])\n",
    "            print(f'recovering {scrobs} scrobbles in {pages} pages')\n",
    "\n",
    "            for i in range(1,pages+1):\n",
    "                page = i\n",
    "                url = f'http://ws.audioscrobbler.com/2.0/?method=user.getrecenttracks&user={lastuser}&limit=1000&from={uts_num}&page={page}&api_key={keylast}&format=json'\n",
    "                req = requests.get(url).json()['recenttracks']\n",
    "\n",
    "\n",
    "                for r in req['track']:\n",
    "                    if '@attr' in r.keys() and i ==1:\n",
    "                        art_play = r['artist']['#text']\n",
    "                        tit_play = r['name']\n",
    "                        print (f'Now playing: {art_play.capitalize()} - {tit_play.capitalize()}')\n",
    "                        \n",
    "                    elif '@attr' not in r.keys():\n",
    "                        coluser.insert_one(r)\n",
    "                if i%5==0:\n",
    "                    print(f'pag {i} done')\n",
    "                elif i == pages:\n",
    "                    print('all done, bitches')\n",
    "        else:\n",
    "            print('no insertamos nada porque nada hay que insertar')\n",
    "\n",
    "```"
   ]
  },
  {
   "cell_type": "code",
   "execution_count": 4,
   "id": "7437317f",
   "metadata": {},
   "outputs": [],
   "source": [
    "lastuser = 'avekaesar'"
   ]
  },
  {
   "cell_type": "code",
   "execution_count": 6,
   "id": "bbb2d308",
   "metadata": {},
   "outputs": [
    {
     "name": "stdout",
     "output_type": "stream",
     "text": [
      "recovering 88860 scrobbles in 89 pages\n"
     ]
    }
   ],
   "source": [
    "url = f'http://ws.audioscrobbler.com/2.0/?method=user.getrecenttracks&user={lastuser}&limit=1000&api_key={keylast}&format=json'\n",
    "req = requests.get(url).json()['recenttracks']\n",
    "scrobs = req['@attr']['total']\n",
    "pages = int(req['@attr']['totalPages'])\n",
    "print(f'recovering {scrobs} scrobbles in {pages} pages')"
   ]
  },
  {
   "cell_type": "code",
   "execution_count": 12,
   "id": "fe3d58a6",
   "metadata": {},
   "outputs": [],
   "source": [
    "coluser = lastusers.get_collection(f\"{lastuser.lower()}\")\n",
    "uts_num = mon.utsmongo(coluser) + 1\n",
    "url = f'http://ws.audioscrobbler.com/2.0/?method=user.getrecenttracks&user={lastuser}&limit=1000&from={uts_num}&api_key={keylast}&format=json'\n",
    "req = requests.get(url).json()['recenttracks']"
   ]
  },
  {
   "cell_type": "code",
   "execution_count": 13,
   "id": "39cd5b8c",
   "metadata": {},
   "outputs": [
    {
     "data": {
      "text/plain": [
       "{'track': [],\n",
       " '@attr': {'user': 'AveKaesar',\n",
       "  'totalPages': '0',\n",
       "  'page': '1',\n",
       "  'perPage': '1000',\n",
       "  'total': '0'}}"
      ]
     },
     "execution_count": 13,
     "metadata": {},
     "output_type": "execute_result"
    }
   ],
   "source": [
    "req"
   ]
  },
  {
   "cell_type": "code",
   "execution_count": null,
   "id": "4ab1392b",
   "metadata": {},
   "outputs": [],
   "source": []
  }
 ],
 "metadata": {
  "kernelspec": {
   "display_name": "sinatxe",
   "language": "python",
   "name": "sinatxe"
  },
  "language_info": {
   "codemirror_mode": {
    "name": "ipython",
    "version": 3
   },
   "file_extension": ".py",
   "mimetype": "text/x-python",
   "name": "python",
   "nbconvert_exporter": "python",
   "pygments_lexer": "ipython3",
   "version": "3.8.5"
  }
 },
 "nbformat": 4,
 "nbformat_minor": 5
}
