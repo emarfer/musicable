{
 "cells": [
  {
   "cell_type": "code",
   "execution_count": 1,
   "id": "cc5037b8",
   "metadata": {},
   "outputs": [],
   "source": [
    "import pandas as pd\n",
    "import os"
   ]
  },
  {
   "cell_type": "code",
   "execution_count": 2,
   "id": "4024c296",
   "metadata": {},
   "outputs": [],
   "source": [
    "import shutil"
   ]
  },
  {
   "cell_type": "markdown",
   "id": "ebb2ea6f",
   "metadata": {},
   "source": [
    "```python\n",
    "shutil.copy2(src, dst, *, follow_symlinks=True)\n",
    "\n",
    "src = 'ruta'\n",
    "dst = 'destino'\n",
    "```"
   ]
  },
  {
   "cell_type": "code",
   "execution_count": 11,
   "id": "64d560ae",
   "metadata": {},
   "outputs": [
    {
     "data": {
      "text/plain": [
       "['destino', 'fuente']"
      ]
     },
     "execution_count": 11,
     "metadata": {},
     "output_type": "execute_result"
    }
   ],
   "source": [
    "os.listdir('../../../zzprueba/')"
   ]
  },
  {
   "cell_type": "code",
   "execution_count": 14,
   "id": "866f844f",
   "metadata": {},
   "outputs": [],
   "source": [
    "src = '../../../zzprueba/fuente/01 Temazos Enero 2018/01.La Casa Azul-El Momento.mp3'"
   ]
  },
  {
   "cell_type": "code",
   "execution_count": 15,
   "id": "db02f81f",
   "metadata": {},
   "outputs": [],
   "source": [
    "dst = '../../../zzprueba/destino'"
   ]
  },
  {
   "cell_type": "code",
   "execution_count": 16,
   "id": "1303ebab",
   "metadata": {},
   "outputs": [
    {
     "data": {
      "text/plain": [
       "'../../../zzprueba/destino/01.La Casa Azul-El Momento.mp3'"
      ]
     },
     "execution_count": 16,
     "metadata": {},
     "output_type": "execute_result"
    }
   ],
   "source": [
    "shutil.copy2(src, dst)"
   ]
  },
  {
   "cell_type": "code",
   "execution_count": null,
   "id": "8f65e560",
   "metadata": {},
   "outputs": [],
   "source": [
    "import alche"
   ]
  }
 ],
 "metadata": {
  "kernelspec": {
   "display_name": "sinatxe",
   "language": "python",
   "name": "sinatxe"
  },
  "language_info": {
   "codemirror_mode": {
    "name": "ipython",
    "version": 3
   },
   "file_extension": ".py",
   "mimetype": "text/x-python",
   "name": "python",
   "nbconvert_exporter": "python",
   "pygments_lexer": "ipython3",
   "version": "3.8.5"
  }
 },
 "nbformat": 4,
 "nbformat_minor": 5
}
