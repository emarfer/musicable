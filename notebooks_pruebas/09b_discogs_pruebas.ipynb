{
 "cells": [
  {
   "cell_type": "code",
   "execution_count": 4,
   "id": "75a3dea7",
   "metadata": {},
   "outputs": [],
   "source": [
    "import requests\n",
    "from dotenv import load_dotenv\n",
    "load_dotenv()\n",
    "import os"
   ]
  },
  {
   "cell_type": "code",
   "execution_count": 5,
   "id": "f0aecb7a",
   "metadata": {},
   "outputs": [],
   "source": [
    "tokendis = os.getenv(\"discog\")"
   ]
  },
  {
   "cell_type": "code",
   "execution_count": 7,
   "id": "035421dd",
   "metadata": {},
   "outputs": [],
   "source": [
    "url = f'https://api.discogs.com/database/search?q=Nirvana&token={tokendis}'"
   ]
  },
  {
   "cell_type": "code",
   "execution_count": 10,
   "id": "28d5f936",
   "metadata": {},
   "outputs": [],
   "source": [
    "req = requests.get(url).json()"
   ]
  },
  {
   "cell_type": "code",
   "execution_count": 12,
   "id": "da588a65",
   "metadata": {},
   "outputs": [
    {
     "data": {
      "text/plain": [
       "dict_keys(['pagination', 'results'])"
      ]
     },
     "execution_count": 12,
     "metadata": {},
     "output_type": "execute_result"
    }
   ],
   "source": [
    "req.keys()"
   ]
  },
  {
   "cell_type": "code",
   "execution_count": 13,
   "id": "2be177bc",
   "metadata": {},
   "outputs": [
    {
     "data": {
      "text/plain": [
       "{'page': 1,\n",
       " 'pages': 200,\n",
       " 'per_page': 50,\n",
       " 'items': 13554,\n",
       " 'urls': {'last': 'https://api.discogs.com/database/search?q=Nirvana&token=WrCeBqUsvvoWPGbIAnhkioHGnehnEzAIPErEWxLI&page=200&per_page=50',\n",
       "  'next': 'https://api.discogs.com/database/search?q=Nirvana&token=WrCeBqUsvvoWPGbIAnhkioHGnehnEzAIPErEWxLI&page=2&per_page=50'}}"
      ]
     },
     "execution_count": 13,
     "metadata": {},
     "output_type": "execute_result"
    }
   ],
   "source": [
    "req['pagination']"
   ]
  },
  {
   "cell_type": "code",
   "execution_count": 20,
   "id": "ee72251f",
   "metadata": {},
   "outputs": [
    {
     "data": {
      "text/plain": [
       "{'country': 'Europe',\n",
       " 'year': '2015',\n",
       " 'format': ['Vinyl', 'LP', 'Compilation', 'Reissue'],\n",
       " 'label': ['DGC', 'Sub Pop', 'Geffen Records', 'Geffen Records'],\n",
       " 'type': 'release',\n",
       " 'genre': ['Rock'],\n",
       " 'style': ['Grunge', 'Alternative Rock'],\n",
       " 'id': 7445961,\n",
       " 'barcode': ['6 02547 37878 1',\n",
       "  '602547378781',\n",
       "  'BIEM/SDRM',\n",
       "  'BF93390-01 A1 602547378781-A CB',\n",
       "  'BF93390-01 B1 602547378781-B CB'],\n",
       " 'user_data': {'in_wantlist': False, 'in_collection': False},\n",
       " 'master_id': 42476,\n",
       " 'master_url': 'https://api.discogs.com/masters/42476',\n",
       " 'uri': '/release/7445961-Nirvana-Nirvana',\n",
       " 'catno': '0602547378781',\n",
       " 'title': 'Nirvana - Nirvana',\n",
       " 'thumb': 'https://i.discogs.com/_Djcgejb67jcoeWE_3M6w0tYRMGoilZDevmFGBO15RI/rs:fit/g:sm/q:40/h:150/w:150/czM6Ly9kaXNjb2dz/LWltYWdlcy9SLTc0/NDU5NjEtMTU3MjI3/NDgyMy02OTg5Lmpw/ZWc.jpeg',\n",
       " 'cover_image': 'https://i.discogs.com/KmZdM-ofMehCovz2WaRPOw3ryc8HMVHkA5NuN13q78o/rs:fit/g:sm/q:90/h:595/w:600/czM6Ly9kaXNjb2dz/LWltYWdlcy9SLTc0/NDU5NjEtMTU3MjI3/NDgyMy02OTg5Lmpw/ZWc.jpeg',\n",
       " 'resource_url': 'https://api.discogs.com/releases/7445961',\n",
       " 'community': {'want': 1005, 'have': 10131},\n",
       " 'format_quantity': 1,\n",
       " 'formats': [{'name': 'Vinyl',\n",
       "   'qty': '1',\n",
       "   'text': '180 Gram',\n",
       "   'descriptions': ['LP', 'Compilation', 'Reissue']}]}"
      ]
     },
     "execution_count": 20,
     "metadata": {},
     "output_type": "execute_result"
    }
   ],
   "source": [
    "req['results'][3]"
   ]
  },
  {
   "cell_type": "code",
   "execution_count": 135,
   "id": "f225c7b9",
   "metadata": {},
   "outputs": [],
   "source": [
    "urldos = f'https://api.discogs.com/database/search?release_title=House+For+All&artist=Blunted+Dummies&token={tokendis}'\n",
    "#urldos = f'https://api.discogs.com/database/search?artist=Nirvana&token={tokendis}'"
   ]
  },
  {
   "cell_type": "code",
   "execution_count": 136,
   "id": "a7955b8d",
   "metadata": {},
   "outputs": [
    {
     "data": {
      "text/plain": [
       "'https://api.discogs.com/database/search?release_title=House+For+All&artist=Blunted+Dummies&token=WrCeBqUsvvoWPGbIAnhkioHGnehnEzAIPErEWxLI'"
      ]
     },
     "execution_count": 136,
     "metadata": {},
     "output_type": "execute_result"
    }
   ],
   "source": [
    "urldos"
   ]
  },
  {
   "cell_type": "code",
   "execution_count": 51,
   "id": "7c22dc33",
   "metadata": {},
   "outputs": [],
   "source": [
    "reqdos = requests.get(urldos).json()"
   ]
  },
  {
   "cell_type": "code",
   "execution_count": 53,
   "id": "ef216ce3",
   "metadata": {},
   "outputs": [
    {
     "data": {
      "text/plain": [
       "dict_keys(['pagination', 'results'])"
      ]
     },
     "execution_count": 53,
     "metadata": {},
     "output_type": "execute_result"
    }
   ],
   "source": [
    "reqdos.keys()"
   ]
  },
  {
   "cell_type": "code",
   "execution_count": 58,
   "id": "fc61c5ee",
   "metadata": {},
   "outputs": [
    {
     "data": {
      "text/plain": [
       "391907"
      ]
     },
     "execution_count": 58,
     "metadata": {},
     "output_type": "execute_result"
    }
   ],
   "source": [
    "reqdos['results'][0]['id']"
   ]
  },
  {
   "cell_type": "code",
   "execution_count": 59,
   "id": "6a6ccb54",
   "metadata": {},
   "outputs": [],
   "source": [
    "artist_id = reqdos['results'][0]['id']"
   ]
  },
  {
   "cell_type": "code",
   "execution_count": 61,
   "id": "36765a90",
   "metadata": {},
   "outputs": [],
   "source": [
    "urlar = f'https://api.discogs.com/artists/{artist_id}&token={tokendis}'"
   ]
  },
  {
   "cell_type": "code",
   "execution_count": 62,
   "id": "be42aec1",
   "metadata": {},
   "outputs": [],
   "source": [
    "reqar = requests.get(urlar).json()"
   ]
  },
  {
   "cell_type": "code",
   "execution_count": 63,
   "id": "a67d06b6",
   "metadata": {},
   "outputs": [
    {
     "data": {
      "text/plain": [
       "{'message': 'The requested resource was not found.'}"
      ]
     },
     "execution_count": 63,
     "metadata": {},
     "output_type": "execute_result"
    }
   ],
   "source": [
    "reqar"
   ]
  },
  {
   "cell_type": "code",
   "execution_count": 21,
   "id": "3e8fe8ab",
   "metadata": {},
   "outputs": [],
   "source": [
    "import discogs_client\n",
    "d = discogs_client.Client('ExampleApplication/0.1')"
   ]
  },
  {
   "cell_type": "code",
   "execution_count": 24,
   "id": "b5f6656a",
   "metadata": {},
   "outputs": [
    {
     "data": {
      "text/plain": [
       "<discogs_client.client.Client at 0x7f7df8224a90>"
      ]
     },
     "execution_count": 24,
     "metadata": {},
     "output_type": "execute_result"
    }
   ],
   "source": [
    "d"
   ]
  },
  {
   "cell_type": "code",
   "execution_count": 25,
   "id": "ab6dcaf6",
   "metadata": {},
   "outputs": [],
   "source": [
    "d = discogs_client.Client('ExampleApplication/0.1', user_token=f\"{tokendis}\")"
   ]
  },
  {
   "cell_type": "code",
   "execution_count": 26,
   "id": "ca392c2d",
   "metadata": {},
   "outputs": [
    {
     "data": {
      "text/plain": [
       "<discogs_client.client.Client at 0x7f7df819fa30>"
      ]
     },
     "execution_count": 26,
     "metadata": {},
     "output_type": "execute_result"
    }
   ],
   "source": [
    "d"
   ]
  },
  {
   "cell_type": "code",
   "execution_count": 107,
   "id": "50d2fa32",
   "metadata": {},
   "outputs": [],
   "source": [
    "results = d.search('Los del río', type='artist')"
   ]
  },
  {
   "cell_type": "code",
   "execution_count": 108,
   "id": "28ce55b7",
   "metadata": {},
   "outputs": [
    {
     "data": {
      "text/plain": [
       "80"
      ]
     },
     "execution_count": 108,
     "metadata": {},
     "output_type": "execute_result"
    }
   ],
   "source": [
    "len(results)"
   ]
  },
  {
   "cell_type": "code",
   "execution_count": 109,
   "id": "03bd723e",
   "metadata": {
    "scrolled": false
   },
   "outputs": [],
   "source": [
    "# for r in results:\n",
    "#     print(r)"
   ]
  },
  {
   "cell_type": "code",
   "execution_count": 85,
   "id": "108d6008",
   "metadata": {},
   "outputs": [],
   "source": [
    "artist_id = results[0].id"
   ]
  },
  {
   "cell_type": "code",
   "execution_count": 124,
   "id": "4757875c",
   "metadata": {},
   "outputs": [],
   "source": [
    "#urldef = f'https://api.discogs.com/artists/{artist_id}/releases/?sort=year'\n",
    "urldef = f'https://api.discogs.com/database/search?artist=Nirvana&release_title=Bleach&token={tokendis}'"
   ]
  },
  {
   "cell_type": "code",
   "execution_count": 125,
   "id": "e7fe57e1",
   "metadata": {},
   "outputs": [],
   "source": [
    "reqdef = requests.get(urldef).json()"
   ]
  },
  {
   "cell_type": "code",
   "execution_count": 126,
   "id": "9582ad0f",
   "metadata": {},
   "outputs": [
    {
     "data": {
      "text/plain": [
       "dict_keys(['pagination', 'results'])"
      ]
     },
     "execution_count": 126,
     "metadata": {},
     "output_type": "execute_result"
    }
   ],
   "source": [
    "reqdef.keys()"
   ]
  },
  {
   "cell_type": "code",
   "execution_count": 134,
   "id": "52cf7f32",
   "metadata": {},
   "outputs": [
    {
     "data": {
      "text/plain": [
       "['Rock']"
      ]
     },
     "execution_count": 134,
     "metadata": {},
     "output_type": "execute_result"
    }
   ],
   "source": [
    "reqdef['results'][0]['genre']"
   ]
  },
  {
   "cell_type": "code",
   "execution_count": null,
   "id": "4f8f3b50",
   "metadata": {},
   "outputs": [],
   "source": []
  }
 ],
 "metadata": {
  "kernelspec": {
   "display_name": "sinatxe",
   "language": "python",
   "name": "sinatxe"
  },
  "language_info": {
   "codemirror_mode": {
    "name": "ipython",
    "version": 3
   },
   "file_extension": ".py",
   "mimetype": "text/x-python",
   "name": "python",
   "nbconvert_exporter": "python",
   "pygments_lexer": "ipython3",
   "version": "3.8.5"
  }
 },
 "nbformat": 4,
 "nbformat_minor": 5
}
