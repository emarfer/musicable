{
 "cells": [
  {
   "cell_type": "code",
   "execution_count": 1,
   "id": "d4d626f3",
   "metadata": {},
   "outputs": [],
   "source": [
    "import requests \n",
    "import json\n",
    "import os\n",
    "from dotenv import load_dotenv\n",
    "load_dotenv()\n",
    "import sys\n",
    "sys.path.append('../src')\n",
    "import apilast as als\n",
    "import sqltools as sqt\n",
    "import sqlalchemy as alch\n",
    "import cleansing as cls\n",
    "import mongofun as mon\n",
    "from pymongo import MongoClient\n",
    "import pymongo\n",
    "import random"
   ]
  },
  {
   "cell_type": "code",
   "execution_count": 2,
   "id": "e5948561",
   "metadata": {},
   "outputs": [],
   "source": [
    "keylast = os.getenv(\"keylast\")"
   ]
  },
  {
   "cell_type": "code",
   "execution_count": 3,
   "id": "3ed7b49e",
   "metadata": {},
   "outputs": [],
   "source": [
    "client = MongoClient(\"localhost:27017\")"
   ]
  },
  {
   "cell_type": "code",
   "execution_count": 4,
   "id": "1850f0d9",
   "metadata": {},
   "outputs": [
    {
     "data": {
      "text/plain": [
       "['admin', 'config', 'lastusers', 'local', 'maps', 'musicable']"
      ]
     },
     "execution_count": 4,
     "metadata": {},
     "output_type": "execute_result"
    }
   ],
   "source": [
    "client.list_database_names()"
   ]
  },
  {
   "cell_type": "code",
   "execution_count": 5,
   "id": "fd7d9665",
   "metadata": {},
   "outputs": [],
   "source": [
    "lastusers = client.get_database(\"lastusers\")"
   ]
  },
  {
   "cell_type": "code",
   "execution_count": 6,
   "id": "77f7c59b",
   "metadata": {},
   "outputs": [
    {
     "data": {
      "text/plain": [
       "['avekaesar', 'mister__moss', 'Sinatxester', 'AveKaesar', 'usuarios']"
      ]
     },
     "execution_count": 6,
     "metadata": {},
     "output_type": "execute_result"
    }
   ],
   "source": [
    "lastusers.list_collection_names()"
   ]
  },
  {
   "cell_type": "code",
   "execution_count": 7,
   "id": "88cb456b",
   "metadata": {},
   "outputs": [],
   "source": [
    "lastuser = 'AveKaesar'"
   ]
  },
  {
   "cell_type": "code",
   "execution_count": 8,
   "id": "093d5011",
   "metadata": {},
   "outputs": [
    {
     "data": {
      "text/plain": [
       "'AveKaesar ya existe'"
      ]
     },
     "execution_count": 8,
     "metadata": {},
     "output_type": "execute_result"
    }
   ],
   "source": [
    "mon.mongouser(lastuser)"
   ]
  },
  {
   "cell_type": "code",
   "execution_count": 9,
   "id": "98b4c05d",
   "metadata": {},
   "outputs": [],
   "source": [
    "lastuser = 'Sinatxester'"
   ]
  },
  {
   "cell_type": "code",
   "execution_count": 10,
   "id": "8cc046ca",
   "metadata": {},
   "outputs": [
    {
     "name": "stdout",
     "output_type": "stream",
     "text": [
      "recovering 75457 scrobbles in 76 pages\n",
      "pag 5 done\n",
      "pag 10 done\n",
      "pag 15 done\n",
      "pag 20 done\n",
      "pag 25 done\n",
      "pag 30 done\n",
      "pag 35 done\n",
      "pag 40 done\n",
      "pag 45 done\n",
      "pag 50 done\n",
      "pag 55 done\n",
      "pag 60 done\n",
      "pag 65 done\n",
      "pag 70 done\n",
      "pag 75 done\n",
      "all done, bitches\n"
     ]
    }
   ],
   "source": [
    "mon.mongouser(lastuser)"
   ]
  },
  {
   "cell_type": "code",
   "execution_count": null,
   "id": "6541a019",
   "metadata": {},
   "outputs": [],
   "source": [
    "lastuser = 'Sinatxester'\n",
    "mon.mongouser(lastuser)"
   ]
  }
 ],
 "metadata": {
  "kernelspec": {
   "display_name": "sinatxe",
   "language": "python",
   "name": "sinatxe"
  },
  "language_info": {
   "codemirror_mode": {
    "name": "ipython",
    "version": 3
   },
   "file_extension": ".py",
   "mimetype": "text/x-python",
   "name": "python",
   "nbconvert_exporter": "python",
   "pygments_lexer": "ipython3",
   "version": "3.8.5"
  }
 },
 "nbformat": 4,
 "nbformat_minor": 5
}
