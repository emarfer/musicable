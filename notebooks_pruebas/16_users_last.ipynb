{
 "cells": [
  {
   "cell_type": "code",
   "execution_count": 1,
   "id": "d4d626f3",
   "metadata": {},
   "outputs": [],
   "source": [
    "import requests \n",
    "import json\n",
    "import os\n",
    "from dotenv import load_dotenv\n",
    "load_dotenv()\n",
    "import sys\n",
    "sys.path.append('../src')\n",
    "import apilast as als\n",
    "import sqltools as sqt\n",
    "import sqlalchemy as alch\n",
    "import cleansing as cls\n",
    "import mongofun as mon\n",
    "from pymongo import MongoClient\n",
    "import pymongo\n",
    "import random"
   ]
  },
  {
   "cell_type": "code",
   "execution_count": 2,
   "id": "e5948561",
   "metadata": {},
   "outputs": [],
   "source": [
    "keylast = os.getenv(\"keylast\")"
   ]
  },
  {
   "cell_type": "code",
   "execution_count": 3,
   "id": "3ed7b49e",
   "metadata": {},
   "outputs": [],
   "source": [
    "client = MongoClient(\"localhost:27017\")"
   ]
  },
  {
   "cell_type": "code",
   "execution_count": 4,
   "id": "1850f0d9",
   "metadata": {},
   "outputs": [
    {
     "data": {
      "text/plain": [
       "['admin', 'config', 'lastusers', 'local', 'maps', 'musicable']"
      ]
     },
     "execution_count": 4,
     "metadata": {},
     "output_type": "execute_result"
    }
   ],
   "source": [
    "client.list_database_names()"
   ]
  },
  {
   "cell_type": "code",
   "execution_count": 5,
   "id": "fd7d9665",
   "metadata": {},
   "outputs": [],
   "source": [
    "lastusers = client.get_database(\"lastusers\")"
   ]
  },
  {
   "cell_type": "code",
   "execution_count": 6,
   "id": "77f7c59b",
   "metadata": {},
   "outputs": [
    {
     "data": {
      "text/plain": [
       "['avekaesar',\n",
       " 'sinatxester',\n",
       " 'mister__moss',\n",
       " 'Sinatxester',\n",
       " 'AveKaesar',\n",
       " 'usuarios']"
      ]
     },
     "execution_count": 6,
     "metadata": {},
     "output_type": "execute_result"
    }
   ],
   "source": [
    "lastusers.list_collection_names()"
   ]
  },
  {
   "cell_type": "code",
   "execution_count": 26,
   "id": "88cb456b",
   "metadata": {},
   "outputs": [],
   "source": [
    "lastuser = 'AveKaesar'"
   ]
  },
  {
   "cell_type": "code",
   "execution_count": 27,
   "id": "093d5011",
   "metadata": {},
   "outputs": [
    {
     "data": {
      "text/plain": [
       "'no hay nada que insertar'"
      ]
     },
     "execution_count": 27,
     "metadata": {},
     "output_type": "execute_result"
    }
   ],
   "source": [
    "mon.mongouser(lastuser)"
   ]
  },
  {
   "cell_type": "code",
   "execution_count": 15,
   "id": "98b4c05d",
   "metadata": {},
   "outputs": [],
   "source": [
    "lastuser = 'Sinatxester'"
   ]
  },
  {
   "cell_type": "code",
   "execution_count": 16,
   "id": "8cc046ca",
   "metadata": {},
   "outputs": [],
   "source": [
    "mon.mongouser(lastuser)"
   ]
  },
  {
   "cell_type": "code",
   "execution_count": 28,
   "id": "6541a019",
   "metadata": {},
   "outputs": [],
   "source": [
    "lastuser = 'Sinatxester'\n",
    "mon.mongouser(lastuser)"
   ]
  },
  {
   "cell_type": "code",
   "execution_count": 25,
   "id": "23aaa1c8",
   "metadata": {},
   "outputs": [],
   "source": [
    "mon.mongouser(lastuser)"
   ]
  },
  {
   "cell_type": "code",
   "execution_count": 17,
   "id": "f2c60e60",
   "metadata": {},
   "outputs": [],
   "source": [
    "l_user = 'Sinatxester'\n",
    "uts_num = sqt.maxuts() + 1\n",
    "keylast = os.getenv(\"keylast\")"
   ]
  },
  {
   "cell_type": "code",
   "execution_count": 18,
   "id": "27d82b10",
   "metadata": {},
   "outputs": [
    {
     "data": {
      "text/plain": [
       "1645735946"
      ]
     },
     "execution_count": 18,
     "metadata": {},
     "output_type": "execute_result"
    }
   ],
   "source": [
    "uts_num"
   ]
  },
  {
   "cell_type": "code",
   "execution_count": 19,
   "id": "6ca086fa",
   "metadata": {},
   "outputs": [],
   "source": [
    "url = f'http://ws.audioscrobbler.com/2.0/?method=user.getrecenttracks&user={l_user}&limit=1000&from={uts_num}&api_key={keylast}&format=json'\n",
    "req = requests.get(url).json()['recenttracks']"
   ]
  },
  {
   "cell_type": "code",
   "execution_count": 20,
   "id": "22bef63a",
   "metadata": {},
   "outputs": [
    {
     "data": {
      "text/plain": [
       "{'track': [],\n",
       " '@attr': {'user': 'sinatxester',\n",
       "  'totalPages': '0',\n",
       "  'page': '1',\n",
       "  'perPage': '1000',\n",
       "  'total': '0'}}"
      ]
     },
     "execution_count": 20,
     "metadata": {},
     "output_type": "execute_result"
    }
   ],
   "source": [
    "req"
   ]
  },
  {
   "cell_type": "code",
   "execution_count": null,
   "id": "55e9b0ab",
   "metadata": {},
   "outputs": [],
   "source": [
    "len(req['track'])"
   ]
  },
  {
   "cell_type": "code",
   "execution_count": null,
   "id": "8e8cd619",
   "metadata": {},
   "outputs": [],
   "source": [
    "req"
   ]
  },
  {
   "cell_type": "code",
   "execution_count": null,
   "id": "e1992bbf",
   "metadata": {},
   "outputs": [],
   "source": []
  }
 ],
 "metadata": {
  "kernelspec": {
   "display_name": "sinatxe",
   "language": "python",
   "name": "sinatxe"
  },
  "language_info": {
   "codemirror_mode": {
    "name": "ipython",
    "version": 3
   },
   "file_extension": ".py",
   "mimetype": "text/x-python",
   "name": "python",
   "nbconvert_exporter": "python",
   "pygments_lexer": "ipython3",
   "version": "3.8.5"
  }
 },
 "nbformat": 4,
 "nbformat_minor": 5
}
