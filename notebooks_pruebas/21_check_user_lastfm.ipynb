{
 "cells": [
  {
   "cell_type": "code",
   "execution_count": 11,
   "id": "c24a3029",
   "metadata": {},
   "outputs": [],
   "source": [
    "import pandas as pd\n",
    "import requests\n",
    "from dotenv import load_dotenv\n",
    "load_dotenv()\n",
    "import os\n",
    "import sys\n",
    "sys.path.append('../src')\n",
    "import apilast as apl\n",
    "import sqltools as sqt"
   ]
  },
  {
   "cell_type": "code",
   "execution_count": 2,
   "id": "6fe8ac3a",
   "metadata": {},
   "outputs": [],
   "source": [
    "keylast = os.getenv(\"keylast\")\n",
    "user = 'jhaghalhahlaatyah'\n",
    "base = f'http://ws.audioscrobbler.com/2.0/?method=user.getinfo&user={user}&api_key={keylast}&format=json'"
   ]
  },
  {
   "cell_type": "code",
   "execution_count": 3,
   "id": "d106da84",
   "metadata": {},
   "outputs": [],
   "source": [
    "req = requests.get(base).json()"
   ]
  },
  {
   "cell_type": "code",
   "execution_count": 4,
   "id": "2d9c0364",
   "metadata": {},
   "outputs": [
    {
     "data": {
      "text/plain": [
       "{'message': 'User not found', 'error': 6}"
      ]
     },
     "execution_count": 4,
     "metadata": {},
     "output_type": "execute_result"
    }
   ],
   "source": [
    "req"
   ]
  },
  {
   "cell_type": "code",
   "execution_count": 5,
   "id": "f59c2ddd",
   "metadata": {},
   "outputs": [
    {
     "data": {
      "text/plain": [
       "dict_keys(['message', 'error'])"
      ]
     },
     "execution_count": 5,
     "metadata": {},
     "output_type": "execute_result"
    }
   ],
   "source": [
    "req.keys()"
   ]
  },
  {
   "cell_type": "code",
   "execution_count": 6,
   "id": "d6ceded8",
   "metadata": {},
   "outputs": [],
   "source": [
    "userdos = 'sinatxester'\n",
    "basedos = f'http://ws.audioscrobbler.com/2.0/?method=user.getinfo&user={userdos}&api_key={keylast}&format=json'"
   ]
  },
  {
   "cell_type": "code",
   "execution_count": 7,
   "id": "73015b26",
   "metadata": {},
   "outputs": [],
   "source": [
    "reqdos = requests.get(basedos).json()"
   ]
  },
  {
   "cell_type": "code",
   "execution_count": 8,
   "id": "050f0b3c",
   "metadata": {},
   "outputs": [
    {
     "data": {
      "text/plain": [
       "dict_keys(['user'])"
      ]
     },
     "execution_count": 8,
     "metadata": {},
     "output_type": "execute_result"
    }
   ],
   "source": [
    "reqdos.keys()"
   ]
  },
  {
   "cell_type": "code",
   "execution_count": 9,
   "id": "7dde98a8",
   "metadata": {},
   "outputs": [
    {
     "name": "stdout",
     "output_type": "stream",
     "text": [
      "yes\n"
     ]
    }
   ],
   "source": [
    "if 'user' in [x.lower() for x in list(reqdos.keys())]:\n",
    "    print('yes')"
   ]
  },
  {
   "cell_type": "code",
   "execution_count": 10,
   "id": "f63a8664",
   "metadata": {},
   "outputs": [],
   "source": [
    "# def checkuser(user):\n",
    "#     keylast = os.getenv(\"keylast\")\n",
    "#     url = f'http://ws.audioscrobbler.com/2.0/?method=user.getinfo&user={user}&api_key={keylast}&format=json'\n",
    "#     req = requests.get(url).json()\n",
    "#     if 'user' in [x.lower() for x in list(req.keys())]:\n",
    "#         return True\n",
    "#     else:\n",
    "#         return False"
   ]
  },
  {
   "cell_type": "code",
   "execution_count": 18,
   "id": "55a85475",
   "metadata": {},
   "outputs": [],
   "source": [
    "l_user = 'agah'\n",
    "limit = 1000\n",
    "lastuts = sqt.maxuts()"
   ]
  },
  {
   "cell_type": "code",
   "execution_count": 19,
   "id": "dd79f85b",
   "metadata": {
    "scrolled": false
   },
   "outputs": [
    {
     "data": {
      "text/plain": [
       "'No hay nuevos scrobbles'"
      ]
     },
     "execution_count": 19,
     "metadata": {},
     "output_type": "execute_result"
    }
   ],
   "source": [
    "apl.req_lastfm (l_user,limit,lastuts)"
   ]
  },
  {
   "cell_type": "code",
   "execution_count": 20,
   "id": "7a7e8cc0",
   "metadata": {},
   "outputs": [
    {
     "name": "stdout",
     "output_type": "stream",
     "text": [
      "recovering 2 pages\n"
     ]
    },
    {
     "data": {
      "text/html": [
       "<div>\n",
       "<style scoped>\n",
       "    .dataframe tbody tr th:only-of-type {\n",
       "        vertical-align: middle;\n",
       "    }\n",
       "\n",
       "    .dataframe tbody tr th {\n",
       "        vertical-align: top;\n",
       "    }\n",
       "\n",
       "    .dataframe thead th {\n",
       "        text-align: right;\n",
       "    }\n",
       "</style>\n",
       "<table border=\"1\" class=\"dataframe\">\n",
       "  <thead>\n",
       "    <tr style=\"text-align: right;\">\n",
       "      <th></th>\n",
       "      <th>uts</th>\n",
       "      <th>artist</th>\n",
       "      <th>artist_mbid</th>\n",
       "      <th>album</th>\n",
       "      <th>album_mbid</th>\n",
       "      <th>title</th>\n",
       "      <th>track_mbid</th>\n",
       "    </tr>\n",
       "  </thead>\n",
       "  <tbody>\n",
       "    <tr>\n",
       "      <th>0</th>\n",
       "      <td>1256398267</td>\n",
       "      <td>Sons of Perdition</td>\n",
       "      <td>49a86aa1-5e7d-4a81-8a93-ecd04387b647</td>\n",
       "      <td>The Kingdom Is On Fire</td>\n",
       "      <td>d8d69f12-fd9c-4a50-ba44-68393c4b79d1</td>\n",
       "      <td>Anhelo</td>\n",
       "      <td>77fa6f51-e7d8-30a9-acd9-8bc4609d34af</td>\n",
       "    </tr>\n",
       "    <tr>\n",
       "      <th>1</th>\n",
       "      <td>1256398079</td>\n",
       "      <td>Castanets</td>\n",
       "      <td>e45cc18b-8cda-423b-8763-91e0303614e3</td>\n",
       "      <td>First Light's Freeze</td>\n",
       "      <td>9b117fed-2eea-456a-8b35-faffb799ebea</td>\n",
       "      <td>Good Friend, Yr Hunger</td>\n",
       "      <td>95af0bc9-08a7-34f3-b6b2-12d7c62f362e</td>\n",
       "    </tr>\n",
       "    <tr>\n",
       "      <th>2</th>\n",
       "      <td>1256397837</td>\n",
       "      <td>Ninth House</td>\n",
       "      <td>33056033-a663-48ae-9d18-4466ee740f6c</td>\n",
       "      <td>The Eye That Refuses To Blink</td>\n",
       "      <td></td>\n",
       "      <td>Jealousy</td>\n",
       "      <td></td>\n",
       "    </tr>\n",
       "    <tr>\n",
       "      <th>3</th>\n",
       "      <td>1256397610</td>\n",
       "      <td>Graves</td>\n",
       "      <td></td>\n",
       "      <td>Easy Not Easy</td>\n",
       "      <td></td>\n",
       "      <td>new retreat</td>\n",
       "      <td></td>\n",
       "    </tr>\n",
       "    <tr>\n",
       "      <th>4</th>\n",
       "      <td>1256397481</td>\n",
       "      <td>Jay Munly</td>\n",
       "      <td>b1d01525-965a-4ffa-a2d4-17623e1d8169</td>\n",
       "      <td>Munly &amp; The Lee Lewis Harlots</td>\n",
       "      <td>0249a2c4-43ef-4185-9b5a-ab68245d8ed6</td>\n",
       "      <td>Big Black Bull Comes Like a Caesar</td>\n",
       "      <td></td>\n",
       "    </tr>\n",
       "    <tr>\n",
       "      <th>...</th>\n",
       "      <td>...</td>\n",
       "      <td>...</td>\n",
       "      <td>...</td>\n",
       "      <td>...</td>\n",
       "      <td>...</td>\n",
       "      <td>...</td>\n",
       "      <td>...</td>\n",
       "    </tr>\n",
       "    <tr>\n",
       "      <th>1162</th>\n",
       "      <td>5</td>\n",
       "      <td>Nick Cave &amp; the Bad Seeds</td>\n",
       "      <td></td>\n",
       "      <td></td>\n",
       "      <td></td>\n",
       "      <td>01 - Into My Arms</td>\n",
       "      <td></td>\n",
       "    </tr>\n",
       "    <tr>\n",
       "      <th>1163</th>\n",
       "      <td>4</td>\n",
       "      <td>Nick Cave &amp; the Bad Seeds</td>\n",
       "      <td></td>\n",
       "      <td></td>\n",
       "      <td></td>\n",
       "      <td>01 - Into My Arms</td>\n",
       "      <td></td>\n",
       "    </tr>\n",
       "    <tr>\n",
       "      <th>1164</th>\n",
       "      <td>3</td>\n",
       "      <td>Nick Cave &amp; the Bad Seeds</td>\n",
       "      <td></td>\n",
       "      <td></td>\n",
       "      <td></td>\n",
       "      <td>01 - Into My Arms</td>\n",
       "      <td></td>\n",
       "    </tr>\n",
       "    <tr>\n",
       "      <th>1165</th>\n",
       "      <td>2</td>\n",
       "      <td>Nick Cave &amp; the Bad Seeds</td>\n",
       "      <td></td>\n",
       "      <td></td>\n",
       "      <td></td>\n",
       "      <td>01 - Into My Arms</td>\n",
       "      <td></td>\n",
       "    </tr>\n",
       "    <tr>\n",
       "      <th>1166</th>\n",
       "      <td>1</td>\n",
       "      <td>Nick Cave &amp; the Bad Seeds</td>\n",
       "      <td></td>\n",
       "      <td></td>\n",
       "      <td></td>\n",
       "      <td>01 - Into My Arms</td>\n",
       "      <td></td>\n",
       "    </tr>\n",
       "  </tbody>\n",
       "</table>\n",
       "<p>1167 rows × 7 columns</p>\n",
       "</div>"
      ],
      "text/plain": [
       "             uts                     artist  \\\n",
       "0     1256398267          Sons of Perdition   \n",
       "1     1256398079                  Castanets   \n",
       "2     1256397837                Ninth House   \n",
       "3     1256397610                     Graves   \n",
       "4     1256397481                  Jay Munly   \n",
       "...          ...                        ...   \n",
       "1162           5  Nick Cave & the Bad Seeds   \n",
       "1163           4  Nick Cave & the Bad Seeds   \n",
       "1164           3  Nick Cave & the Bad Seeds   \n",
       "1165           2  Nick Cave & the Bad Seeds   \n",
       "1166           1  Nick Cave & the Bad Seeds   \n",
       "\n",
       "                               artist_mbid                          album  \\\n",
       "0     49a86aa1-5e7d-4a81-8a93-ecd04387b647         The Kingdom Is On Fire   \n",
       "1     e45cc18b-8cda-423b-8763-91e0303614e3           First Light's Freeze   \n",
       "2     33056033-a663-48ae-9d18-4466ee740f6c  The Eye That Refuses To Blink   \n",
       "3                                                           Easy Not Easy   \n",
       "4     b1d01525-965a-4ffa-a2d4-17623e1d8169  Munly & The Lee Lewis Harlots   \n",
       "...                                    ...                            ...   \n",
       "1162                                                                        \n",
       "1163                                                                        \n",
       "1164                                                                        \n",
       "1165                                                                        \n",
       "1166                                                                        \n",
       "\n",
       "                                album_mbid  \\\n",
       "0     d8d69f12-fd9c-4a50-ba44-68393c4b79d1   \n",
       "1     9b117fed-2eea-456a-8b35-faffb799ebea   \n",
       "2                                            \n",
       "3                                            \n",
       "4     0249a2c4-43ef-4185-9b5a-ab68245d8ed6   \n",
       "...                                    ...   \n",
       "1162                                         \n",
       "1163                                         \n",
       "1164                                         \n",
       "1165                                         \n",
       "1166                                         \n",
       "\n",
       "                                   title                            track_mbid  \n",
       "0                                 Anhelo  77fa6f51-e7d8-30a9-acd9-8bc4609d34af  \n",
       "1                 Good Friend, Yr Hunger  95af0bc9-08a7-34f3-b6b2-12d7c62f362e  \n",
       "2                               Jealousy                                        \n",
       "3                            new retreat                                        \n",
       "4     Big Black Bull Comes Like a Caesar                                        \n",
       "...                                  ...                                   ...  \n",
       "1162                   01 - Into My Arms                                        \n",
       "1163                   01 - Into My Arms                                        \n",
       "1164                   01 - Into My Arms                                        \n",
       "1165                   01 - Into My Arms                                        \n",
       "1166                   01 - Into My Arms                                        \n",
       "\n",
       "[1167 rows x 7 columns]"
      ]
     },
     "execution_count": 20,
     "metadata": {},
     "output_type": "execute_result"
    }
   ],
   "source": [
    "apl.tot_scro(l_user)"
   ]
  },
  {
   "cell_type": "code",
   "execution_count": null,
   "id": "414d0212",
   "metadata": {},
   "outputs": [],
   "source": []
  }
 ],
 "metadata": {
  "kernelspec": {
   "display_name": "sinatxe",
   "language": "python",
   "name": "sinatxe"
  },
  "language_info": {
   "codemirror_mode": {
    "name": "ipython",
    "version": 3
   },
   "file_extension": ".py",
   "mimetype": "text/x-python",
   "name": "python",
   "nbconvert_exporter": "python",
   "pygments_lexer": "ipython3",
   "version": "3.8.5"
  }
 },
 "nbformat": 4,
 "nbformat_minor": 5
}
