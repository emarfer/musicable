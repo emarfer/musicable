{
 "cells": [
  {
   "cell_type": "code",
   "execution_count": 1,
   "id": "d4538082",
   "metadata": {},
   "outputs": [],
   "source": [
    "import os\n",
    "from os import walk\n",
    "import pandas as pd\n",
    "import tinytag\n",
    "from tinytag import TinyTag\n"
   ]
  },
  {
   "cell_type": "code",
   "execution_count": 2,
   "id": "3cbae1d0",
   "metadata": {},
   "outputs": [
    {
     "data": {
      "text/plain": [
       "['$RECYCLE.BIN',\n",
       " '.Trash-1000',\n",
       " 'Autonomos',\n",
       " 'Base de datos',\n",
       " 'Descargas',\n",
       " 'Documentos',\n",
       " 'Documents',\n",
       " 'Escritorio',\n",
       " 'gitproyects',\n",
       " 'holi.txt',\n",
       " 'Imágenes',\n",
       " 'Juegos',\n",
       " 'Music',\n",
       " 'Música Miscelánea',\n",
       " 'Programas',\n",
       " 'realme',\n",
       " 'Soulseek',\n",
       " 'System Volume Information',\n",
       " 'Torrent',\n",
       " 'web.txt',\n",
       " 'Wondershare UniConverter 13',\n",
       " 'zz imagnes']"
      ]
     },
     "execution_count": 2,
     "metadata": {},
     "output_type": "execute_result"
    }
   ],
   "source": [
    "os.listdir('../../..')"
   ]
  },
  {
   "cell_type": "code",
   "execution_count": 3,
   "id": "8ec7f8fb",
   "metadata": {},
   "outputs": [],
   "source": [
    "from os import walk\n",
    "\n",
    "total = []\n",
    "for (path, ficheros, archivos) in walk(\"../../../Music\"):\n",
    "    dicc = {}\n",
    "    dicc['path'] =  path\n",
    "    dicc['ficheros'] = ficheros\n",
    "    dicc['archivos'] = archivos\n",
    "    total.append(dicc)\n",
    "    #print(dicc['path'])"
   ]
  },
  {
   "cell_type": "code",
   "execution_count": 4,
   "id": "7685018a",
   "metadata": {},
   "outputs": [],
   "source": [
    "dataf = pd.DataFrame(total)"
   ]
  },
  {
   "cell_type": "code",
   "execution_count": 6,
   "id": "325b3e6d",
   "metadata": {},
   "outputs": [
    {
     "name": "stdout",
     "output_type": "stream",
     "text": [
      "<class 'pandas.core.frame.DataFrame'>\n"
     ]
    }
   ],
   "source": [
    "print(type(dataf))"
   ]
  },
  {
   "cell_type": "code",
   "execution_count": 6,
   "id": "32b1a093",
   "metadata": {},
   "outputs": [
    {
     "data": {
      "text/html": [
       "<div>\n",
       "<style scoped>\n",
       "    .dataframe tbody tr th:only-of-type {\n",
       "        vertical-align: middle;\n",
       "    }\n",
       "\n",
       "    .dataframe tbody tr th {\n",
       "        vertical-align: top;\n",
       "    }\n",
       "\n",
       "    .dataframe thead th {\n",
       "        text-align: right;\n",
       "    }\n",
       "</style>\n",
       "<table border=\"1\" class=\"dataframe\">\n",
       "  <thead>\n",
       "    <tr style=\"text-align: right;\">\n",
       "      <th></th>\n",
       "      <th>path</th>\n",
       "      <th>ficheros</th>\n",
       "      <th>archivos</th>\n",
       "    </tr>\n",
       "  </thead>\n",
       "  <tbody>\n",
       "    <tr>\n",
       "      <th>2471</th>\n",
       "      <td>../../../Music/Rock Ibérico, punkarra y rock l...</td>\n",
       "      <td>[]</td>\n",
       "      <td>[01 Viviré.mp3, 02 Deprisa, deprisa.mp3, 03 Va...</td>\n",
       "    </tr>\n",
       "    <tr>\n",
       "      <th>262</th>\n",
       "      <td>../../../Music/Cantautores/Quique González/200...</td>\n",
       "      <td>[]</td>\n",
       "      <td>[01 Pequeñas Monedas Grandes Mentiras.mp3, 02 ...</td>\n",
       "    </tr>\n",
       "    <tr>\n",
       "      <th>2165</th>\n",
       "      <td>../../../Music/Pop, Pop Dance, Club/Matchbox 2...</td>\n",
       "      <td>[]</td>\n",
       "      <td>[01 Angry.mp3, 02 Black &amp; White People.mp3, 03...</td>\n",
       "    </tr>\n",
       "    <tr>\n",
       "      <th>1349</th>\n",
       "      <td>../../../Music/Funk, Jazz, Blues, Swing y Rock...</td>\n",
       "      <td>[]</td>\n",
       "      <td>[01 Umbrella.mp3, 02 Love in This Club.mp3, 03...</td>\n",
       "    </tr>\n",
       "    <tr>\n",
       "      <th>2086</th>\n",
       "      <td>../../../Music/Pop, Pop Dance, Club/Cher/1989 ...</td>\n",
       "      <td>[]</td>\n",
       "      <td>[01 If I Could Turn Back Time.mp3, 02 Just Lik...</td>\n",
       "    </tr>\n",
       "    <tr>\n",
       "      <th>1795</th>\n",
       "      <td>../../../Music/Metal, hard rock/Heart/1987 Bad...</td>\n",
       "      <td>[]</td>\n",
       "      <td>[01 Who Will You Run To.mp3, 02 Alone.mp3, 03 ...</td>\n",
       "    </tr>\n",
       "    <tr>\n",
       "      <th>1610</th>\n",
       "      <td>../../../Music/Indie, Rock Alt, Grunge/Lana de...</td>\n",
       "      <td>[]</td>\n",
       "      <td>[01 Love.mp3, 02 Lust For Life.mp3, 03 13 Beac...</td>\n",
       "    </tr>\n",
       "    <tr>\n",
       "      <th>2202</th>\n",
       "      <td>../../../Music/Pop, Pop Dance, Club/Rihanna/20...</td>\n",
       "      <td>[]</td>\n",
       "      <td>[01 Consideration (feat. SZA).mp3, 02 James Jo...</td>\n",
       "    </tr>\n",
       "  </tbody>\n",
       "</table>\n",
       "</div>"
      ],
      "text/plain": [
       "                                                   path ficheros  \\\n",
       "2471  ../../../Music/Rock Ibérico, punkarra y rock l...       []   \n",
       "262   ../../../Music/Cantautores/Quique González/200...       []   \n",
       "2165  ../../../Music/Pop, Pop Dance, Club/Matchbox 2...       []   \n",
       "1349  ../../../Music/Funk, Jazz, Blues, Swing y Rock...       []   \n",
       "2086  ../../../Music/Pop, Pop Dance, Club/Cher/1989 ...       []   \n",
       "1795  ../../../Music/Metal, hard rock/Heart/1987 Bad...       []   \n",
       "1610  ../../../Music/Indie, Rock Alt, Grunge/Lana de...       []   \n",
       "2202  ../../../Music/Pop, Pop Dance, Club/Rihanna/20...       []   \n",
       "\n",
       "                                               archivos  \n",
       "2471  [01 Viviré.mp3, 02 Deprisa, deprisa.mp3, 03 Va...  \n",
       "262   [01 Pequeñas Monedas Grandes Mentiras.mp3, 02 ...  \n",
       "2165  [01 Angry.mp3, 02 Black & White People.mp3, 03...  \n",
       "1349  [01 Umbrella.mp3, 02 Love in This Club.mp3, 03...  \n",
       "2086  [01 If I Could Turn Back Time.mp3, 02 Just Lik...  \n",
       "1795  [01 Who Will You Run To.mp3, 02 Alone.mp3, 03 ...  \n",
       "1610  [01 Love.mp3, 02 Lust For Life.mp3, 03 13 Beac...  \n",
       "2202  [01 Consideration (feat. SZA).mp3, 02 James Jo...  "
      ]
     },
     "execution_count": 6,
     "metadata": {},
     "output_type": "execute_result"
    }
   ],
   "source": [
    "dataf.sample(8)"
   ]
  },
  {
   "cell_type": "code",
   "execution_count": 7,
   "id": "dbfa39ac",
   "metadata": {},
   "outputs": [],
   "source": [
    "lista = list(dataf.archivos.value_counts().head(8).keys())"
   ]
  },
  {
   "cell_type": "code",
   "execution_count": 8,
   "id": "9d307d23",
   "metadata": {},
   "outputs": [],
   "source": [
    "dropeando = dataf[dataf['archivos'].isin(lista)].index"
   ]
  },
  {
   "cell_type": "code",
   "execution_count": 9,
   "id": "76f3904d",
   "metadata": {},
   "outputs": [
    {
     "data": {
      "text/plain": [
       "[[],\n",
       " ['folder.jpg'],\n",
       " ['desktop.ini'],\n",
       " ['Folder.jpg'],\n",
       " ['Thumbs.db'],\n",
       " ['.BridgeLabelsAndRatings'],\n",
       " ['photothumb.db'],\n",
       " ['.DS_Store']]"
      ]
     },
     "execution_count": 9,
     "metadata": {},
     "output_type": "execute_result"
    }
   ],
   "source": [
    "lista"
   ]
  },
  {
   "cell_type": "code",
   "execution_count": 10,
   "id": "15e93363",
   "metadata": {},
   "outputs": [],
   "source": [
    "dataf.drop(dropeando,inplace = True)"
   ]
  },
  {
   "cell_type": "code",
   "execution_count": 11,
   "id": "6928a820",
   "metadata": {},
   "outputs": [
    {
     "data": {
      "text/html": [
       "<div>\n",
       "<style scoped>\n",
       "    .dataframe tbody tr th:only-of-type {\n",
       "        vertical-align: middle;\n",
       "    }\n",
       "\n",
       "    .dataframe tbody tr th {\n",
       "        vertical-align: top;\n",
       "    }\n",
       "\n",
       "    .dataframe thead th {\n",
       "        text-align: right;\n",
       "    }\n",
       "</style>\n",
       "<table border=\"1\" class=\"dataframe\">\n",
       "  <thead>\n",
       "    <tr style=\"text-align: right;\">\n",
       "      <th></th>\n",
       "      <th>path</th>\n",
       "      <th>ficheros</th>\n",
       "      <th>archivos</th>\n",
       "    </tr>\n",
       "  </thead>\n",
       "  <tbody>\n",
       "    <tr>\n",
       "      <th>2267</th>\n",
       "      <td>../../../Music/Punky, rap metal, Ska y Reggae/...</td>\n",
       "      <td>[]</td>\n",
       "      <td>[01 No Woman No Cry (live at the Roxy).mp3, 02...</td>\n",
       "    </tr>\n",
       "    <tr>\n",
       "      <th>414</th>\n",
       "      <td>../../../Music/Classic Punk, New Wave, Garage ...</td>\n",
       "      <td>[]</td>\n",
       "      <td>[01 Janie Jones.mp3, 02 Remote Control.mp3, 03...</td>\n",
       "    </tr>\n",
       "    <tr>\n",
       "      <th>1834</th>\n",
       "      <td>../../../Music/Metal, hard rock/Metallica/1999...</td>\n",
       "      <td>[]</td>\n",
       "      <td>[01 Nothing Else Matters (London Symphony Orch...</td>\n",
       "    </tr>\n",
       "    <tr>\n",
       "      <th>394</th>\n",
       "      <td>../../../Music/Classic Punk, New Wave, Garage ...</td>\n",
       "      <td>[]</td>\n",
       "      <td>[.DS_Store, 01 Blitzkrieg Bop.mp3, 02 Beat On ...</td>\n",
       "    </tr>\n",
       "    <tr>\n",
       "      <th>62</th>\n",
       "      <td>../../../Music/Britpop, Indie y rock alt britá...</td>\n",
       "      <td>[]</td>\n",
       "      <td>[01 Orchestral Intro.mp3, 02 Welcome To The Wo...</td>\n",
       "    </tr>\n",
       "    <tr>\n",
       "      <th>708</th>\n",
       "      <td>../../../Music/Country, Folk, singersongwritte...</td>\n",
       "      <td>[]</td>\n",
       "      <td>[01 Connected by Love.mp3, 02 Why Walk a Dog.m...</td>\n",
       "    </tr>\n",
       "    <tr>\n",
       "      <th>150</th>\n",
       "      <td>../../../Music/Britpop, Indie y rock alt britá...</td>\n",
       "      <td>[]</td>\n",
       "      <td>[01 A Rush and a Push and the Land is Ours.mp3...</td>\n",
       "    </tr>\n",
       "    <tr>\n",
       "      <th>426</th>\n",
       "      <td>../../../Music/Classic Punk, New Wave, Garage ...</td>\n",
       "      <td>[]</td>\n",
       "      <td>[01 The Great Banana Hoax.mp3, 02 Children of ...</td>\n",
       "    </tr>\n",
       "  </tbody>\n",
       "</table>\n",
       "</div>"
      ],
      "text/plain": [
       "                                                   path ficheros  \\\n",
       "2267  ../../../Music/Punky, rap metal, Ska y Reggae/...       []   \n",
       "414   ../../../Music/Classic Punk, New Wave, Garage ...       []   \n",
       "1834  ../../../Music/Metal, hard rock/Metallica/1999...       []   \n",
       "394   ../../../Music/Classic Punk, New Wave, Garage ...       []   \n",
       "62    ../../../Music/Britpop, Indie y rock alt britá...       []   \n",
       "708   ../../../Music/Country, Folk, singersongwritte...       []   \n",
       "150   ../../../Music/Britpop, Indie y rock alt britá...       []   \n",
       "426   ../../../Music/Classic Punk, New Wave, Garage ...       []   \n",
       "\n",
       "                                               archivos  \n",
       "2267  [01 No Woman No Cry (live at the Roxy).mp3, 02...  \n",
       "414   [01 Janie Jones.mp3, 02 Remote Control.mp3, 03...  \n",
       "1834  [01 Nothing Else Matters (London Symphony Orch...  \n",
       "394   [.DS_Store, 01 Blitzkrieg Bop.mp3, 02 Beat On ...  \n",
       "62    [01 Orchestral Intro.mp3, 02 Welcome To The Wo...  \n",
       "708   [01 Connected by Love.mp3, 02 Why Walk a Dog.m...  \n",
       "150   [01 A Rush and a Push and the Land is Ours.mp3...  \n",
       "426   [01 The Great Banana Hoax.mp3, 02 Children of ...  "
      ]
     },
     "execution_count": 11,
     "metadata": {},
     "output_type": "execute_result"
    }
   ],
   "source": [
    "dataf.sample(8)"
   ]
  },
  {
   "cell_type": "code",
   "execution_count": 12,
   "id": "4cac126f",
   "metadata": {},
   "outputs": [],
   "source": [
    "# listaind = []\n",
    "# for i,r in dataf.iterrows():\n",
    "#     if r.ficheros == []:\n",
    "#         listaind.append(i)"
   ]
  },
  {
   "cell_type": "code",
   "execution_count": 13,
   "id": "54636d42",
   "metadata": {},
   "outputs": [],
   "source": [
    "# dataf.drop(listaind,inplace = True)"
   ]
  },
  {
   "cell_type": "code",
   "execution_count": 14,
   "id": "bbb0b534",
   "metadata": {},
   "outputs": [],
   "source": [
    "prueba = list(dataf.ficheros.value_counts()[1:8].keys())"
   ]
  },
  {
   "cell_type": "code",
   "execution_count": 15,
   "id": "43e3ea64",
   "metadata": {},
   "outputs": [
    {
     "data": {
      "text/plain": [
       "[['CD 1', 'CD 2'],\n",
       " ['CD 1', 'CD2'],\n",
       " ['CD 1', 'CD 2 Dry & Demonstration (Limited Edition)'],\n",
       " ['Disco 1 Maquetas', 'Disco 3 En Directo'],\n",
       " ['1999 Surrender'],\n",
       " ['2000 Tanto Tempo'],\n",
       " ['2004 La maqueta',\n",
       "  '2005 Cachai',\n",
       "  '2007 Camino De La Vida Entera',\n",
       "  '2015 Lugares Comunes']]"
      ]
     },
     "execution_count": 15,
     "metadata": {},
     "output_type": "execute_result"
    }
   ],
   "source": [
    "prueba"
   ]
  },
  {
   "cell_type": "code",
   "execution_count": 16,
   "id": "a0f39949",
   "metadata": {},
   "outputs": [
    {
     "data": {
      "text/plain": [
       "(1719, 3)"
      ]
     },
     "execution_count": 16,
     "metadata": {},
     "output_type": "execute_result"
    }
   ],
   "source": [
    "dataf.shape"
   ]
  },
  {
   "cell_type": "code",
   "execution_count": 17,
   "id": "7bfb5627",
   "metadata": {},
   "outputs": [
    {
     "data": {
      "text/html": [
       "<div>\n",
       "<style scoped>\n",
       "    .dataframe tbody tr th:only-of-type {\n",
       "        vertical-align: middle;\n",
       "    }\n",
       "\n",
       "    .dataframe tbody tr th {\n",
       "        vertical-align: top;\n",
       "    }\n",
       "\n",
       "    .dataframe thead th {\n",
       "        text-align: right;\n",
       "    }\n",
       "</style>\n",
       "<table border=\"1\" class=\"dataframe\">\n",
       "  <thead>\n",
       "    <tr style=\"text-align: right;\">\n",
       "      <th></th>\n",
       "      <th>path</th>\n",
       "      <th>ficheros</th>\n",
       "      <th>archivos</th>\n",
       "    </tr>\n",
       "  </thead>\n",
       "  <tbody>\n",
       "    <tr>\n",
       "      <th>1961</th>\n",
       "      <td>../../../Music/Pop Rock en español y movida/Du...</td>\n",
       "      <td>[]</td>\n",
       "      <td>[01 Rozando la eternidad.mp3, 02 El día que fu...</td>\n",
       "    </tr>\n",
       "    <tr>\n",
       "      <th>2293</th>\n",
       "      <td>../../../Music/Punky, rap metal, Ska y Reggae/...</td>\n",
       "      <td>[]</td>\n",
       "      <td>[01 D's Car Jam  Anxious Mo-Fo.mp3, 02 Theatre...</td>\n",
       "    </tr>\n",
       "    <tr>\n",
       "      <th>1755</th>\n",
       "      <td>../../../Music/Metal, hard rock/Blue Oyster Cu...</td>\n",
       "      <td>[]</td>\n",
       "      <td>[01 This Ain't The Summer Of Love.mp3, 02 True...</td>\n",
       "    </tr>\n",
       "    <tr>\n",
       "      <th>515</th>\n",
       "      <td>../../../Music/Classic Rock/Led Zeppelin/1971 ...</td>\n",
       "      <td>[]</td>\n",
       "      <td>[01 Black Dog.mp3, 02 Rock and Roll.mp3, 03 Th...</td>\n",
       "    </tr>\n",
       "    <tr>\n",
       "      <th>2496</th>\n",
       "      <td>../../../Music/Rock Ibérico, punkarra y rock l...</td>\n",
       "      <td>[]</td>\n",
       "      <td>[01 Un Suspiro Acompasado.mp3, 02 ...Y Rozar C...</td>\n",
       "    </tr>\n",
       "    <tr>\n",
       "      <th>354</th>\n",
       "      <td>../../../Music/Classic Punk, New Wave, Garage ...</td>\n",
       "      <td>[]</td>\n",
       "      <td>[01 Country Song.mp3, 02 Moving In With.mp3, 0...</td>\n",
       "    </tr>\n",
       "    <tr>\n",
       "      <th>421</th>\n",
       "      <td>../../../Music/Classic Punk, New Wave, Garage ...</td>\n",
       "      <td>[]</td>\n",
       "      <td>[01 In Between Days.mp3, 02 Kyoto Song.mp3, 03...</td>\n",
       "    </tr>\n",
       "    <tr>\n",
       "      <th>2095</th>\n",
       "      <td>../../../Music/Pop, Pop Dance, Club/Cyndi Laup...</td>\n",
       "      <td>[]</td>\n",
       "      <td>[01 Money Changes Everything.mp3, 02 Girls Jus...</td>\n",
       "    </tr>\n",
       "  </tbody>\n",
       "</table>\n",
       "</div>"
      ],
      "text/plain": [
       "                                                   path ficheros  \\\n",
       "1961  ../../../Music/Pop Rock en español y movida/Du...       []   \n",
       "2293  ../../../Music/Punky, rap metal, Ska y Reggae/...       []   \n",
       "1755  ../../../Music/Metal, hard rock/Blue Oyster Cu...       []   \n",
       "515   ../../../Music/Classic Rock/Led Zeppelin/1971 ...       []   \n",
       "2496  ../../../Music/Rock Ibérico, punkarra y rock l...       []   \n",
       "354   ../../../Music/Classic Punk, New Wave, Garage ...       []   \n",
       "421   ../../../Music/Classic Punk, New Wave, Garage ...       []   \n",
       "2095  ../../../Music/Pop, Pop Dance, Club/Cyndi Laup...       []   \n",
       "\n",
       "                                               archivos  \n",
       "1961  [01 Rozando la eternidad.mp3, 02 El día que fu...  \n",
       "2293  [01 D's Car Jam  Anxious Mo-Fo.mp3, 02 Theatre...  \n",
       "1755  [01 This Ain't The Summer Of Love.mp3, 02 True...  \n",
       "515   [01 Black Dog.mp3, 02 Rock and Roll.mp3, 03 Th...  \n",
       "2496  [01 Un Suspiro Acompasado.mp3, 02 ...Y Rozar C...  \n",
       "354   [01 Country Song.mp3, 02 Moving In With.mp3, 0...  \n",
       "421   [01 In Between Days.mp3, 02 Kyoto Song.mp3, 03...  \n",
       "2095  [01 Money Changes Everything.mp3, 02 Girls Jus...  "
      ]
     },
     "execution_count": 17,
     "metadata": {},
     "output_type": "execute_result"
    }
   ],
   "source": [
    "dataf.sample(8)"
   ]
  },
  {
   "cell_type": "code",
   "execution_count": 18,
   "id": "7f536b50",
   "metadata": {},
   "outputs": [],
   "source": [
    "dropeando_fich=[] \n",
    "for p in prueba:\n",
    "    for i,r in dataf.iterrows():\n",
    "        if r.ficheros == p:\n",
    "            dropeando_fich.append(i)"
   ]
  },
  {
   "cell_type": "code",
   "execution_count": 19,
   "id": "be845a4c",
   "metadata": {},
   "outputs": [
    {
     "data": {
      "text/plain": [
       "[2135, 2171, 53, 87, 265, 1002, 1023, 1038]"
      ]
     },
     "execution_count": 19,
     "metadata": {},
     "output_type": "execute_result"
    }
   ],
   "source": [
    "dropeando_fich"
   ]
  },
  {
   "cell_type": "code",
   "execution_count": 20,
   "id": "0cf76ad9",
   "metadata": {},
   "outputs": [],
   "source": [
    "dataf.drop(dropeando_fich, inplace = True)"
   ]
  },
  {
   "cell_type": "code",
   "execution_count": 21,
   "id": "01b4abb0",
   "metadata": {},
   "outputs": [
    {
     "data": {
      "text/plain": [
       "(1711, 3)"
      ]
     },
     "execution_count": 21,
     "metadata": {},
     "output_type": "execute_result"
    }
   ],
   "source": [
    "dataf.shape"
   ]
  },
  {
   "cell_type": "code",
   "execution_count": 22,
   "id": "68df947b",
   "metadata": {},
   "outputs": [],
   "source": [
    "dataf.drop('ficheros',axis=1,inplace = True)"
   ]
  },
  {
   "cell_type": "code",
   "execution_count": 23,
   "id": "12e9ca38",
   "metadata": {},
   "outputs": [
    {
     "data": {
      "text/html": [
       "<div>\n",
       "<style scoped>\n",
       "    .dataframe tbody tr th:only-of-type {\n",
       "        vertical-align: middle;\n",
       "    }\n",
       "\n",
       "    .dataframe tbody tr th {\n",
       "        vertical-align: top;\n",
       "    }\n",
       "\n",
       "    .dataframe thead th {\n",
       "        text-align: right;\n",
       "    }\n",
       "</style>\n",
       "<table border=\"1\" class=\"dataframe\">\n",
       "  <thead>\n",
       "    <tr style=\"text-align: right;\">\n",
       "      <th></th>\n",
       "      <th>path</th>\n",
       "      <th>archivos</th>\n",
       "    </tr>\n",
       "  </thead>\n",
       "  <tbody>\n",
       "    <tr>\n",
       "      <th>2196</th>\n",
       "      <td>../../../Music/Pop, Pop Dance, Club/One Direct...</td>\n",
       "      <td>[01 Hey Angel.mp3, 02 Drag Me Down.mp3, 03 Per...</td>\n",
       "    </tr>\n",
       "    <tr>\n",
       "      <th>64</th>\n",
       "      <td>../../../Music/Britpop, Indie y rock alt britá...</td>\n",
       "      <td>[01 Fall Forever.mp3, 02 Super Rat.mp3, 03 (I'...</td>\n",
       "    </tr>\n",
       "    <tr>\n",
       "      <th>402</th>\n",
       "      <td>../../../Music/Classic Punk, New Wave, Garage ...</td>\n",
       "      <td>[01 Spellbound.mp3, 02 Into The Light.mp3, 03 ...</td>\n",
       "    </tr>\n",
       "    <tr>\n",
       "      <th>2214</th>\n",
       "      <td>../../../Music/Pop, Pop Dance, Club/Roxette/19...</td>\n",
       "      <td>[01 June Afternoon.mp3, 02 You Don't Understan...</td>\n",
       "    </tr>\n",
       "    <tr>\n",
       "      <th>1208</th>\n",
       "      <td>../../../Music/Flamenco, Fusión, Música del mu...</td>\n",
       "      <td>[01 Ná en la Nevera.mp3, 02 Vacileo.mp3, 03 Pa...</td>\n",
       "    </tr>\n",
       "  </tbody>\n",
       "</table>\n",
       "</div>"
      ],
      "text/plain": [
       "                                                   path  \\\n",
       "2196  ../../../Music/Pop, Pop Dance, Club/One Direct...   \n",
       "64    ../../../Music/Britpop, Indie y rock alt britá...   \n",
       "402   ../../../Music/Classic Punk, New Wave, Garage ...   \n",
       "2214  ../../../Music/Pop, Pop Dance, Club/Roxette/19...   \n",
       "1208  ../../../Music/Flamenco, Fusión, Música del mu...   \n",
       "\n",
       "                                               archivos  \n",
       "2196  [01 Hey Angel.mp3, 02 Drag Me Down.mp3, 03 Per...  \n",
       "64    [01 Fall Forever.mp3, 02 Super Rat.mp3, 03 (I'...  \n",
       "402   [01 Spellbound.mp3, 02 Into The Light.mp3, 03 ...  \n",
       "2214  [01 June Afternoon.mp3, 02 You Don't Understan...  \n",
       "1208  [01 Ná en la Nevera.mp3, 02 Vacileo.mp3, 03 Pa...  "
      ]
     },
     "execution_count": 23,
     "metadata": {},
     "output_type": "execute_result"
    }
   ],
   "source": [
    "dataf.sample(5)"
   ]
  },
  {
   "cell_type": "code",
   "execution_count": 24,
   "id": "5ff973a6",
   "metadata": {},
   "outputs": [],
   "source": [
    "newdata = []\n",
    "for i,r in dataf.iterrows():\n",
    "    for e in r.archivos:\n",
    "\n",
    "        if e[-3:] !='jpg':\n",
    "            \n",
    "            dicc = {}\n",
    "            dicc['song'] = e\n",
    "            dicc['alb'] = r.path\n",
    "            newdata.append(dicc)"
   ]
  },
  {
   "cell_type": "code",
   "execution_count": 25,
   "id": "ca3f8731",
   "metadata": {},
   "outputs": [
    {
     "data": {
      "text/plain": [
       "21439"
      ]
     },
     "execution_count": 25,
     "metadata": {},
     "output_type": "execute_result"
    }
   ],
   "source": [
    "len(newdata)"
   ]
  },
  {
   "cell_type": "code",
   "execution_count": 26,
   "id": "c3b30843",
   "metadata": {},
   "outputs": [],
   "source": [
    "archiveros = pd.DataFrame(newdata)"
   ]
  },
  {
   "cell_type": "code",
   "execution_count": 27,
   "id": "42653047",
   "metadata": {},
   "outputs": [
    {
     "data": {
      "text/html": [
       "<div>\n",
       "<style scoped>\n",
       "    .dataframe tbody tr th:only-of-type {\n",
       "        vertical-align: middle;\n",
       "    }\n",
       "\n",
       "    .dataframe tbody tr th {\n",
       "        vertical-align: top;\n",
       "    }\n",
       "\n",
       "    .dataframe thead th {\n",
       "        text-align: right;\n",
       "    }\n",
       "</style>\n",
       "<table border=\"1\" class=\"dataframe\">\n",
       "  <thead>\n",
       "    <tr style=\"text-align: right;\">\n",
       "      <th></th>\n",
       "      <th>song</th>\n",
       "      <th>alb</th>\n",
       "    </tr>\n",
       "  </thead>\n",
       "  <tbody>\n",
       "    <tr>\n",
       "      <th>4955</th>\n",
       "      <td>12 I've Been Driving on Bald Mountain.mp3</td>\n",
       "      <td>../../../Music/Classic Rock/The Kinks/1964 Kin...</td>\n",
       "    </tr>\n",
       "    <tr>\n",
       "      <th>5729</th>\n",
       "      <td>01 Dinosaur Sex.mp3</td>\n",
       "      <td>../../../Music/Country, Folk, singersongwritte...</td>\n",
       "    </tr>\n",
       "    <tr>\n",
       "      <th>7780</th>\n",
       "      <td>01 Karmageddon.mp3</td>\n",
       "      <td>../../../Music/Electronica, House, Chill out &amp;...</td>\n",
       "    </tr>\n",
       "    <tr>\n",
       "      <th>21351</th>\n",
       "      <td>Belinda Carlisle - Heaven Is A Place On Earth.mp3</td>\n",
       "      <td>../../../Music/V.A/Miscelánea 2</td>\n",
       "    </tr>\n",
       "    <tr>\n",
       "      <th>5377</th>\n",
       "      <td>01 Like a Rolling Stone.mp3</td>\n",
       "      <td>../../../Music/Country, Folk, singersongwritte...</td>\n",
       "    </tr>\n",
       "    <tr>\n",
       "      <th>2032</th>\n",
       "      <td>01 Desmejorado.mp3</td>\n",
       "      <td>../../../Music/Cantautores/Pablo Ager/2008 Inc...</td>\n",
       "    </tr>\n",
       "    <tr>\n",
       "      <th>15352</th>\n",
       "      <td>01 Mi Habitación.mp3</td>\n",
       "      <td>../../../Music/Pop Rock en español y movida/Ch...</td>\n",
       "    </tr>\n",
       "    <tr>\n",
       "      <th>19860</th>\n",
       "      <td>photothumb.db</td>\n",
       "      <td>../../../Music/Rock Ibérico, punkarra y rock l...</td>\n",
       "    </tr>\n",
       "  </tbody>\n",
       "</table>\n",
       "</div>"
      ],
      "text/plain": [
       "                                                    song  \\\n",
       "4955           12 I've Been Driving on Bald Mountain.mp3   \n",
       "5729                                 01 Dinosaur Sex.mp3   \n",
       "7780                                  01 Karmageddon.mp3   \n",
       "21351  Belinda Carlisle - Heaven Is A Place On Earth.mp3   \n",
       "5377                         01 Like a Rolling Stone.mp3   \n",
       "2032                                  01 Desmejorado.mp3   \n",
       "15352                               01 Mi Habitación.mp3   \n",
       "19860                                      photothumb.db   \n",
       "\n",
       "                                                     alb  \n",
       "4955   ../../../Music/Classic Rock/The Kinks/1964 Kin...  \n",
       "5729   ../../../Music/Country, Folk, singersongwritte...  \n",
       "7780   ../../../Music/Electronica, House, Chill out &...  \n",
       "21351                    ../../../Music/V.A/Miscelánea 2  \n",
       "5377   ../../../Music/Country, Folk, singersongwritte...  \n",
       "2032   ../../../Music/Cantautores/Pablo Ager/2008 Inc...  \n",
       "15352  ../../../Music/Pop Rock en español y movida/Ch...  \n",
       "19860  ../../../Music/Rock Ibérico, punkarra y rock l...  "
      ]
     },
     "execution_count": 27,
     "metadata": {},
     "output_type": "execute_result"
    }
   ],
   "source": [
    "archiveros.sample(8)"
   ]
  },
  {
   "cell_type": "code",
   "execution_count": 28,
   "id": "b979671c",
   "metadata": {},
   "outputs": [
    {
     "data": {
      "text/plain": [
       "(21439, 2)"
      ]
     },
     "execution_count": 28,
     "metadata": {},
     "output_type": "execute_result"
    }
   ],
   "source": [
    "archiveros.shape"
   ]
  },
  {
   "cell_type": "code",
   "execution_count": 29,
   "id": "04155aca",
   "metadata": {},
   "outputs": [],
   "source": [
    "archiveros['ending'] = archiveros.song.str[-3:]"
   ]
  },
  {
   "cell_type": "code",
   "execution_count": 30,
   "id": "8f93ca76",
   "metadata": {},
   "outputs": [
    {
     "data": {
      "text/plain": [
       "array(['mp3', 'ngs', 'm4a', 'MP3', 'JPG', '.db', 'wma', 'peg', 'png',\n",
       "       'ore', 'txt', 'tml', 'ini', 'ico', 'm3u', 'Mp3', 'bmp'],\n",
       "      dtype=object)"
      ]
     },
     "execution_count": 30,
     "metadata": {},
     "output_type": "execute_result"
    }
   ],
   "source": [
    "archiveros.ending.unique()"
   ]
  },
  {
   "cell_type": "code",
   "execution_count": 31,
   "id": "811edfc9",
   "metadata": {},
   "outputs": [],
   "source": [
    "fuera =  ['ngs', 'JPG', '.db','peg','png','ore','txt','tml','ini','ico','bmp','m3u']"
   ]
  },
  {
   "cell_type": "code",
   "execution_count": 32,
   "id": "46206688",
   "metadata": {},
   "outputs": [],
   "source": [
    "fueraar = archiveros[archiveros['ending'].isin(fuera)].index"
   ]
  },
  {
   "cell_type": "code",
   "execution_count": 33,
   "id": "e1405b53",
   "metadata": {},
   "outputs": [],
   "source": [
    "archiveros.drop(fueraar,inplace = True)"
   ]
  },
  {
   "cell_type": "code",
   "execution_count": 34,
   "id": "d918cae1",
   "metadata": {},
   "outputs": [
    {
     "data": {
      "text/html": [
       "<div>\n",
       "<style scoped>\n",
       "    .dataframe tbody tr th:only-of-type {\n",
       "        vertical-align: middle;\n",
       "    }\n",
       "\n",
       "    .dataframe tbody tr th {\n",
       "        vertical-align: top;\n",
       "    }\n",
       "\n",
       "    .dataframe thead th {\n",
       "        text-align: right;\n",
       "    }\n",
       "</style>\n",
       "<table border=\"1\" class=\"dataframe\">\n",
       "  <thead>\n",
       "    <tr style=\"text-align: right;\">\n",
       "      <th></th>\n",
       "      <th>song</th>\n",
       "      <th>alb</th>\n",
       "      <th>ending</th>\n",
       "    </tr>\n",
       "  </thead>\n",
       "  <tbody>\n",
       "    <tr>\n",
       "      <th>9956</th>\n",
       "      <td>08 Firmamento.mp3</td>\n",
       "      <td>../../../Music/Flamenco, Fusión, Música del mu...</td>\n",
       "      <td>mp3</td>\n",
       "    </tr>\n",
       "    <tr>\n",
       "      <th>18807</th>\n",
       "      <td>04 Aún queda un sitio.mp3</td>\n",
       "      <td>../../../Music/Rock Ibérico, punkarra y rock l...</td>\n",
       "      <td>mp3</td>\n",
       "    </tr>\n",
       "    <tr>\n",
       "      <th>18337</th>\n",
       "      <td>36 Jesus And Tequila.mp3</td>\n",
       "      <td>../../../Music/Punky, rap metal, Ska y Reggae/...</td>\n",
       "      <td>mp3</td>\n",
       "    </tr>\n",
       "  </tbody>\n",
       "</table>\n",
       "</div>"
      ],
      "text/plain": [
       "                            song  \\\n",
       "9956           08 Firmamento.mp3   \n",
       "18807  04 Aún queda un sitio.mp3   \n",
       "18337   36 Jesus And Tequila.mp3   \n",
       "\n",
       "                                                     alb ending  \n",
       "9956   ../../../Music/Flamenco, Fusión, Música del mu...    mp3  \n",
       "18807  ../../../Music/Rock Ibérico, punkarra y rock l...    mp3  \n",
       "18337  ../../../Music/Punky, rap metal, Ska y Reggae/...    mp3  "
      ]
     },
     "execution_count": 34,
     "metadata": {},
     "output_type": "execute_result"
    }
   ],
   "source": [
    "archiveros.sample(3)"
   ]
  },
  {
   "cell_type": "code",
   "execution_count": 35,
   "id": "23c489f3",
   "metadata": {},
   "outputs": [
    {
     "data": {
      "text/plain": [
       "array(['mp3', 'm4a', 'MP3', 'wma', 'Mp3'], dtype=object)"
      ]
     },
     "execution_count": 35,
     "metadata": {},
     "output_type": "execute_result"
    }
   ],
   "source": [
    "archiveros.ending.unique()"
   ]
  },
  {
   "cell_type": "code",
   "execution_count": 36,
   "id": "162bc794",
   "metadata": {},
   "outputs": [],
   "source": [
    "archiveros['total'] = archiveros.alb+'/'+archiveros.song"
   ]
  },
  {
   "cell_type": "code",
   "execution_count": 37,
   "id": "f8632f43",
   "metadata": {},
   "outputs": [
    {
     "data": {
      "text/html": [
       "<div>\n",
       "<style scoped>\n",
       "    .dataframe tbody tr th:only-of-type {\n",
       "        vertical-align: middle;\n",
       "    }\n",
       "\n",
       "    .dataframe tbody tr th {\n",
       "        vertical-align: top;\n",
       "    }\n",
       "\n",
       "    .dataframe thead th {\n",
       "        text-align: right;\n",
       "    }\n",
       "</style>\n",
       "<table border=\"1\" class=\"dataframe\">\n",
       "  <thead>\n",
       "    <tr style=\"text-align: right;\">\n",
       "      <th></th>\n",
       "      <th>song</th>\n",
       "      <th>alb</th>\n",
       "      <th>ending</th>\n",
       "      <th>total</th>\n",
       "    </tr>\n",
       "  </thead>\n",
       "  <tbody>\n",
       "    <tr>\n",
       "      <th>17405</th>\n",
       "      <td>12 I Thought She Knew.mp3</td>\n",
       "      <td>../../../Music/Pop, Pop Dance, Club/NSYNC/2000...</td>\n",
       "      <td>mp3</td>\n",
       "      <td>../../../Music/Pop, Pop Dance, Club/NSYNC/2000...</td>\n",
       "    </tr>\n",
       "    <tr>\n",
       "      <th>1442</th>\n",
       "      <td>06 Mi hogar en cualquier sitio.mp3</td>\n",
       "      <td>../../../Music/Cantautores/Antonio Vega/1998 A...</td>\n",
       "      <td>mp3</td>\n",
       "      <td>../../../Music/Cantautores/Antonio Vega/1998 A...</td>\n",
       "    </tr>\n",
       "    <tr>\n",
       "      <th>12085</th>\n",
       "      <td>10 Race in the Shadows.mp3</td>\n",
       "      <td>../../../Music/Indie, Rock Alt, Grunge/Alice O...</td>\n",
       "      <td>mp3</td>\n",
       "      <td>../../../Music/Indie, Rock Alt, Grunge/Alice O...</td>\n",
       "    </tr>\n",
       "  </tbody>\n",
       "</table>\n",
       "</div>"
      ],
      "text/plain": [
       "                                     song  \\\n",
       "17405           12 I Thought She Knew.mp3   \n",
       "1442   06 Mi hogar en cualquier sitio.mp3   \n",
       "12085          10 Race in the Shadows.mp3   \n",
       "\n",
       "                                                     alb ending  \\\n",
       "17405  ../../../Music/Pop, Pop Dance, Club/NSYNC/2000...    mp3   \n",
       "1442   ../../../Music/Cantautores/Antonio Vega/1998 A...    mp3   \n",
       "12085  ../../../Music/Indie, Rock Alt, Grunge/Alice O...    mp3   \n",
       "\n",
       "                                                   total  \n",
       "17405  ../../../Music/Pop, Pop Dance, Club/NSYNC/2000...  \n",
       "1442   ../../../Music/Cantautores/Antonio Vega/1998 A...  \n",
       "12085  ../../../Music/Indie, Rock Alt, Grunge/Alice O...  "
      ]
     },
     "execution_count": 37,
     "metadata": {},
     "output_type": "execute_result"
    }
   ],
   "source": [
    "archiveros.sample(3)"
   ]
  },
  {
   "cell_type": "code",
   "execution_count": 38,
   "id": "c8efc216",
   "metadata": {},
   "outputs": [
    {
     "name": "stdout",
     "output_type": "stream",
     "text": [
      "Help on class TinyTag in module tinytag.tinytag:\n",
      "\n",
      "class TinyTag(builtins.object)\n",
      " |  TinyTag(filehandler, filesize, ignore_errors=False)\n",
      " |  \n",
      " |  Methods defined here:\n",
      " |  \n",
      " |  __init__(self, filehandler, filesize, ignore_errors=False)\n",
      " |      Initialize self.  See help(type(self)) for accurate signature.\n",
      " |  \n",
      " |  __repr__(self)\n",
      " |      Return repr(self).\n",
      " |  \n",
      " |  __str__(self)\n",
      " |      Return str(self).\n",
      " |  \n",
      " |  as_dict(self)\n",
      " |  \n",
      " |  get_image(self)\n",
      " |  \n",
      " |  load(self, tags, duration, image=False)\n",
      " |  \n",
      " |  update(self, other)\n",
      " |  \n",
      " |  ----------------------------------------------------------------------\n",
      " |  Class methods defined here:\n",
      " |  \n",
      " |  get(filename, tags=True, duration=True, image=False, ignore_errors=False, encoding=None) from builtins.type\n",
      " |  \n",
      " |  get_parser_class(filename, filehandle) from builtins.type\n",
      " |  \n",
      " |  is_supported(filename) from builtins.type\n",
      " |  \n",
      " |  ----------------------------------------------------------------------\n",
      " |  Data descriptors defined here:\n",
      " |  \n",
      " |  __dict__\n",
      " |      dictionary for instance variables (if defined)\n",
      " |  \n",
      " |  __weakref__\n",
      " |      list of weak references to the object (if defined)\n",
      "\n"
     ]
    }
   ],
   "source": [
    "help(TinyTag)"
   ]
  },
  {
   "cell_type": "code",
   "execution_count": null,
   "id": "18dc426b",
   "metadata": {},
   "outputs": [],
   "source": [
    "# self._filehandler = filehandler\n",
    "# self._filename = None  # for debugging purposes\n",
    "# self._default_encoding = None  # allow override for some file formats\n",
    "# self.filesize = filesize\n",
    "# self.album = None\n",
    "# self.albumartist = None\n",
    "# self.artist = None\n",
    "# self.audio_offset = None\n",
    "# self.bitrate = None\n",
    "# self.channels = None\n",
    "# self.comment = None\n",
    "# self.composer = None\n",
    "# self.disc = None\n",
    "# self.disc_total = None\n",
    "# self.duration = None\n",
    "# self.extra = defaultdict(lambda: None)\n",
    "# self.genre = None\n",
    "# self.samplerate = None\n",
    "# self.title = None\n",
    "# self.track = None\n",
    "# self.track_total = None\n",
    "# self.year = None\n",
    "# self._load_image = False\n",
    "# self._image_data = None\n",
    "# self._ignore_errors = ignore_errors"
   ]
  },
  {
   "cell_type": "code",
   "execution_count": 39,
   "id": "ea8cdbf3",
   "metadata": {},
   "outputs": [
    {
     "name": "stdout",
     "output_type": "stream",
     "text": [
      "../../../Music/Britpop, Indie y rock alt británico/Alex Turner/2011 Submarine/01 Stuck On The Puzzle (Intro).mp3done\n",
      "../../../Music/Britpop, Indie y rock alt británico/Royal blood/2017 How Did We Get So Dark/03 I Only Lie When I Love You.mp3done\n",
      "../../../Music/Cantautores/Marwan/2011 Las cosas que no pude responder/09 París.mp3done\n",
      "../../../Music/Classic Punk, New Wave, Garage Rock y psicodelia/Gore Gore Girls/2007 Get the gore/11 Little Baby.mp3done\n",
      "../../../Music/Classic Rock/Fleetwood Mac/1975 Fleetwood Mac (U.S. Deluxe & Expanded Edition)/10 Sugar Daddy.mp3done\n",
      "../../../Music/Classic Rock/The Kinks/1968 The Kinks Are the Village Green Preservation Society/08 Animal Farm.mp3done\n",
      "../../../Music/Country, Folk, singersongwritters/Johnny Cash/1963 Ring Of Fire/04 I Still Miss Someone.mp3done\n",
      "../../../Music/Country, Folk, singersongwritters/The Mamas & the Papas/1968 The papas & The mamas/06 Mansions.mp3done\n",
      "../../../Music/Electronica, House, Chill out & Inndustrial/Peaches/2015 Rub/10 Dumb Fuck.mp3done\n",
      "../../../Music/Flamenco, Fusión, Música del mundo, ritmos latinos y Francia/Las Niñas/2003 Ojú/01 Niñas De Barrio.mp3done\n",
      "../../../Music/Flamenco, Fusión, Música del mundo, ritmos latinos y Francia/Rosario La Tremendita/2010 A Tiempo/05 Un Cuarto De Siglo I (Granaína).mp3done\n",
      "../../../Music/Hip hop, funky, R&B/Lola Indigo/2021 La Niña/10 Tú & Yo.mp3done\n",
      "../../../Music/Indie en español/Zahara/2011 La pareja tóxica/05 El lugar donde viene a morir el amor.mp3done\n",
      "../../../Music/Indie, Rock Alt, Grunge/Pearl Jam/2006 Pearl Jam/01 Life Wasted.mp3done\n",
      "../../../Music/Metal, hard rock/Bon Jovi/2000 - Crush (Special Edition) 2010/01 It's My Life.mp3done\n",
      "../../../Music/Metal, hard rock/Tyketto/1991 Don't come easy/09 Strip Me Down.mp3done\n",
      "../../../Music/Pop Rock en español y movida/Mónica Naranjo/2000 Minage (Ed. Especial)/10 El Se Encuentra Entre Tú Y Yo (Con Mina).mp3done\n",
      "../../../Music/Pop, Pop Dance, Club/Years & Years/2015 Communion/07 Ties.mp3done\n",
      "../../../Music/Rock Ibérico, punkarra y rock latino/Coque Malla/2013 Mujeres/02 Berlín (con Leonor Watling).mp3done\n",
      "../../../Music/Rock Ibérico, punkarra y rock latino/Platero y Tú/1996 A Pelo/CD 1/03 Ramón.mp3done\n",
      "../../../Music/V.A/Miscelánea/Los Delinqüentes - Pirata del estrecho.mp3done\n",
      "done, bitches\n"
     ]
    }
   ],
   "source": [
    "listadef = []\n",
    "\n",
    "for i,r in archiveros.iterrows():\n",
    "    try:\n",
    "              \n",
    "        dicc = {}\n",
    "        tag = TinyTag.get(r.total)\n",
    "       \n",
    "        dicc['albumartist'] = tag.albumartist\n",
    "        dicc['artist'] = tag.artist\n",
    "        dicc['genre'] = tag.genre\n",
    "        dicc['album'] = tag.album\n",
    "        dicc['year'] = tag.year\n",
    "        dicc['track'] = tag.track    \n",
    "        #dicc['track_total'] = tag.track_total\n",
    "        dicc['title'] = tag.title    \n",
    "        dicc['duration'] = tag.duration\n",
    "        dicc['filesize'] = tag.filesize\n",
    "        dicc['audio_offset'] = tag.audio_offset\n",
    "        #dicc['channels'] = l.channels\n",
    "        #dicc['comment'] = l.comment\n",
    "        #dicc['composer'] = l.composer\n",
    "        #dicc['disc_total'] = l.disc_total\n",
    "        #dicc['extra'] = l.extra\n",
    "        dicc['samplerate'] = tag.samplerate        \n",
    "        dicc['archivo'] = r.song\n",
    "        dicc['ruta'] = r.alb        \n",
    "        dicc['ruta_total'] = r.total\n",
    "        #listadef.append(tag)\n",
    "        listadef.append(dicc)\n",
    "\n",
    "        if i%1000 == 0:\n",
    "            print(r.total+ 'done')\n",
    "        elif i == len(archiveros):\n",
    "            print('done, bitches')\n",
    "    except:\n",
    "        print(f'cant be done: {i}, {r.total}')\n"
   ]
  },
  {
   "cell_type": "code",
   "execution_count": 40,
   "id": "9b9a30f3",
   "metadata": {},
   "outputs": [
    {
     "data": {
      "text/plain": [
       "{'albumartist': 'Alt-J',\n",
       " 'artist': 'Alt-J',\n",
       " 'genre': 'Alternative',\n",
       " 'album': 'An Awesome Wave',\n",
       " 'year': '2012',\n",
       " 'track': '10',\n",
       " 'title': 'Fitzpleasure',\n",
       " 'duration': 220.14422550180328,\n",
       " 'filesize': 8830883,\n",
       " 'audio_offset': 27497,\n",
       " 'samplerate': 44100,\n",
       " 'archivo': '10 Fitzpleasure.mp3',\n",
       " 'ruta': '../../../Music/Britpop, Indie y rock alt británico/Alt J/2012 An awesome wave',\n",
       " 'ruta_total': '../../../Music/Britpop, Indie y rock alt británico/Alt J/2012 An awesome wave/10 Fitzpleasure.mp3'}"
      ]
     },
     "execution_count": 40,
     "metadata": {},
     "output_type": "execute_result"
    }
   ],
   "source": [
    "listadef[15]"
   ]
  },
  {
   "cell_type": "code",
   "execution_count": 41,
   "id": "24400bae",
   "metadata": {},
   "outputs": [],
   "source": [
    "#tagi = TinyTag.get('../Music/Britpop, Indie y rock alt británico/Alex Turner/2011 Submarine/01 Stuck On The Puzzle (Intro).mp3')"
   ]
  },
  {
   "cell_type": "code",
   "execution_count": 42,
   "id": "ede13fcb",
   "metadata": {},
   "outputs": [],
   "source": [
    "#type(tagi)"
   ]
  },
  {
   "cell_type": "code",
   "execution_count": 43,
   "id": "ee5c20ac",
   "metadata": {},
   "outputs": [],
   "source": [
    "music_df = pd.DataFrame(listadef)"
   ]
  },
  {
   "cell_type": "code",
   "execution_count": 44,
   "id": "c9153006",
   "metadata": {
    "scrolled": true
   },
   "outputs": [
    {
     "data": {
      "text/html": [
       "<div>\n",
       "<style scoped>\n",
       "    .dataframe tbody tr th:only-of-type {\n",
       "        vertical-align: middle;\n",
       "    }\n",
       "\n",
       "    .dataframe tbody tr th {\n",
       "        vertical-align: top;\n",
       "    }\n",
       "\n",
       "    .dataframe thead th {\n",
       "        text-align: right;\n",
       "    }\n",
       "</style>\n",
       "<table border=\"1\" class=\"dataframe\">\n",
       "  <thead>\n",
       "    <tr style=\"text-align: right;\">\n",
       "      <th></th>\n",
       "      <th>albumartist</th>\n",
       "      <th>artist</th>\n",
       "      <th>genre</th>\n",
       "      <th>album</th>\n",
       "      <th>year</th>\n",
       "      <th>track</th>\n",
       "      <th>title</th>\n",
       "      <th>duration</th>\n",
       "      <th>filesize</th>\n",
       "      <th>audio_offset</th>\n",
       "      <th>samplerate</th>\n",
       "      <th>archivo</th>\n",
       "      <th>ruta</th>\n",
       "      <th>ruta_total</th>\n",
       "    </tr>\n",
       "  </thead>\n",
       "  <tbody>\n",
       "    <tr>\n",
       "      <th>1912</th>\n",
       "      <td>Luis Ramiro Y Marwan</td>\n",
       "      <td>Luis Ramiro Y Marwan</td>\n",
       "      <td>Cantautor</td>\n",
       "      <td>Directo Galileo</td>\n",
       "      <td>2010</td>\n",
       "      <td>16</td>\n",
       "      <td>Te Quiero Y Te Odio</td>\n",
       "      <td>227.958625</td>\n",
       "      <td>9150474</td>\n",
       "      <td>32001.0</td>\n",
       "      <td>48000.0</td>\n",
       "      <td>16 Te Quiero Y Te Odio.mp3</td>\n",
       "      <td>../../../Music/Cantautores/Luis Ramiro y Marwa...</td>\n",
       "      <td>../../../Music/Cantautores/Luis Ramiro y Marwa...</td>\n",
       "    </tr>\n",
       "    <tr>\n",
       "      <th>10128</th>\n",
       "      <td>ZAZ</td>\n",
       "      <td>Zaz</td>\n",
       "      <td>Rock, Pop, Folk, World, &amp; Country</td>\n",
       "      <td>Effet Miroir</td>\n",
       "      <td>2018</td>\n",
       "      <td>05</td>\n",
       "      <td>Mes Souvenirs De Toi</td>\n",
       "      <td>209.903255</td>\n",
       "      <td>8419155</td>\n",
       "      <td>25291.0</td>\n",
       "      <td>44100.0</td>\n",
       "      <td>05 Mes Souvenirs De Toi.mp3</td>\n",
       "      <td>../../../Music/Flamenco, Fusión, Música del mu...</td>\n",
       "      <td>../../../Music/Flamenco, Fusión, Música del mu...</td>\n",
       "    </tr>\n",
       "    <tr>\n",
       "      <th>11315</th>\n",
       "      <td>Izal</td>\n",
       "      <td>Izal</td>\n",
       "      <td>alternativo</td>\n",
       "      <td>Agujeros de gusano</td>\n",
       "      <td>2013</td>\n",
       "      <td>05</td>\n",
       "      <td>Agujeros de gusano</td>\n",
       "      <td>245.952633</td>\n",
       "      <td>9862825</td>\n",
       "      <td>25514.0</td>\n",
       "      <td>44100.0</td>\n",
       "      <td>05 Agujeros de gusano.mp3</td>\n",
       "      <td>../../../Music/Indie en español/IZAL/2013 Aguj...</td>\n",
       "      <td>../../../Music/Indie en español/IZAL/2013 Aguj...</td>\n",
       "    </tr>\n",
       "  </tbody>\n",
       "</table>\n",
       "</div>"
      ],
      "text/plain": [
       "                albumartist                artist  \\\n",
       "1912   Luis Ramiro Y Marwan  Luis Ramiro Y Marwan   \n",
       "10128                   ZAZ                   Zaz   \n",
       "11315                  Izal                  Izal   \n",
       "\n",
       "                                   genre               album  year track  \\\n",
       "1912                           Cantautor     Directo Galileo  2010    16   \n",
       "10128  Rock, Pop, Folk, World, & Country        Effet Miroir  2018    05   \n",
       "11315                        alternativo  Agujeros de gusano  2013    05   \n",
       "\n",
       "                      title    duration  filesize  audio_offset  samplerate  \\\n",
       "1912    Te Quiero Y Te Odio  227.958625   9150474       32001.0     48000.0   \n",
       "10128  Mes Souvenirs De Toi  209.903255   8419155       25291.0     44100.0   \n",
       "11315    Agujeros de gusano  245.952633   9862825       25514.0     44100.0   \n",
       "\n",
       "                           archivo  \\\n",
       "1912    16 Te Quiero Y Te Odio.mp3   \n",
       "10128  05 Mes Souvenirs De Toi.mp3   \n",
       "11315    05 Agujeros de gusano.mp3   \n",
       "\n",
       "                                                    ruta  \\\n",
       "1912   ../../../Music/Cantautores/Luis Ramiro y Marwa...   \n",
       "10128  ../../../Music/Flamenco, Fusión, Música del mu...   \n",
       "11315  ../../../Music/Indie en español/IZAL/2013 Aguj...   \n",
       "\n",
       "                                              ruta_total  \n",
       "1912   ../../../Music/Cantautores/Luis Ramiro y Marwa...  \n",
       "10128  ../../../Music/Flamenco, Fusión, Música del mu...  \n",
       "11315  ../../../Music/Indie en español/IZAL/2013 Aguj...  "
      ]
     },
     "execution_count": 44,
     "metadata": {},
     "output_type": "execute_result"
    }
   ],
   "source": [
    "music_df.sample(3)"
   ]
  },
  {
   "cell_type": "code",
   "execution_count": 45,
   "id": "87d64fb9",
   "metadata": {},
   "outputs": [
    {
     "data": {
      "text/plain": [
       "(21236, 14)"
      ]
     },
     "execution_count": 45,
     "metadata": {},
     "output_type": "execute_result"
    }
   ],
   "source": [
    "music_df.shape"
   ]
  },
  {
   "cell_type": "code",
   "execution_count": 46,
   "id": "bc78836a",
   "metadata": {},
   "outputs": [
    {
     "name": "stdout",
     "output_type": "stream",
     "text": [
      "<class 'pandas.core.frame.DataFrame'>\n",
      "RangeIndex: 21236 entries, 0 to 21235\n",
      "Data columns (total 14 columns):\n",
      " #   Column        Non-Null Count  Dtype  \n",
      "---  ------        --------------  -----  \n",
      " 0   albumartist   21234 non-null  object \n",
      " 1   artist        21236 non-null  object \n",
      " 2   genre         14471 non-null  object \n",
      " 3   album         21236 non-null  object \n",
      " 4   year          21236 non-null  object \n",
      " 5   track         20375 non-null  object \n",
      " 6   title         21236 non-null  object \n",
      " 7   duration      21235 non-null  float64\n",
      " 8   filesize      21236 non-null  int64  \n",
      " 9   audio_offset  21136 non-null  float64\n",
      " 10  samplerate    21235 non-null  float64\n",
      " 11  archivo       21236 non-null  object \n",
      " 12  ruta          21236 non-null  object \n",
      " 13  ruta_total    21236 non-null  object \n",
      "dtypes: float64(3), int64(1), object(10)\n",
      "memory usage: 2.3+ MB\n"
     ]
    }
   ],
   "source": [
    "music_df.info()"
   ]
  },
  {
   "cell_type": "code",
   "execution_count": 47,
   "id": "a9483bd9",
   "metadata": {},
   "outputs": [
    {
     "data": {
      "text/plain": [
       "albumartist        2\n",
       "artist             0\n",
       "genre           6765\n",
       "album              0\n",
       "year               0\n",
       "track            861\n",
       "title              0\n",
       "duration           1\n",
       "filesize           0\n",
       "audio_offset     100\n",
       "samplerate         1\n",
       "archivo            0\n",
       "ruta               0\n",
       "ruta_total         0\n",
       "dtype: int64"
      ]
     },
     "execution_count": 47,
     "metadata": {},
     "output_type": "execute_result"
    }
   ],
   "source": [
    "music_df.isna().sum()"
   ]
  },
  {
   "cell_type": "code",
   "execution_count": 48,
   "id": "eaa054c6",
   "metadata": {},
   "outputs": [
    {
     "data": {
      "text/plain": [
       "array(['2011', '2012', '2014', '2006', '2007', '2009', '2013', '2018',\n",
       "       '1996', '2016', '2019', '1993', '1994', '1995', '1997', '1999',\n",
       "       '2015', '2000', '2002', '2005', '2008', '2010', '2004', '1992',\n",
       "       '2001', '1998', '2017', '1991', '1983', '1985', '1990', '1984',\n",
       "       '1986', '1987', '1989', '2003', '2020', '1981', '', '1976', '1978',\n",
       "       '1979', '1980', '1977', '1982', '1988', '1970', '1975', '1972',\n",
       "       '1967', '1963', '1966', '1968', '1969', '1971', '1974', '1973',\n",
       "       '1965', '1964', '1960', '20102010', '1958', '1956', '1955', '1959',\n",
       "       '1962', '1957', '2021', '1942', '1961', '0', '1952', '1938'],\n",
       "      dtype=object)"
      ]
     },
     "execution_count": 48,
     "metadata": {},
     "output_type": "execute_result"
    }
   ],
   "source": [
    "music_df.year.unique()"
   ]
  },
  {
   "cell_type": "code",
   "execution_count": 49,
   "id": "e7b81eef",
   "metadata": {},
   "outputs": [
    {
     "data": {
      "text/plain": [
       "'/mnt/h/gitproyects/musicable/notebooks_pruebas'"
      ]
     },
     "execution_count": 49,
     "metadata": {},
     "output_type": "execute_result"
    }
   ],
   "source": [
    "pwd"
   ]
  },
  {
   "cell_type": "code",
   "execution_count": 50,
   "id": "3e088444",
   "metadata": {},
   "outputs": [],
   "source": [
    "music_df.to_csv('../output/prueba01_musicdf.csv',index=False)"
   ]
  },
  {
   "cell_type": "code",
   "execution_count": null,
   "id": "1b794725",
   "metadata": {},
   "outputs": [],
   "source": []
  }
 ],
 "metadata": {
  "interpreter": {
   "hash": "cebf604e34dd2f8e0bc3c515bc52d900b10cf7495bc00896890f610f20dfafdc"
  },
  "kernelspec": {
   "display_name": "sinatxe",
   "language": "python",
   "name": "python3"
  },
  "language_info": {
   "codemirror_mode": {
    "name": "ipython",
    "version": 3
   },
   "file_extension": ".py",
   "mimetype": "text/x-python",
   "name": "python",
   "nbconvert_exporter": "python",
   "pygments_lexer": "ipython3",
   "version": "3.8.5"
  }
 },
 "nbformat": 4,
 "nbformat_minor": 5
}
