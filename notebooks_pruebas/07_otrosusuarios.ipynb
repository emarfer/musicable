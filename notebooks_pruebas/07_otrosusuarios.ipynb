{
 "cells": [
  {
   "cell_type": "code",
   "execution_count": 38,
   "id": "b7fc68d9",
   "metadata": {},
   "outputs": [],
   "source": [
    "import pandas as pd\n",
    "import sys\n",
    "sys.path.append('../src')\n",
    "import apilast as als\n",
    "import sqltools as sqt\n",
    "import cleansing as cln\n",
    "import os\n",
    "import requests"
   ]
  },
  {
   "cell_type": "code",
   "execution_count": null,
   "id": "d59b26a3",
   "metadata": {},
   "outputs": [],
   "source": [
    "l_user = 'AveKaesar'"
   ]
  },
  {
   "cell_type": "code",
   "execution_count": null,
   "id": "3b8f6102",
   "metadata": {
    "scrolled": false
   },
   "outputs": [],
   "source": [
    "julio = als.tot_scro(l_user)"
   ]
  },
  {
   "cell_type": "code",
   "execution_count": null,
   "id": "f60a6613",
   "metadata": {},
   "outputs": [],
   "source": [
    "julio.head(5)"
   ]
  },
  {
   "cell_type": "code",
   "execution_count": null,
   "id": "8ac92d2d",
   "metadata": {},
   "outputs": [],
   "source": [
    "julio['fechahora'] = julio.uts.apply(cln.utslocal)"
   ]
  },
  {
   "cell_type": "code",
   "execution_count": null,
   "id": "a08f74cd",
   "metadata": {},
   "outputs": [],
   "source": [
    "julio['fechahora'] = pd.to_datetime(julio['fechahora'])"
   ]
  },
  {
   "cell_type": "code",
   "execution_count": null,
   "id": "c6278cd8",
   "metadata": {},
   "outputs": [],
   "source": [
    "julio.info()"
   ]
  },
  {
   "cell_type": "code",
   "execution_count": null,
   "id": "d987b5a5",
   "metadata": {},
   "outputs": [],
   "source": [
    "julio.groupby['artist'].agg({})"
   ]
  },
  {
   "cell_type": "code",
   "execution_count": 2,
   "id": "9704b9b6",
   "metadata": {},
   "outputs": [],
   "source": [
    "l_user = 'sinatxester'"
   ]
  },
  {
   "cell_type": "code",
   "execution_count": 3,
   "id": "1dabcbe8",
   "metadata": {},
   "outputs": [
    {
     "name": "stdout",
     "output_type": "stream",
     "text": [
      "recovering 75 pages\n",
      "pag 5 done\n",
      "pag 10 done\n",
      "pag 15 done\n",
      "pag 20 done\n",
      "pag 25 done\n",
      "pag 30 done\n",
      "pag 35 done\n",
      "pag 40 done\n",
      "pag 45 done\n",
      "pag 50 done\n",
      "pag 55 done\n",
      "pag 60 done\n",
      "pag 65 done\n",
      "pag 70 done\n",
      "pag 75 done\n"
     ]
    }
   ],
   "source": [
    "ester = als.tot_scro(l_user)"
   ]
  },
  {
   "cell_type": "code",
   "execution_count": 4,
   "id": "13bac1eb",
   "metadata": {},
   "outputs": [],
   "source": [
    "ester.to_csv('../output/sinatxestercompleto.csv',index=False)"
   ]
  },
  {
   "cell_type": "code",
   "execution_count": 5,
   "id": "742076eb",
   "metadata": {},
   "outputs": [],
   "source": [
    "l_user = 'jesteruki'"
   ]
  },
  {
   "cell_type": "code",
   "execution_count": 6,
   "id": "a3f0ce06",
   "metadata": {},
   "outputs": [
    {
     "name": "stdout",
     "output_type": "stream",
     "text": [
      "recovering 95 pages\n",
      "pag 5 done\n",
      "pag 10 done\n",
      "pag 15 done\n",
      "pag 20 done\n",
      "pag 25 done\n",
      "pag 30 done\n",
      "pag 35 done\n",
      "pag 40 done\n",
      "pag 45 done\n",
      "pag 50 done\n",
      "pag 55 done\n",
      "pag 60 done\n",
      "pag 65 done\n",
      "pag 70 done\n",
      "pag 75 done\n",
      "pag 80 done\n",
      "pag 85 done\n",
      "pag 90 done\n",
      "pag 95 done\n"
     ]
    }
   ],
   "source": [
    "jesteruki = als.tot_scro(l_user)"
   ]
  },
  {
   "cell_type": "code",
   "execution_count": 7,
   "id": "2db418b7",
   "metadata": {},
   "outputs": [],
   "source": [
    "jesteruki.to_csv('../output/jesterukicompleto.csv',index=False)"
   ]
  },
  {
   "cell_type": "code",
   "execution_count": 30,
   "id": "340087c8",
   "metadata": {},
   "outputs": [
    {
     "data": {
      "text/html": [
       "<div>\n",
       "<style scoped>\n",
       "    .dataframe tbody tr th:only-of-type {\n",
       "        vertical-align: middle;\n",
       "    }\n",
       "\n",
       "    .dataframe tbody tr th {\n",
       "        vertical-align: top;\n",
       "    }\n",
       "\n",
       "    .dataframe thead th {\n",
       "        text-align: right;\n",
       "    }\n",
       "</style>\n",
       "<table border=\"1\" class=\"dataframe\">\n",
       "  <thead>\n",
       "    <tr style=\"text-align: right;\">\n",
       "      <th></th>\n",
       "      <th>uts</th>\n",
       "      <th>artist</th>\n",
       "      <th>artist_mbid</th>\n",
       "      <th>album</th>\n",
       "      <th>album_mbid</th>\n",
       "      <th>title</th>\n",
       "      <th>track_mbid</th>\n",
       "    </tr>\n",
       "  </thead>\n",
       "  <tbody>\n",
       "    <tr>\n",
       "      <th>70838</th>\n",
       "      <td>1315250668</td>\n",
       "      <td>Crowded House</td>\n",
       "      <td>9854d99f-d954-4c0f-9ae5-58a0cdd885f5</td>\n",
       "      <td>Top 1000 Pop Hits of the 80's</td>\n",
       "      <td></td>\n",
       "      <td>Don't Dream It's Over</td>\n",
       "      <td>006949c9-fe19-4073-bc7f-bb61831b72d5</td>\n",
       "    </tr>\n",
       "  </tbody>\n",
       "</table>\n",
       "</div>"
      ],
      "text/plain": [
       "              uts         artist                           artist_mbid  \\\n",
       "70838  1315250668  Crowded House  9854d99f-d954-4c0f-9ae5-58a0cdd885f5   \n",
       "\n",
       "                               album album_mbid                  title  \\\n",
       "70838  Top 1000 Pop Hits of the 80's             Don't Dream It's Over   \n",
       "\n",
       "                                 track_mbid  \n",
       "70838  006949c9-fe19-4073-bc7f-bb61831b72d5  "
      ]
     },
     "execution_count": 30,
     "metadata": {},
     "output_type": "execute_result"
    }
   ],
   "source": [
    "jesteruki.sample()"
   ]
  },
  {
   "cell_type": "code",
   "execution_count": 66,
   "id": "6fabd3af",
   "metadata": {},
   "outputs": [],
   "source": [
    "total = pd.concat([ester,jesteruki])"
   ]
  },
  {
   "cell_type": "code",
   "execution_count": 67,
   "id": "4002a82f",
   "metadata": {},
   "outputs": [
    {
     "data": {
      "text/html": [
       "<div>\n",
       "<style scoped>\n",
       "    .dataframe tbody tr th:only-of-type {\n",
       "        vertical-align: middle;\n",
       "    }\n",
       "\n",
       "    .dataframe tbody tr th {\n",
       "        vertical-align: top;\n",
       "    }\n",
       "\n",
       "    .dataframe thead th {\n",
       "        text-align: right;\n",
       "    }\n",
       "</style>\n",
       "<table border=\"1\" class=\"dataframe\">\n",
       "  <thead>\n",
       "    <tr style=\"text-align: right;\">\n",
       "      <th></th>\n",
       "      <th>uts</th>\n",
       "      <th>artist</th>\n",
       "      <th>artist_mbid</th>\n",
       "      <th>album</th>\n",
       "      <th>album_mbid</th>\n",
       "      <th>title</th>\n",
       "      <th>track_mbid</th>\n",
       "    </tr>\n",
       "  </thead>\n",
       "  <tbody>\n",
       "    <tr>\n",
       "      <th>94723</th>\n",
       "      <td>1</td>\n",
       "      <td>HIM</td>\n",
       "      <td></td>\n",
       "      <td>Greatest Love Songs Vol. 666</td>\n",
       "      <td></td>\n",
       "      <td>(Don't Fear) The Reaper</td>\n",
       "      <td>218ad512-5c42-4b1c-9edc-492ffdc912a8</td>\n",
       "    </tr>\n",
       "    <tr>\n",
       "      <th>94714</th>\n",
       "      <td>10</td>\n",
       "      <td>Siniestro Total</td>\n",
       "      <td></td>\n",
       "      <td>Gran 'D' Sexitos</td>\n",
       "      <td></td>\n",
       "      <td>16 - Bailaré sobre tu tumba (directo)</td>\n",
       "      <td></td>\n",
       "    </tr>\n",
       "    <tr>\n",
       "      <th>94624</th>\n",
       "      <td>100</td>\n",
       "      <td>Ariel Rot</td>\n",
       "      <td></td>\n",
       "      <td>Dúos, tríos y otras perversiones</td>\n",
       "      <td></td>\n",
       "      <td>Adios Mundo Cruel (Jaime Urrutia)</td>\n",
       "      <td></td>\n",
       "    </tr>\n",
       "    <tr>\n",
       "      <th>93724</th>\n",
       "      <td>1000</td>\n",
       "      <td>Jerry Lee Lewis</td>\n",
       "      <td>b59ac58d-036e-4bba-8112-c32a34c4575b</td>\n",
       "      <td></td>\n",
       "      <td></td>\n",
       "      <td>Great Balls of Fire</td>\n",
       "      <td>00957623-3bb3-36a9-890a-c4ae2b232dcd</td>\n",
       "    </tr>\n",
       "    <tr>\n",
       "      <th>93723</th>\n",
       "      <td>1001</td>\n",
       "      <td>Jarabe de Palo</td>\n",
       "      <td>38b511a2-76fa-4a1e-9b7a-e2a6efa6399b</td>\n",
       "      <td>¿Grandes éxitos?</td>\n",
       "      <td>554a491d-3403-4816-b135-622039894777</td>\n",
       "      <td>Grita</td>\n",
       "      <td>02073c50-eace-30fd-b4c8-6879afc705e7</td>\n",
       "    </tr>\n",
       "  </tbody>\n",
       "</table>\n",
       "</div>"
      ],
      "text/plain": [
       "        uts           artist                           artist_mbid  \\\n",
       "94723     1              HIM                                         \n",
       "94714    10  Siniestro Total                                         \n",
       "94624   100        Ariel Rot                                         \n",
       "93724  1000  Jerry Lee Lewis  b59ac58d-036e-4bba-8112-c32a34c4575b   \n",
       "93723  1001   Jarabe de Palo  38b511a2-76fa-4a1e-9b7a-e2a6efa6399b   \n",
       "\n",
       "                                  album                            album_mbid  \\\n",
       "94723      Greatest Love Songs Vol. 666                                         \n",
       "94714                  Gran 'D' Sexitos                                         \n",
       "94624  Dúos, tríos y otras perversiones                                         \n",
       "93724                                                                           \n",
       "93723                  ¿Grandes éxitos?  554a491d-3403-4816-b135-622039894777   \n",
       "\n",
       "                                       title  \\\n",
       "94723                (Don't Fear) The Reaper   \n",
       "94714  16 - Bailaré sobre tu tumba (directo)   \n",
       "94624      Adios Mundo Cruel (Jaime Urrutia)   \n",
       "93724                    Great Balls of Fire   \n",
       "93723                                  Grita   \n",
       "\n",
       "                                 track_mbid  \n",
       "94723  218ad512-5c42-4b1c-9edc-492ffdc912a8  \n",
       "94714                                        \n",
       "94624                                        \n",
       "93724  00957623-3bb3-36a9-890a-c4ae2b232dcd  \n",
       "93723  02073c50-eace-30fd-b4c8-6879afc705e7  "
      ]
     },
     "execution_count": 67,
     "metadata": {},
     "output_type": "execute_result"
    }
   ],
   "source": [
    "total.sort_values('uts').head(5)"
   ]
  },
  {
   "cell_type": "code",
   "execution_count": 68,
   "id": "2fc23a1e",
   "metadata": {},
   "outputs": [],
   "source": [
    "total['fechahora'] = total.uts.apply(cln.utslocal)"
   ]
  },
  {
   "cell_type": "code",
   "execution_count": 69,
   "id": "d78c0cd9",
   "metadata": {},
   "outputs": [
    {
     "name": "stdout",
     "output_type": "stream",
     "text": [
      "<class 'pandas.core.frame.DataFrame'>\n",
      "Int64Index: 169351 entries, 0 to 94723\n",
      "Data columns (total 8 columns):\n",
      " #   Column       Non-Null Count   Dtype \n",
      "---  ------       --------------   ----- \n",
      " 0   uts          169351 non-null  object\n",
      " 1   artist       169351 non-null  object\n",
      " 2   artist_mbid  169351 non-null  object\n",
      " 3   album        169351 non-null  object\n",
      " 4   album_mbid   169351 non-null  object\n",
      " 5   title        169351 non-null  object\n",
      " 6   track_mbid   169351 non-null  object\n",
      " 7   fechahora    169351 non-null  object\n",
      "dtypes: object(8)\n",
      "memory usage: 11.6+ MB\n"
     ]
    }
   ],
   "source": [
    "total.info()"
   ]
  },
  {
   "cell_type": "code",
   "execution_count": 70,
   "id": "02859ca9",
   "metadata": {},
   "outputs": [],
   "source": [
    "total.uts = total.uts.astype('int64')\n",
    "total.fechahora = pd.to_datetime(total.fechahora)\n"
   ]
  },
  {
   "cell_type": "code",
   "execution_count": 71,
   "id": "774d5c36",
   "metadata": {},
   "outputs": [
    {
     "name": "stdout",
     "output_type": "stream",
     "text": [
      "<class 'pandas.core.frame.DataFrame'>\n",
      "Int64Index: 169351 entries, 0 to 94723\n",
      "Data columns (total 8 columns):\n",
      " #   Column       Non-Null Count   Dtype         \n",
      "---  ------       --------------   -----         \n",
      " 0   uts          169351 non-null  int64         \n",
      " 1   artist       169351 non-null  object        \n",
      " 2   artist_mbid  169351 non-null  object        \n",
      " 3   album        169351 non-null  object        \n",
      " 4   album_mbid   169351 non-null  object        \n",
      " 5   title        169351 non-null  object        \n",
      " 6   track_mbid   169351 non-null  object        \n",
      " 7   fechahora    169351 non-null  datetime64[ns]\n",
      "dtypes: datetime64[ns](1), int64(1), object(6)\n",
      "memory usage: 11.6+ MB\n"
     ]
    }
   ],
   "source": [
    "total.info()"
   ]
  },
  {
   "cell_type": "code",
   "execution_count": 72,
   "id": "b0ae677a",
   "metadata": {},
   "outputs": [
    {
     "data": {
      "text/plain": [
       "(169351, 8)"
      ]
     },
     "execution_count": 72,
     "metadata": {},
     "output_type": "execute_result"
    }
   ],
   "source": [
    "total.shape"
   ]
  },
  {
   "cell_type": "code",
   "execution_count": 73,
   "id": "3111b9ff",
   "metadata": {},
   "outputs": [],
   "source": [
    "dropeando = list(total[total['uts']<1270194492].index)\n",
    "total.drop(dropeando,inplace =True)"
   ]
  },
  {
   "cell_type": "code",
   "execution_count": 74,
   "id": "ebad00ff",
   "metadata": {},
   "outputs": [
    {
     "data": {
      "text/plain": [
       "(166568, 8)"
      ]
     },
     "execution_count": 74,
     "metadata": {},
     "output_type": "execute_result"
    }
   ],
   "source": [
    "total.shape"
   ]
  },
  {
   "cell_type": "code",
   "execution_count": 76,
   "id": "99616141",
   "metadata": {},
   "outputs": [
    {
     "data": {
      "text/plain": [
       "1596816969    2\n",
       "1644410584    1\n",
       "1364931426    1\n",
       "1364932865    1\n",
       "1364932689    1\n",
       "Name: uts, dtype: int64"
      ]
     },
     "execution_count": 76,
     "metadata": {},
     "output_type": "execute_result"
    }
   ],
   "source": [
    "total.uts.value_counts().head(5)"
   ]
  },
  {
   "cell_type": "code",
   "execution_count": 77,
   "id": "041e0863",
   "metadata": {},
   "outputs": [
    {
     "data": {
      "text/html": [
       "<div>\n",
       "<style scoped>\n",
       "    .dataframe tbody tr th:only-of-type {\n",
       "        vertical-align: middle;\n",
       "    }\n",
       "\n",
       "    .dataframe tbody tr th {\n",
       "        vertical-align: top;\n",
       "    }\n",
       "\n",
       "    .dataframe thead th {\n",
       "        text-align: right;\n",
       "    }\n",
       "</style>\n",
       "<table border=\"1\" class=\"dataframe\">\n",
       "  <thead>\n",
       "    <tr style=\"text-align: right;\">\n",
       "      <th></th>\n",
       "      <th>uts</th>\n",
       "      <th>artist</th>\n",
       "      <th>artist_mbid</th>\n",
       "      <th>album</th>\n",
       "      <th>album_mbid</th>\n",
       "      <th>title</th>\n",
       "      <th>track_mbid</th>\n",
       "      <th>fechahora</th>\n",
       "    </tr>\n",
       "  </thead>\n",
       "  <tbody>\n",
       "    <tr>\n",
       "      <th>9999</th>\n",
       "      <td>1596816969</td>\n",
       "      <td>Rozalén</td>\n",
       "      <td>0432dc38-a03b-4325-9609-1caada06f47a</td>\n",
       "      <td>Cuando el Río Suena...</td>\n",
       "      <td></td>\n",
       "      <td>La Que Baila Para Ti</td>\n",
       "      <td>fd877023-0274-46e6-8abe-b509dd51fc4c</td>\n",
       "      <td>2020-08-07 18:16:09</td>\n",
       "    </tr>\n",
       "    <tr>\n",
       "      <th>10000</th>\n",
       "      <td>1596816969</td>\n",
       "      <td>Rozalén</td>\n",
       "      <td>0432dc38-a03b-4325-9609-1caada06f47a</td>\n",
       "      <td>Cuando el Río Suena...</td>\n",
       "      <td></td>\n",
       "      <td>La Que Baila Para Ti</td>\n",
       "      <td>fd877023-0274-46e6-8abe-b509dd51fc4c</td>\n",
       "      <td>2020-08-07 18:16:09</td>\n",
       "    </tr>\n",
       "  </tbody>\n",
       "</table>\n",
       "</div>"
      ],
      "text/plain": [
       "              uts   artist                           artist_mbid  \\\n",
       "9999   1596816969  Rozalén  0432dc38-a03b-4325-9609-1caada06f47a   \n",
       "10000  1596816969  Rozalén  0432dc38-a03b-4325-9609-1caada06f47a   \n",
       "\n",
       "                        album album_mbid                 title  \\\n",
       "9999   Cuando el Río Suena...             La Que Baila Para Ti   \n",
       "10000  Cuando el Río Suena...             La Que Baila Para Ti   \n",
       "\n",
       "                                 track_mbid           fechahora  \n",
       "9999   fd877023-0274-46e6-8abe-b509dd51fc4c 2020-08-07 18:16:09  \n",
       "10000  fd877023-0274-46e6-8abe-b509dd51fc4c 2020-08-07 18:16:09  "
      ]
     },
     "execution_count": 77,
     "metadata": {},
     "output_type": "execute_result"
    }
   ],
   "source": [
    "\n",
    "#1596816969 repeat\n",
    "total[total['uts'] == 1596816969]\n"
   ]
  },
  {
   "cell_type": "code",
   "execution_count": 78,
   "id": "141da8f0",
   "metadata": {},
   "outputs": [
    {
     "data": {
      "text/plain": [
       "(166566, 8)"
      ]
     },
     "execution_count": 78,
     "metadata": {},
     "output_type": "execute_result"
    }
   ],
   "source": [
    "total.drop(10000, inplace = True)\n",
    "total.shape"
   ]
  },
  {
   "cell_type": "code",
   "execution_count": 79,
   "id": "56935cee",
   "metadata": {},
   "outputs": [],
   "source": [
    "total.to_csv('../output/esteruki.csv',index=False)"
   ]
  },
  {
   "cell_type": "code",
   "execution_count": null,
   "id": "5dbabcc3",
   "metadata": {},
   "outputs": [],
   "source": [
    "for i,r in total.iterrows():\n",
    "    if r.uts not in "
   ]
  }
 ],
 "metadata": {
  "kernelspec": {
   "display_name": "sinatxe",
   "language": "python",
   "name": "sinatxe"
  },
  "language_info": {
   "codemirror_mode": {
    "name": "ipython",
    "version": 3
   },
   "file_extension": ".py",
   "mimetype": "text/x-python",
   "name": "python",
   "nbconvert_exporter": "python",
   "pygments_lexer": "ipython3",
   "version": "3.8.5"
  }
 },
 "nbformat": 4,
 "nbformat_minor": 5
}
