{
 "cells": [
  {
   "cell_type": "code",
   "execution_count": 1,
   "id": "b7fc68d9",
   "metadata": {},
   "outputs": [],
   "source": [
    "import pandas as pd\n",
    "import sys\n",
    "sys.path.append('../src')\n",
    "import apilast as als\n",
    "import sqltools as sqt\n",
    "import cleansing as cln"
   ]
  },
  {
   "cell_type": "code",
   "execution_count": 2,
   "id": "d59b26a3",
   "metadata": {},
   "outputs": [],
   "source": [
    "l_user = 'AveKaesar'"
   ]
  },
  {
   "cell_type": "code",
   "execution_count": 3,
   "id": "3b8f6102",
   "metadata": {},
   "outputs": [
    {
     "name": "stdout",
     "output_type": "stream",
     "text": [
      "recovering 86 pages\n",
      "pag 5 done\n",
      "pag 10 done\n",
      "pag 15 done\n",
      "pag 20 done\n",
      "pag 25 done\n",
      "pag 30 done\n",
      "pag 35 done\n",
      "pag 40 done\n",
      "pag 45 done\n",
      "pag 50 done\n",
      "pag 55 done\n",
      "pag 60 done\n",
      "pag 65 done\n",
      "pag 70 done\n",
      "pag 75 done\n",
      "pag 80 done\n",
      "pag 85 done\n"
     ]
    }
   ],
   "source": [
    "julio = als.tot_scro(l_user)"
   ]
  },
  {
   "cell_type": "code",
   "execution_count": 4,
   "id": "f60a6613",
   "metadata": {},
   "outputs": [
    {
     "data": {
      "text/html": [
       "<div>\n",
       "<style scoped>\n",
       "    .dataframe tbody tr th:only-of-type {\n",
       "        vertical-align: middle;\n",
       "    }\n",
       "\n",
       "    .dataframe tbody tr th {\n",
       "        vertical-align: top;\n",
       "    }\n",
       "\n",
       "    .dataframe thead th {\n",
       "        text-align: right;\n",
       "    }\n",
       "</style>\n",
       "<table border=\"1\" class=\"dataframe\">\n",
       "  <thead>\n",
       "    <tr style=\"text-align: right;\">\n",
       "      <th></th>\n",
       "      <th>uts</th>\n",
       "      <th>artist</th>\n",
       "      <th>artist_mbid</th>\n",
       "      <th>album</th>\n",
       "      <th>album_mbid</th>\n",
       "      <th>title</th>\n",
       "      <th>track_mbid</th>\n",
       "    </tr>\n",
       "  </thead>\n",
       "  <tbody>\n",
       "    <tr>\n",
       "      <th>0</th>\n",
       "      <td>1643207237</td>\n",
       "      <td>Sergio Dalma</td>\n",
       "      <td>7f8759ee-4ddc-4a6b-9d17-0771e1022db7</td>\n",
       "      <td>Cuerpo A Cuerpo</td>\n",
       "      <td>510b7075-c346-4859-a9a1-c19cb38e97e7</td>\n",
       "      <td>A Tu Lado</td>\n",
       "      <td>a0dc7cc0-bb7d-3bfb-a7b8-b5a4ef5f76eb</td>\n",
       "    </tr>\n",
       "    <tr>\n",
       "      <th>1</th>\n",
       "      <td>1643206969</td>\n",
       "      <td>Sergio Dalma</td>\n",
       "      <td>7f8759ee-4ddc-4a6b-9d17-0771e1022db7</td>\n",
       "      <td>Cuerpo A Cuerpo</td>\n",
       "      <td>510b7075-c346-4859-a9a1-c19cb38e97e7</td>\n",
       "      <td>Naufragos</td>\n",
       "      <td>2b6afe80-4a40-3195-826d-efac5686d29c</td>\n",
       "    </tr>\n",
       "    <tr>\n",
       "      <th>2</th>\n",
       "      <td>1643206714</td>\n",
       "      <td>Sergio Dalma</td>\n",
       "      <td>7f8759ee-4ddc-4a6b-9d17-0771e1022db7</td>\n",
       "      <td>Cuerpo A Cuerpo</td>\n",
       "      <td>510b7075-c346-4859-a9a1-c19cb38e97e7</td>\n",
       "      <td>No Voy A Volver A Llorar</td>\n",
       "      <td>3857c61a-315e-3483-9cd0-4326397494fa</td>\n",
       "    </tr>\n",
       "    <tr>\n",
       "      <th>3</th>\n",
       "      <td>1643206470</td>\n",
       "      <td>Sergio Dalma</td>\n",
       "      <td>7f8759ee-4ddc-4a6b-9d17-0771e1022db7</td>\n",
       "      <td>Cuerpo A Cuerpo</td>\n",
       "      <td>510b7075-c346-4859-a9a1-c19cb38e97e7</td>\n",
       "      <td>Si Tengo Que Morir</td>\n",
       "      <td>a72e26ec-8b9b-36f5-b556-55aea1f788aa</td>\n",
       "    </tr>\n",
       "    <tr>\n",
       "      <th>4</th>\n",
       "      <td>1643201327</td>\n",
       "      <td>Miss Kittin</td>\n",
       "      <td>af6bd973-3e30-4339-94b5-85b139362e6d</td>\n",
       "      <td>Two</td>\n",
       "      <td></td>\n",
       "      <td>Party in My Head</td>\n",
       "      <td></td>\n",
       "    </tr>\n",
       "  </tbody>\n",
       "</table>\n",
       "</div>"
      ],
      "text/plain": [
       "          uts        artist                           artist_mbid  \\\n",
       "0  1643207237  Sergio Dalma  7f8759ee-4ddc-4a6b-9d17-0771e1022db7   \n",
       "1  1643206969  Sergio Dalma  7f8759ee-4ddc-4a6b-9d17-0771e1022db7   \n",
       "2  1643206714  Sergio Dalma  7f8759ee-4ddc-4a6b-9d17-0771e1022db7   \n",
       "3  1643206470  Sergio Dalma  7f8759ee-4ddc-4a6b-9d17-0771e1022db7   \n",
       "4  1643201327   Miss Kittin  af6bd973-3e30-4339-94b5-85b139362e6d   \n",
       "\n",
       "             album                            album_mbid  \\\n",
       "0  Cuerpo A Cuerpo  510b7075-c346-4859-a9a1-c19cb38e97e7   \n",
       "1  Cuerpo A Cuerpo  510b7075-c346-4859-a9a1-c19cb38e97e7   \n",
       "2  Cuerpo A Cuerpo  510b7075-c346-4859-a9a1-c19cb38e97e7   \n",
       "3  Cuerpo A Cuerpo  510b7075-c346-4859-a9a1-c19cb38e97e7   \n",
       "4              Two                                         \n",
       "\n",
       "                      title                            track_mbid  \n",
       "0                 A Tu Lado  a0dc7cc0-bb7d-3bfb-a7b8-b5a4ef5f76eb  \n",
       "1                 Naufragos  2b6afe80-4a40-3195-826d-efac5686d29c  \n",
       "2  No Voy A Volver A Llorar  3857c61a-315e-3483-9cd0-4326397494fa  \n",
       "3        Si Tengo Que Morir  a72e26ec-8b9b-36f5-b556-55aea1f788aa  \n",
       "4          Party in My Head                                        "
      ]
     },
     "execution_count": 4,
     "metadata": {},
     "output_type": "execute_result"
    }
   ],
   "source": [
    "julio.head(5)"
   ]
  },
  {
   "cell_type": "code",
   "execution_count": 5,
   "id": "8ac92d2d",
   "metadata": {},
   "outputs": [],
   "source": [
    "julio['fechahora'] = julio.uts.apply(cln.utslocal)"
   ]
  },
  {
   "cell_type": "code",
   "execution_count": 6,
   "id": "a08f74cd",
   "metadata": {},
   "outputs": [],
   "source": [
    "julio['fechahora'] = pd.to_datetime(julio['fechahora'])"
   ]
  },
  {
   "cell_type": "code",
   "execution_count": 7,
   "id": "c6278cd8",
   "metadata": {},
   "outputs": [
    {
     "name": "stdout",
     "output_type": "stream",
     "text": [
      "<class 'pandas.core.frame.DataFrame'>\n",
      "RangeIndex: 85037 entries, 0 to 85036\n",
      "Data columns (total 8 columns):\n",
      " #   Column       Non-Null Count  Dtype         \n",
      "---  ------       --------------  -----         \n",
      " 0   uts          85037 non-null  object        \n",
      " 1   artist       85037 non-null  object        \n",
      " 2   artist_mbid  85037 non-null  object        \n",
      " 3   album        85037 non-null  object        \n",
      " 4   album_mbid   85037 non-null  object        \n",
      " 5   title        85037 non-null  object        \n",
      " 6   track_mbid   85037 non-null  object        \n",
      " 7   fechahora    85037 non-null  datetime64[ns]\n",
      "dtypes: datetime64[ns](1), object(7)\n",
      "memory usage: 5.2+ MB\n"
     ]
    }
   ],
   "source": [
    "julio.info()"
   ]
  },
  {
   "cell_type": "code",
   "execution_count": null,
   "id": "d987b5a5",
   "metadata": {},
   "outputs": [],
   "source": [
    "julio.groupby['artist'].agg({})"
   ]
  }
 ],
 "metadata": {
  "kernelspec": {
   "display_name": "sinatxe",
   "language": "python",
   "name": "sinatxe"
  },
  "language_info": {
   "codemirror_mode": {
    "name": "ipython",
    "version": 3
   },
   "file_extension": ".py",
   "mimetype": "text/x-python",
   "name": "python",
   "nbconvert_exporter": "python",
   "pygments_lexer": "ipython3",
   "version": "3.8.5"
  }
 },
 "nbformat": 4,
 "nbformat_minor": 5
}
