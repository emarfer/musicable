{
 "cells": [
  {
   "cell_type": "code",
   "execution_count": 3,
   "id": "d4538082",
   "metadata": {},
   "outputs": [],
   "source": [
    "import os\n",
    "from os import walk\n",
    "import pandas as pd\n",
    "import tinytag\n",
    "from tinytag import TinyTag\n",
    "import numpy as np"
   ]
  },
  {
   "cell_type": "code",
   "execution_count": 4,
   "id": "3cbae1d0",
   "metadata": {},
   "outputs": [
    {
     "data": {
      "text/plain": [
       "['$RECYCLE.BIN',\n",
       " 'Base de datos',\n",
       " 'Descargas',\n",
       " 'Documentos',\n",
       " 'Documents',\n",
       " 'Escritorio',\n",
       " 'gitproyects',\n",
       " 'holi.txt',\n",
       " 'Imágenes',\n",
       " 'Juegos',\n",
       " 'Music',\n",
       " 'Música Miscelánea',\n",
       " 'Programas',\n",
       " 'Soulseek',\n",
       " 'System Volume Information',\n",
       " 'Torrent',\n",
       " 'web.txt',\n",
       " 'zz imagnes']"
      ]
     },
     "execution_count": 4,
     "metadata": {},
     "output_type": "execute_result"
    }
   ],
   "source": [
    "os.listdir('../../..')"
   ]
  },
  {
   "cell_type": "code",
   "execution_count": 5,
   "id": "8ec7f8fb",
   "metadata": {},
   "outputs": [],
   "source": [
    "total = []\n",
    "for (path, ficheros, archivos) in walk(\"../../../Music\"):\n",
    "    dicc = {}\n",
    "    dicc['path'] =  path\n",
    "    dicc['ficheros'] = ficheros\n",
    "    dicc['archivos'] = archivos\n",
    "    total.append(dicc)\n",
    "    #print(dicc['path'])"
   ]
  },
  {
   "cell_type": "code",
   "execution_count": 6,
   "id": "0862f1c5",
   "metadata": {},
   "outputs": [
    {
     "data": {
      "text/plain": [
       "{'path': '../../../Music/Britpop, Indie y rock alt británico/Alt J/2012 An awesome wave',\n",
       " 'ficheros': [],\n",
       " 'archivos': ['01 Intro.mp3',\n",
       "  '02 ❦ (Ripe & Ruin).mp3',\n",
       "  '03 Tessellate.mp3',\n",
       "  '04 Breezeblocks.mp3',\n",
       "  '05 ❦ (Guitar).mp3',\n",
       "  '06 Something Good.mp3',\n",
       "  '07 Dissolve Me.mp3',\n",
       "  '08 Matilda.mp3',\n",
       "  '09 Ms.mp3',\n",
       "  '10 Fitzpleasure.mp3',\n",
       "  '11 ❦ (Piano).mp3',\n",
       "  '12 Bloodflood.mp3',\n",
       "  '13 Taro.mp3',\n",
       "  'folder.jpg']}"
      ]
     },
     "execution_count": 6,
     "metadata": {},
     "output_type": "execute_result"
    }
   ],
   "source": [
    "total[5]"
   ]
  },
  {
   "cell_type": "code",
   "execution_count": 7,
   "id": "7685018a",
   "metadata": {},
   "outputs": [],
   "source": [
    "music_fol = pd.DataFrame(total)"
   ]
  },
  {
   "cell_type": "code",
   "execution_count": 8,
   "id": "76bc77ac",
   "metadata": {},
   "outputs": [
    {
     "data": {
      "text/html": [
       "<div>\n",
       "<style scoped>\n",
       "    .dataframe tbody tr th:only-of-type {\n",
       "        vertical-align: middle;\n",
       "    }\n",
       "\n",
       "    .dataframe tbody tr th {\n",
       "        vertical-align: top;\n",
       "    }\n",
       "\n",
       "    .dataframe thead th {\n",
       "        text-align: right;\n",
       "    }\n",
       "</style>\n",
       "<table border=\"1\" class=\"dataframe\">\n",
       "  <thead>\n",
       "    <tr style=\"text-align: right;\">\n",
       "      <th></th>\n",
       "      <th>path</th>\n",
       "      <th>ficheros</th>\n",
       "      <th>archivos</th>\n",
       "    </tr>\n",
       "  </thead>\n",
       "  <tbody>\n",
       "    <tr>\n",
       "      <th>2022</th>\n",
       "      <td>../../../Music/Pop Rock en español y movida/Mo...</td>\n",
       "      <td>[]</td>\n",
       "      <td>[01 Playas de Mazarrón.mp3, 02 Es tu turno.mp3...</td>\n",
       "    </tr>\n",
       "    <tr>\n",
       "      <th>1349</th>\n",
       "      <td>../../../Music/Funk, Jazz, Blues, Swing y Rock...</td>\n",
       "      <td>[]</td>\n",
       "      <td>[01 Umbrella.mp3, 02 Love in This Club.mp3, 03...</td>\n",
       "    </tr>\n",
       "    <tr>\n",
       "      <th>877</th>\n",
       "      <td>../../../Music/Country, Folk, singersongwritte...</td>\n",
       "      <td>[]</td>\n",
       "      <td>[.DS_Store, 01 Time Of The Preacher.mp3, 02 I ...</td>\n",
       "    </tr>\n",
       "  </tbody>\n",
       "</table>\n",
       "</div>"
      ],
      "text/plain": [
       "                                                   path ficheros  \\\n",
       "2022  ../../../Music/Pop Rock en español y movida/Mo...       []   \n",
       "1349  ../../../Music/Funk, Jazz, Blues, Swing y Rock...       []   \n",
       "877   ../../../Music/Country, Folk, singersongwritte...       []   \n",
       "\n",
       "                                               archivos  \n",
       "2022  [01 Playas de Mazarrón.mp3, 02 Es tu turno.mp3...  \n",
       "1349  [01 Umbrella.mp3, 02 Love in This Club.mp3, 03...  \n",
       "877   [.DS_Store, 01 Time Of The Preacher.mp3, 02 I ...  "
      ]
     },
     "execution_count": 8,
     "metadata": {},
     "output_type": "execute_result"
    }
   ],
   "source": [
    "music_fol.sample(3)"
   ]
  },
  {
   "cell_type": "code",
   "execution_count": 9,
   "id": "7d8b49bc",
   "metadata": {},
   "outputs": [],
   "source": [
    "music_fol.drop('ficheros',axis=1,inplace = True)"
   ]
  },
  {
   "cell_type": "code",
   "execution_count": 10,
   "id": "e562c475",
   "metadata": {},
   "outputs": [
    {
     "data": {
      "text/html": [
       "<div>\n",
       "<style scoped>\n",
       "    .dataframe tbody tr th:only-of-type {\n",
       "        vertical-align: middle;\n",
       "    }\n",
       "\n",
       "    .dataframe tbody tr th {\n",
       "        vertical-align: top;\n",
       "    }\n",
       "\n",
       "    .dataframe thead th {\n",
       "        text-align: right;\n",
       "    }\n",
       "</style>\n",
       "<table border=\"1\" class=\"dataframe\">\n",
       "  <thead>\n",
       "    <tr style=\"text-align: right;\">\n",
       "      <th></th>\n",
       "      <th>path</th>\n",
       "      <th>archivos</th>\n",
       "    </tr>\n",
       "  </thead>\n",
       "  <tbody>\n",
       "    <tr>\n",
       "      <th>50</th>\n",
       "      <td>../../../Music/Britpop, Indie y rock alt britá...</td>\n",
       "      <td>[01 Dog Days Are Over.mp3, 02 Rabbit Heart (Ra...</td>\n",
       "    </tr>\n",
       "    <tr>\n",
       "      <th>1672</th>\n",
       "      <td>../../../Music/Indie, Rock Alt, Grunge/Soul As...</td>\n",
       "      <td>[]</td>\n",
       "    </tr>\n",
       "    <tr>\n",
       "      <th>1562</th>\n",
       "      <td>../../../Music/Indie, Rock Alt, Grunge/Bon Ive...</td>\n",
       "      <td>[folder.jpg]</td>\n",
       "    </tr>\n",
       "  </tbody>\n",
       "</table>\n",
       "</div>"
      ],
      "text/plain": [
       "                                                   path  \\\n",
       "50    ../../../Music/Britpop, Indie y rock alt britá...   \n",
       "1672  ../../../Music/Indie, Rock Alt, Grunge/Soul As...   \n",
       "1562  ../../../Music/Indie, Rock Alt, Grunge/Bon Ive...   \n",
       "\n",
       "                                               archivos  \n",
       "50    [01 Dog Days Are Over.mp3, 02 Rabbit Heart (Ra...  \n",
       "1672                                                 []  \n",
       "1562                                       [folder.jpg]  "
      ]
     },
     "execution_count": 10,
     "metadata": {},
     "output_type": "execute_result"
    }
   ],
   "source": [
    "music_fol.sample(3)"
   ]
  },
  {
   "cell_type": "code",
   "execution_count": 11,
   "id": "8097d1a8",
   "metadata": {},
   "outputs": [],
   "source": [
    "#sacar archivos de la lista"
   ]
  },
  {
   "cell_type": "code",
   "execution_count": 12,
   "id": "9ecb394e",
   "metadata": {},
   "outputs": [],
   "source": [
    "archivos = []\n",
    "for i,r in music_fol.iterrows():\n",
    "    for a in r.archivos:\n",
    "        dicc = {}\n",
    "        dicc['archivo'] = a\n",
    "        dicc['ruta'] = r.path\n",
    "        archivos.append(dicc)\n",
    "music_arc = pd.DataFrame(archivos)\n",
    "        \n",
    "        "
   ]
  },
  {
   "cell_type": "code",
   "execution_count": 13,
   "id": "de837813",
   "metadata": {},
   "outputs": [
    {
     "data": {
      "text/plain": [
       "(23329, 2)"
      ]
     },
     "execution_count": 13,
     "metadata": {},
     "output_type": "execute_result"
    }
   ],
   "source": [
    "music_arc.shape"
   ]
  },
  {
   "cell_type": "code",
   "execution_count": 14,
   "id": "fb197307",
   "metadata": {},
   "outputs": [
    {
     "data": {
      "text/html": [
       "<div>\n",
       "<style scoped>\n",
       "    .dataframe tbody tr th:only-of-type {\n",
       "        vertical-align: middle;\n",
       "    }\n",
       "\n",
       "    .dataframe tbody tr th {\n",
       "        vertical-align: top;\n",
       "    }\n",
       "\n",
       "    .dataframe thead th {\n",
       "        text-align: right;\n",
       "    }\n",
       "</style>\n",
       "<table border=\"1\" class=\"dataframe\">\n",
       "  <thead>\n",
       "    <tr style=\"text-align: right;\">\n",
       "      <th></th>\n",
       "      <th>archivo</th>\n",
       "      <th>ruta</th>\n",
       "    </tr>\n",
       "  </thead>\n",
       "  <tbody>\n",
       "    <tr>\n",
       "      <th>7668</th>\n",
       "      <td>13 One More Cup of Coffee.mp3</td>\n",
       "      <td>../../../Music/Country, Folk, singersongwritte...</td>\n",
       "    </tr>\n",
       "    <tr>\n",
       "      <th>2602</th>\n",
       "      <td>01 No sé si lo hice bien.mp3</td>\n",
       "      <td>../../../Music/Cantautores/Rebeca Jiménez/2008...</td>\n",
       "    </tr>\n",
       "    <tr>\n",
       "      <th>4080</th>\n",
       "      <td>04 Backstreets.mp3</td>\n",
       "      <td>../../../Music/Classic Rock/Bruce Springsteen/...</td>\n",
       "    </tr>\n",
       "  </tbody>\n",
       "</table>\n",
       "</div>"
      ],
      "text/plain": [
       "                            archivo  \\\n",
       "7668  13 One More Cup of Coffee.mp3   \n",
       "2602   01 No sé si lo hice bien.mp3   \n",
       "4080             04 Backstreets.mp3   \n",
       "\n",
       "                                                   ruta  \n",
       "7668  ../../../Music/Country, Folk, singersongwritte...  \n",
       "2602  ../../../Music/Cantautores/Rebeca Jiménez/2008...  \n",
       "4080  ../../../Music/Classic Rock/Bruce Springsteen/...  "
      ]
     },
     "execution_count": 14,
     "metadata": {},
     "output_type": "execute_result"
    }
   ],
   "source": [
    "music_arc.sample(3)"
   ]
  },
  {
   "cell_type": "code",
   "execution_count": 15,
   "id": "1c32012a",
   "metadata": {},
   "outputs": [],
   "source": [
    "music_arc['exten'] = music_arc.archivo.str[-3:].str.lower()"
   ]
  },
  {
   "cell_type": "code",
   "execution_count": 16,
   "id": "362ad02d",
   "metadata": {},
   "outputs": [
    {
     "data": {
      "text/plain": [
       "mp3    21137\n",
       "jpg     1859\n",
       ".db      148\n",
       "wma       51\n",
       "m4a       48\n",
       "ngs       32\n",
       "ini       30\n",
       "ore        8\n",
       "peg        4\n",
       "png        4\n",
       "tml        3\n",
       "txt        2\n",
       "ico        1\n",
       "m3u        1\n",
       "bmp        1\n",
       "Name: exten, dtype: int64"
      ]
     },
     "execution_count": 16,
     "metadata": {},
     "output_type": "execute_result"
    }
   ],
   "source": [
    "music_arc.exten.value_counts() #only read = .mp3 // wma // m4a"
   ]
  },
  {
   "cell_type": "code",
   "execution_count": 17,
   "id": "4ca218e1",
   "metadata": {},
   "outputs": [],
   "source": [
    "arch_val = ['mp3','wma','m4a'] #lista de archivos válidos #intentar añadir más"
   ]
  },
  {
   "cell_type": "code",
   "execution_count": 18,
   "id": "bd9e4f1b",
   "metadata": {},
   "outputs": [],
   "source": [
    "music_tot = music_arc[music_arc['exten'].isin(arch_val)].reset_index()"
   ]
  },
  {
   "cell_type": "code",
   "execution_count": 19,
   "id": "012222d8",
   "metadata": {},
   "outputs": [
    {
     "data": {
      "text/plain": [
       "(21236, 4)"
      ]
     },
     "execution_count": 19,
     "metadata": {},
     "output_type": "execute_result"
    }
   ],
   "source": [
    "music_tot.shape"
   ]
  },
  {
   "cell_type": "code",
   "execution_count": 20,
   "id": "e637836d",
   "metadata": {},
   "outputs": [
    {
     "data": {
      "text/html": [
       "<div>\n",
       "<style scoped>\n",
       "    .dataframe tbody tr th:only-of-type {\n",
       "        vertical-align: middle;\n",
       "    }\n",
       "\n",
       "    .dataframe tbody tr th {\n",
       "        vertical-align: top;\n",
       "    }\n",
       "\n",
       "    .dataframe thead th {\n",
       "        text-align: right;\n",
       "    }\n",
       "</style>\n",
       "<table border=\"1\" class=\"dataframe\">\n",
       "  <thead>\n",
       "    <tr style=\"text-align: right;\">\n",
       "      <th></th>\n",
       "      <th>index</th>\n",
       "      <th>archivo</th>\n",
       "      <th>ruta</th>\n",
       "      <th>exten</th>\n",
       "    </tr>\n",
       "  </thead>\n",
       "  <tbody>\n",
       "    <tr>\n",
       "      <th>0</th>\n",
       "      <td>2</td>\n",
       "      <td>01 Stuck On The Puzzle (Intro).mp3</td>\n",
       "      <td>../../../Music/Britpop, Indie y rock alt britá...</td>\n",
       "      <td>mp3</td>\n",
       "    </tr>\n",
       "    <tr>\n",
       "      <th>1</th>\n",
       "      <td>3</td>\n",
       "      <td>02 Hiding Tonight.mp3</td>\n",
       "      <td>../../../Music/Britpop, Indie y rock alt britá...</td>\n",
       "      <td>mp3</td>\n",
       "    </tr>\n",
       "    <tr>\n",
       "      <th>2</th>\n",
       "      <td>4</td>\n",
       "      <td>03 Glass In The Park.mp3</td>\n",
       "      <td>../../../Music/Britpop, Indie y rock alt britá...</td>\n",
       "      <td>mp3</td>\n",
       "    </tr>\n",
       "    <tr>\n",
       "      <th>3</th>\n",
       "      <td>5</td>\n",
       "      <td>04 It's Hard To Get Around The Wind.mp3</td>\n",
       "      <td>../../../Music/Britpop, Indie y rock alt britá...</td>\n",
       "      <td>mp3</td>\n",
       "    </tr>\n",
       "    <tr>\n",
       "      <th>4</th>\n",
       "      <td>6</td>\n",
       "      <td>05 Stuck On The Puzzle.mp3</td>\n",
       "      <td>../../../Music/Britpop, Indie y rock alt britá...</td>\n",
       "      <td>mp3</td>\n",
       "    </tr>\n",
       "  </tbody>\n",
       "</table>\n",
       "</div>"
      ],
      "text/plain": [
       "   index                                  archivo  \\\n",
       "0      2       01 Stuck On The Puzzle (Intro).mp3   \n",
       "1      3                    02 Hiding Tonight.mp3   \n",
       "2      4                 03 Glass In The Park.mp3   \n",
       "3      5  04 It's Hard To Get Around The Wind.mp3   \n",
       "4      6               05 Stuck On The Puzzle.mp3   \n",
       "\n",
       "                                                ruta exten  \n",
       "0  ../../../Music/Britpop, Indie y rock alt britá...   mp3  \n",
       "1  ../../../Music/Britpop, Indie y rock alt britá...   mp3  \n",
       "2  ../../../Music/Britpop, Indie y rock alt britá...   mp3  \n",
       "3  ../../../Music/Britpop, Indie y rock alt britá...   mp3  \n",
       "4  ../../../Music/Britpop, Indie y rock alt britá...   mp3  "
      ]
     },
     "execution_count": 20,
     "metadata": {},
     "output_type": "execute_result"
    }
   ],
   "source": [
    "music_tot.head()"
   ]
  },
  {
   "cell_type": "code",
   "execution_count": 21,
   "id": "b1cec77c",
   "metadata": {},
   "outputs": [],
   "source": [
    "music_tot['ruta_total'] = music_tot.ruta+'/'+music_tot.archivo"
   ]
  },
  {
   "cell_type": "code",
   "execution_count": 25,
   "id": "c563aebb",
   "metadata": {},
   "outputs": [
    {
     "name": "stdout",
     "output_type": "stream",
     "text": [
      "<class 'pandas.core.frame.DataFrame'>\n",
      "RangeIndex: 21236 entries, 0 to 21235\n",
      "Data columns (total 5 columns):\n",
      " #   Column      Non-Null Count  Dtype \n",
      "---  ------      --------------  ----- \n",
      " 0   index       21236 non-null  int64 \n",
      " 1   archivo     21236 non-null  object\n",
      " 2   ruta        21236 non-null  object\n",
      " 3   exten       21236 non-null  object\n",
      " 4   ruta_total  21236 non-null  object\n",
      "dtypes: int64(1), object(4)\n",
      "memory usage: 829.7+ KB\n"
     ]
    }
   ],
   "source": [
    "music_tot.info()"
   ]
  },
  {
   "cell_type": "code",
   "execution_count": 22,
   "id": "18dc426b",
   "metadata": {},
   "outputs": [],
   "source": [
    "# self._filehandler = filehandler\n",
    "# self._filename = None  # for debugging purposes\n",
    "# self._default_encoding = None  # allow override for some file formats\n",
    "# self.filesize = filesize\n",
    "# self.album = None\n",
    "# self.albumartist = None\n",
    "# self.artist = None\n",
    "# self.audio_offset = None\n",
    "# self.bitrate = None\n",
    "# self.channels = None\n",
    "# self.comment = None\n",
    "# self.composer = None\n",
    "# self.disc = None\n",
    "# self.disc_total = None\n",
    "# self.duration = None\n",
    "# self.extra = defaultdict(lambda: None)\n",
    "# self.genre = None\n",
    "# self.samplerate = None\n",
    "# self.title = None\n",
    "# self.track = None\n",
    "# self.track_total = None\n",
    "# self.year = None\n",
    "# self._load_image = False\n",
    "# self._image_data = None\n",
    "# self._ignore_errors = ignore_errors"
   ]
  },
  {
   "cell_type": "code",
   "execution_count": 26,
   "id": "1ec0bcea",
   "metadata": {
    "scrolled": false
   },
   "outputs": [
    {
     "name": "stdout",
     "output_type": "stream",
     "text": [
      "0 done ../../../Music/Britpop, Indie y rock alt británico/Alex Turner/2011 Submarine 01 Stuck On The Puzzle (Intro).mp3\n",
      "1000 done ../../../Music/Britpop, Indie y rock alt británico/Royal blood/2017 How Did We Get So Dark 04 She's Creeping.mp3\n",
      "2000 done ../../../Music/Cantautores/Pablo Ager/2005 Durmiendo en azoteas 10 Cenizas.mp3\n",
      "3000 done ../../../Music/Classic Punk, New Wave, Garage Rock y psicodelia/Iggy Pop & The Stooges/2016 Post Pop Depression 01 Break Into Your Heart.mp3\n",
      "4000 done ../../../Music/Classic Rock/Frank Zappa/1966 Freak Out 11 You're Probably Wondering Why I'm Here.mp3\n",
      "5000 done ../../../Music/Classic Rock/The Rolling Stones/1965 Out of Our Heads (US) 01 Mercy Mercy.mp3\n",
      "6000 done ../../../Music/Country, Folk, singersongwritters/Kathleen Edwards/2002 Failer 05 12 Bellevue.mp3\n",
      "7000 done ../../../Music/Country, Folk, singersongwritters/Tom Waits/1992 Bone Machine 15 Let Me Get up on It.mp3\n",
      "8000 done ../../../Music/Electronica, House, Chill out & Inndustrial/William Orbit/1993 Strange Cargo III 05 A Touch of the Night .mp3\n",
      "9000 done ../../../Music/Flamenco, Fusión, Música del mundo, ritmos latinos y Francia/Los Delinqüentes/2003 Arquitectura del aire en la calle 12 El rey del regaliz.mp3\n",
      "10000 done ../../../Music/Flamenco, Fusión, Música del mundo, ritmos latinos y Francia/Tribalistas/2002 Tribalistas 02 Um a um.mp3\n",
      "11000 done ../../../Music/Hip hop, funky, R&B/Prince/1984 - Purple Rain OST (Prince & The Revolution) 06 When Doves Cry.mp3\n",
      "12000 done ../../../Music/Indie, Rock Alt, Grunge/Arcade Fire/2003 Arcade Fire 04 The Woodland National Anthem.mp3\n",
      "13000 done ../../../Music/Indie, Rock Alt, Grunge/Sonic Youth/1986 Evol 02 Shadow Of A Doubt.mp3\n",
      "14000 done ../../../Music/Metal, hard rock/Extreme/1990 Extreme II Pornograffitti (A Funked Up Fairy Tale) 07 It ('s a Monster).mp3\n",
      "15000 done ../../../Music/Pop Rock en español y movida/Alejandro Sanz/1991 - Viviendo deprisa 02 Pisando Fuerte.mp3\n",
      "16000 done ../../../Music/Pop Rock en español y movida/Tam Tam Go/1990 Espaldas Mojadas 05 Better ways.mp3\n",
      "17000 done ../../../Music/Pop, Pop Dance, Club/Matchbox 20/2000 Rarities, Acoustics & Live 02 Argue (Live).mp3\n",
      "18000 done ../../../Music/Punky, rap metal, Ska y Reggae/Girls Against Boys/1994 Venus Luxure No. 1 Baby 04 Satin Down.mp3\n",
      "19000 done ../../../Music/Rock Ibérico, punkarra y rock latino/Extremoduro/2013 Para Todos Los Publicos 03 ¡Qué borde era mi valle!.mp3\n",
      "20000 done ../../../Music/Rock Ibérico, punkarra y rock latino/Ska-P/1994 Ska-P 09 Como Un Rayo.mp3\n",
      "21000 done ../../../Music/V.A/Miscelánea Stacie Orrico - Stuck.mp3\n",
      "done, bitches\n"
     ]
    }
   ],
   "source": [
    "listatag = []\n",
    "\n",
    "for i,r in music_tot.iterrows():\n",
    "    \n",
    "    try:\n",
    "\n",
    "        dicc = {}\n",
    "        #tag = TinyTag.get({str(r.ruta)}+'/'+{str(r.archivo)})\n",
    "        tag = TinyTag.get(r.ruta_total)\n",
    "        dicc['albumartist'] = tag.albumartist\n",
    "        dicc['artist'] = tag.artist\n",
    "        dicc['genre'] = tag.genre\n",
    "        dicc['album'] = tag.album\n",
    "        dicc['year'] = tag.year\n",
    "        dicc['track'] = tag.track    \n",
    "        #dicc['track_total'] = tag.track_total\n",
    "        dicc['title'] = tag.title    \n",
    "        dicc['duration'] = tag.duration\n",
    "        dicc['filesize'] = tag.filesize\n",
    "        dicc['audio_offset'] = tag.audio_offset\n",
    "        #dicc['channels'] = l.channels\n",
    "        #dicc['comment'] = l.comment\n",
    "        #dicc['composer'] = l.composer\n",
    "        #dicc['disc_total'] = l.disc_total\n",
    "        #dicc['extra'] = l.extra\n",
    "        dicc['samplerate'] = tag.samplerate        \n",
    "        dicc['archivo'] = r.archivo\n",
    "        dicc['ruta'] = r.ruta        \n",
    "        #dicc['ruta_total'] = f'{r.ruta}/{r.archivo}'\n",
    "\n",
    "        listatag.append(dicc)\n",
    "\n",
    "        if i%1000 == 0:\n",
    "            print(i, 'done', r.ruta, r.archivo)\n",
    "        elif i == len(music_tot)-1:\n",
    "            print('done, bitches')\n",
    "    except Exception as e:\n",
    "        print(e)\n",
    "        print(f'cant be done: {i}, {r.ruta_total}')"
   ]
  },
  {
   "cell_type": "code",
   "execution_count": 27,
   "id": "9b9a30f3",
   "metadata": {},
   "outputs": [],
   "source": [
    "music_db = pd.DataFrame(listatag)"
   ]
  },
  {
   "cell_type": "code",
   "execution_count": 28,
   "id": "c9153006",
   "metadata": {
    "scrolled": true
   },
   "outputs": [
    {
     "data": {
      "text/html": [
       "<div>\n",
       "<style scoped>\n",
       "    .dataframe tbody tr th:only-of-type {\n",
       "        vertical-align: middle;\n",
       "    }\n",
       "\n",
       "    .dataframe tbody tr th {\n",
       "        vertical-align: top;\n",
       "    }\n",
       "\n",
       "    .dataframe thead th {\n",
       "        text-align: right;\n",
       "    }\n",
       "</style>\n",
       "<table border=\"1\" class=\"dataframe\">\n",
       "  <thead>\n",
       "    <tr style=\"text-align: right;\">\n",
       "      <th></th>\n",
       "      <th>albumartist</th>\n",
       "      <th>artist</th>\n",
       "      <th>genre</th>\n",
       "      <th>album</th>\n",
       "      <th>year</th>\n",
       "      <th>track</th>\n",
       "      <th>title</th>\n",
       "      <th>duration</th>\n",
       "      <th>filesize</th>\n",
       "      <th>audio_offset</th>\n",
       "      <th>samplerate</th>\n",
       "      <th>archivo</th>\n",
       "      <th>ruta</th>\n",
       "    </tr>\n",
       "  </thead>\n",
       "  <tbody>\n",
       "    <tr>\n",
       "      <th>19181</th>\n",
       "      <td>Héroes Del Silencio</td>\n",
       "      <td>Héroes Del Silencio</td>\n",
       "      <td>Rock</td>\n",
       "      <td>Avalancha</td>\n",
       "      <td>1995</td>\n",
       "      <td>11</td>\n",
       "      <td>Opio</td>\n",
       "      <td>379.357790</td>\n",
       "      <td>15200161</td>\n",
       "      <td>27144.0</td>\n",
       "      <td>44100.0</td>\n",
       "      <td>11 Opio.mp3</td>\n",
       "      <td>../../../Music/Rock Ibérico, punkarra y rock l...</td>\n",
       "    </tr>\n",
       "    <tr>\n",
       "      <th>6109</th>\n",
       "      <td>Laura Marling</td>\n",
       "      <td>Laura Marling</td>\n",
       "      <td>Folk</td>\n",
       "      <td>Semper Femina</td>\n",
       "      <td>2017</td>\n",
       "      <td>07</td>\n",
       "      <td>Next Time</td>\n",
       "      <td>241.625076</td>\n",
       "      <td>9679088</td>\n",
       "      <td>16713.0</td>\n",
       "      <td>44100.0</td>\n",
       "      <td>07 Next Time.mp3</td>\n",
       "      <td>../../../Music/Country, Folk, singersongwritte...</td>\n",
       "    </tr>\n",
       "    <tr>\n",
       "      <th>9633</th>\n",
       "      <td>Olivia Ruiz</td>\n",
       "      <td>Olivia Ruiz</td>\n",
       "      <td>Pop</td>\n",
       "      <td>La Chica Chocolate</td>\n",
       "      <td>2009</td>\n",
       "      <td>04</td>\n",
       "      <td>Non-Dits</td>\n",
       "      <td>246.290923</td>\n",
       "      <td>9890520</td>\n",
       "      <td>37793.0</td>\n",
       "      <td>44100.0</td>\n",
       "      <td>04 Non-Dits.mp3</td>\n",
       "      <td>../../../Music/Flamenco, Fusión, Música del mu...</td>\n",
       "    </tr>\n",
       "  </tbody>\n",
       "</table>\n",
       "</div>"
      ],
      "text/plain": [
       "               albumartist               artist genre               album  \\\n",
       "19181  Héroes Del Silencio  Héroes Del Silencio  Rock           Avalancha   \n",
       "6109         Laura Marling        Laura Marling  Folk       Semper Femina   \n",
       "9633           Olivia Ruiz          Olivia Ruiz   Pop  La Chica Chocolate   \n",
       "\n",
       "       year track      title    duration  filesize  audio_offset  samplerate  \\\n",
       "19181  1995    11       Opio  379.357790  15200161       27144.0     44100.0   \n",
       "6109   2017    07  Next Time  241.625076   9679088       16713.0     44100.0   \n",
       "9633   2009    04   Non-Dits  246.290923   9890520       37793.0     44100.0   \n",
       "\n",
       "                archivo                                               ruta  \n",
       "19181       11 Opio.mp3  ../../../Music/Rock Ibérico, punkarra y rock l...  \n",
       "6109   07 Next Time.mp3  ../../../Music/Country, Folk, singersongwritte...  \n",
       "9633    04 Non-Dits.mp3  ../../../Music/Flamenco, Fusión, Música del mu...  "
      ]
     },
     "execution_count": 28,
     "metadata": {},
     "output_type": "execute_result"
    }
   ],
   "source": [
    "music_db.sample(3)"
   ]
  },
  {
   "cell_type": "code",
   "execution_count": 29,
   "id": "87d64fb9",
   "metadata": {},
   "outputs": [
    {
     "data": {
      "text/plain": [
       "(21236, 13)"
      ]
     },
     "execution_count": 29,
     "metadata": {},
     "output_type": "execute_result"
    }
   ],
   "source": [
    "music_db.shape"
   ]
  },
  {
   "cell_type": "code",
   "execution_count": 30,
   "id": "bc78836a",
   "metadata": {},
   "outputs": [
    {
     "name": "stdout",
     "output_type": "stream",
     "text": [
      "<class 'pandas.core.frame.DataFrame'>\n",
      "RangeIndex: 21236 entries, 0 to 21235\n",
      "Data columns (total 13 columns):\n",
      " #   Column        Non-Null Count  Dtype  \n",
      "---  ------        --------------  -----  \n",
      " 0   albumartist   21234 non-null  object \n",
      " 1   artist        21236 non-null  object \n",
      " 2   genre         14471 non-null  object \n",
      " 3   album         21236 non-null  object \n",
      " 4   year          21236 non-null  object \n",
      " 5   track         20375 non-null  object \n",
      " 6   title         21236 non-null  object \n",
      " 7   duration      21235 non-null  float64\n",
      " 8   filesize      21236 non-null  int64  \n",
      " 9   audio_offset  21136 non-null  float64\n",
      " 10  samplerate    21235 non-null  float64\n",
      " 11  archivo       21236 non-null  object \n",
      " 12  ruta          21236 non-null  object \n",
      "dtypes: float64(3), int64(1), object(9)\n",
      "memory usage: 2.1+ MB\n"
     ]
    }
   ],
   "source": [
    "music_db.info()"
   ]
  },
  {
   "cell_type": "code",
   "execution_count": 31,
   "id": "a9483bd9",
   "metadata": {},
   "outputs": [
    {
     "data": {
      "text/plain": [
       "albumartist        2\n",
       "artist             0\n",
       "genre           6765\n",
       "album              0\n",
       "year               0\n",
       "track            861\n",
       "title              0\n",
       "duration           1\n",
       "filesize           0\n",
       "audio_offset     100\n",
       "samplerate         1\n",
       "archivo            0\n",
       "ruta               0\n",
       "dtype: int64"
      ]
     },
     "execution_count": 31,
     "metadata": {},
     "output_type": "execute_result"
    }
   ],
   "source": [
    "music_db.isna().sum()"
   ]
  },
  {
   "cell_type": "code",
   "execution_count": 32,
   "id": "e23be7f7",
   "metadata": {},
   "outputs": [],
   "source": [
    "music_db.albumartist.fillna(music_db.artist,inplace = True)"
   ]
  },
  {
   "cell_type": "code",
   "execution_count": 33,
   "id": "e7b81eef",
   "metadata": {},
   "outputs": [],
   "source": [
    "music_db.genre.fillna('unknown',inplace = True)"
   ]
  },
  {
   "cell_type": "code",
   "execution_count": 34,
   "id": "6db707e5",
   "metadata": {},
   "outputs": [
    {
     "data": {
      "text/html": [
       "<div>\n",
       "<style scoped>\n",
       "    .dataframe tbody tr th:only-of-type {\n",
       "        vertical-align: middle;\n",
       "    }\n",
       "\n",
       "    .dataframe tbody tr th {\n",
       "        vertical-align: top;\n",
       "    }\n",
       "\n",
       "    .dataframe thead th {\n",
       "        text-align: right;\n",
       "    }\n",
       "</style>\n",
       "<table border=\"1\" class=\"dataframe\">\n",
       "  <thead>\n",
       "    <tr style=\"text-align: right;\">\n",
       "      <th></th>\n",
       "      <th>albumartist</th>\n",
       "      <th>artist</th>\n",
       "      <th>genre</th>\n",
       "      <th>album</th>\n",
       "      <th>year</th>\n",
       "      <th>track</th>\n",
       "      <th>title</th>\n",
       "      <th>duration</th>\n",
       "      <th>filesize</th>\n",
       "      <th>audio_offset</th>\n",
       "      <th>samplerate</th>\n",
       "      <th>archivo</th>\n",
       "      <th>ruta</th>\n",
       "    </tr>\n",
       "  </thead>\n",
       "  <tbody>\n",
       "    <tr>\n",
       "      <th>20471</th>\n",
       "      <td>Juampa y La raja</td>\n",
       "      <td>Juampa y La raja</td>\n",
       "      <td>unknown</td>\n",
       "      <td>La Paja En La Farola</td>\n",
       "      <td>1998</td>\n",
       "      <td>None</td>\n",
       "      <td>Vampiro sin picha</td>\n",
       "      <td>198.069931</td>\n",
       "      <td>7922787</td>\n",
       "      <td>2121.0</td>\n",
       "      <td>44100.0</td>\n",
       "      <td>Juampa y La raja - Vampiro sin picha.mp3</td>\n",
       "      <td>../../../Music/V.A/Miscelanea 3a</td>\n",
       "    </tr>\n",
       "    <tr>\n",
       "      <th>21062</th>\n",
       "      <td>The Marvelettes</td>\n",
       "      <td>The Marvelettes</td>\n",
       "      <td>Soul</td>\n",
       "      <td>Please Mr. Postman</td>\n",
       "      <td>1961</td>\n",
       "      <td>None</td>\n",
       "      <td>Please Mr. Postman</td>\n",
       "      <td>151.322536</td>\n",
       "      <td>6054520</td>\n",
       "      <td>2058.0</td>\n",
       "      <td>44100.0</td>\n",
       "      <td>The Marvelettes - Please Mr. Postman.mp3</td>\n",
       "      <td>../../../Music/V.A/Miscelánea</td>\n",
       "    </tr>\n",
       "    <tr>\n",
       "      <th>20511</th>\n",
       "      <td>Shakira</td>\n",
       "      <td>Shakira</td>\n",
       "      <td>Dance/Latin2</td>\n",
       "      <td>Oral Fixation Vol. 2</td>\n",
       "      <td>2006</td>\n",
       "      <td>None</td>\n",
       "      <td>Hips don't lie (feat. Wyclef Jean)</td>\n",
       "      <td>220.492400</td>\n",
       "      <td>8819021</td>\n",
       "      <td>1712.0</td>\n",
       "      <td>44100.0</td>\n",
       "      <td>Shakira - Hips don't lie (feat. Wyclef Jean).mp3</td>\n",
       "      <td>../../../Music/V.A/Miscelanea 3a</td>\n",
       "    </tr>\n",
       "  </tbody>\n",
       "</table>\n",
       "</div>"
      ],
      "text/plain": [
       "            albumartist            artist         genre                 album  \\\n",
       "20471  Juampa y La raja  Juampa y La raja       unknown  La Paja En La Farola   \n",
       "21062   The Marvelettes   The Marvelettes          Soul    Please Mr. Postman   \n",
       "20511           Shakira           Shakira  Dance/Latin2  Oral Fixation Vol. 2   \n",
       "\n",
       "       year track                               title    duration  filesize  \\\n",
       "20471  1998  None                   Vampiro sin picha  198.069931   7922787   \n",
       "21062  1961  None                  Please Mr. Postman  151.322536   6054520   \n",
       "20511  2006  None  Hips don't lie (feat. Wyclef Jean)  220.492400   8819021   \n",
       "\n",
       "       audio_offset  samplerate  \\\n",
       "20471        2121.0     44100.0   \n",
       "21062        2058.0     44100.0   \n",
       "20511        1712.0     44100.0   \n",
       "\n",
       "                                                archivo  \\\n",
       "20471          Juampa y La raja - Vampiro sin picha.mp3   \n",
       "21062          The Marvelettes - Please Mr. Postman.mp3   \n",
       "20511  Shakira - Hips don't lie (feat. Wyclef Jean).mp3   \n",
       "\n",
       "                                   ruta  \n",
       "20471  ../../../Music/V.A/Miscelanea 3a  \n",
       "21062     ../../../Music/V.A/Miscelánea  \n",
       "20511  ../../../Music/V.A/Miscelanea 3a  "
      ]
     },
     "execution_count": 34,
     "metadata": {},
     "output_type": "execute_result"
    }
   ],
   "source": [
    "music_db[music_db['track'].isna()].sample(3)"
   ]
  },
  {
   "cell_type": "code",
   "execution_count": 35,
   "id": "6773d141",
   "metadata": {},
   "outputs": [],
   "source": [
    "music_db.track = music_db.track.str.strip().fillna('0').astype('int64')"
   ]
  },
  {
   "cell_type": "code",
   "execution_count": 36,
   "id": "3ff3d3b8",
   "metadata": {},
   "outputs": [
    {
     "data": {
      "text/plain": [
       "array([ 1,  2,  3,  4,  5,  6,  7,  8,  9, 10, 11, 12, 13, 14, 15, 16, 17,\n",
       "       18, 19, 20,  0, 21, 22, 23, 24, 25, 26, 27, 28, 29, 30, 31, 32, 33,\n",
       "       34, 35, 36, 37, 38, 39, 40, 41, 42, 43])"
      ]
     },
     "execution_count": 36,
     "metadata": {},
     "output_type": "execute_result"
    }
   ],
   "source": [
    "music_db.track.unique()"
   ]
  },
  {
   "cell_type": "code",
   "execution_count": 37,
   "id": "1ede6314",
   "metadata": {},
   "outputs": [
    {
     "data": {
      "text/html": [
       "<div>\n",
       "<style scoped>\n",
       "    .dataframe tbody tr th:only-of-type {\n",
       "        vertical-align: middle;\n",
       "    }\n",
       "\n",
       "    .dataframe tbody tr th {\n",
       "        vertical-align: top;\n",
       "    }\n",
       "\n",
       "    .dataframe thead th {\n",
       "        text-align: right;\n",
       "    }\n",
       "</style>\n",
       "<table border=\"1\" class=\"dataframe\">\n",
       "  <thead>\n",
       "    <tr style=\"text-align: right;\">\n",
       "      <th></th>\n",
       "      <th>albumartist</th>\n",
       "      <th>artist</th>\n",
       "      <th>genre</th>\n",
       "      <th>album</th>\n",
       "      <th>year</th>\n",
       "      <th>track</th>\n",
       "      <th>title</th>\n",
       "      <th>duration</th>\n",
       "      <th>filesize</th>\n",
       "      <th>audio_offset</th>\n",
       "      <th>samplerate</th>\n",
       "      <th>archivo</th>\n",
       "      <th>ruta</th>\n",
       "    </tr>\n",
       "  </thead>\n",
       "  <tbody>\n",
       "    <tr>\n",
       "      <th>14772</th>\n",
       "      <td>The Pretty Reckless</td>\n",
       "      <td>The Pretty Reckless</td>\n",
       "      <td>Hard Rock</td>\n",
       "      <td>Who You Selling For</td>\n",
       "      <td>2016</td>\n",
       "      <td>6</td>\n",
       "      <td>Back To The River (feat. Warren Haynes)</td>\n",
       "      <td>NaN</td>\n",
       "      <td>12446083</td>\n",
       "      <td>NaN</td>\n",
       "      <td>NaN</td>\n",
       "      <td>06 Back To The River (feat. Warren Haynes).mp3</td>\n",
       "      <td>../../../Music/Metal, hard rock/The Pretty Rec...</td>\n",
       "    </tr>\n",
       "  </tbody>\n",
       "</table>\n",
       "</div>"
      ],
      "text/plain": [
       "               albumartist               artist      genre  \\\n",
       "14772  The Pretty Reckless  The Pretty Reckless  Hard Rock   \n",
       "\n",
       "                     album  year  track  \\\n",
       "14772  Who You Selling For  2016      6   \n",
       "\n",
       "                                         title  duration  filesize  \\\n",
       "14772  Back To The River (feat. Warren Haynes)       NaN  12446083   \n",
       "\n",
       "       audio_offset  samplerate  \\\n",
       "14772           NaN         NaN   \n",
       "\n",
       "                                              archivo  \\\n",
       "14772  06 Back To The River (feat. Warren Haynes).mp3   \n",
       "\n",
       "                                                    ruta  \n",
       "14772  ../../../Music/Metal, hard rock/The Pretty Rec...  "
      ]
     },
     "execution_count": 37,
     "metadata": {},
     "output_type": "execute_result"
    }
   ],
   "source": [
    "music_db[music_db['duration'].isna()]"
   ]
  },
  {
   "cell_type": "code",
   "execution_count": 38,
   "id": "80d06049",
   "metadata": {},
   "outputs": [],
   "source": [
    "#Back To The River (feat. Warren Haynes) 05:11"
   ]
  },
  {
   "cell_type": "code",
   "execution_count": 39,
   "id": "203e5009",
   "metadata": {},
   "outputs": [],
   "source": [
    "music_db.duration = np.where(music_db.title == 'Back To The River (feat. Warren Haynes)',311,music_db.duration)"
   ]
  },
  {
   "cell_type": "code",
   "execution_count": 40,
   "id": "01e4f6c6",
   "metadata": {},
   "outputs": [
    {
     "data": {
      "text/plain": [
       "220.968711    2\n",
       "251.616500    2\n",
       "247.313698    2\n",
       "265.168715    2\n",
       "252.242128    2\n",
       "Name: duration, dtype: int64"
      ]
     },
     "execution_count": 40,
     "metadata": {},
     "output_type": "execute_result"
    }
   ],
   "source": [
    "music_db.duration.value_counts().head(5)"
   ]
  },
  {
   "cell_type": "code",
   "execution_count": 41,
   "id": "a51b24d2",
   "metadata": {},
   "outputs": [
    {
     "data": {
      "text/html": [
       "<div>\n",
       "<style scoped>\n",
       "    .dataframe tbody tr th:only-of-type {\n",
       "        vertical-align: middle;\n",
       "    }\n",
       "\n",
       "    .dataframe tbody tr th {\n",
       "        vertical-align: top;\n",
       "    }\n",
       "\n",
       "    .dataframe thead th {\n",
       "        text-align: right;\n",
       "    }\n",
       "</style>\n",
       "<table border=\"1\" class=\"dataframe\">\n",
       "  <thead>\n",
       "    <tr style=\"text-align: right;\">\n",
       "      <th></th>\n",
       "      <th>albumartist</th>\n",
       "      <th>artist</th>\n",
       "      <th>genre</th>\n",
       "      <th>album</th>\n",
       "      <th>year</th>\n",
       "      <th>track</th>\n",
       "      <th>title</th>\n",
       "      <th>duration</th>\n",
       "      <th>filesize</th>\n",
       "      <th>audio_offset</th>\n",
       "      <th>samplerate</th>\n",
       "      <th>archivo</th>\n",
       "      <th>ruta</th>\n",
       "    </tr>\n",
       "  </thead>\n",
       "  <tbody>\n",
       "    <tr>\n",
       "      <th>11130</th>\n",
       "      <td>Vanexxa</td>\n",
       "      <td>Vanexxa</td>\n",
       "      <td>Hip Hop</td>\n",
       "      <td>Se Rompe O Se Raja</td>\n",
       "      <td>2006</td>\n",
       "      <td>15</td>\n",
       "      <td>He Matado A Mis Peres</td>\n",
       "      <td>240.738000</td>\n",
       "      <td>3893965</td>\n",
       "      <td>NaN</td>\n",
       "      <td>44100.0</td>\n",
       "      <td>15 Pista 15.wma</td>\n",
       "      <td>../../../Music/Hip hop, funky, R&amp;B/Vanexxa/200...</td>\n",
       "    </tr>\n",
       "    <tr>\n",
       "      <th>15113</th>\n",
       "      <td>Amaral</td>\n",
       "      <td>Amaral</td>\n",
       "      <td>unknown</td>\n",
       "      <td>Hacia Lo Salvaje</td>\n",
       "      <td>2011</td>\n",
       "      <td>1</td>\n",
       "      <td>Hacia Lo Salvaje</td>\n",
       "      <td>254.955102</td>\n",
       "      <td>8840640</td>\n",
       "      <td>NaN</td>\n",
       "      <td>44100.0</td>\n",
       "      <td>01 Hacia Lo Salvaje.m4a</td>\n",
       "      <td>../../../Music/Pop Rock en español y movida/Am...</td>\n",
       "    </tr>\n",
       "    <tr>\n",
       "      <th>499</th>\n",
       "      <td>Franz Ferdinand</td>\n",
       "      <td>Franz Ferdinand</td>\n",
       "      <td>Rock</td>\n",
       "      <td>Franz Ferdinand</td>\n",
       "      <td>2004</td>\n",
       "      <td>11</td>\n",
       "      <td>40</td>\n",
       "      <td>204.289161</td>\n",
       "      <td>8591568</td>\n",
       "      <td>NaN</td>\n",
       "      <td>44100.0</td>\n",
       "      <td>11 40.m4a</td>\n",
       "      <td>../../../Music/Britpop, Indie y rock alt britá...</td>\n",
       "    </tr>\n",
       "    <tr>\n",
       "      <th>1824</th>\n",
       "      <td>Luis Ramiro</td>\n",
       "      <td>Luis Ramiro</td>\n",
       "      <td>Cantautor</td>\n",
       "      <td>Dramas Y Caballeros</td>\n",
       "      <td>2009</td>\n",
       "      <td>3</td>\n",
       "      <td>Diecisiete</td>\n",
       "      <td>204.846000</td>\n",
       "      <td>3342452</td>\n",
       "      <td>NaN</td>\n",
       "      <td>44100.0</td>\n",
       "      <td>03 Diecisiete.wma</td>\n",
       "      <td>../../../Music/Cantautores/Luis Ramiro/2009 Dr...</td>\n",
       "    </tr>\n",
       "    <tr>\n",
       "      <th>20046</th>\n",
       "      <td>Ska-P</td>\n",
       "      <td>Ska-P</td>\n",
       "      <td>unknown</td>\n",
       "      <td>Lágrimas Y Gozos</td>\n",
       "      <td>2008</td>\n",
       "      <td>10</td>\n",
       "      <td>El Tercero De La Foto</td>\n",
       "      <td>230.574150</td>\n",
       "      <td>4566520</td>\n",
       "      <td>NaN</td>\n",
       "      <td>44100.0</td>\n",
       "      <td>10 El Tercero De La Foto.m4a</td>\n",
       "      <td>../../../Music/Rock Ibérico, punkarra y rock l...</td>\n",
       "    </tr>\n",
       "  </tbody>\n",
       "</table>\n",
       "</div>"
      ],
      "text/plain": [
       "           albumartist           artist      genre                album  year  \\\n",
       "11130          Vanexxa          Vanexxa    Hip Hop   Se Rompe O Se Raja  2006   \n",
       "15113           Amaral           Amaral    unknown     Hacia Lo Salvaje  2011   \n",
       "499    Franz Ferdinand  Franz Ferdinand       Rock      Franz Ferdinand  2004   \n",
       "1824       Luis Ramiro      Luis Ramiro  Cantautor  Dramas Y Caballeros  2009   \n",
       "20046            Ska-P            Ska-P    unknown     Lágrimas Y Gozos  2008   \n",
       "\n",
       "       track                  title    duration  filesize  audio_offset  \\\n",
       "11130     15  He Matado A Mis Peres  240.738000   3893965           NaN   \n",
       "15113      1       Hacia Lo Salvaje  254.955102   8840640           NaN   \n",
       "499       11                     40  204.289161   8591568           NaN   \n",
       "1824       3             Diecisiete  204.846000   3342452           NaN   \n",
       "20046     10  El Tercero De La Foto  230.574150   4566520           NaN   \n",
       "\n",
       "       samplerate                       archivo  \\\n",
       "11130     44100.0               15 Pista 15.wma   \n",
       "15113     44100.0       01 Hacia Lo Salvaje.m4a   \n",
       "499       44100.0                     11 40.m4a   \n",
       "1824      44100.0             03 Diecisiete.wma   \n",
       "20046     44100.0  10 El Tercero De La Foto.m4a   \n",
       "\n",
       "                                                    ruta  \n",
       "11130  ../../../Music/Hip hop, funky, R&B/Vanexxa/200...  \n",
       "15113  ../../../Music/Pop Rock en español y movida/Am...  \n",
       "499    ../../../Music/Britpop, Indie y rock alt britá...  \n",
       "1824   ../../../Music/Cantautores/Luis Ramiro/2009 Dr...  \n",
       "20046  ../../../Music/Rock Ibérico, punkarra y rock l...  "
      ]
     },
     "execution_count": 41,
     "metadata": {},
     "output_type": "execute_result"
    }
   ],
   "source": [
    "music_db[music_db['audio_offset'].isna()].sample(5)"
   ]
  },
  {
   "cell_type": "code",
   "execution_count": 42,
   "id": "ff532213",
   "metadata": {},
   "outputs": [],
   "source": [
    "music_db.audio_offset.fillna(0.0,inplace = True)"
   ]
  },
  {
   "cell_type": "code",
   "execution_count": 43,
   "id": "1d2b309f",
   "metadata": {},
   "outputs": [
    {
     "data": {
      "text/html": [
       "<div>\n",
       "<style scoped>\n",
       "    .dataframe tbody tr th:only-of-type {\n",
       "        vertical-align: middle;\n",
       "    }\n",
       "\n",
       "    .dataframe tbody tr th {\n",
       "        vertical-align: top;\n",
       "    }\n",
       "\n",
       "    .dataframe thead th {\n",
       "        text-align: right;\n",
       "    }\n",
       "</style>\n",
       "<table border=\"1\" class=\"dataframe\">\n",
       "  <thead>\n",
       "    <tr style=\"text-align: right;\">\n",
       "      <th></th>\n",
       "      <th>albumartist</th>\n",
       "      <th>artist</th>\n",
       "      <th>genre</th>\n",
       "      <th>album</th>\n",
       "      <th>year</th>\n",
       "      <th>track</th>\n",
       "      <th>title</th>\n",
       "      <th>duration</th>\n",
       "      <th>filesize</th>\n",
       "      <th>audio_offset</th>\n",
       "      <th>samplerate</th>\n",
       "      <th>archivo</th>\n",
       "      <th>ruta</th>\n",
       "    </tr>\n",
       "  </thead>\n",
       "  <tbody>\n",
       "    <tr>\n",
       "      <th>14772</th>\n",
       "      <td>The Pretty Reckless</td>\n",
       "      <td>The Pretty Reckless</td>\n",
       "      <td>Hard Rock</td>\n",
       "      <td>Who You Selling For</td>\n",
       "      <td>2016</td>\n",
       "      <td>6</td>\n",
       "      <td>Back To The River (feat. Warren Haynes)</td>\n",
       "      <td>311.0</td>\n",
       "      <td>12446083</td>\n",
       "      <td>0.0</td>\n",
       "      <td>NaN</td>\n",
       "      <td>06 Back To The River (feat. Warren Haynes).mp3</td>\n",
       "      <td>../../../Music/Metal, hard rock/The Pretty Rec...</td>\n",
       "    </tr>\n",
       "  </tbody>\n",
       "</table>\n",
       "</div>"
      ],
      "text/plain": [
       "               albumartist               artist      genre  \\\n",
       "14772  The Pretty Reckless  The Pretty Reckless  Hard Rock   \n",
       "\n",
       "                     album  year  track  \\\n",
       "14772  Who You Selling For  2016      6   \n",
       "\n",
       "                                         title  duration  filesize  \\\n",
       "14772  Back To The River (feat. Warren Haynes)     311.0  12446083   \n",
       "\n",
       "       audio_offset  samplerate  \\\n",
       "14772           0.0         NaN   \n",
       "\n",
       "                                              archivo  \\\n",
       "14772  06 Back To The River (feat. Warren Haynes).mp3   \n",
       "\n",
       "                                                    ruta  \n",
       "14772  ../../../Music/Metal, hard rock/The Pretty Rec...  "
      ]
     },
     "execution_count": 43,
     "metadata": {},
     "output_type": "execute_result"
    }
   ],
   "source": [
    "music_db[music_db['samplerate'].isna()]"
   ]
  },
  {
   "cell_type": "code",
   "execution_count": 44,
   "id": "818691f0",
   "metadata": {},
   "outputs": [],
   "source": [
    "music_db.samplerate.fillna(0.0,inplace = True)"
   ]
  },
  {
   "cell_type": "code",
   "execution_count": 45,
   "id": "78f5d3b9",
   "metadata": {},
   "outputs": [
    {
     "data": {
      "text/plain": [
       "array(['2011', '2012', '2014', '2006', '2007', '2009', '2013', '2018',\n",
       "       '1996', '2016', '2019', '1993', '1994', '1995', '1997', '1999',\n",
       "       '2015', '2000', '2002', '2005', '2008', '2010', '2004', '1992',\n",
       "       '2001', '1998', '2017', '1991', '1983', '1985', '1990', '1984',\n",
       "       '1986', '1987', '1989', '2003', '2020', '1981', '', '1976', '1978',\n",
       "       '1979', '1980', '1977', '1982', '1988', '1970', '1975', '1972',\n",
       "       '1967', '1963', '1966', '1968', '1969', '1971', '1974', '1973',\n",
       "       '1965', '1964', '1960', '20102010', '1958', '1956', '1955', '1959',\n",
       "       '1962', '1957', '2021', '1942', '1961', '0', '1952', '1938'],\n",
       "      dtype=object)"
      ]
     },
     "execution_count": 45,
     "metadata": {},
     "output_type": "execute_result"
    }
   ],
   "source": [
    " music_db.year.unique()"
   ]
  },
  {
   "cell_type": "code",
   "execution_count": 46,
   "id": "8b6af773",
   "metadata": {},
   "outputs": [],
   "source": [
    "dicyear = {'':'0','20102010':'2010'}\n",
    "music_db.year = music_db.year.replace(dicyear)"
   ]
  },
  {
   "cell_type": "code",
   "execution_count": 47,
   "id": "86926368",
   "metadata": {},
   "outputs": [
    {
     "data": {
      "text/plain": [
       "array(['2011', '2012', '2014', '2006', '2007', '2009', '2013', '2018',\n",
       "       '1996', '2016', '2019', '1993', '1994', '1995', '1997', '1999',\n",
       "       '2015', '2000', '2002', '2005', '2008', '2010', '2004', '1992',\n",
       "       '2001', '1998', '2017', '1991', '1983', '1985', '1990', '1984',\n",
       "       '1986', '1987', '1989', '2003', '2020', '1981', '0', '1976',\n",
       "       '1978', '1979', '1980', '1977', '1982', '1988', '1970', '1975',\n",
       "       '1972', '1967', '1963', '1966', '1968', '1969', '1971', '1974',\n",
       "       '1973', '1965', '1964', '1960', '1958', '1956', '1955', '1959',\n",
       "       '1962', '1957', '2021', '1942', '1961', '1952', '1938'],\n",
       "      dtype=object)"
      ]
     },
     "execution_count": 47,
     "metadata": {},
     "output_type": "execute_result"
    }
   ],
   "source": [
    "music_db.year.unique()"
   ]
  },
  {
   "cell_type": "code",
   "execution_count": 48,
   "id": "e1aa8e30",
   "metadata": {},
   "outputs": [],
   "source": [
    " music_db.year = music_db.year.str.strip().astype('int64')"
   ]
  },
  {
   "cell_type": "code",
   "execution_count": 49,
   "id": "9bea20c9",
   "metadata": {},
   "outputs": [
    {
     "name": "stdout",
     "output_type": "stream",
     "text": [
      "<class 'pandas.core.frame.DataFrame'>\n",
      "RangeIndex: 21236 entries, 0 to 21235\n",
      "Data columns (total 13 columns):\n",
      " #   Column        Non-Null Count  Dtype  \n",
      "---  ------        --------------  -----  \n",
      " 0   albumartist   21236 non-null  object \n",
      " 1   artist        21236 non-null  object \n",
      " 2   genre         21236 non-null  object \n",
      " 3   album         21236 non-null  object \n",
      " 4   year          21236 non-null  int64  \n",
      " 5   track         21236 non-null  int64  \n",
      " 6   title         21236 non-null  object \n",
      " 7   duration      21236 non-null  float64\n",
      " 8   filesize      21236 non-null  int64  \n",
      " 9   audio_offset  21236 non-null  float64\n",
      " 10  samplerate    21236 non-null  float64\n",
      " 11  archivo       21236 non-null  object \n",
      " 12  ruta          21236 non-null  object \n",
      "dtypes: float64(3), int64(3), object(7)\n",
      "memory usage: 2.1+ MB\n"
     ]
    }
   ],
   "source": [
    "music_db.info()"
   ]
  },
  {
   "cell_type": "code",
   "execution_count": 50,
   "id": "07b4a78a",
   "metadata": {},
   "outputs": [],
   "source": [
    "music_db.to_csv('../data/music_db.csv',index=False)"
   ]
  },
  {
   "cell_type": "code",
   "execution_count": null,
   "id": "449dd72c",
   "metadata": {},
   "outputs": [],
   "source": []
  }
 ],
 "metadata": {
  "kernelspec": {
   "display_name": "sinatxe",
   "language": "python",
   "name": "sinatxe"
  },
  "language_info": {
   "codemirror_mode": {
    "name": "ipython",
    "version": 3
   },
   "file_extension": ".py",
   "mimetype": "text/x-python",
   "name": "python",
   "nbconvert_exporter": "python",
   "pygments_lexer": "ipython3",
   "version": "3.8.5"
  }
 },
 "nbformat": 4,
 "nbformat_minor": 5
}
