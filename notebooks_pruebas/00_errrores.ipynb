{
 "cells": [
  {
   "cell_type": "code",
   "execution_count": 1,
   "id": "f7beb6f1",
   "metadata": {},
   "outputs": [],
   "source": [
    "import os\n",
    "import pandas as pd\n",
    "import requests\n",
    "import sys\n",
    "sys.path.append('../src')\n",
    "import apilast as als\n",
    "import sqltools as sqt\n",
    "\n",
    "from PIL import Image\n",
    "from io import BytesIO\n",
    "\n"
   ]
  },
  {
   "cell_type": "code",
   "execution_count": 2,
   "id": "bfe512f8",
   "metadata": {},
   "outputs": [],
   "source": [
    "l_user = 'sinatxester'\n",
    "limit = 1000\n",
    "uts_num = sqt.maxuts() + 1\n",
    "keylast = os.getenv(\"keylast\")"
   ]
  },
  {
   "cell_type": "code",
   "execution_count": 3,
   "id": "dd63879b",
   "metadata": {},
   "outputs": [],
   "source": [
    " #lastf key para la api\n",
    "url = f'http://ws.audioscrobbler.com/2.0/?method=user.getrecenttracks&user={l_user}&limit={limit}&from={uts_num}&api_key={keylast}&format=json'"
   ]
  },
  {
   "cell_type": "code",
   "execution_count": 4,
   "id": "bb9ca3c9",
   "metadata": {},
   "outputs": [],
   "source": [
    "req = requests.get(url).json()"
   ]
  },
  {
   "cell_type": "code",
   "execution_count": 5,
   "id": "18a0db5e",
   "metadata": {},
   "outputs": [],
   "source": [
    "#requests.get(url).json()"
   ]
  },
  {
   "cell_type": "code",
   "execution_count": 6,
   "id": "dc644939",
   "metadata": {},
   "outputs": [
    {
     "data": {
      "text/plain": [
       "dict_keys(['artist', 'streamable', 'image', 'mbid', 'album', 'name', '@attr', 'url'])"
      ]
     },
     "execution_count": 6,
     "metadata": {},
     "output_type": "execute_result"
    }
   ],
   "source": [
    "req['recenttracks']['track'][0].keys()"
   ]
  },
  {
   "cell_type": "code",
   "execution_count": 7,
   "id": "804d7cf6",
   "metadata": {
    "scrolled": false
   },
   "outputs": [],
   "source": [
    "#req['recenttracks']['track']"
   ]
  },
  {
   "cell_type": "code",
   "execution_count": 8,
   "id": "2364e95e",
   "metadata": {
    "scrolled": true
   },
   "outputs": [
    {
     "name": "stdout",
     "output_type": "stream",
     "text": [
      "dict_keys(['artist', 'streamable', 'image', 'mbid', 'album', 'name', '@attr', 'url'])\n"
     ]
    }
   ],
   "source": [
    "if '@attr' in req['recenttracks']['track'][0].keys():\n",
    "    print(req['recenttracks']['track'][0].keys())\n",
    "else:\n",
    "    print(req['recenttracks']['track'][0].keys())\n",
    "#exists(req['recenttracks']['track'][0]['@attr'])"
   ]
  },
  {
   "cell_type": "code",
   "execution_count": 9,
   "id": "01aa0e79",
   "metadata": {},
   "outputs": [
    {
     "data": {
      "text/plain": [
       "dict_keys(['artist', 'streamable', 'image', 'mbid', 'album', 'name', '@attr', 'url'])"
      ]
     },
     "execution_count": 9,
     "metadata": {},
     "output_type": "execute_result"
    }
   ],
   "source": [
    "req['recenttracks']['track'][0].keys()"
   ]
  },
  {
   "cell_type": "code",
   "execution_count": 10,
   "id": "56185125",
   "metadata": {},
   "outputs": [
    {
     "data": {
      "text/plain": [
       "{'artist': {'mbid': '65314b12-0e08-43fa-ba33-baaa7b874c15',\n",
       "  '#text': 'Leonard Cohen'},\n",
       " 'streamable': '0',\n",
       " 'image': [{'size': 'small',\n",
       "   '#text': 'https://lastfm.freetls.fastly.net/i/u/34s/95d9a16b2aef5b93c635516d550ad50e.jpg'},\n",
       "  {'size': 'medium',\n",
       "   '#text': 'https://lastfm.freetls.fastly.net/i/u/64s/95d9a16b2aef5b93c635516d550ad50e.jpg'},\n",
       "  {'size': 'large',\n",
       "   '#text': 'https://lastfm.freetls.fastly.net/i/u/174s/95d9a16b2aef5b93c635516d550ad50e.jpg'},\n",
       "  {'size': 'extralarge',\n",
       "   '#text': 'https://lastfm.freetls.fastly.net/i/u/300x300/95d9a16b2aef5b93c635516d550ad50e.jpg'}],\n",
       " 'mbid': '039b2d00-db5b-4a09-96c4-b54f674433cc',\n",
       " 'album': {'mbid': '111c9d79-1193-4f8f-986e-7ee3e370fd70',\n",
       "  '#text': \"I'm Your Man\"},\n",
       " 'name': 'Jazz Police',\n",
       " '@attr': {'nowplaying': 'true'},\n",
       " 'url': 'https://www.last.fm/music/Leonard+Cohen/_/Jazz+Police'}"
      ]
     },
     "execution_count": 10,
     "metadata": {},
     "output_type": "execute_result"
    }
   ],
   "source": [
    "requests.get(url).json()['recenttracks']['track'][0]"
   ]
  },
  {
   "cell_type": "code",
   "execution_count": 11,
   "id": "4c5b44c5",
   "metadata": {},
   "outputs": [],
   "source": [
    "img_src = requests.get(url).json()['recenttracks']['track'][1]['image'][3]['#text']"
   ]
  },
  {
   "cell_type": "code",
   "execution_count": 12,
   "id": "e0ce67fc",
   "metadata": {},
   "outputs": [
    {
     "ename": "AttributeError",
     "evalue": "'NoneType' object has no attribute 'content'",
     "output_type": "error",
     "traceback": [
      "\u001b[0;31m---------------------------------------------------------------------------\u001b[0m",
      "\u001b[0;31mAttributeError\u001b[0m                            Traceback (most recent call last)",
      "\u001b[0;32m<ipython-input-12-09f2eb2d53c0>\u001b[0m in \u001b[0;36m<module>\u001b[0;34m\u001b[0m\n\u001b[1;32m      1\u001b[0m \u001b[0mresponse\u001b[0m \u001b[0;34m=\u001b[0m \u001b[0mreq\u001b[0m\u001b[0;34m.\u001b[0m\u001b[0mget\u001b[0m\u001b[0;34m(\u001b[0m\u001b[0mimg_src\u001b[0m\u001b[0;34m)\u001b[0m\u001b[0;34m\u001b[0m\u001b[0;34m\u001b[0m\u001b[0m\n\u001b[0;32m----> 2\u001b[0;31m \u001b[0mimage\u001b[0m \u001b[0;34m=\u001b[0m \u001b[0mImage\u001b[0m\u001b[0;34m.\u001b[0m\u001b[0mopen\u001b[0m\u001b[0;34m(\u001b[0m\u001b[0mBytesIO\u001b[0m\u001b[0;34m(\u001b[0m\u001b[0mresponse\u001b[0m\u001b[0;34m.\u001b[0m\u001b[0mcontent\u001b[0m\u001b[0;34m)\u001b[0m\u001b[0;34m)\u001b[0m\u001b[0;34m\u001b[0m\u001b[0;34m\u001b[0m\u001b[0m\n\u001b[0m\u001b[1;32m      3\u001b[0m \u001b[0mimage\u001b[0m\u001b[0;34m.\u001b[0m\u001b[0mshow\u001b[0m\u001b[0;34m(\u001b[0m\u001b[0;34m)\u001b[0m\u001b[0;34m\u001b[0m\u001b[0;34m\u001b[0m\u001b[0m\n",
      "\u001b[0;31mAttributeError\u001b[0m: 'NoneType' object has no attribute 'content'"
     ]
    }
   ],
   "source": [
    "response = req.get(img_src)\n",
    "image = Image.open(BytesIO(response.content))\n",
    "image.show()"
   ]
  },
  {
   "cell_type": "markdown",
   "id": "987645cb",
   "metadata": {},
   "source": [
    "![](imagen)\n"
   ]
  },
  {
   "cell_type": "code",
   "execution_count": 13,
   "id": "de4646d9",
   "metadata": {},
   "outputs": [],
   "source": [
    "#print(f'Now playing {requests.get(url).json()['recenttracks']['track'][0]['artist']} - {requests.get(url).json()['recenttracks']['track'][0]['name']}')"
   ]
  },
  {
   "cell_type": "markdown",
   "id": "14b62bd8",
   "metadata": {},
   "source": [
    "```PYTHON\n",
    "req['recenttracks']['track'][0]\n",
    "'@attr': {'nowplaying': 'true'},\n",
    "```"
   ]
  },
  {
   "cell_type": "code",
   "execution_count": 17,
   "id": "f2ecdf7e",
   "metadata": {},
   "outputs": [
    {
     "name": "stdout",
     "output_type": "stream",
     "text": [
      "0\n",
      "{'uts': '1644261919', '#text': '07 Feb 2022, 19:25'}\n",
      "{'uts': '1644261734', '#text': '07 Feb 2022, 19:22'}\n",
      "{'uts': '1644261601', '#text': '07 Feb 2022, 19:20'}\n",
      "{'uts': '1644261345', '#text': '07 Feb 2022, 19:15'}\n",
      "{'uts': '1644261118', '#text': '07 Feb 2022, 19:11'}\n",
      "{'uts': '1644260962', '#text': '07 Feb 2022, 19:09'}\n",
      "{'uts': '1644260806', '#text': '07 Feb 2022, 19:06'}\n",
      "{'uts': '1644260586', '#text': '07 Feb 2022, 19:03'}\n",
      "{'uts': '1644260421', '#text': '07 Feb 2022, 19:00'}\n",
      "{'uts': '1644260162', '#text': '07 Feb 2022, 18:56'}\n",
      "{'uts': '1644259407', '#text': '07 Feb 2022, 18:43'}\n",
      "{'uts': '1644258911', '#text': '07 Feb 2022, 18:35'}\n",
      "{'uts': '1644258731', '#text': '07 Feb 2022, 18:32'}\n",
      "{'uts': '1644258486', '#text': '07 Feb 2022, 18:28'}\n",
      "{'uts': '1644258206', '#text': '07 Feb 2022, 18:23'}\n",
      "{'uts': '1644258019', '#text': '07 Feb 2022, 18:20'}\n",
      "{'uts': '1644257922', '#text': '07 Feb 2022, 18:18'}\n",
      "{'uts': '1644257691', '#text': '07 Feb 2022, 18:14'}\n",
      "{'uts': '1644257585', '#text': '07 Feb 2022, 18:13'}\n",
      "{'uts': '1644257320', '#text': '07 Feb 2022, 18:08'}\n",
      "{'uts': '1644257099', '#text': '07 Feb 2022, 18:04'}\n",
      "{'uts': '1644256926', '#text': '07 Feb 2022, 18:02'}\n",
      "{'uts': '1644256688', '#text': '07 Feb 2022, 17:58'}\n",
      "{'uts': '1644256445', '#text': '07 Feb 2022, 17:54'}\n",
      "{'uts': '1644255015', '#text': '07 Feb 2022, 17:30'}\n",
      "{'uts': '1644254836', '#text': '07 Feb 2022, 17:27'}\n",
      "{'uts': '1644254319', '#text': '07 Feb 2022, 17:18'}\n",
      "{'uts': '1644254166', '#text': '07 Feb 2022, 17:16'}\n",
      "{'uts': '1644253913', '#text': '07 Feb 2022, 17:11'}\n",
      "{'uts': '1644253708', '#text': '07 Feb 2022, 17:08'}\n",
      "{'uts': '1644253504', '#text': '07 Feb 2022, 17:05'}\n",
      "{'uts': '1644253322', '#text': '07 Feb 2022, 17:02'}\n",
      "{'uts': '1644253146', '#text': '07 Feb 2022, 16:59'}\n",
      "{'uts': '1644252739', '#text': '07 Feb 2022, 16:52'}\n",
      "{'uts': '1644252516', '#text': '07 Feb 2022, 16:48'}\n",
      "{'uts': '1644252214', '#text': '07 Feb 2022, 16:43'}\n",
      "{'uts': '1644251932', '#text': '07 Feb 2022, 16:38'}\n",
      "{'uts': '1644251782', '#text': '07 Feb 2022, 16:36'}\n",
      "{'uts': '1644251530', '#text': '07 Feb 2022, 16:32'}\n",
      "{'uts': '1644251315', '#text': '07 Feb 2022, 16:28'}\n",
      "{'uts': '1644155310', '#text': '06 Feb 2022, 13:48'}\n",
      "{'uts': '1644152561', '#text': '06 Feb 2022, 13:02'}\n",
      "{'uts': '1644148378', '#text': '06 Feb 2022, 11:52'}\n",
      "{'uts': '1644148157', '#text': '06 Feb 2022, 11:49'}\n",
      "{'uts': '1644147876', '#text': '06 Feb 2022, 11:44'}\n",
      "{'uts': '1644147628', '#text': '06 Feb 2022, 11:40'}\n",
      "{'uts': '1644147397', '#text': '06 Feb 2022, 11:36'}\n",
      "{'uts': '1644147046', '#text': '06 Feb 2022, 11:30'}\n",
      "{'uts': '1644146840', '#text': '06 Feb 2022, 11:27'}\n",
      "{'uts': '1644146579', '#text': '06 Feb 2022, 11:22'}\n",
      "{'uts': '1644146364', '#text': '06 Feb 2022, 11:19'}\n",
      "{'uts': '1644146066', '#text': '06 Feb 2022, 11:14'}\n",
      "{'uts': '1644145780', '#text': '06 Feb 2022, 11:09'}\n",
      "{'uts': '1644145574', '#text': '06 Feb 2022, 11:06'}\n",
      "{'uts': '1644145292', '#text': '06 Feb 2022, 11:01'}\n",
      "{'uts': '1644016624', '#text': '04 Feb 2022, 23:17'}\n",
      "{'uts': '1643988974', '#text': '04 Feb 2022, 15:36'}\n",
      "{'uts': '1643988811', '#text': '04 Feb 2022, 15:33'}\n",
      "{'uts': '1643988591', '#text': '04 Feb 2022, 15:29'}\n",
      "{'uts': '1643988381', '#text': '04 Feb 2022, 15:26'}\n",
      "{'uts': '1643988027', '#text': '04 Feb 2022, 15:20'}\n",
      "{'uts': '1643987604', '#text': '04 Feb 2022, 15:13'}\n",
      "{'uts': '1643987406', '#text': '04 Feb 2022, 15:10'}\n",
      "{'uts': '1643987267', '#text': '04 Feb 2022, 15:07'}\n"
     ]
    }
   ],
   "source": [
    "for r in req['recenttracks']['track']:\n",
    "    print(r.get('date',0))\n"
   ]
  },
  {
   "cell_type": "code",
   "execution_count": 18,
   "id": "3848ac2b",
   "metadata": {},
   "outputs": [],
   "source": [
    "def req_lastfm (l_user,limit,lastuts):\n",
    "    '''\n",
    "    recibe parámetros para el endopint de la api de lastfm de rectents tracks de un usuario\n",
    "    l_user: cadena de texto, nombre del usuario\n",
    "    limit: integer del 1 a 1000 (preferible 1000) #si sabemos cuántos scrobbles hay y son menos de 1000 podemos poner un número\n",
    "    lastuts: int el último uts registrado en la base de datos de mysql (fecha en segundos)\n",
    "    devuelve un diccionario (json) con los últimos tracks\n",
    "    '''\n",
    "    uts_num = lastuts + 1 #le sumamos uno al uts recibido para no tenerlo en cuenta porque ya está en la base de datos\n",
    "    keylast = os.getenv(\"keylast\") #lastf key para la api\n",
    "    url = f'http://ws.audioscrobbler.com/2.0/?method=user.getrecenttracks&user={l_user}&limit={limit}&from={uts_num}&api_key={keylast}&format=json'\n",
    "    req = requests.get(url).json()\n",
    "    if req['recenttracks']['@attr']['totalPages'] == '0':\n",
    "        return 'No hay nuevos scrobbles'\n",
    "    \n",
    "    elif req['recenttracks']['@attr']['totalPages'] == '1':\n",
    "        if req['recenttracks']['track'][0]['@attr'] == {'nowplaying': 'true'}:\n",
    "            art_play = req['recenttracks']['track'][0]['artist']['#text']\n",
    "            tit_play = req['recenttracks']['track'][0]['name']\n",
    "            print(f'Now playing {art_play} by {tit_play}')\n",
    "            return als.df_fromtracks(req['recenttracks']['track'][1:])\n",
    "        else:\n",
    "            tracks = req['recenttracks']['track']            \n",
    "            return als.df_fromtracks(tracks)\n",
    "    else:\n",
    "        lista_lista = []\n",
    "        pages = int(req['recenttracks']['@attr']['totalPages'])\n",
    "        if req['recenttracks']['track'][0]['@attr'] == {'nowplaying': 'true'}:\n",
    "            art_play = req['recenttracks']['track'][0]['artist']['#text']\n",
    "            tit_play = req['recenttracks']['track'][0]['name']\n",
    "            print(f'Now playing {art_play} by {tit_play}')\n",
    "            for i in range(1,pages+1):\n",
    "                url_p = f'http://ws.audioscrobbler.com/2.0/?method=user.getrecenttracks&user={l_user}&limit={limit}&from={uts_num}&page={page}&api_key={keylast}&format=json'\n",
    "                rq_p = requests.get(url_p).json()['recenttracks']['track']\n",
    "                lista_lista.append(rq_p)\n",
    "            tracks = [l for lista in lista_lista for l in lista]\n",
    "            tracks.pop(0)\n",
    "            return als.df_fromtracks(tracks)\n",
    "        else:\n",
    "        \n",
    "            for i in range(1,pages+1):\n",
    "                page = i\n",
    "                url_p = f'http://ws.audioscrobbler.com/2.0/?method=user.getrecenttracks&user={l_user}&limit={limit}&from={uts_num}&page={page}&api_key={keylast}&format=json'\n",
    "                rq_p = requests.get(url_p).json()['recenttracks']['track']\n",
    "                lista_lista.append(rq_p)\n",
    "            tracks = [l for lista in lista_lista for l in lista]\n",
    "        \n",
    "            return als.df_fromtracks(tracks) #llamamos a la función df_fromtracks"
   ]
  },
  {
   "cell_type": "code",
   "execution_count": 19,
   "id": "7fc124ea",
   "metadata": {},
   "outputs": [],
   "source": [
    "l_user = 'sinatxester'\n",
    "limit = 1000\n",
    "lastuts = sqt.maxuts()\n",
    "keylast = os.getenv(\"keylast\")"
   ]
  },
  {
   "cell_type": "code",
   "execution_count": 20,
   "id": "e741f387",
   "metadata": {},
   "outputs": [
    {
     "name": "stdout",
     "output_type": "stream",
     "text": [
      "Now playing Leonard Cohen by Jazz Police\n"
     ]
    }
   ],
   "source": [
    "recent = req_lastfm (l_user,limit,lastuts)"
   ]
  },
  {
   "cell_type": "code",
   "execution_count": 21,
   "id": "d4ed56b9",
   "metadata": {
    "scrolled": true
   },
   "outputs": [
    {
     "data": {
      "text/html": [
       "<div>\n",
       "<style scoped>\n",
       "    .dataframe tbody tr th:only-of-type {\n",
       "        vertical-align: middle;\n",
       "    }\n",
       "\n",
       "    .dataframe tbody tr th {\n",
       "        vertical-align: top;\n",
       "    }\n",
       "\n",
       "    .dataframe thead th {\n",
       "        text-align: right;\n",
       "    }\n",
       "</style>\n",
       "<table border=\"1\" class=\"dataframe\">\n",
       "  <thead>\n",
       "    <tr style=\"text-align: right;\">\n",
       "      <th></th>\n",
       "      <th>uts</th>\n",
       "      <th>artist</th>\n",
       "      <th>artist_mbid</th>\n",
       "      <th>album</th>\n",
       "      <th>album_mbid</th>\n",
       "      <th>title</th>\n",
       "      <th>track_mbid</th>\n",
       "    </tr>\n",
       "  </thead>\n",
       "  <tbody>\n",
       "    <tr>\n",
       "      <th>0</th>\n",
       "      <td>1644262071</td>\n",
       "      <td>Leonard Cohen</td>\n",
       "      <td>65314b12-0e08-43fa-ba33-baaa7b874c15</td>\n",
       "      <td>I'm Your Man</td>\n",
       "      <td>111c9d79-1193-4f8f-986e-7ee3e370fd70</td>\n",
       "      <td>Jazz Police</td>\n",
       "      <td>039b2d00-db5b-4a09-96c4-b54f674433cc</td>\n",
       "    </tr>\n",
       "    <tr>\n",
       "      <th>1</th>\n",
       "      <td>1644261919</td>\n",
       "      <td>Los Secretos</td>\n",
       "      <td>ec5872e7-9d15-4624-b949-c82e700fd2e9</td>\n",
       "      <td>El Primer Cruce</td>\n",
       "      <td>cc5a5c08-8a7b-4056-9ddc-352ad1d1aa2f</td>\n",
       "      <td>Cerrar los bares</td>\n",
       "      <td>3533b0c8-de9b-3580-8c64-ddb922fb8979</td>\n",
       "    </tr>\n",
       "    <tr>\n",
       "      <th>2</th>\n",
       "      <td>1644261734</td>\n",
       "      <td>ROSALÍA</td>\n",
       "      <td></td>\n",
       "      <td>El Mal Querer</td>\n",
       "      <td></td>\n",
       "      <td>Malamente (Cap. 1: Augurio)</td>\n",
       "      <td></td>\n",
       "    </tr>\n",
       "    <tr>\n",
       "      <th>3</th>\n",
       "      <td>1644261601</td>\n",
       "      <td>Melora Creager</td>\n",
       "      <td>e8508092-0f85-46ef-8564-6dfdacffe01a</td>\n",
       "      <td>Melora A La Basilica</td>\n",
       "      <td>2ce3d287-9f51-4a52-9a4e-a2a7c5332172</td>\n",
       "      <td>Why Don't You Do Right?</td>\n",
       "      <td>4424d129-4d0a-3fdc-b485-a03f6d0a4ee1</td>\n",
       "    </tr>\n",
       "    <tr>\n",
       "      <th>4</th>\n",
       "      <td>1644261345</td>\n",
       "      <td>Joe Cocker</td>\n",
       "      <td>32f2d6bd-c22b-42cf-a7bc-0c4b48cd2bcb</td>\n",
       "      <td>Cocker</td>\n",
       "      <td>42054a7d-04de-4583-83e1-3b3c4ef200d5</td>\n",
       "      <td>You Can Leave Your Hat On</td>\n",
       "      <td>004a1bf4-c58e-43eb-8b96-e506fecea4fa</td>\n",
       "    </tr>\n",
       "    <tr>\n",
       "      <th>...</th>\n",
       "      <td>...</td>\n",
       "      <td>...</td>\n",
       "      <td>...</td>\n",
       "      <td>...</td>\n",
       "      <td>...</td>\n",
       "      <td>...</td>\n",
       "      <td>...</td>\n",
       "    </tr>\n",
       "    <tr>\n",
       "      <th>60</th>\n",
       "      <td>1643988381</td>\n",
       "      <td>Beyoncé</td>\n",
       "      <td></td>\n",
       "      <td>Dangerously in Love</td>\n",
       "      <td>07ff5c78-44ca-45b1-944e-e2723ce4d87e</td>\n",
       "      <td>Naughty Girl</td>\n",
       "      <td>5afe48f7-5dc1-43cd-bae2-1ce714df3036</td>\n",
       "    </tr>\n",
       "    <tr>\n",
       "      <th>61</th>\n",
       "      <td>1643988027</td>\n",
       "      <td>Britney Spears</td>\n",
       "      <td>45a663b5-b1cb-4a91-bff6-2bef7bbfdd76</td>\n",
       "      <td>Blackout</td>\n",
       "      <td>0055dbfb-9bf5-45d3-9c11-069128ee9212</td>\n",
       "      <td>Gimme More</td>\n",
       "      <td>004ec59f-1b1d-366b-b009-25cf6a2aa1bb</td>\n",
       "    </tr>\n",
       "    <tr>\n",
       "      <th>62</th>\n",
       "      <td>1643987604</td>\n",
       "      <td>Matchbox Twenty</td>\n",
       "      <td></td>\n",
       "      <td>Live From Australia</td>\n",
       "      <td></td>\n",
       "      <td>Time After Time (Live) (Live Australia)</td>\n",
       "      <td></td>\n",
       "    </tr>\n",
       "    <tr>\n",
       "      <th>63</th>\n",
       "      <td>1643987406</td>\n",
       "      <td>Sonata Arctica</td>\n",
       "      <td>319b1175-ced9-438f-986b-9239c3edd92d</td>\n",
       "      <td>The Days of Grays</td>\n",
       "      <td>3d626cfc-1c98-340a-8f61-b9ce8a9cdec1</td>\n",
       "      <td>In the Dark</td>\n",
       "      <td>21188d04-a711-4c89-af76-cf833a89f40c</td>\n",
       "    </tr>\n",
       "    <tr>\n",
       "      <th>64</th>\n",
       "      <td>1643987267</td>\n",
       "      <td>Lady Gaga</td>\n",
       "      <td></td>\n",
       "      <td>Joanne</td>\n",
       "      <td>01b0c88e-684e-4ada-972d-ba8a768036a9</td>\n",
       "      <td>Angel Down (Work Tape)</td>\n",
       "      <td></td>\n",
       "    </tr>\n",
       "  </tbody>\n",
       "</table>\n",
       "<p>65 rows × 7 columns</p>\n",
       "</div>"
      ],
      "text/plain": [
       "           uts           artist                           artist_mbid  \\\n",
       "0   1644262071    Leonard Cohen  65314b12-0e08-43fa-ba33-baaa7b874c15   \n",
       "1   1644261919     Los Secretos  ec5872e7-9d15-4624-b949-c82e700fd2e9   \n",
       "2   1644261734          ROSALÍA                                         \n",
       "3   1644261601   Melora Creager  e8508092-0f85-46ef-8564-6dfdacffe01a   \n",
       "4   1644261345       Joe Cocker  32f2d6bd-c22b-42cf-a7bc-0c4b48cd2bcb   \n",
       "..         ...              ...                                   ...   \n",
       "60  1643988381          Beyoncé                                         \n",
       "61  1643988027   Britney Spears  45a663b5-b1cb-4a91-bff6-2bef7bbfdd76   \n",
       "62  1643987604  Matchbox Twenty                                         \n",
       "63  1643987406   Sonata Arctica  319b1175-ced9-438f-986b-9239c3edd92d   \n",
       "64  1643987267        Lady Gaga                                         \n",
       "\n",
       "                   album                            album_mbid  \\\n",
       "0           I'm Your Man  111c9d79-1193-4f8f-986e-7ee3e370fd70   \n",
       "1        El Primer Cruce  cc5a5c08-8a7b-4056-9ddc-352ad1d1aa2f   \n",
       "2          El Mal Querer                                         \n",
       "3   Melora A La Basilica  2ce3d287-9f51-4a52-9a4e-a2a7c5332172   \n",
       "4                 Cocker  42054a7d-04de-4583-83e1-3b3c4ef200d5   \n",
       "..                   ...                                   ...   \n",
       "60   Dangerously in Love  07ff5c78-44ca-45b1-944e-e2723ce4d87e   \n",
       "61              Blackout  0055dbfb-9bf5-45d3-9c11-069128ee9212   \n",
       "62   Live From Australia                                         \n",
       "63     The Days of Grays  3d626cfc-1c98-340a-8f61-b9ce8a9cdec1   \n",
       "64                Joanne  01b0c88e-684e-4ada-972d-ba8a768036a9   \n",
       "\n",
       "                                      title  \\\n",
       "0                               Jazz Police   \n",
       "1                          Cerrar los bares   \n",
       "2               Malamente (Cap. 1: Augurio)   \n",
       "3                   Why Don't You Do Right?   \n",
       "4                 You Can Leave Your Hat On   \n",
       "..                                      ...   \n",
       "60                             Naughty Girl   \n",
       "61                               Gimme More   \n",
       "62  Time After Time (Live) (Live Australia)   \n",
       "63                              In the Dark   \n",
       "64                   Angel Down (Work Tape)   \n",
       "\n",
       "                              track_mbid  \n",
       "0   039b2d00-db5b-4a09-96c4-b54f674433cc  \n",
       "1   3533b0c8-de9b-3580-8c64-ddb922fb8979  \n",
       "2                                         \n",
       "3   4424d129-4d0a-3fdc-b485-a03f6d0a4ee1  \n",
       "4   004a1bf4-c58e-43eb-8b96-e506fecea4fa  \n",
       "..                                   ...  \n",
       "60  5afe48f7-5dc1-43cd-bae2-1ce714df3036  \n",
       "61  004ec59f-1b1d-366b-b009-25cf6a2aa1bb  \n",
       "62                                        \n",
       "63  21188d04-a711-4c89-af76-cf833a89f40c  \n",
       "64                                        \n",
       "\n",
       "[65 rows x 7 columns]"
      ]
     },
     "execution_count": 21,
     "metadata": {},
     "output_type": "execute_result"
    }
   ],
   "source": [
    "recent"
   ]
  },
  {
   "cell_type": "code",
   "execution_count": 22,
   "id": "fe30789b",
   "metadata": {},
   "outputs": [
    {
     "data": {
      "text/plain": [
       "{\"'\": \"'\", '\\\\': '\\\\\\\\', '\"': '\"'}"
      ]
     },
     "execution_count": 22,
     "metadata": {},
     "output_type": "execute_result"
    }
   ],
   "source": [
    "remplazos = {\"'\":\"\\'\",'\\\\':'\\\\\\\\','\"':'\\\"'}\n",
    "remplazos\n",
    "#artist.replace(remplazos)"
   ]
  },
  {
   "cell_type": "code",
   "execution_count": 23,
   "id": "6e893db9",
   "metadata": {},
   "outputs": [
    {
     "data": {
      "text/plain": [
       "0                                 Jazz Police\n",
       "1                            Cerrar los bares\n",
       "2                 Malamente (Cap. 1: Augurio)\n",
       "3                     Why Don't You Do Right?\n",
       "4                   You Can Leave Your Hat On\n",
       "                       ...                   \n",
       "60                               Naughty Girl\n",
       "61                                 Gimme More\n",
       "62    Time After Time (Live) (Live Australia)\n",
       "63                                In the Dark\n",
       "64                     Angel Down (Work Tape)\n",
       "Name: title, Length: 65, dtype: object"
      ]
     },
     "execution_count": 23,
     "metadata": {},
     "output_type": "execute_result"
    }
   ],
   "source": [
    "recent.title.replace(remplazos)"
   ]
  },
  {
   "cell_type": "code",
   "execution_count": null,
   "id": "aed668b9",
   "metadata": {},
   "outputs": [],
   "source": []
  },
  {
   "cell_type": "code",
   "execution_count": 24,
   "id": "e91a7773",
   "metadata": {},
   "outputs": [
    {
     "ename": "NameError",
     "evalue": "name 'artist' is not defined",
     "output_type": "error",
     "traceback": [
      "\u001b[0;31m---------------------------------------------------------------------------\u001b[0m",
      "\u001b[0;31mNameError\u001b[0m                                 Traceback (most recent call last)",
      "\u001b[0;32m<ipython-input-24-3de9e3ab2aec>\u001b[0m in \u001b[0;36m<module>\u001b[0;34m\u001b[0m\n\u001b[0;32m----> 1\u001b[0;31m \u001b[0;32mfor\u001b[0m \u001b[0ma\u001b[0m \u001b[0;32min\u001b[0m \u001b[0martist\u001b[0m\u001b[0;34m:\u001b[0m\u001b[0;34m\u001b[0m\u001b[0;34m\u001b[0m\u001b[0m\n\u001b[0m\u001b[1;32m      2\u001b[0m     \u001b[0ma\u001b[0m\u001b[0;34m.\u001b[0m\u001b[0mreplace\u001b[0m\u001b[0;34m(\u001b[0m\u001b[0mremplazos\u001b[0m\u001b[0;34m)\u001b[0m\u001b[0;34m\u001b[0m\u001b[0;34m\u001b[0m\u001b[0m\n",
      "\u001b[0;31mNameError\u001b[0m: name 'artist' is not defined"
     ]
    }
   ],
   "source": [
    "for a in artist:\n",
    "    a.replace(remplazos)"
   ]
  },
  {
   "cell_type": "code",
   "execution_count": 25,
   "id": "c4ecf726",
   "metadata": {},
   "outputs": [
    {
     "ename": "NameError",
     "evalue": "name 'artist' is not defined",
     "output_type": "error",
     "traceback": [
      "\u001b[0;31m---------------------------------------------------------------------------\u001b[0m",
      "\u001b[0;31mNameError\u001b[0m                                 Traceback (most recent call last)",
      "\u001b[0;32m<ipython-input-25-0c56d68eab2d>\u001b[0m in \u001b[0;36m<module>\u001b[0;34m\u001b[0m\n\u001b[1;32m      1\u001b[0m \u001b[0mprueba\u001b[0m \u001b[0;34m=\u001b[0m \u001b[0;34m{\u001b[0m\u001b[0;34m'e'\u001b[0m\u001b[0;34m:\u001b[0m\u001b[0;34m'ee'\u001b[0m\u001b[0;34m,\u001b[0m\u001b[0;34m'g'\u001b[0m\u001b[0;34m:\u001b[0m\u001b[0;34m'gg'\u001b[0m\u001b[0;34m}\u001b[0m\u001b[0;34m\u001b[0m\u001b[0;34m\u001b[0m\u001b[0m\n\u001b[0;32m----> 2\u001b[0;31m \u001b[0martist\u001b[0m\u001b[0;34m.\u001b[0m\u001b[0mreplace\u001b[0m\u001b[0;34m(\u001b[0m\u001b[0mprueba\u001b[0m\u001b[0;34m)\u001b[0m\u001b[0;34m\u001b[0m\u001b[0;34m\u001b[0m\u001b[0m\n\u001b[0m",
      "\u001b[0;31mNameError\u001b[0m: name 'artist' is not defined"
     ]
    }
   ],
   "source": [
    "prueba = {'e':'ee','g':'gg'}\n",
    "artist.replace(prueba)"
   ]
  },
  {
   "cell_type": "code",
   "execution_count": 26,
   "id": "40db987e",
   "metadata": {},
   "outputs": [
    {
     "ename": "NameError",
     "evalue": "name 'artist' is not defined",
     "output_type": "error",
     "traceback": [
      "\u001b[0;31m---------------------------------------------------------------------------\u001b[0m",
      "\u001b[0;31mNameError\u001b[0m                                 Traceback (most recent call last)",
      "\u001b[0;32m<ipython-input-26-ec94a4fd4381>\u001b[0m in \u001b[0;36m<module>\u001b[0;34m\u001b[0m\n\u001b[0;32m----> 1\u001b[0;31m \u001b[0martist\u001b[0m\u001b[0;34m.\u001b[0m\u001b[0mreplace\u001b[0m\u001b[0;34m(\u001b[0m\u001b[0;34m\"'\"\u001b[0m\u001b[0;34m,\u001b[0m\u001b[0;34m\"\\'\"\u001b[0m\u001b[0;34m)\u001b[0m\u001b[0;34m\u001b[0m\u001b[0;34m\u001b[0m\u001b[0m\n\u001b[0m",
      "\u001b[0;31mNameError\u001b[0m: name 'artist' is not defined"
     ]
    }
   ],
   "source": [
    "artist.replace(\"'\",\"\\'\")"
   ]
  },
  {
   "cell_type": "code",
   "execution_count": 27,
   "id": "32dee7c3",
   "metadata": {},
   "outputs": [],
   "source": [
    "def insert_data(uts, artist, artist_mbid, album, album_mbid, title, track_mbid):\n",
    "    '''\n",
    "    recibe los datos del datframe creado con la api de ultimos tracks de lastfm\n",
    "    inserta los datos en la tabla scrobbling de mysql\n",
    "    '''\n",
    "    \n",
    "    remplazos = {\"'\":\"\\'\",'\\\\':'\\\\\\\\','\"':'\\\"'}\n",
    "    artist = artist.replace(remplazos)\n",
    "    \n",
    "    \n",
    "    if '\"' not in str(artist) and '\"' not in str(album) and '\"' not in str(title):\n",
    "        try:\n",
    "            engine.execute(f\"\"\"\n",
    "                    INSERT INTO scrobbling (uts, artist, artist_mbid, album, album_mbid, title, track_mbid)\n",
    "                    VALUES ({uts}, \"{artist}\", \"{artist_mbid}\", \"{album}\", \"{album_mbid}\", \"{title}\",\"{track_mbid}\");\n",
    "                    \"\"\")\n",
    "        except:\n",
    "            print(f'{uts} sin comillas en ningún lugar')    \n",
    "            next\n",
    "    elif '\"' in str(artist) and '\"' not in str(album) and '\"' not in str(title):\n",
    "        try:\n",
    "            engine.execute(f\"\"\"\n",
    "                    INSERT INTO scrobbling (uts, artist, artist_mbid, album, album_mbid, title, track_mbid)\n",
    "                    VALUES ({uts}, '{artist}', \"{artist_mbid}\", \"{album}\", \"{album_mbid}\", \"{title}\",\"{track_mbid}\");\n",
    "                    \"\"\")\n",
    "        except:\n",
    "            print(f'{uts} con comillas en artista')    \n",
    "            next\n",
    "    elif '\"' not in str(artist) and '\"' in str(album) and '\"' not in str(title):\n",
    "        try:\n",
    "            engine.execute(f\"\"\"\n",
    "                    INSERT INTO scrobbling (uts, artist, artist_mbid, album, album_mbid, title, track_mbid)\n",
    "                    VALUES ({uts}, \"{artist}\", \"{artist_mbid}\", '{album}', \"{album_mbid}\", \"{title}\",\"{track_mbid}\");\n",
    "                    \"\"\")\n",
    "        except:\n",
    "            print(f'{uts} con comillas en album')    \n",
    "            next\n",
    "    elif '\"' not in str(artist) and '\"' not in str(album) and '\"' in str(title):\n",
    "        try:\n",
    "            engine.execute(f\"\"\"\n",
    "                    INSERT INTO scrobbling (uts, artist, artist_mbid, album, album_mbid, title, track_mbid)\n",
    "                    VALUES ({uts}, \"{artist}\", \"{artist_mbid}\", \"{album}\", \"{album_mbid}\", '{title}',\"{track_mbid}\");\n",
    "                    \"\"\")\n",
    "        except:\n",
    "            print(f'{uts} con comillas en title')    \n",
    "            next"
   ]
  },
  {
   "cell_type": "code",
   "execution_count": null,
   "id": "a830a1d8",
   "metadata": {},
   "outputs": [],
   "source": []
  }
 ],
 "metadata": {
  "kernelspec": {
   "display_name": "sinatxe",
   "language": "python",
   "name": "sinatxe"
  },
  "language_info": {
   "codemirror_mode": {
    "name": "ipython",
    "version": 3
   },
   "file_extension": ".py",
   "mimetype": "text/x-python",
   "name": "python",
   "nbconvert_exporter": "python",
   "pygments_lexer": "ipython3",
   "version": "3.8.5"
  }
 },
 "nbformat": 4,
 "nbformat_minor": 5
}
