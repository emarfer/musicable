{
 "cells": [
  {
   "cell_type": "code",
   "execution_count": 54,
   "id": "d4538082",
   "metadata": {},
   "outputs": [],
   "source": [
    "import os\n",
    "from os import walk\n",
    "import pandas as pd\n",
    "import tinytag\n",
    "from tinytag import TinyTag\n",
    "import numpy as np"
   ]
  },
  {
   "cell_type": "code",
   "execution_count": 2,
   "id": "3cbae1d0",
   "metadata": {},
   "outputs": [],
   "source": [
    "#os.listdir('../')"
   ]
  },
  {
   "cell_type": "code",
   "execution_count": 3,
   "id": "8ec7f8fb",
   "metadata": {},
   "outputs": [],
   "source": [
    "total = []\n",
    "for (path, ficheros, archivos) in walk(\"../Music\"):\n",
    "    dicc = {}\n",
    "    dicc['path'] =  path\n",
    "    dicc['ficheros'] = ficheros\n",
    "    dicc['archivos'] = archivos\n",
    "    total.append(dicc)\n",
    "    #print(dicc['path'])"
   ]
  },
  {
   "cell_type": "code",
   "execution_count": 4,
   "id": "0862f1c5",
   "metadata": {},
   "outputs": [
    {
     "data": {
      "text/plain": [
       "{'path': '../Music/Britpop, Indie y rock alt británico/Alt J/2012 An awesome wave',\n",
       " 'ficheros': [],\n",
       " 'archivos': ['01 Intro.mp3',\n",
       "  '02 ❦ (Ripe & Ruin).mp3',\n",
       "  '03 Tessellate.mp3',\n",
       "  '04 Breezeblocks.mp3',\n",
       "  '05 ❦ (Guitar).mp3',\n",
       "  '06 Something Good.mp3',\n",
       "  '07 Dissolve Me.mp3',\n",
       "  '08 Matilda.mp3',\n",
       "  '09 Ms.mp3',\n",
       "  '10 Fitzpleasure.mp3',\n",
       "  '11 ❦ (Piano).mp3',\n",
       "  '12 Bloodflood.mp3',\n",
       "  '13 Taro.mp3',\n",
       "  'folder.jpg']}"
      ]
     },
     "execution_count": 4,
     "metadata": {},
     "output_type": "execute_result"
    }
   ],
   "source": [
    "total[5]"
   ]
  },
  {
   "cell_type": "code",
   "execution_count": 5,
   "id": "7685018a",
   "metadata": {},
   "outputs": [],
   "source": [
    "music_fol = pd.DataFrame(total)"
   ]
  },
  {
   "cell_type": "code",
   "execution_count": 6,
   "id": "76bc77ac",
   "metadata": {},
   "outputs": [
    {
     "data": {
      "text/html": [
       "<div>\n",
       "<style scoped>\n",
       "    .dataframe tbody tr th:only-of-type {\n",
       "        vertical-align: middle;\n",
       "    }\n",
       "\n",
       "    .dataframe tbody tr th {\n",
       "        vertical-align: top;\n",
       "    }\n",
       "\n",
       "    .dataframe thead th {\n",
       "        text-align: right;\n",
       "    }\n",
       "</style>\n",
       "<table border=\"1\" class=\"dataframe\">\n",
       "  <thead>\n",
       "    <tr style=\"text-align: right;\">\n",
       "      <th></th>\n",
       "      <th>path</th>\n",
       "      <th>ficheros</th>\n",
       "      <th>archivos</th>\n",
       "    </tr>\n",
       "  </thead>\n",
       "  <tbody>\n",
       "    <tr>\n",
       "      <th>896</th>\n",
       "      <td>../Music/Electronica, House, Chill out &amp; Inndu...</td>\n",
       "      <td>[]</td>\n",
       "      <td>[01 Give Life Back to Music (Feat. Nile Rodger...</td>\n",
       "    </tr>\n",
       "    <tr>\n",
       "      <th>2328</th>\n",
       "      <td>../Music/Rock Ibérico, punkarra y rock latino/...</td>\n",
       "      <td>[2004 Que se Callen los Profetas]</td>\n",
       "      <td>[]</td>\n",
       "    </tr>\n",
       "    <tr>\n",
       "      <th>1336</th>\n",
       "      <td>../Music/Funk, Jazz, Blues, Swing y Rock and r...</td>\n",
       "      <td>[1967 Soul Men]</td>\n",
       "      <td>[]</td>\n",
       "    </tr>\n",
       "  </tbody>\n",
       "</table>\n",
       "</div>"
      ],
      "text/plain": [
       "                                                   path  \\\n",
       "896   ../Music/Electronica, House, Chill out & Inndu...   \n",
       "2328  ../Music/Rock Ibérico, punkarra y rock latino/...   \n",
       "1336  ../Music/Funk, Jazz, Blues, Swing y Rock and r...   \n",
       "\n",
       "                               ficheros  \\\n",
       "896                                  []   \n",
       "2328  [2004 Que se Callen los Profetas]   \n",
       "1336                    [1967 Soul Men]   \n",
       "\n",
       "                                               archivos  \n",
       "896   [01 Give Life Back to Music (Feat. Nile Rodger...  \n",
       "2328                                                 []  \n",
       "1336                                                 []  "
      ]
     },
     "execution_count": 6,
     "metadata": {},
     "output_type": "execute_result"
    }
   ],
   "source": [
    "music_fol.sample(3)"
   ]
  },
  {
   "cell_type": "code",
   "execution_count": 7,
   "id": "7d8b49bc",
   "metadata": {},
   "outputs": [],
   "source": [
    "music_fol.drop('ficheros',axis=1,inplace = True)"
   ]
  },
  {
   "cell_type": "code",
   "execution_count": 8,
   "id": "e562c475",
   "metadata": {},
   "outputs": [
    {
     "data": {
      "text/html": [
       "<div>\n",
       "<style scoped>\n",
       "    .dataframe tbody tr th:only-of-type {\n",
       "        vertical-align: middle;\n",
       "    }\n",
       "\n",
       "    .dataframe tbody tr th {\n",
       "        vertical-align: top;\n",
       "    }\n",
       "\n",
       "    .dataframe thead th {\n",
       "        text-align: right;\n",
       "    }\n",
       "</style>\n",
       "<table border=\"1\" class=\"dataframe\">\n",
       "  <thead>\n",
       "    <tr style=\"text-align: right;\">\n",
       "      <th></th>\n",
       "      <th>path</th>\n",
       "      <th>archivos</th>\n",
       "    </tr>\n",
       "  </thead>\n",
       "  <tbody>\n",
       "    <tr>\n",
       "      <th>1815</th>\n",
       "      <td>../Music/Metal, hard rock/Lacuna Coil/1999 In ...</td>\n",
       "      <td>[01 Circle.mp3, 02 Stately Lover.mp3, 03 Honey...</td>\n",
       "    </tr>\n",
       "    <tr>\n",
       "      <th>1839</th>\n",
       "      <td>../Music/Metal, hard rock/Mägo De Oz/1998 - La...</td>\n",
       "      <td>[01 En un Lugar.mp3, 02 El Santo Grial.mp3, 03...</td>\n",
       "    </tr>\n",
       "    <tr>\n",
       "      <th>24</th>\n",
       "      <td>../Music/Britpop, Indie y rock alt británico/B...</td>\n",
       "      <td>[01 Girls &amp; Boys.mp3, 02 Tracy Jacks.mp3, 03 E...</td>\n",
       "    </tr>\n",
       "  </tbody>\n",
       "</table>\n",
       "</div>"
      ],
      "text/plain": [
       "                                                   path  \\\n",
       "1815  ../Music/Metal, hard rock/Lacuna Coil/1999 In ...   \n",
       "1839  ../Music/Metal, hard rock/Mägo De Oz/1998 - La...   \n",
       "24    ../Music/Britpop, Indie y rock alt británico/B...   \n",
       "\n",
       "                                               archivos  \n",
       "1815  [01 Circle.mp3, 02 Stately Lover.mp3, 03 Honey...  \n",
       "1839  [01 En un Lugar.mp3, 02 El Santo Grial.mp3, 03...  \n",
       "24    [01 Girls & Boys.mp3, 02 Tracy Jacks.mp3, 03 E...  "
      ]
     },
     "execution_count": 8,
     "metadata": {},
     "output_type": "execute_result"
    }
   ],
   "source": [
    "music_fol.sample(3)"
   ]
  },
  {
   "cell_type": "code",
   "execution_count": 9,
   "id": "8097d1a8",
   "metadata": {},
   "outputs": [],
   "source": [
    "#sacar archivos de la lista"
   ]
  },
  {
   "cell_type": "code",
   "execution_count": 10,
   "id": "9ecb394e",
   "metadata": {},
   "outputs": [],
   "source": [
    "archivos = []\n",
    "for i,r in music_fol.iterrows():\n",
    "    for a in r.archivos:\n",
    "        dicc = {}\n",
    "        dicc['archivo'] = a\n",
    "        dicc['ruta'] = r.path\n",
    "        archivos.append(dicc)\n",
    "music_arc = pd.DataFrame(archivos)\n",
    "        \n",
    "        "
   ]
  },
  {
   "cell_type": "code",
   "execution_count": 11,
   "id": "de837813",
   "metadata": {},
   "outputs": [
    {
     "data": {
      "text/plain": [
       "(23278, 2)"
      ]
     },
     "execution_count": 11,
     "metadata": {},
     "output_type": "execute_result"
    }
   ],
   "source": [
    "music_arc.shape"
   ]
  },
  {
   "cell_type": "code",
   "execution_count": 12,
   "id": "fb197307",
   "metadata": {},
   "outputs": [
    {
     "data": {
      "text/html": [
       "<div>\n",
       "<style scoped>\n",
       "    .dataframe tbody tr th:only-of-type {\n",
       "        vertical-align: middle;\n",
       "    }\n",
       "\n",
       "    .dataframe tbody tr th {\n",
       "        vertical-align: top;\n",
       "    }\n",
       "\n",
       "    .dataframe thead th {\n",
       "        text-align: right;\n",
       "    }\n",
       "</style>\n",
       "<table border=\"1\" class=\"dataframe\">\n",
       "  <thead>\n",
       "    <tr style=\"text-align: right;\">\n",
       "      <th></th>\n",
       "      <th>archivo</th>\n",
       "      <th>ruta</th>\n",
       "    </tr>\n",
       "  </thead>\n",
       "  <tbody>\n",
       "    <tr>\n",
       "      <th>12490</th>\n",
       "      <td>10 Mi furia paranoica.mp3</td>\n",
       "      <td>../Music/Indie en español/Iván Ferreiro/2005 C...</td>\n",
       "    </tr>\n",
       "    <tr>\n",
       "      <th>21016</th>\n",
       "      <td>14 A mil kilómetros (Directo Teatro Arriaga).mp3</td>\n",
       "      <td>../Music/Rock Ibérico, punkarra y rock latino/...</td>\n",
       "    </tr>\n",
       "    <tr>\n",
       "      <th>15308</th>\n",
       "      <td>03 Welcome to Wherever You Are.mp3</td>\n",
       "      <td>../Music/Metal, hard rock/Bon Jovi/2005 - Have...</td>\n",
       "    </tr>\n",
       "  </tbody>\n",
       "</table>\n",
       "</div>"
      ],
      "text/plain": [
       "                                                archivo  \\\n",
       "12490                         10 Mi furia paranoica.mp3   \n",
       "21016  14 A mil kilómetros (Directo Teatro Arriaga).mp3   \n",
       "15308                03 Welcome to Wherever You Are.mp3   \n",
       "\n",
       "                                                    ruta  \n",
       "12490  ../Music/Indie en español/Iván Ferreiro/2005 C...  \n",
       "21016  ../Music/Rock Ibérico, punkarra y rock latino/...  \n",
       "15308  ../Music/Metal, hard rock/Bon Jovi/2005 - Have...  "
      ]
     },
     "execution_count": 12,
     "metadata": {},
     "output_type": "execute_result"
    }
   ],
   "source": [
    "music_arc.sample(3)"
   ]
  },
  {
   "cell_type": "code",
   "execution_count": 13,
   "id": "1c32012a",
   "metadata": {},
   "outputs": [],
   "source": [
    "music_arc['exten'] = music_arc.archivo.str[-3:].str.lower()"
   ]
  },
  {
   "cell_type": "code",
   "execution_count": 14,
   "id": "362ad02d",
   "metadata": {},
   "outputs": [
    {
     "data": {
      "text/plain": [
       "mp3    21090\n",
       "jpg     1855\n",
       ".db      148\n",
       "wma       51\n",
       "m4a       48\n",
       "ngs       32\n",
       "ini       30\n",
       "ore        8\n",
       "peg        4\n",
       "png        4\n",
       "tml        3\n",
       "txt        2\n",
       "ico        1\n",
       "m3u        1\n",
       "bmp        1\n",
       "Name: exten, dtype: int64"
      ]
     },
     "execution_count": 14,
     "metadata": {},
     "output_type": "execute_result"
    }
   ],
   "source": [
    "music_arc.exten.value_counts() #only read = .mp3 // wma // m4a"
   ]
  },
  {
   "cell_type": "code",
   "execution_count": 15,
   "id": "4ca218e1",
   "metadata": {},
   "outputs": [],
   "source": [
    "arch_val = ['mp3','wma','m4a'] #lista de archivos válidos #intentar añadir más"
   ]
  },
  {
   "cell_type": "code",
   "execution_count": 23,
   "id": "bd9e4f1b",
   "metadata": {},
   "outputs": [],
   "source": [
    "music_tot = music_arc[music_arc['exten'].isin(arch_val)].reset_index()"
   ]
  },
  {
   "cell_type": "code",
   "execution_count": 24,
   "id": "012222d8",
   "metadata": {},
   "outputs": [
    {
     "data": {
      "text/plain": [
       "(21189, 4)"
      ]
     },
     "execution_count": 24,
     "metadata": {},
     "output_type": "execute_result"
    }
   ],
   "source": [
    "music_tot.shape"
   ]
  },
  {
   "cell_type": "code",
   "execution_count": 27,
   "id": "18dc426b",
   "metadata": {},
   "outputs": [],
   "source": [
    "# self._filehandler = filehandler\n",
    "# self._filename = None  # for debugging purposes\n",
    "# self._default_encoding = None  # allow override for some file formats\n",
    "# self.filesize = filesize\n",
    "# self.album = None\n",
    "# self.albumartist = None\n",
    "# self.artist = None\n",
    "# self.audio_offset = None\n",
    "# self.bitrate = None\n",
    "# self.channels = None\n",
    "# self.comment = None\n",
    "# self.composer = None\n",
    "# self.disc = None\n",
    "# self.disc_total = None\n",
    "# self.duration = None\n",
    "# self.extra = defaultdict(lambda: None)\n",
    "# self.genre = None\n",
    "# self.samplerate = None\n",
    "# self.title = None\n",
    "# self.track = None\n",
    "# self.track_total = None\n",
    "# self.year = None\n",
    "# self._load_image = False\n",
    "# self._image_data = None\n",
    "# self._ignore_errors = ignore_errors"
   ]
  },
  {
   "cell_type": "code",
   "execution_count": 25,
   "id": "1ec0bcea",
   "metadata": {},
   "outputs": [
    {
     "name": "stdout",
     "output_type": "stream",
     "text": [
      "0 done ../Music/Britpop, Indie y rock alt británico/Alex Turner/2011 Submarine 01 Stuck On The Puzzle (Intro).mp3\n",
      "1000 done ../Music/Britpop, Indie y rock alt británico/Royal blood/2017 How Did We Get So Dark 04 She's Creeping.mp3\n",
      "2000 done ../Music/Cantautores/Pablo Ager/2005 Durmiendo en azoteas 10 Cenizas.mp3\n",
      "3000 done ../Music/Classic Punk, New Wave, Garage Rock y psicodelia/Jah Wobble's Invaders Of The Heart/1991 Rising Above Bedlam 02 Relight The Flame.mp3\n",
      "4000 done ../Music/Classic Rock/Freddie Mercury/1985 Mr. Bad Guy 06 Mr. Bad Guy.mp3\n",
      "5000 done ../Music/Classic Rock/The Rolling Stones/1965 Out of Our Heads (US) 11 The Spider and the Fly.mp3\n",
      "6000 done ../Music/Country, Folk, singersongwritters/Kathleen Edwards/2005 Back To Me 05 Old Time Sake.mp3\n",
      "7000 done ../Music/Country, Folk, singersongwritters/Townes Van Zandt/1968 For the Sake of the Song 09 Talkin' Karate Blues.mp3\n",
      "8000 done ../Music/Flamenco, Fusión, Música del mundo, ritmos latinos y Francia/Amparanoia/1997 El Poder De Machin 03 En la noche.mp3\n",
      "9000 done ../Music/Flamenco, Fusión, Música del mundo, ritmos latinos y Francia/Los Delinqüentes/2005 El Verde Rebelde Vuelve 10 El Abuelo Frederick.mp3\n",
      "10000 done ../Music/Flamenco, Fusión, Música del mundo, ritmos latinos y Francia/Tribalistas/2002 Tribalistas 12 Já sei namorar.mp3\n",
      "11000 done ../Music/Hip hop, funky, R&B/Prince/1986 Parade 07 Venus de Milo.mp3\n",
      "12000 done ../Music/Indie, Rock Alt, Grunge/Arcade Fire/2004 Funeral/CD 1 07 Wake Up.mp3\n",
      "13000 done ../Music/Indie, Rock Alt, Grunge/Sonic Youth/1988 Daydream nation 06 Total Trash.mp3\n",
      "14000 done ../Music/Metal, hard rock/Gotthard/(2005) Gotthard - Lipservice 05 Cupid Arrow.mp3\n",
      "15000 done ../Music/Pop Rock en español y movida/Alejandro Sanz/1997 - Más 06 Hoy Que No Estás.mp3\n",
      "16000 done ../Music/Pop Rock en español y movida/Tino Casal/1984 Hielo rojo 07 Mañana.mp3\n",
      "17000 done ../Music/Pop, Pop Dance, Club/Matchbox 20/2001 VH1 Storytellers 08 Rest stop.mp3\n",
      "18000 done ../Music/Punky, rap metal, Ska y Reggae/Green Day/1997 Nimrod 04 Redundant.mp3\n",
      "19000 done ../Music/Rock Ibérico, punkarra y rock latino/Fito & Fitipaldis/2004 Vivo Para Contarlo 09 Vamono (Directo 2004).mp3\n",
      "20000 done ../Music/Rock Ibérico, punkarra y rock latino/Ska-P/2008 Lágrimas y Gozos 11 Decadencia.m4a\n",
      "21000 done ../Music/V.A/Miscelánea The Cure - Boys Don't Cry.mp3\n"
     ]
    }
   ],
   "source": [
    "listatag = []\n",
    "\n",
    "for i,r in music_tot.iterrows():\n",
    "    \n",
    "    try:\n",
    "\n",
    "        dicc = {}\n",
    "        tag = TinyTag.get(f'{r.ruta}/{r.archivo}')\n",
    "\n",
    "        dicc['albumartist'] = tag.albumartist\n",
    "        dicc['artist'] = tag.artist\n",
    "        dicc['genre'] = tag.genre\n",
    "        dicc['album'] = tag.album\n",
    "        dicc['year'] = tag.year\n",
    "        dicc['track'] = tag.track    \n",
    "        #dicc['track_total'] = tag.track_total\n",
    "        dicc['title'] = tag.title    \n",
    "        dicc['duration'] = tag.duration\n",
    "        dicc['filesize'] = tag.filesize\n",
    "        dicc['audio_offset'] = tag.audio_offset\n",
    "        #dicc['channels'] = l.channels\n",
    "        #dicc['comment'] = l.comment\n",
    "        #dicc['composer'] = l.composer\n",
    "        #dicc['disc_total'] = l.disc_total\n",
    "        #dicc['extra'] = l.extra\n",
    "        dicc['samplerate'] = tag.samplerate        \n",
    "        dicc['archivo'] = r.archivo\n",
    "        dicc['ruta'] = r.ruta        \n",
    "        #dicc['ruta_total'] = f'{r.ruta}/{r.archivo}'\n",
    "\n",
    "        listatag.append(dicc)\n",
    "\n",
    "        if i%1000 == 0:\n",
    "            print(i, 'done', r.ruta, r.archivo)\n",
    "        elif i == len(music_tot-1):\n",
    "            print('done, bitches')\n",
    "\n",
    "    except:\n",
    "        print(f'{i} cant {r.ruta}/{r.archivo}')"
   ]
  },
  {
   "cell_type": "code",
   "execution_count": 98,
   "id": "9b9a30f3",
   "metadata": {},
   "outputs": [],
   "source": [
    "music_db = pd.DataFrame(listatag)"
   ]
  },
  {
   "cell_type": "code",
   "execution_count": 99,
   "id": "c9153006",
   "metadata": {
    "scrolled": true
   },
   "outputs": [
    {
     "data": {
      "text/html": [
       "<div>\n",
       "<style scoped>\n",
       "    .dataframe tbody tr th:only-of-type {\n",
       "        vertical-align: middle;\n",
       "    }\n",
       "\n",
       "    .dataframe tbody tr th {\n",
       "        vertical-align: top;\n",
       "    }\n",
       "\n",
       "    .dataframe thead th {\n",
       "        text-align: right;\n",
       "    }\n",
       "</style>\n",
       "<table border=\"1\" class=\"dataframe\">\n",
       "  <thead>\n",
       "    <tr style=\"text-align: right;\">\n",
       "      <th></th>\n",
       "      <th>albumartist</th>\n",
       "      <th>artist</th>\n",
       "      <th>genre</th>\n",
       "      <th>album</th>\n",
       "      <th>year</th>\n",
       "      <th>track</th>\n",
       "      <th>title</th>\n",
       "      <th>duration</th>\n",
       "      <th>filesize</th>\n",
       "      <th>audio_offset</th>\n",
       "      <th>samplerate</th>\n",
       "      <th>archivo</th>\n",
       "      <th>ruta</th>\n",
       "    </tr>\n",
       "  </thead>\n",
       "  <tbody>\n",
       "    <tr>\n",
       "      <th>6824</th>\n",
       "      <td>Sophie Auster</td>\n",
       "      <td>Sophie Auster</td>\n",
       "      <td>None</td>\n",
       "      <td>Dogs and Men</td>\n",
       "      <td>2015</td>\n",
       "      <td>02</td>\n",
       "      <td>On My Way</td>\n",
       "      <td>205.869755</td>\n",
       "      <td>8250277</td>\n",
       "      <td>17707.0</td>\n",
       "      <td>44100.0</td>\n",
       "      <td>02 On My Way.mp3</td>\n",
       "      <td>../Music/Country, Folk, singersongwritters/Sop...</td>\n",
       "    </tr>\n",
       "    <tr>\n",
       "      <th>15914</th>\n",
       "      <td>OBK</td>\n",
       "      <td>OBK</td>\n",
       "      <td>synthpop</td>\n",
       "      <td>OBK Singles 91/98</td>\n",
       "      <td>1998</td>\n",
       "      <td>13</td>\n",
       "      <td>Si esto no es amor</td>\n",
       "      <td>276.101732</td>\n",
       "      <td>11062727</td>\n",
       "      <td>21679.0</td>\n",
       "      <td>44100.0</td>\n",
       "      <td>13 Si esto no es amor.mp3</td>\n",
       "      <td>../Music/Pop Rock en español y movida/OBK/1998...</td>\n",
       "    </tr>\n",
       "    <tr>\n",
       "      <th>4845</th>\n",
       "      <td>The Kinks</td>\n",
       "      <td>The Kinks</td>\n",
       "      <td>Classic Rock</td>\n",
       "      <td>Kinks</td>\n",
       "      <td>1964</td>\n",
       "      <td>10</td>\n",
       "      <td>Revenge</td>\n",
       "      <td>91.253030</td>\n",
       "      <td>3676296</td>\n",
       "      <td>26389.0</td>\n",
       "      <td>44100.0</td>\n",
       "      <td>10 Revenge.mp3</td>\n",
       "      <td>../Music/Classic Rock/The Kinks/1964 Kinks (20...</td>\n",
       "    </tr>\n",
       "  </tbody>\n",
       "</table>\n",
       "</div>"
      ],
      "text/plain": [
       "         albumartist         artist         genre              album  year  \\\n",
       "6824   Sophie Auster  Sophie Auster          None       Dogs and Men  2015   \n",
       "15914            OBK            OBK      synthpop  OBK Singles 91/98  1998   \n",
       "4845       The Kinks      The Kinks  Classic Rock              Kinks  1964   \n",
       "\n",
       "      track               title    duration  filesize  audio_offset  \\\n",
       "6824     02           On My Way  205.869755   8250277       17707.0   \n",
       "15914    13  Si esto no es amor  276.101732  11062727       21679.0   \n",
       "4845     10             Revenge   91.253030   3676296       26389.0   \n",
       "\n",
       "       samplerate                    archivo  \\\n",
       "6824      44100.0           02 On My Way.mp3   \n",
       "15914     44100.0  13 Si esto no es amor.mp3   \n",
       "4845      44100.0             10 Revenge.mp3   \n",
       "\n",
       "                                                    ruta  \n",
       "6824   ../Music/Country, Folk, singersongwritters/Sop...  \n",
       "15914  ../Music/Pop Rock en español y movida/OBK/1998...  \n",
       "4845   ../Music/Classic Rock/The Kinks/1964 Kinks (20...  "
      ]
     },
     "execution_count": 99,
     "metadata": {},
     "output_type": "execute_result"
    }
   ],
   "source": [
    "music_db.sample(3)"
   ]
  },
  {
   "cell_type": "code",
   "execution_count": 100,
   "id": "87d64fb9",
   "metadata": {},
   "outputs": [
    {
     "data": {
      "text/plain": [
       "(21189, 13)"
      ]
     },
     "execution_count": 100,
     "metadata": {},
     "output_type": "execute_result"
    }
   ],
   "source": [
    "music_db.shape"
   ]
  },
  {
   "cell_type": "code",
   "execution_count": 101,
   "id": "bc78836a",
   "metadata": {},
   "outputs": [
    {
     "name": "stdout",
     "output_type": "stream",
     "text": [
      "<class 'pandas.core.frame.DataFrame'>\n",
      "RangeIndex: 21189 entries, 0 to 21188\n",
      "Data columns (total 13 columns):\n",
      " #   Column        Non-Null Count  Dtype  \n",
      "---  ------        --------------  -----  \n",
      " 0   albumartist   21187 non-null  object \n",
      " 1   artist        21189 non-null  object \n",
      " 2   genre         14446 non-null  object \n",
      " 3   album         21189 non-null  object \n",
      " 4   year          21189 non-null  object \n",
      " 5   track         20328 non-null  object \n",
      " 6   title         21189 non-null  object \n",
      " 7   duration      21188 non-null  float64\n",
      " 8   filesize      21189 non-null  int64  \n",
      " 9   audio_offset  21089 non-null  float64\n",
      " 10  samplerate    21188 non-null  float64\n",
      " 11  archivo       21189 non-null  object \n",
      " 12  ruta          21189 non-null  object \n",
      "dtypes: float64(3), int64(1), object(9)\n",
      "memory usage: 2.1+ MB\n"
     ]
    }
   ],
   "source": [
    "music_db.info()"
   ]
  },
  {
   "cell_type": "code",
   "execution_count": 102,
   "id": "a9483bd9",
   "metadata": {},
   "outputs": [
    {
     "data": {
      "text/plain": [
       "albumartist        2\n",
       "artist             0\n",
       "genre           6743\n",
       "album              0\n",
       "year               0\n",
       "track            861\n",
       "title              0\n",
       "duration           1\n",
       "filesize           0\n",
       "audio_offset     100\n",
       "samplerate         1\n",
       "archivo            0\n",
       "ruta               0\n",
       "dtype: int64"
      ]
     },
     "execution_count": 102,
     "metadata": {},
     "output_type": "execute_result"
    }
   ],
   "source": [
    "music_db.isna().sum()"
   ]
  },
  {
   "cell_type": "code",
   "execution_count": 103,
   "id": "e23be7f7",
   "metadata": {},
   "outputs": [],
   "source": [
    "music_db.albumartist.fillna(music_db.artist,inplace = True)"
   ]
  },
  {
   "cell_type": "code",
   "execution_count": 104,
   "id": "e7b81eef",
   "metadata": {},
   "outputs": [],
   "source": [
    "music_db.genre.fillna('unknown',inplace = True)"
   ]
  },
  {
   "cell_type": "code",
   "execution_count": 105,
   "id": "6db707e5",
   "metadata": {},
   "outputs": [
    {
     "data": {
      "text/html": [
       "<div>\n",
       "<style scoped>\n",
       "    .dataframe tbody tr th:only-of-type {\n",
       "        vertical-align: middle;\n",
       "    }\n",
       "\n",
       "    .dataframe tbody tr th {\n",
       "        vertical-align: top;\n",
       "    }\n",
       "\n",
       "    .dataframe thead th {\n",
       "        text-align: right;\n",
       "    }\n",
       "</style>\n",
       "<table border=\"1\" class=\"dataframe\">\n",
       "  <thead>\n",
       "    <tr style=\"text-align: right;\">\n",
       "      <th></th>\n",
       "      <th>albumartist</th>\n",
       "      <th>artist</th>\n",
       "      <th>genre</th>\n",
       "      <th>album</th>\n",
       "      <th>year</th>\n",
       "      <th>track</th>\n",
       "      <th>title</th>\n",
       "      <th>duration</th>\n",
       "      <th>filesize</th>\n",
       "      <th>audio_offset</th>\n",
       "      <th>samplerate</th>\n",
       "      <th>archivo</th>\n",
       "      <th>ruta</th>\n",
       "    </tr>\n",
       "  </thead>\n",
       "  <tbody>\n",
       "    <tr>\n",
       "      <th>20580</th>\n",
       "      <td>Cristinita Percances</td>\n",
       "      <td>Cristinita Percances</td>\n",
       "      <td>unknown</td>\n",
       "      <td>Al Amanecer Me Convierto En Electroperra De Mi...</td>\n",
       "      <td>2012</td>\n",
       "      <td>None</td>\n",
       "      <td>Petazetas En El Coño</td>\n",
       "      <td>197.941657</td>\n",
       "      <td>2155513</td>\n",
       "      <td>176154.0</td>\n",
       "      <td>22050.0</td>\n",
       "      <td>Cristinita Percances - Petazetas En El Coño.mp3</td>\n",
       "      <td>../Music/V.A/Miscelánea</td>\n",
       "    </tr>\n",
       "    <tr>\n",
       "      <th>2616</th>\n",
       "      <td>Tiza</td>\n",
       "      <td>Tiza</td>\n",
       "      <td>unknown</td>\n",
       "      <td>Maketiza</td>\n",
       "      <td></td>\n",
       "      <td>None</td>\n",
       "      <td>Háblame</td>\n",
       "      <td>304.722367</td>\n",
       "      <td>4882251</td>\n",
       "      <td>6089.0</td>\n",
       "      <td>44100.0</td>\n",
       "      <td>Háblame.mp3</td>\n",
       "      <td>../Music/Cantautores/Tiza/Maketiza</td>\n",
       "    </tr>\n",
       "    <tr>\n",
       "      <th>20338</th>\n",
       "      <td>Michael Lloyd &amp; Le Disc</td>\n",
       "      <td>Michael Lloyd &amp; Le Disc</td>\n",
       "      <td>Soundtrack</td>\n",
       "      <td>Ultimate Dirty Dancing</td>\n",
       "      <td>1987</td>\n",
       "      <td>None</td>\n",
       "      <td>De Todo Un Poco</td>\n",
       "      <td>148.771323</td>\n",
       "      <td>5951342</td>\n",
       "      <td>2058.0</td>\n",
       "      <td>44100.0</td>\n",
       "      <td>Michael Lloyd &amp; Le Disc - De Todo Un Poco.mp3</td>\n",
       "      <td>../Music/V.A/BSO/Varios BSO</td>\n",
       "    </tr>\n",
       "  </tbody>\n",
       "</table>\n",
       "</div>"
      ],
      "text/plain": [
       "                   albumartist                   artist       genre  \\\n",
       "20580     Cristinita Percances     Cristinita Percances     unknown   \n",
       "2616                      Tiza                     Tiza     unknown   \n",
       "20338  Michael Lloyd & Le Disc  Michael Lloyd & Le Disc  Soundtrack   \n",
       "\n",
       "                                                   album  year track  \\\n",
       "20580  Al Amanecer Me Convierto En Electroperra De Mi...  2012  None   \n",
       "2616                                            Maketiza        None   \n",
       "20338                             Ultimate Dirty Dancing  1987  None   \n",
       "\n",
       "                      title    duration  filesize  audio_offset  samplerate  \\\n",
       "20580  Petazetas En El Coño  197.941657   2155513      176154.0     22050.0   \n",
       "2616                Háblame  304.722367   4882251        6089.0     44100.0   \n",
       "20338       De Todo Un Poco  148.771323   5951342        2058.0     44100.0   \n",
       "\n",
       "                                               archivo  \\\n",
       "20580  Cristinita Percances - Petazetas En El Coño.mp3   \n",
       "2616                                       Háblame.mp3   \n",
       "20338    Michael Lloyd & Le Disc - De Todo Un Poco.mp3   \n",
       "\n",
       "                                     ruta  \n",
       "20580             ../Music/V.A/Miscelánea  \n",
       "2616   ../Music/Cantautores/Tiza/Maketiza  \n",
       "20338         ../Music/V.A/BSO/Varios BSO  "
      ]
     },
     "execution_count": 105,
     "metadata": {},
     "output_type": "execute_result"
    }
   ],
   "source": [
    "music_db[music_db['track'].isna()].sample(3)"
   ]
  },
  {
   "cell_type": "code",
   "execution_count": 106,
   "id": "6773d141",
   "metadata": {},
   "outputs": [],
   "source": [
    "music_db.track = music_db.track.str.strip().fillna('0').astype('int64')"
   ]
  },
  {
   "cell_type": "code",
   "execution_count": 107,
   "id": "3ff3d3b8",
   "metadata": {},
   "outputs": [
    {
     "data": {
      "text/plain": [
       "array([ 1,  2,  3,  4,  5,  6,  7,  8,  9, 10, 11, 12, 13, 14, 15, 16, 17,\n",
       "       18, 19, 20,  0, 21, 22, 23, 24, 25, 26, 27, 28, 29, 30, 31, 32, 33,\n",
       "       34, 35, 36, 37, 38, 39, 40, 41, 42, 43])"
      ]
     },
     "execution_count": 107,
     "metadata": {},
     "output_type": "execute_result"
    }
   ],
   "source": [
    "music_db.track.unique()"
   ]
  },
  {
   "cell_type": "code",
   "execution_count": 108,
   "id": "1ede6314",
   "metadata": {},
   "outputs": [
    {
     "data": {
      "text/html": [
       "<div>\n",
       "<style scoped>\n",
       "    .dataframe tbody tr th:only-of-type {\n",
       "        vertical-align: middle;\n",
       "    }\n",
       "\n",
       "    .dataframe tbody tr th {\n",
       "        vertical-align: top;\n",
       "    }\n",
       "\n",
       "    .dataframe thead th {\n",
       "        text-align: right;\n",
       "    }\n",
       "</style>\n",
       "<table border=\"1\" class=\"dataframe\">\n",
       "  <thead>\n",
       "    <tr style=\"text-align: right;\">\n",
       "      <th></th>\n",
       "      <th>albumartist</th>\n",
       "      <th>artist</th>\n",
       "      <th>genre</th>\n",
       "      <th>album</th>\n",
       "      <th>year</th>\n",
       "      <th>track</th>\n",
       "      <th>title</th>\n",
       "      <th>duration</th>\n",
       "      <th>filesize</th>\n",
       "      <th>audio_offset</th>\n",
       "      <th>samplerate</th>\n",
       "      <th>archivo</th>\n",
       "      <th>ruta</th>\n",
       "    </tr>\n",
       "  </thead>\n",
       "  <tbody>\n",
       "    <tr>\n",
       "      <th>14747</th>\n",
       "      <td>The Pretty Reckless</td>\n",
       "      <td>The Pretty Reckless</td>\n",
       "      <td>Hard Rock</td>\n",
       "      <td>Who You Selling For</td>\n",
       "      <td>2016</td>\n",
       "      <td>6</td>\n",
       "      <td>Back To The River (feat. Warren Haynes)</td>\n",
       "      <td>NaN</td>\n",
       "      <td>12446083</td>\n",
       "      <td>NaN</td>\n",
       "      <td>NaN</td>\n",
       "      <td>06 Back To The River (feat. Warren Haynes).mp3</td>\n",
       "      <td>../Music/Metal, hard rock/The Pretty Reckless/...</td>\n",
       "    </tr>\n",
       "  </tbody>\n",
       "</table>\n",
       "</div>"
      ],
      "text/plain": [
       "               albumartist               artist      genre  \\\n",
       "14747  The Pretty Reckless  The Pretty Reckless  Hard Rock   \n",
       "\n",
       "                     album  year  track  \\\n",
       "14747  Who You Selling For  2016      6   \n",
       "\n",
       "                                         title  duration  filesize  \\\n",
       "14747  Back To The River (feat. Warren Haynes)       NaN  12446083   \n",
       "\n",
       "       audio_offset  samplerate  \\\n",
       "14747           NaN         NaN   \n",
       "\n",
       "                                              archivo  \\\n",
       "14747  06 Back To The River (feat. Warren Haynes).mp3   \n",
       "\n",
       "                                                    ruta  \n",
       "14747  ../Music/Metal, hard rock/The Pretty Reckless/...  "
      ]
     },
     "execution_count": 108,
     "metadata": {},
     "output_type": "execute_result"
    }
   ],
   "source": [
    "music_db[music_db['duration'].isna()]"
   ]
  },
  {
   "cell_type": "code",
   "execution_count": 109,
   "id": "80d06049",
   "metadata": {},
   "outputs": [],
   "source": [
    "#Back To The River (feat. Warren Haynes) 05:11"
   ]
  },
  {
   "cell_type": "code",
   "execution_count": 110,
   "id": "203e5009",
   "metadata": {},
   "outputs": [],
   "source": [
    "music_db.duration = np.where(music_db.title == 'Back To The River (feat. Warren Haynes)',311,music_db.duration)"
   ]
  },
  {
   "cell_type": "code",
   "execution_count": 111,
   "id": "01e4f6c6",
   "metadata": {},
   "outputs": [
    {
     "data": {
      "text/plain": [
       "114.507755    2\n",
       "251.616500    2\n",
       "115.728926    2\n",
       "221.675012    2\n",
       "220.968711    2\n",
       "Name: duration, dtype: int64"
      ]
     },
     "execution_count": 111,
     "metadata": {},
     "output_type": "execute_result"
    }
   ],
   "source": [
    "music_db.duration.value_counts().head(5)"
   ]
  },
  {
   "cell_type": "code",
   "execution_count": 112,
   "id": "a51b24d2",
   "metadata": {},
   "outputs": [
    {
     "data": {
      "text/html": [
       "<div>\n",
       "<style scoped>\n",
       "    .dataframe tbody tr th:only-of-type {\n",
       "        vertical-align: middle;\n",
       "    }\n",
       "\n",
       "    .dataframe tbody tr th {\n",
       "        vertical-align: top;\n",
       "    }\n",
       "\n",
       "    .dataframe thead th {\n",
       "        text-align: right;\n",
       "    }\n",
       "</style>\n",
       "<table border=\"1\" class=\"dataframe\">\n",
       "  <thead>\n",
       "    <tr style=\"text-align: right;\">\n",
       "      <th></th>\n",
       "      <th>albumartist</th>\n",
       "      <th>artist</th>\n",
       "      <th>genre</th>\n",
       "      <th>album</th>\n",
       "      <th>year</th>\n",
       "      <th>track</th>\n",
       "      <th>title</th>\n",
       "      <th>duration</th>\n",
       "      <th>filesize</th>\n",
       "      <th>audio_offset</th>\n",
       "      <th>samplerate</th>\n",
       "      <th>archivo</th>\n",
       "      <th>ruta</th>\n",
       "    </tr>\n",
       "  </thead>\n",
       "  <tbody>\n",
       "    <tr>\n",
       "      <th>15091</th>\n",
       "      <td>Amaral</td>\n",
       "      <td>Amaral</td>\n",
       "      <td>unknown</td>\n",
       "      <td>Hacia Lo Salvaje</td>\n",
       "      <td>2011</td>\n",
       "      <td>4</td>\n",
       "      <td>Esperando Un Resplandor</td>\n",
       "      <td>183.832381</td>\n",
       "      <td>6132345</td>\n",
       "      <td>NaN</td>\n",
       "      <td>44100.0</td>\n",
       "      <td>04 Esperando Un Resplandor.m4a</td>\n",
       "      <td>../Music/Pop Rock en español y movida/Amaral/2...</td>\n",
       "    </tr>\n",
       "    <tr>\n",
       "      <th>15104</th>\n",
       "      <td>Amaral</td>\n",
       "      <td>Amaral</td>\n",
       "      <td>unknown</td>\n",
       "      <td>Hacia Lo Salvaje</td>\n",
       "      <td>2011</td>\n",
       "      <td>5</td>\n",
       "      <td>Robin Hood (Acústica)</td>\n",
       "      <td>187.524354</td>\n",
       "      <td>6417566</td>\n",
       "      <td>NaN</td>\n",
       "      <td>44100.0</td>\n",
       "      <td>05 Robin Hood (Acústica).m4a</td>\n",
       "      <td>../Music/Pop Rock en español y movida/Amaral/2...</td>\n",
       "    </tr>\n",
       "    <tr>\n",
       "      <th>14747</th>\n",
       "      <td>The Pretty Reckless</td>\n",
       "      <td>The Pretty Reckless</td>\n",
       "      <td>Hard Rock</td>\n",
       "      <td>Who You Selling For</td>\n",
       "      <td>2016</td>\n",
       "      <td>6</td>\n",
       "      <td>Back To The River (feat. Warren Haynes)</td>\n",
       "      <td>311.000000</td>\n",
       "      <td>12446083</td>\n",
       "      <td>NaN</td>\n",
       "      <td>NaN</td>\n",
       "      <td>06 Back To The River (feat. Warren Haynes).mp3</td>\n",
       "      <td>../Music/Metal, hard rock/The Pretty Reckless/...</td>\n",
       "    </tr>\n",
       "    <tr>\n",
       "      <th>19993</th>\n",
       "      <td>Ska-P</td>\n",
       "      <td>Ska-P</td>\n",
       "      <td>unknown</td>\n",
       "      <td>Lágrimas Y Gozos</td>\n",
       "      <td>2008</td>\n",
       "      <td>4</td>\n",
       "      <td>Fuego Y Miedo</td>\n",
       "      <td>222.586485</td>\n",
       "      <td>4455830</td>\n",
       "      <td>NaN</td>\n",
       "      <td>44100.0</td>\n",
       "      <td>04 Fuego Y Miedo.m4a</td>\n",
       "      <td>../Music/Rock Ibérico, punkarra y rock latino/...</td>\n",
       "    </tr>\n",
       "    <tr>\n",
       "      <th>11108</th>\n",
       "      <td>Vanexxa</td>\n",
       "      <td>Vanexxa</td>\n",
       "      <td>Hip Hop</td>\n",
       "      <td>Se Rompe O Se Raja</td>\n",
       "      <td>2006</td>\n",
       "      <td>3</td>\n",
       "      <td>Superguay</td>\n",
       "      <td>218.324000</td>\n",
       "      <td>3529425</td>\n",
       "      <td>NaN</td>\n",
       "      <td>44100.0</td>\n",
       "      <td>03 Pista 3.wma</td>\n",
       "      <td>../Music/Hip hop, funky, R&amp;B/Vanexxa/2006 Se r...</td>\n",
       "    </tr>\n",
       "  </tbody>\n",
       "</table>\n",
       "</div>"
      ],
      "text/plain": [
       "               albumartist               artist      genre  \\\n",
       "15091               Amaral               Amaral    unknown   \n",
       "15104               Amaral               Amaral    unknown   \n",
       "14747  The Pretty Reckless  The Pretty Reckless  Hard Rock   \n",
       "19993                Ska-P                Ska-P    unknown   \n",
       "11108              Vanexxa              Vanexxa    Hip Hop   \n",
       "\n",
       "                     album  year  track  \\\n",
       "15091     Hacia Lo Salvaje  2011      4   \n",
       "15104     Hacia Lo Salvaje  2011      5   \n",
       "14747  Who You Selling For  2016      6   \n",
       "19993     Lágrimas Y Gozos  2008      4   \n",
       "11108   Se Rompe O Se Raja  2006      3   \n",
       "\n",
       "                                         title    duration  filesize  \\\n",
       "15091                  Esperando Un Resplandor  183.832381   6132345   \n",
       "15104                    Robin Hood (Acústica)  187.524354   6417566   \n",
       "14747  Back To The River (feat. Warren Haynes)  311.000000  12446083   \n",
       "19993                            Fuego Y Miedo  222.586485   4455830   \n",
       "11108                                Superguay  218.324000   3529425   \n",
       "\n",
       "       audio_offset  samplerate  \\\n",
       "15091           NaN     44100.0   \n",
       "15104           NaN     44100.0   \n",
       "14747           NaN         NaN   \n",
       "19993           NaN     44100.0   \n",
       "11108           NaN     44100.0   \n",
       "\n",
       "                                              archivo  \\\n",
       "15091                  04 Esperando Un Resplandor.m4a   \n",
       "15104                    05 Robin Hood (Acústica).m4a   \n",
       "14747  06 Back To The River (feat. Warren Haynes).mp3   \n",
       "19993                            04 Fuego Y Miedo.m4a   \n",
       "11108                                  03 Pista 3.wma   \n",
       "\n",
       "                                                    ruta  \n",
       "15091  ../Music/Pop Rock en español y movida/Amaral/2...  \n",
       "15104  ../Music/Pop Rock en español y movida/Amaral/2...  \n",
       "14747  ../Music/Metal, hard rock/The Pretty Reckless/...  \n",
       "19993  ../Music/Rock Ibérico, punkarra y rock latino/...  \n",
       "11108  ../Music/Hip hop, funky, R&B/Vanexxa/2006 Se r...  "
      ]
     },
     "execution_count": 112,
     "metadata": {},
     "output_type": "execute_result"
    }
   ],
   "source": [
    "music_db[music_db['audio_offset'].isna()].sample(5)"
   ]
  },
  {
   "cell_type": "code",
   "execution_count": 113,
   "id": "ff532213",
   "metadata": {},
   "outputs": [],
   "source": [
    "music_db.audio_offset.fillna(0.0,inplace = True)"
   ]
  },
  {
   "cell_type": "code",
   "execution_count": 114,
   "id": "1d2b309f",
   "metadata": {},
   "outputs": [
    {
     "data": {
      "text/html": [
       "<div>\n",
       "<style scoped>\n",
       "    .dataframe tbody tr th:only-of-type {\n",
       "        vertical-align: middle;\n",
       "    }\n",
       "\n",
       "    .dataframe tbody tr th {\n",
       "        vertical-align: top;\n",
       "    }\n",
       "\n",
       "    .dataframe thead th {\n",
       "        text-align: right;\n",
       "    }\n",
       "</style>\n",
       "<table border=\"1\" class=\"dataframe\">\n",
       "  <thead>\n",
       "    <tr style=\"text-align: right;\">\n",
       "      <th></th>\n",
       "      <th>albumartist</th>\n",
       "      <th>artist</th>\n",
       "      <th>genre</th>\n",
       "      <th>album</th>\n",
       "      <th>year</th>\n",
       "      <th>track</th>\n",
       "      <th>title</th>\n",
       "      <th>duration</th>\n",
       "      <th>filesize</th>\n",
       "      <th>audio_offset</th>\n",
       "      <th>samplerate</th>\n",
       "      <th>archivo</th>\n",
       "      <th>ruta</th>\n",
       "    </tr>\n",
       "  </thead>\n",
       "  <tbody>\n",
       "    <tr>\n",
       "      <th>14747</th>\n",
       "      <td>The Pretty Reckless</td>\n",
       "      <td>The Pretty Reckless</td>\n",
       "      <td>Hard Rock</td>\n",
       "      <td>Who You Selling For</td>\n",
       "      <td>2016</td>\n",
       "      <td>6</td>\n",
       "      <td>Back To The River (feat. Warren Haynes)</td>\n",
       "      <td>311.0</td>\n",
       "      <td>12446083</td>\n",
       "      <td>0.0</td>\n",
       "      <td>NaN</td>\n",
       "      <td>06 Back To The River (feat. Warren Haynes).mp3</td>\n",
       "      <td>../Music/Metal, hard rock/The Pretty Reckless/...</td>\n",
       "    </tr>\n",
       "  </tbody>\n",
       "</table>\n",
       "</div>"
      ],
      "text/plain": [
       "               albumartist               artist      genre  \\\n",
       "14747  The Pretty Reckless  The Pretty Reckless  Hard Rock   \n",
       "\n",
       "                     album  year  track  \\\n",
       "14747  Who You Selling For  2016      6   \n",
       "\n",
       "                                         title  duration  filesize  \\\n",
       "14747  Back To The River (feat. Warren Haynes)     311.0  12446083   \n",
       "\n",
       "       audio_offset  samplerate  \\\n",
       "14747           0.0         NaN   \n",
       "\n",
       "                                              archivo  \\\n",
       "14747  06 Back To The River (feat. Warren Haynes).mp3   \n",
       "\n",
       "                                                    ruta  \n",
       "14747  ../Music/Metal, hard rock/The Pretty Reckless/...  "
      ]
     },
     "execution_count": 114,
     "metadata": {},
     "output_type": "execute_result"
    }
   ],
   "source": [
    "music_db[music_db['samplerate'].isna()]"
   ]
  },
  {
   "cell_type": "code",
   "execution_count": 115,
   "id": "818691f0",
   "metadata": {},
   "outputs": [],
   "source": [
    "music_db.samplerate.fillna(0.0,inplace = True)"
   ]
  },
  {
   "cell_type": "code",
   "execution_count": 117,
   "id": "78f5d3b9",
   "metadata": {},
   "outputs": [
    {
     "data": {
      "text/plain": [
       "array(['2011', '2012', '2014', '2006', '2007', '2009', '2013', '2018',\n",
       "       '1996', '2016', '2019', '1993', '1994', '1995', '1997', '1999',\n",
       "       '2015', '2000', '2002', '2005', '2008', '2010', '2004', '1992',\n",
       "       '2001', '1998', '2017', '1991', '1983', '1985', '1990', '1984',\n",
       "       '1986', '1987', '1989', '2003', '2020', '1981', '', '1976', '1978',\n",
       "       '1979', '1980', '1977', '1982', '1988', '1970', '1975', '1972',\n",
       "       '1967', '1963', '1966', '1968', '1969', '1971', '1974', '1973',\n",
       "       '1965', '1964', '1960', '20102010', '1958', '1956', '1955', '1959',\n",
       "       '1962', '1957', '2021', '1942', '1961', '0', '1952', '1938'],\n",
       "      dtype=object)"
      ]
     },
     "execution_count": 117,
     "metadata": {},
     "output_type": "execute_result"
    }
   ],
   "source": [
    " music_db.year.unique()"
   ]
  },
  {
   "cell_type": "code",
   "execution_count": 118,
   "id": "8b6af773",
   "metadata": {},
   "outputs": [],
   "source": [
    "dicyear = {'':'0','20102010':'2010'}\n",
    "music_db.year = music_db.year.replace(dicyear)"
   ]
  },
  {
   "cell_type": "code",
   "execution_count": 119,
   "id": "86926368",
   "metadata": {},
   "outputs": [
    {
     "data": {
      "text/plain": [
       "array(['2011', '2012', '2014', '2006', '2007', '2009', '2013', '2018',\n",
       "       '1996', '2016', '2019', '1993', '1994', '1995', '1997', '1999',\n",
       "       '2015', '2000', '2002', '2005', '2008', '2010', '2004', '1992',\n",
       "       '2001', '1998', '2017', '1991', '1983', '1985', '1990', '1984',\n",
       "       '1986', '1987', '1989', '2003', '2020', '1981', '0', '1976',\n",
       "       '1978', '1979', '1980', '1977', '1982', '1988', '1970', '1975',\n",
       "       '1972', '1967', '1963', '1966', '1968', '1969', '1971', '1974',\n",
       "       '1973', '1965', '1964', '1960', '1958', '1956', '1955', '1959',\n",
       "       '1962', '1957', '2021', '1942', '1961', '1952', '1938'],\n",
       "      dtype=object)"
      ]
     },
     "execution_count": 119,
     "metadata": {},
     "output_type": "execute_result"
    }
   ],
   "source": [
    "music_db.year.unique()"
   ]
  },
  {
   "cell_type": "code",
   "execution_count": 120,
   "id": "e1aa8e30",
   "metadata": {},
   "outputs": [],
   "source": [
    " music_db.year = music_db.year.str.strip().astype('int64')"
   ]
  },
  {
   "cell_type": "code",
   "execution_count": 121,
   "id": "9bea20c9",
   "metadata": {},
   "outputs": [
    {
     "name": "stdout",
     "output_type": "stream",
     "text": [
      "<class 'pandas.core.frame.DataFrame'>\n",
      "RangeIndex: 21189 entries, 0 to 21188\n",
      "Data columns (total 13 columns):\n",
      " #   Column        Non-Null Count  Dtype  \n",
      "---  ------        --------------  -----  \n",
      " 0   albumartist   21189 non-null  object \n",
      " 1   artist        21189 non-null  object \n",
      " 2   genre         21189 non-null  object \n",
      " 3   album         21189 non-null  object \n",
      " 4   year          21189 non-null  int64  \n",
      " 5   track         21189 non-null  int64  \n",
      " 6   title         21189 non-null  object \n",
      " 7   duration      21189 non-null  float64\n",
      " 8   filesize      21189 non-null  int64  \n",
      " 9   audio_offset  21189 non-null  float64\n",
      " 10  samplerate    21189 non-null  float64\n",
      " 11  archivo       21189 non-null  object \n",
      " 12  ruta          21189 non-null  object \n",
      "dtypes: float64(3), int64(3), object(7)\n",
      "memory usage: 2.1+ MB\n"
     ]
    }
   ],
   "source": [
    "music_db.info()"
   ]
  },
  {
   "cell_type": "code",
   "execution_count": 126,
   "id": "07b4a78a",
   "metadata": {},
   "outputs": [],
   "source": [
    "music_db.to_csv('data/music_db.csv',index=False)"
   ]
  },
  {
   "cell_type": "code",
   "execution_count": null,
   "id": "449dd72c",
   "metadata": {},
   "outputs": [],
   "source": []
  }
 ],
 "metadata": {
  "kernelspec": {
   "display_name": "proye",
   "language": "python",
   "name": "proye"
  },
  "language_info": {
   "codemirror_mode": {
    "name": "ipython",
    "version": 3
   },
   "file_extension": ".py",
   "mimetype": "text/x-python",
   "name": "python",
   "nbconvert_exporter": "python",
   "pygments_lexer": "ipython3",
   "version": "3.8.5"
  }
 },
 "nbformat": 4,
 "nbformat_minor": 5
}
