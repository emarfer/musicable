{
 "cells": [
  {
   "cell_type": "markdown",
   "id": "8a0268b4",
   "metadata": {},
   "source": [
    "[apibilboard](https://rapidapi.com/LDVIN/api/billboard-api)"
   ]
  },
  {
   "cell_type": "code",
   "execution_count": 4,
   "id": "f4ff77b8",
   "metadata": {},
   "outputs": [
    {
     "name": "stdout",
     "output_type": "stream",
     "text": [
      "{\"info\": {\"category\": \"Billboard\", \"chart\": \"HOT 100\", \"date\": \"1978-02-25\", \"source\": \"Billboard-API\"}, \"content\": {\"1\": {\"rank\": \"1\", \"title\": \"Stayin' Alive\", \"artist\": \"Bee Gees\", \"weeks at no.1\": \"4\", \"last week\": \"1\", \"peak position\": \"1\", \"weeks on chart\": \"12\", \"detail\": \"same\"}, \"2\": {\"rank\": \"2\", \"title\": \"(Love Is) Thicker Than Water\", \"artist\": \"Andy Gibb\", \"last week\": \"2\", \"peak position\": \"2\", \"weeks on chart\": \"17\", \"detail\": \"same\"}, \"3\": {\"rank\": \"3\", \"title\": \"Just The Way You Are\", \"artist\": \"Billy Joel\", \"last week\": \"3\", \"peak position\": \"3\", \"weeks on chart\": \"16\", \"detail\": \"same\"}, \"4\": {\"rank\": \"4\", \"title\": \"Sometimes When We Touch\", \"artist\": \"Dan Hill\", \"last week\": \"5\", \"peak position\": \"4\", \"weeks on chart\": \"14\", \"detail\": \"up\"}, \"5\": {\"rank\": \"5\", \"title\": \"Emotion\", \"artist\": \"Samantha Sang\", \"last week\": \"6\", \"peak position\": \"5\", \"weeks on chart\": \"15\", \"detail\": \"up\"}, \"6\": {\"rank\": \"6\", \"title\": \"Dance, Dance, Dance (Yowsah, Yowsah, Yowsah)\", \"artist\": \"Chic\", \"last week\": \"7\", \"peak position\": \"6\", \"weeks on chart\": \"18\", \"detail\": \"up\"}, \"7\": {\"rank\": \"7\", \"title\": \"We Are The Champions\", \"artist\": \"Queen\", \"last week\": \"4\", \"peak position\": \"4\", \"weeks on chart\": \"19\", \"detail\": \"down\"}, \"8\": {\"rank\": \"8\", \"title\": \"Night Fever\", \"artist\": \"Bee Gees\", \"last week\": \"17\", \"peak position\": \"8\", \"weeks on chart\": \"4\", \"detail\": \"up\"}, \"9\": {\"rank\": \"9\", \"title\": \"Lay Down Sally\", \"artist\": \"Eric Clapton\", \"last week\": \"11\", \"peak position\": \"9\", \"weeks on chart\": \"8\", \"detail\": \"up\"}, \"10\": {\"rank\": \"10\", \"title\": \"How Deep Is Your Love\", \"artist\": \"Bee Gees\", \"last week\": \"10\", \"peak position\": \"1\", \"weeks on chart\": \"23\", \"detail\": \"same\"}}}\n"
     ]
    }
   ],
   "source": [
    "import requests\n",
    "import json\n",
    "\n",
    "url = \"https://billboard-api2.p.rapidapi.com/hot-100\"\n",
    "\n",
    "querystring = {\"range\":\"1-10\",\"date\":\"1978-02-20\"}\n",
    "\n",
    "headers = {\"X-RapidAPI-Key\": \"98f8ed0e40mshdb91908c79da96ap141ac9jsndca15f74f604\",\n",
    "\"X-RapidAPI-Host\": \"billboard-api2.p.rapidapi.com\"\n",
    "}\n",
    "\n",
    "response = requests.request(\"GET\", url, headers=headers, params=querystring)\n",
    "\n",
    "print(response.text)"
   ]
  },
  {
   "cell_type": "code",
   "execution_count": null,
   "id": "df2727b7",
   "metadata": {},
   "outputs": [],
   "source": []
  }
 ],
 "metadata": {
  "kernelspec": {
   "display_name": "sinatxe",
   "language": "python",
   "name": "sinatxe"
  },
  "language_info": {
   "codemirror_mode": {
    "name": "ipython",
    "version": 3
   },
   "file_extension": ".py",
   "mimetype": "text/x-python",
   "name": "python",
   "nbconvert_exporter": "python",
   "pygments_lexer": "ipython3",
   "version": "3.8.5"
  }
 },
 "nbformat": 4,
 "nbformat_minor": 5
}
