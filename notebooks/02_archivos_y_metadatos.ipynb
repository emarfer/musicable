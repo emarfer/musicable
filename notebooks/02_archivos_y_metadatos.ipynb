{
 "cells": [
  {
   "cell_type": "code",
   "execution_count": 1,
   "id": "71f33e2b",
   "metadata": {},
   "outputs": [],
   "source": [
    "import os\n",
    "from os import walk\n",
    "import pandas as pd\n",
    "import tinytag\n",
    "from tinytag import TinyTag\n"
   ]
  },
  {
   "cell_type": "markdown",
   "id": "0f33bb30",
   "metadata": {},
   "source": [
    "##  Probando walk y TinyTag \n",
    "- Walk nos servirá para hacer datasets con nuestros archivos (paths y nombre)\n",
    "- TinyTag extrae la información de los metadatos de los archivos musicales\n"
   ]
  },
  {
   "cell_type": "code",
   "execution_count": 2,
   "id": "4e49d708",
   "metadata": {},
   "outputs": [
    {
     "data": {
      "text/plain": [
       "['Britpop, Indie y rock alt británico',\n",
       " 'Cantautores',\n",
       " 'Classic Punk, New Wave, Garage Rock y psicodelia',\n",
       " 'Classic Rock',\n",
       " 'Country, Folk, singersongwritters',\n",
       " 'desktop.ini',\n",
       " 'Electronica, House, Chill out & Inndustrial',\n",
       " 'Flamenco, Fusión, Música del mundo, ritmos latinos y Francia',\n",
       " 'Funk, Jazz, Blues, Swing y Rock and roll',\n",
       " 'Hip hop, funky, R&B',\n",
       " 'Indie en español',\n",
       " 'Indie, Rock Alt, Grunge',\n",
       " 'Metal, hard rock',\n",
       " 'Pop Rock en español y movida',\n",
       " 'Pop, Pop Dance, Club',\n",
       " 'Punky, rap metal, Ska y Reggae',\n",
       " 'Rock Ibérico, punkarra y rock latino',\n",
       " 'V.A']"
      ]
     },
     "execution_count": 2,
     "metadata": {},
     "output_type": "execute_result"
    }
   ],
   "source": [
    "os.listdir('../../../Music') #encontramos la carpeta con nuestros archivos musicales"
   ]
  },
  {
   "cell_type": "code",
   "execution_count": 3,
   "id": "4b52d8cb",
   "metadata": {},
   "outputs": [],
   "source": [
    "total = [] #lista vacía para crear la lista de diccionarios con la que crearemos posteriormente un dataframe\n",
    "for (path, ficheros, archivos) in walk(\"../../../Music\"): # iteramos sobre los archivos de la carpeta Music y guardamos su info en las variables path, ficheros y archivos (path es la ruta, ficheros son las carpetas, archivos es nombre de archivos)\n",
    "    dicc = {}\n",
    "    dicc['path'] =  path\n",
    "    dicc['ficheros'] = ficheros\n",
    "    dicc['archivos'] = archivos\n",
    "    total.append(dicc)\n",
    "    #print(dicc['path'])"
   ]
  },
  {
   "cell_type": "code",
   "execution_count": 6,
   "id": "eb6ab7d7",
   "metadata": {
    "scrolled": false
   },
   "outputs": [
    {
     "data": {
      "text/plain": [
       "{'path': '../../../Music',\n",
       " 'ficheros': ['Britpop, Indie y rock alt británico',\n",
       "  'Cantautores',\n",
       "  'Classic Punk, New Wave, Garage Rock y psicodelia',\n",
       "  'Classic Rock',\n",
       "  'Country, Folk, singersongwritters',\n",
       "  'Electronica, House, Chill out & Inndustrial',\n",
       "  'Flamenco, Fusión, Música del mundo, ritmos latinos y Francia',\n",
       "  'Funk, Jazz, Blues, Swing y Rock and roll',\n",
       "  'Hip hop, funky, R&B',\n",
       "  'Indie en español',\n",
       "  'Indie, Rock Alt, Grunge',\n",
       "  'Metal, hard rock',\n",
       "  'Pop Rock en español y movida',\n",
       "  'Pop, Pop Dance, Club',\n",
       "  'Punky, rap metal, Ska y Reggae',\n",
       "  'Rock Ibérico, punkarra y rock latino',\n",
       "  'V.A'],\n",
       " 'archivos': ['desktop.ini']}"
      ]
     },
     "execution_count": 6,
     "metadata": {},
     "output_type": "execute_result"
    }
   ],
   "source": [
    "total[0]"
   ]
  },
  {
   "cell_type": "code",
   "execution_count": null,
   "id": "428a8821",
   "metadata": {},
   "outputs": [],
   "source": []
  }
 ],
 "metadata": {
  "kernelspec": {
   "display_name": "sinatxe",
   "language": "python",
   "name": "sinatxe"
  },
  "language_info": {
   "codemirror_mode": {
    "name": "ipython",
    "version": 3
   },
   "file_extension": ".py",
   "mimetype": "text/x-python",
   "name": "python",
   "nbconvert_exporter": "python",
   "pygments_lexer": "ipython3",
   "version": "3.8.5"
  }
 },
 "nbformat": 4,
 "nbformat_minor": 5
}
