{
 "cells": [
  {
   "cell_type": "code",
   "execution_count": 132,
   "id": "71f33e2b",
   "metadata": {},
   "outputs": [],
   "source": [
    "import os\n",
    "from os import walk\n",
    "import pandas as pd\n",
    "import tinytag\n",
    "from tinytag import TinyTag\n",
    "from pymongo import MongoClient\n",
    "import pymongo\n"
   ]
  },
  {
   "cell_type": "markdown",
   "id": "0f33bb30",
   "metadata": {},
   "source": [
    "##  Probando walk y TinyTag \n",
    "- Walk nos servirá para hacer datasets con nuestros archivos (paths y nombre)\n",
    "- TinyTag extrae la información de los metadatos de los archivos musicales\n"
   ]
  },
  {
   "cell_type": "code",
   "execution_count": 2,
   "id": "4e49d708",
   "metadata": {},
   "outputs": [
    {
     "data": {
      "text/plain": [
       "['Britpop, Indie y rock alt británico',\n",
       " 'Cantautores',\n",
       " 'Classic Punk, New Wave, Garage Rock y psicodelia',\n",
       " 'Classic Rock',\n",
       " 'Country, Folk, singersongwritters',\n",
       " 'desktop.ini',\n",
       " 'Electronica, House, Chill out & Inndustrial',\n",
       " 'Flamenco, Fusión, Música del mundo, ritmos latinos y Francia',\n",
       " 'Funk, Jazz, Blues, Swing y Rock and roll',\n",
       " 'Hip hop, funky, R&B',\n",
       " 'Indie en español',\n",
       " 'Indie, Rock Alt, Grunge',\n",
       " 'Metal, hard rock',\n",
       " 'Pop Rock en español y movida',\n",
       " 'Pop, Pop Dance, Club',\n",
       " 'Punky, rap metal, Ska y Reggae',\n",
       " 'Rock Ibérico, punkarra y rock latino',\n",
       " 'V.A']"
      ]
     },
     "execution_count": 2,
     "metadata": {},
     "output_type": "execute_result"
    }
   ],
   "source": [
    "os.listdir('../../../Music') #encontramos la carpeta con nuestros archivos musicales"
   ]
  },
  {
   "cell_type": "code",
   "execution_count": 3,
   "id": "4b52d8cb",
   "metadata": {},
   "outputs": [],
   "source": [
    "total = [] #lista vacía para crear la lista de diccionarios con la que crearemos posteriormente un dataframe\n",
    "for (path, ficheros, archivos) in walk(\"../../../Music\"): # iteramos sobre los archivos de la carpeta Music y guardamos su info en las variables path, ficheros y archivos (path es la ruta, ficheros son las carpetas, archivos es nombre de archivos)\n",
    "    dicc = {}\n",
    "    dicc['path'] =  path\n",
    "    dicc['ficheros'] = ficheros\n",
    "    dicc['archivos'] = archivos\n",
    "    total.append(dicc)\n",
    "    #print(dicc['path'])"
   ]
  },
  {
   "cell_type": "code",
   "execution_count": 4,
   "id": "eb6ab7d7",
   "metadata": {
    "scrolled": false
   },
   "outputs": [
    {
     "data": {
      "text/plain": [
       "{'path': '../../../Music',\n",
       " 'ficheros': ['Britpop, Indie y rock alt británico',\n",
       "  'Cantautores',\n",
       "  'Classic Punk, New Wave, Garage Rock y psicodelia',\n",
       "  'Classic Rock',\n",
       "  'Country, Folk, singersongwritters',\n",
       "  'Electronica, House, Chill out & Inndustrial',\n",
       "  'Flamenco, Fusión, Música del mundo, ritmos latinos y Francia',\n",
       "  'Funk, Jazz, Blues, Swing y Rock and roll',\n",
       "  'Hip hop, funky, R&B',\n",
       "  'Indie en español',\n",
       "  'Indie, Rock Alt, Grunge',\n",
       "  'Metal, hard rock',\n",
       "  'Pop Rock en español y movida',\n",
       "  'Pop, Pop Dance, Club',\n",
       "  'Punky, rap metal, Ska y Reggae',\n",
       "  'Rock Ibérico, punkarra y rock latino',\n",
       "  'V.A'],\n",
       " 'archivos': ['desktop.ini']}"
      ]
     },
     "execution_count": 4,
     "metadata": {},
     "output_type": "execute_result"
    }
   ],
   "source": [
    "total[0] #ejemplo diccionario de la lista d"
   ]
  },
  {
   "cell_type": "code",
   "execution_count": 6,
   "id": "428a8821",
   "metadata": {},
   "outputs": [
    {
     "data": {
      "text/html": [
       "<div>\n",
       "<style scoped>\n",
       "    .dataframe tbody tr th:only-of-type {\n",
       "        vertical-align: middle;\n",
       "    }\n",
       "\n",
       "    .dataframe tbody tr th {\n",
       "        vertical-align: top;\n",
       "    }\n",
       "\n",
       "    .dataframe thead th {\n",
       "        text-align: right;\n",
       "    }\n",
       "</style>\n",
       "<table border=\"1\" class=\"dataframe\">\n",
       "  <thead>\n",
       "    <tr style=\"text-align: right;\">\n",
       "      <th></th>\n",
       "      <th>path</th>\n",
       "      <th>ficheros</th>\n",
       "      <th>archivos</th>\n",
       "    </tr>\n",
       "  </thead>\n",
       "  <tbody>\n",
       "    <tr>\n",
       "      <th>862</th>\n",
       "      <td>../../../Music/Country, Folk, singersongwritte...</td>\n",
       "      <td>[]</td>\n",
       "      <td>[01 Cracking.mp3, 02 Freeze Tag.mp3, 03 Marlen...</td>\n",
       "    </tr>\n",
       "    <tr>\n",
       "      <th>2434</th>\n",
       "      <td>../../../Music/Rock Ibérico, punkarra y rock l...</td>\n",
       "      <td>[1997 Radical Sonora, 1999 Pequeño, 2002 Flami...</td>\n",
       "      <td>[]</td>\n",
       "    </tr>\n",
       "    <tr>\n",
       "      <th>829</th>\n",
       "      <td>../../../Music/Country, Folk, singersongwritte...</td>\n",
       "      <td>[2010 Downtown Church]</td>\n",
       "      <td>[]</td>\n",
       "    </tr>\n",
       "    <tr>\n",
       "      <th>62</th>\n",
       "      <td>../../../Music/Britpop, Indie y rock alt britá...</td>\n",
       "      <td>[]</td>\n",
       "      <td>[01 Jacqueline.m4a, 02 Tell Her Tonight.m4a, 0...</td>\n",
       "    </tr>\n",
       "    <tr>\n",
       "      <th>1727</th>\n",
       "      <td>../../../Music/Indie, Rock Alt, Grunge/Sonic Y...</td>\n",
       "      <td>[1986 Evol, 1987 Sister, 1988 Daydream nation,...</td>\n",
       "      <td>[]</td>\n",
       "    </tr>\n",
       "  </tbody>\n",
       "</table>\n",
       "</div>"
      ],
      "text/plain": [
       "                                                   path  \\\n",
       "862   ../../../Music/Country, Folk, singersongwritte...   \n",
       "2434  ../../../Music/Rock Ibérico, punkarra y rock l...   \n",
       "829   ../../../Music/Country, Folk, singersongwritte...   \n",
       "62    ../../../Music/Britpop, Indie y rock alt britá...   \n",
       "1727  ../../../Music/Indie, Rock Alt, Grunge/Sonic Y...   \n",
       "\n",
       "                                               ficheros  \\\n",
       "862                                                  []   \n",
       "2434  [1997 Radical Sonora, 1999 Pequeño, 2002 Flami...   \n",
       "829                              [2010 Downtown Church]   \n",
       "62                                                   []   \n",
       "1727  [1986 Evol, 1987 Sister, 1988 Daydream nation,...   \n",
       "\n",
       "                                               archivos  \n",
       "862   [01 Cracking.mp3, 02 Freeze Tag.mp3, 03 Marlen...  \n",
       "2434                                                 []  \n",
       "829                                                  []  \n",
       "62    [01 Jacqueline.m4a, 02 Tell Her Tonight.m4a, 0...  \n",
       "1727                                                 []  "
      ]
     },
     "execution_count": 6,
     "metadata": {},
     "output_type": "execute_result"
    }
   ],
   "source": [
    "pd.DataFrame(total).sample(5) #ejemplo de dataframe con la ruta, los ficheros y los archivos"
   ]
  },
  {
   "cell_type": "markdown",
   "id": "d8e771df",
   "metadata": {},
   "source": [
    "### Necesitamos crear una línea por cada archivo"
   ]
  },
  {
   "cell_type": "code",
   "execution_count": 7,
   "id": "4e22a0ec",
   "metadata": {},
   "outputs": [],
   "source": [
    "carpeta_m = pd.DataFrame(total) #datos de la carpeta Musica de mi pc"
   ]
  },
  {
   "cell_type": "code",
   "execution_count": 8,
   "id": "fabc8267",
   "metadata": {},
   "outputs": [
    {
     "data": {
      "text/html": [
       "<div>\n",
       "<style scoped>\n",
       "    .dataframe tbody tr th:only-of-type {\n",
       "        vertical-align: middle;\n",
       "    }\n",
       "\n",
       "    .dataframe tbody tr th {\n",
       "        vertical-align: top;\n",
       "    }\n",
       "\n",
       "    .dataframe thead th {\n",
       "        text-align: right;\n",
       "    }\n",
       "</style>\n",
       "<table border=\"1\" class=\"dataframe\">\n",
       "  <thead>\n",
       "    <tr style=\"text-align: right;\">\n",
       "      <th></th>\n",
       "      <th>path</th>\n",
       "      <th>ficheros</th>\n",
       "      <th>archivos</th>\n",
       "    </tr>\n",
       "  </thead>\n",
       "  <tbody>\n",
       "    <tr>\n",
       "      <th>1995</th>\n",
       "      <td>../../../Music/Pop Rock en español y movida/Al...</td>\n",
       "      <td>[]</td>\n",
       "      <td>[01 Los Dos Cogidos De La Mano.mp3, 02 Pisando...</td>\n",
       "    </tr>\n",
       "  </tbody>\n",
       "</table>\n",
       "</div>"
      ],
      "text/plain": [
       "                                                   path ficheros  \\\n",
       "1995  ../../../Music/Pop Rock en español y movida/Al...       []   \n",
       "\n",
       "                                               archivos  \n",
       "1995  [01 Los Dos Cogidos De La Mano.mp3, 02 Pisando...  "
      ]
     },
     "execution_count": 8,
     "metadata": {},
     "output_type": "execute_result"
    }
   ],
   "source": [
    "carpeta_m.sample()"
   ]
  },
  {
   "cell_type": "code",
   "execution_count": 12,
   "id": "b04a24fc",
   "metadata": {},
   "outputs": [],
   "source": [
    "carpeta_m.ficheros.value_counts().head()\n",
    "#la mayoría de los elementos son una lista vacía. Ya que lo que se puede llamar fichero son subcarpetas en las que están los archivos\n",
    "# solo nos quedamos con el path que incluirá estos ficheros.\n",
    "carpeta_m.drop('ficheros',axis=1,inplace=True)"
   ]
  },
  {
   "cell_type": "code",
   "execution_count": 13,
   "id": "bce4ae0c",
   "metadata": {},
   "outputs": [
    {
     "data": {
      "text/html": [
       "<div>\n",
       "<style scoped>\n",
       "    .dataframe tbody tr th:only-of-type {\n",
       "        vertical-align: middle;\n",
       "    }\n",
       "\n",
       "    .dataframe tbody tr th {\n",
       "        vertical-align: top;\n",
       "    }\n",
       "\n",
       "    .dataframe thead th {\n",
       "        text-align: right;\n",
       "    }\n",
       "</style>\n",
       "<table border=\"1\" class=\"dataframe\">\n",
       "  <thead>\n",
       "    <tr style=\"text-align: right;\">\n",
       "      <th></th>\n",
       "      <th>path</th>\n",
       "      <th>archivos</th>\n",
       "    </tr>\n",
       "  </thead>\n",
       "  <tbody>\n",
       "    <tr>\n",
       "      <th>1693</th>\n",
       "      <td>../../../Music/Indie, Rock Alt, Grunge/Nick Ca...</td>\n",
       "      <td>[01 Into My Arms.mp3, 02 Lime Tree Arbour.mp3,...</td>\n",
       "    </tr>\n",
       "  </tbody>\n",
       "</table>\n",
       "</div>"
      ],
      "text/plain": [
       "                                                   path  \\\n",
       "1693  ../../../Music/Indie, Rock Alt, Grunge/Nick Ca...   \n",
       "\n",
       "                                               archivos  \n",
       "1693  [01 Into My Arms.mp3, 02 Lime Tree Arbour.mp3,...  "
      ]
     },
     "execution_count": 13,
     "metadata": {},
     "output_type": "execute_result"
    }
   ],
   "source": [
    "carpeta_m.sample()"
   ]
  },
  {
   "cell_type": "code",
   "execution_count": 23,
   "id": "dd928ca9",
   "metadata": {},
   "outputs": [],
   "source": [
    "# iteramos por dataframe para crear una nueva lista de diccionarios con la ruta para cada archivo\n",
    "archivos = [] #lista vacía para el diccionario archio = ruta\n",
    "for i,r in carpeta_m.iterrows(): # todos los elementos de archivos son listas (las vacías las descartamos)\n",
    "    if len(r.archivos)>=0:\n",
    "        for arch in r.archivos:\n",
    "            dicc = {}\n",
    "            dicc['ruta'] = r.path\n",
    "            dicc['archivo'] = arch\n",
    "            archivos.append(dicc)\n"
   ]
  },
  {
   "cell_type": "code",
   "execution_count": 25,
   "id": "aab19cea",
   "metadata": {},
   "outputs": [],
   "source": [
    "archivos_df = pd.DataFrame(archivos)"
   ]
  },
  {
   "cell_type": "code",
   "execution_count": 26,
   "id": "3c55775d",
   "metadata": {},
   "outputs": [
    {
     "data": {
      "text/html": [
       "<div>\n",
       "<style scoped>\n",
       "    .dataframe tbody tr th:only-of-type {\n",
       "        vertical-align: middle;\n",
       "    }\n",
       "\n",
       "    .dataframe tbody tr th {\n",
       "        vertical-align: top;\n",
       "    }\n",
       "\n",
       "    .dataframe thead th {\n",
       "        text-align: right;\n",
       "    }\n",
       "</style>\n",
       "<table border=\"1\" class=\"dataframe\">\n",
       "  <thead>\n",
       "    <tr style=\"text-align: right;\">\n",
       "      <th></th>\n",
       "      <th>ruta</th>\n",
       "      <th>archivo</th>\n",
       "    </tr>\n",
       "  </thead>\n",
       "  <tbody>\n",
       "    <tr>\n",
       "      <th>0</th>\n",
       "      <td>../../../Music</td>\n",
       "      <td>desktop.ini</td>\n",
       "    </tr>\n",
       "    <tr>\n",
       "      <th>1</th>\n",
       "      <td>../../../Music/Britpop, Indie y rock alt britá...</td>\n",
       "      <td>desktop.ini</td>\n",
       "    </tr>\n",
       "    <tr>\n",
       "      <th>2</th>\n",
       "      <td>../../../Music/Britpop, Indie y rock alt britá...</td>\n",
       "      <td>01 Stuck On The Puzzle (Intro).mp3</td>\n",
       "    </tr>\n",
       "    <tr>\n",
       "      <th>3</th>\n",
       "      <td>../../../Music/Britpop, Indie y rock alt britá...</td>\n",
       "      <td>02 Hiding Tonight.mp3</td>\n",
       "    </tr>\n",
       "    <tr>\n",
       "      <th>4</th>\n",
       "      <td>../../../Music/Britpop, Indie y rock alt britá...</td>\n",
       "      <td>03 Glass In The Park.mp3</td>\n",
       "    </tr>\n",
       "  </tbody>\n",
       "</table>\n",
       "</div>"
      ],
      "text/plain": [
       "                                                ruta  \\\n",
       "0                                     ../../../Music   \n",
       "1  ../../../Music/Britpop, Indie y rock alt britá...   \n",
       "2  ../../../Music/Britpop, Indie y rock alt britá...   \n",
       "3  ../../../Music/Britpop, Indie y rock alt britá...   \n",
       "4  ../../../Music/Britpop, Indie y rock alt britá...   \n",
       "\n",
       "                              archivo  \n",
       "0                         desktop.ini  \n",
       "1                         desktop.ini  \n",
       "2  01 Stuck On The Puzzle (Intro).mp3  \n",
       "3               02 Hiding Tonight.mp3  \n",
       "4            03 Glass In The Park.mp3  "
      ]
     },
     "execution_count": 26,
     "metadata": {},
     "output_type": "execute_result"
    }
   ],
   "source": [
    "archivos_df.head()"
   ]
  },
  {
   "cell_type": "code",
   "execution_count": null,
   "id": "fa8af4da",
   "metadata": {},
   "outputs": [],
   "source": []
  },
  {
   "cell_type": "code",
   "execution_count": 85,
   "id": "19b4977b",
   "metadata": {},
   "outputs": [
    {
     "data": {
      "text/plain": [
       "mp3                       21998\n",
       "jpg                        1972\n",
       "db                          141\n",
       "wma                          51\n",
       "m4a                          48\n",
       "bridgelabelsandratings       32\n",
       "ini                          30\n",
       "ds_store                      8\n",
       "html                          3\n",
       "txt                           2\n",
       "log                           1\n",
       "cue                           1\n",
       "ico                           1\n",
       "png                           1\n",
       "m3u                           1\n",
       "nfo                           1\n",
       "bmp                           1\n",
       "Name: extension, dtype: int64"
      ]
     },
     "execution_count": 85,
     "metadata": {},
     "output_type": "execute_result"
    }
   ],
   "source": [
    "# vamos a estuidar los archivos para quitar los que nos on musicales\n",
    "# sacaremos la extensión del archivo para comproboarlo. (caracteres despúes del último punto)\n",
    "archivos_df['extension'] = archivos_df.archivo.str.extract(r'((?<=\\.)[^.]*$)')\n",
    "#transformamos extensiones todoas a minusculaa\n",
    "archivos_df.extension = archivos_df.extension.str.lower()\n",
    "archivos_df.extension.value_counts()"
   ]
  },
  {
   "cell_type": "code",
   "execution_count": 101,
   "id": "a513fb85",
   "metadata": {},
   "outputs": [],
   "source": [
    "ext_music = ['mp3','wma','m4a'] #lista de extensiones musicales para dropear los archivos que no lo son"
   ]
  },
  {
   "cell_type": "code",
   "execution_count": 102,
   "id": "2097a130",
   "metadata": {},
   "outputs": [],
   "source": [
    "archivos_mus = archivos_df.copy()[archivos_df.extension.isin(ext_music)]"
   ]
  },
  {
   "cell_type": "code",
   "execution_count": 103,
   "id": "32ba9bab",
   "metadata": {},
   "outputs": [
    {
     "data": {
      "text/html": [
       "<div>\n",
       "<style scoped>\n",
       "    .dataframe tbody tr th:only-of-type {\n",
       "        vertical-align: middle;\n",
       "    }\n",
       "\n",
       "    .dataframe tbody tr th {\n",
       "        vertical-align: top;\n",
       "    }\n",
       "\n",
       "    .dataframe thead th {\n",
       "        text-align: right;\n",
       "    }\n",
       "</style>\n",
       "<table border=\"1\" class=\"dataframe\">\n",
       "  <thead>\n",
       "    <tr style=\"text-align: right;\">\n",
       "      <th></th>\n",
       "      <th>ruta</th>\n",
       "      <th>archivo</th>\n",
       "      <th>extension</th>\n",
       "    </tr>\n",
       "  </thead>\n",
       "  <tbody>\n",
       "    <tr>\n",
       "      <th>2</th>\n",
       "      <td>../../../Music/Britpop, Indie y rock alt britá...</td>\n",
       "      <td>01 Stuck On The Puzzle (Intro).mp3</td>\n",
       "      <td>mp3</td>\n",
       "    </tr>\n",
       "    <tr>\n",
       "      <th>3</th>\n",
       "      <td>../../../Music/Britpop, Indie y rock alt britá...</td>\n",
       "      <td>02 Hiding Tonight.mp3</td>\n",
       "      <td>mp3</td>\n",
       "    </tr>\n",
       "    <tr>\n",
       "      <th>4</th>\n",
       "      <td>../../../Music/Britpop, Indie y rock alt britá...</td>\n",
       "      <td>03 Glass In The Park.mp3</td>\n",
       "      <td>mp3</td>\n",
       "    </tr>\n",
       "    <tr>\n",
       "      <th>5</th>\n",
       "      <td>../../../Music/Britpop, Indie y rock alt britá...</td>\n",
       "      <td>04 It's Hard To Get Around The Wind.mp3</td>\n",
       "      <td>mp3</td>\n",
       "    </tr>\n",
       "    <tr>\n",
       "      <th>6</th>\n",
       "      <td>../../../Music/Britpop, Indie y rock alt britá...</td>\n",
       "      <td>05 Stuck On The Puzzle.mp3</td>\n",
       "      <td>mp3</td>\n",
       "    </tr>\n",
       "  </tbody>\n",
       "</table>\n",
       "</div>"
      ],
      "text/plain": [
       "                                                ruta  \\\n",
       "2  ../../../Music/Britpop, Indie y rock alt britá...   \n",
       "3  ../../../Music/Britpop, Indie y rock alt britá...   \n",
       "4  ../../../Music/Britpop, Indie y rock alt britá...   \n",
       "5  ../../../Music/Britpop, Indie y rock alt britá...   \n",
       "6  ../../../Music/Britpop, Indie y rock alt britá...   \n",
       "\n",
       "                                   archivo extension  \n",
       "2       01 Stuck On The Puzzle (Intro).mp3       mp3  \n",
       "3                    02 Hiding Tonight.mp3       mp3  \n",
       "4                 03 Glass In The Park.mp3       mp3  \n",
       "5  04 It's Hard To Get Around The Wind.mp3       mp3  \n",
       "6               05 Stuck On The Puzzle.mp3       mp3  "
      ]
     },
     "execution_count": 103,
     "metadata": {},
     "output_type": "execute_result"
    }
   ],
   "source": [
    "archivos_mus.head() #dataframe con archivos musicales solo"
   ]
  },
  {
   "cell_type": "code",
   "execution_count": 104,
   "id": "c4e3a4bb",
   "metadata": {},
   "outputs": [
    {
     "data": {
      "text/plain": [
       "array(['mp3', 'm4a', 'wma'], dtype=object)"
      ]
     },
     "execution_count": 104,
     "metadata": {},
     "output_type": "execute_result"
    }
   ],
   "source": [
    "archivos_mus.extension.unique()"
   ]
  },
  {
   "cell_type": "markdown",
   "id": "165fa9d5",
   "metadata": {},
   "source": [
    "## Utilizamos tinytag para extraer la info de los archivos"
   ]
  },
  {
   "cell_type": "markdown",
   "id": "6e4b3cd6",
   "metadata": {},
   "source": [
    "###  Tinytag Documentation\n",
    "- [Pyp](https://pypi.org/project/tinytag/)\n",
    "- [GitHub](https://github.com/devsnd/tinytag)"
   ]
  },
  {
   "cell_type": "markdown",
   "id": "d9dd8765",
   "metadata": {},
   "source": [
    "- self._filehandler = filehandler\n",
    "- self._filename = None  # for debugging purposes\n",
    "- self._default_encoding = None  # allow override for some file formats\n",
    "- self.filesize = filesize\n",
    "- self.album = None\n",
    "- self.albumartist = None\n",
    "- self.artist = None\n",
    "- self.audio_offset = None\n",
    "- self.bitrate = None\n",
    "- self.channels = None\n",
    "- self.comment = None\n",
    "- self.composer = None\n",
    "- self.disc = None\n",
    "- self.disc_total = None\n",
    "- self.duration = None\n",
    "- self.extra = defaultdict(lambda: None)\n",
    "- self.genre = None\n",
    "- self.samplerate = None\n",
    "- self.title = None\n",
    "- self.track = None\n",
    "- self.track_total = None\n",
    "- self.year = None\n",
    "- self._load_image = False\n",
    "- self._image_data = None\n",
    "- self._ignore_errors = ignore_errors"
   ]
  },
  {
   "cell_type": "markdown",
   "id": "caa78563",
   "metadata": {},
   "source": [
    "### posibles atributos\n",
    "- tag.album         # album as string\n",
    "- tag.albumartist   # album artist as string\n",
    "- tag.artist        # artist name as string\n",
    "- tag.audio_offset  # number of bytes before audio data begins\n",
    "- tag.bitrate       # bitrate in kBits/s\n",
    "- tag.comment       # file comment as string\n",
    "- tag.composer      # composer as string \n",
    "- tag.disc          # disc number\n",
    "- tag.disc_total    # the total number of discs\n",
    "- tag.duration      # duration of the song in seconds\n",
    "- tag.filesize      # file size in bytes\n",
    "- tag.genre         # genre as string\n",
    "- tag.samplerate    # samples per second\n",
    "- tag.title         # title of the song\n",
    "- tag.track         # track number as string\n",
    "- tag.track_total   # total number of tracks as string\n",
    "- tag.year          # year or data as string\n",
    "- tag.extra         # a dict of additional data"
   ]
  },
  {
   "cell_type": "markdown",
   "id": "839a9cfa",
   "metadata": {},
   "source": [
    "- Aditionally you can also get cover images from ID3 tags:\n",
    "``` python\n",
    "tag = TinyTag.get('/some/music.mp3', image=True)\n",
    "image_data = tag.get_image()\n",
    "```"
   ]
  },
  {
   "cell_type": "code",
   "execution_count": 105,
   "id": "977b74a6",
   "metadata": {},
   "outputs": [],
   "source": [
    "# iteramos por el dataframe archivos_mus para extraer en un dataframe la info del archivo"
   ]
  },
  {
   "cell_type": "code",
   "execution_count": 117,
   "id": "42ba11c4",
   "metadata": {},
   "outputs": [
    {
     "data": {
      "text/plain": [
       "22097"
      ]
     },
     "execution_count": 117,
     "metadata": {},
     "output_type": "execute_result"
    }
   ],
   "source": [
    "len(archivos_mus)"
   ]
  },
  {
   "cell_type": "code",
   "execution_count": 126,
   "id": "6dca9b55",
   "metadata": {
    "scrolled": false
   },
   "outputs": [
    {
     "name": "stdout",
     "output_type": "stream",
     "text": [
      "10000 done ../../../Music/Flamenco, Fusión, Música del mundo, ritmos latinos y Francia/La cabra mecánica/1997 Cuando me suenan las tripas 02 Pégate un tiro.mp3\n",
      "20000 done ../../../Music/Pop, Pop Dance, Club/Rihanna/2007 Good Girl Gone Bad 02 Push Up on Me.mp3\n",
      "done, bitches\n"
     ]
    }
   ],
   "source": [
    "listatag = []\n",
    "excepcionismo = []\n",
    "\n",
    "for i,r in archivos_mus.iterrows():\n",
    "    \n",
    "    try:\n",
    "\n",
    "        dicc = {}\n",
    "        #tag = TinyTag.get({str(r.ruta)}+'/'+{str(r.archivo)})\n",
    "        tag = TinyTag.get(r.ruta+\"/\"+r.archivo)\n",
    "        dicc['albumartist'] = tag.albumartist\n",
    "        dicc['artist'] = tag.artist\n",
    "        dicc['genre'] = tag.genre\n",
    "        dicc['album'] = tag.album\n",
    "        dicc['year'] = tag.year\n",
    "        dicc['track'] = tag.track    \n",
    "        dicc['track_total'] = tag.track_total\n",
    "        dicc['title'] = tag.title    \n",
    "        dicc['duration'] = tag.duration\n",
    "        dicc['filesize'] = tag.filesize\n",
    "        dicc['audio_offset'] = tag.audio_offset\n",
    "        dicc['channels'] = tag.channels\n",
    "        dicc['comment'] = tag.comment\n",
    "        dicc['composer'] = tag.composer\n",
    "        dicc['disc_total'] = tag.disc_total\n",
    "        #dicc['extra'] = tag.extra\n",
    "        dicc['samplerate'] = tag.samplerate        \n",
    "        dicc['archivo'] = r.archivo\n",
    "        dicc['ruta'] = r.ruta        \n",
    "        dicc['ruta_total'] = f'{r.ruta}/{r.archivo}'\n",
    "\n",
    "        listatag.append(dicc)\n",
    "\n",
    "        if i%10000 == 0:\n",
    "            print(i, 'done', r.ruta, r.archivo)\n",
    "    except Exception as e:\n",
    "        print(e)\n",
    "        print(f'cant be done: {i}, {r.ruta+\"/\"+r.archivo}')\n",
    "        excepcionismo.append(i)\n",
    "print('done, bitches')"
   ]
  },
  {
   "cell_type": "code",
   "execution_count": 127,
   "id": "93d1f0f8",
   "metadata": {},
   "outputs": [],
   "source": [
    "# cuando ya has usado tinytag se queda grabado los datos en meororia y es muchísimo más rápido"
   ]
  },
  {
   "cell_type": "code",
   "execution_count": 128,
   "id": "35d83604",
   "metadata": {},
   "outputs": [
    {
     "data": {
      "text/plain": [
       "[]"
      ]
     },
     "execution_count": 128,
     "metadata": {},
     "output_type": "execute_result"
    }
   ],
   "source": [
    "#comprobar excepcionismo\n",
    "excepcionismo #vacía BIEN!!"
   ]
  },
  {
   "cell_type": "code",
   "execution_count": 129,
   "id": "40214a31",
   "metadata": {},
   "outputs": [],
   "source": [
    "tags_music = pd.DataFrame(listatag)"
   ]
  },
  {
   "cell_type": "code",
   "execution_count": 130,
   "id": "27e6c9ad",
   "metadata": {},
   "outputs": [
    {
     "data": {
      "text/html": [
       "<div>\n",
       "<style scoped>\n",
       "    .dataframe tbody tr th:only-of-type {\n",
       "        vertical-align: middle;\n",
       "    }\n",
       "\n",
       "    .dataframe tbody tr th {\n",
       "        vertical-align: top;\n",
       "    }\n",
       "\n",
       "    .dataframe thead th {\n",
       "        text-align: right;\n",
       "    }\n",
       "</style>\n",
       "<table border=\"1\" class=\"dataframe\">\n",
       "  <thead>\n",
       "    <tr style=\"text-align: right;\">\n",
       "      <th></th>\n",
       "      <th>albumartist</th>\n",
       "      <th>artist</th>\n",
       "      <th>genre</th>\n",
       "      <th>album</th>\n",
       "      <th>year</th>\n",
       "      <th>track</th>\n",
       "      <th>track_total</th>\n",
       "      <th>title</th>\n",
       "      <th>duration</th>\n",
       "      <th>filesize</th>\n",
       "      <th>audio_offset</th>\n",
       "      <th>channels</th>\n",
       "      <th>comment</th>\n",
       "      <th>composer</th>\n",
       "      <th>disc_total</th>\n",
       "      <th>samplerate</th>\n",
       "      <th>archivo</th>\n",
       "      <th>ruta</th>\n",
       "      <th>ruta_total</th>\n",
       "    </tr>\n",
       "  </thead>\n",
       "  <tbody>\n",
       "    <tr>\n",
       "      <th>0</th>\n",
       "      <td>Alex Turner</td>\n",
       "      <td>Alex Turner</td>\n",
       "      <td>None</td>\n",
       "      <td>Submarine</td>\n",
       "      <td>2011</td>\n",
       "      <td>1</td>\n",
       "      <td>None</td>\n",
       "      <td>Stuck On The Puzzle (Intro)</td>\n",
       "      <td>54.199780</td>\n",
       "      <td>2184408</td>\n",
       "      <td>16907.0</td>\n",
       "      <td>2.0</td>\n",
       "      <td></td>\n",
       "      <td>None</td>\n",
       "      <td>None</td>\n",
       "      <td>44100.0</td>\n",
       "      <td>01 Stuck On The Puzzle (Intro).mp3</td>\n",
       "      <td>../../../Music/Britpop, Indie y rock alt britá...</td>\n",
       "      <td>../../../Music/Britpop, Indie y rock alt britá...</td>\n",
       "    </tr>\n",
       "    <tr>\n",
       "      <th>1</th>\n",
       "      <td>Alex Turner</td>\n",
       "      <td>Alex Turner</td>\n",
       "      <td>None</td>\n",
       "      <td>Submarine</td>\n",
       "      <td>2011</td>\n",
       "      <td>2</td>\n",
       "      <td>None</td>\n",
       "      <td>Hiding Tonight</td>\n",
       "      <td>187.200656</td>\n",
       "      <td>7502914</td>\n",
       "      <td>16895.0</td>\n",
       "      <td>2.0</td>\n",
       "      <td></td>\n",
       "      <td>None</td>\n",
       "      <td>None</td>\n",
       "      <td>44100.0</td>\n",
       "      <td>02 Hiding Tonight.mp3</td>\n",
       "      <td>../../../Music/Britpop, Indie y rock alt britá...</td>\n",
       "      <td>../../../Music/Britpop, Indie y rock alt britá...</td>\n",
       "    </tr>\n",
       "    <tr>\n",
       "      <th>2</th>\n",
       "      <td>Alex Turner</td>\n",
       "      <td>Alex Turner</td>\n",
       "      <td>None</td>\n",
       "      <td>Submarine</td>\n",
       "      <td>2011</td>\n",
       "      <td>3</td>\n",
       "      <td>None</td>\n",
       "      <td>Glass In The Park</td>\n",
       "      <td>240.166035</td>\n",
       "      <td>9620931</td>\n",
       "      <td>16901.0</td>\n",
       "      <td>2.0</td>\n",
       "      <td></td>\n",
       "      <td>None</td>\n",
       "      <td>None</td>\n",
       "      <td>44100.0</td>\n",
       "      <td>03 Glass In The Park.mp3</td>\n",
       "      <td>../../../Music/Britpop, Indie y rock alt britá...</td>\n",
       "      <td>../../../Music/Britpop, Indie y rock alt britá...</td>\n",
       "    </tr>\n",
       "    <tr>\n",
       "      <th>3</th>\n",
       "      <td>Alex Turner</td>\n",
       "      <td>Alex Turner</td>\n",
       "      <td>None</td>\n",
       "      <td>Submarine</td>\n",
       "      <td>2011</td>\n",
       "      <td>4</td>\n",
       "      <td>None</td>\n",
       "      <td>It's Hard To Get Around The Wind</td>\n",
       "      <td>247.508929</td>\n",
       "      <td>9914593</td>\n",
       "      <td>16931.0</td>\n",
       "      <td>2.0</td>\n",
       "      <td></td>\n",
       "      <td>None</td>\n",
       "      <td>None</td>\n",
       "      <td>44100.0</td>\n",
       "      <td>04 It's Hard To Get Around The Wind.mp3</td>\n",
       "      <td>../../../Music/Britpop, Indie y rock alt britá...</td>\n",
       "      <td>../../../Music/Britpop, Indie y rock alt britá...</td>\n",
       "    </tr>\n",
       "    <tr>\n",
       "      <th>4</th>\n",
       "      <td>Alex Turner</td>\n",
       "      <td>Alex Turner</td>\n",
       "      <td>None</td>\n",
       "      <td>Submarine</td>\n",
       "      <td>2011</td>\n",
       "      <td>5</td>\n",
       "      <td>None</td>\n",
       "      <td>Stuck On The Puzzle</td>\n",
       "      <td>211.553851</td>\n",
       "      <td>8476774</td>\n",
       "      <td>16905.0</td>\n",
       "      <td>2.0</td>\n",
       "      <td></td>\n",
       "      <td>None</td>\n",
       "      <td>None</td>\n",
       "      <td>44100.0</td>\n",
       "      <td>05 Stuck On The Puzzle.mp3</td>\n",
       "      <td>../../../Music/Britpop, Indie y rock alt britá...</td>\n",
       "      <td>../../../Music/Britpop, Indie y rock alt britá...</td>\n",
       "    </tr>\n",
       "  </tbody>\n",
       "</table>\n",
       "</div>"
      ],
      "text/plain": [
       "   albumartist       artist genre      album  year track track_total  \\\n",
       "0  Alex Turner  Alex Turner  None  Submarine  2011     1        None   \n",
       "1  Alex Turner  Alex Turner  None  Submarine  2011     2        None   \n",
       "2  Alex Turner  Alex Turner  None  Submarine  2011     3        None   \n",
       "3  Alex Turner  Alex Turner  None  Submarine  2011     4        None   \n",
       "4  Alex Turner  Alex Turner  None  Submarine  2011     5        None   \n",
       "\n",
       "                              title    duration  filesize  audio_offset  \\\n",
       "0       Stuck On The Puzzle (Intro)   54.199780   2184408       16907.0   \n",
       "1                    Hiding Tonight  187.200656   7502914       16895.0   \n",
       "2                 Glass In The Park  240.166035   9620931       16901.0   \n",
       "3  It's Hard To Get Around The Wind  247.508929   9914593       16931.0   \n",
       "4               Stuck On The Puzzle  211.553851   8476774       16905.0   \n",
       "\n",
       "   channels comment composer disc_total  samplerate  \\\n",
       "0       2.0             None       None     44100.0   \n",
       "1       2.0             None       None     44100.0   \n",
       "2       2.0             None       None     44100.0   \n",
       "3       2.0             None       None     44100.0   \n",
       "4       2.0             None       None     44100.0   \n",
       "\n",
       "                                   archivo  \\\n",
       "0       01 Stuck On The Puzzle (Intro).mp3   \n",
       "1                    02 Hiding Tonight.mp3   \n",
       "2                 03 Glass In The Park.mp3   \n",
       "3  04 It's Hard To Get Around The Wind.mp3   \n",
       "4               05 Stuck On The Puzzle.mp3   \n",
       "\n",
       "                                                ruta  \\\n",
       "0  ../../../Music/Britpop, Indie y rock alt britá...   \n",
       "1  ../../../Music/Britpop, Indie y rock alt britá...   \n",
       "2  ../../../Music/Britpop, Indie y rock alt britá...   \n",
       "3  ../../../Music/Britpop, Indie y rock alt britá...   \n",
       "4  ../../../Music/Britpop, Indie y rock alt britá...   \n",
       "\n",
       "                                          ruta_total  \n",
       "0  ../../../Music/Britpop, Indie y rock alt britá...  \n",
       "1  ../../../Music/Britpop, Indie y rock alt britá...  \n",
       "2  ../../../Music/Britpop, Indie y rock alt britá...  \n",
       "3  ../../../Music/Britpop, Indie y rock alt britá...  \n",
       "4  ../../../Music/Britpop, Indie y rock alt britá...  "
      ]
     },
     "execution_count": 130,
     "metadata": {},
     "output_type": "execute_result"
    }
   ],
   "source": [
    "tags_music.head()"
   ]
  },
  {
   "cell_type": "code",
   "execution_count": 131,
   "id": "afde1d15",
   "metadata": {},
   "outputs": [],
   "source": [
    "#podríamos incluir toda esta info en una basse de datos\n",
    "#utlizaremos mongo ahora\n"
   ]
  },
  {
   "cell_type": "markdown",
   "id": "dd0ecf5f",
   "metadata": {},
   "source": [
    "## Guardar info en base de datos\n",
    "- MONGO"
   ]
  },
  {
   "cell_type": "code",
   "execution_count": 136,
   "id": "b2dd0265",
   "metadata": {},
   "outputs": [
    {
     "data": {
      "text/plain": [
       "['admin',\n",
       " 'carpeta_music',\n",
       " 'config',\n",
       " 'discogs',\n",
       " 'lastusers',\n",
       " 'local',\n",
       " 'maps',\n",
       " 'musicable']"
      ]
     },
     "execution_count": 136,
     "metadata": {},
     "output_type": "execute_result"
    }
   ],
   "source": [
    "client = MongoClient(\"localhost:27017\")\n",
    "client.list_database_names()"
   ]
  },
  {
   "cell_type": "code",
   "execution_count": 146,
   "id": "ce0dd6b6",
   "metadata": {},
   "outputs": [],
   "source": [
    "# usamos carpeta_music que tiene dos colecciones (archivos y tags) para guardar la info recopilada con walk y tinytag\n",
    "carpeta_music = client.get_database(\"carpeta_music\")"
   ]
  },
  {
   "cell_type": "code",
   "execution_count": 148,
   "id": "78f16793",
   "metadata": {},
   "outputs": [
    {
     "data": {
      "text/plain": [
       "['archivos', 'tags']"
      ]
     },
     "execution_count": 148,
     "metadata": {},
     "output_type": "execute_result"
    }
   ],
   "source": [
    "carpeta_music.list_collection_names()"
   ]
  },
  {
   "cell_type": "code",
   "execution_count": null,
   "id": "ba0c9e8f",
   "metadata": {},
   "outputs": [],
   "source": []
  },
  {
   "cell_type": "code",
   "execution_count": 149,
   "id": "afea793d",
   "metadata": {},
   "outputs": [],
   "source": [
    " # iteramos sobre los archivos de la carpeta Music y guardamos su info en coleccion archivos\n",
    "for (path, ficheros, archivos) in walk(\"../../../Music\"):\n",
    "    dicc = {}\n",
    "    dicc['path'] =  path\n",
    "    dicc['ficheros'] = ficheros\n",
    "    dicc['archivos'] = archivos\n",
    "    carpeta_music.archivos.insert_one(dicc)"
   ]
  },
  {
   "cell_type": "code",
   "execution_count": 150,
   "id": "e9610996",
   "metadata": {},
   "outputs": [
    {
     "name": "stdout",
     "output_type": "stream",
     "text": [
      "10000 done ../../../Music/Flamenco, Fusión, Música del mundo, ritmos latinos y Francia/La cabra mecánica/1997 Cuando me suenan las tripas 02 Pégate un tiro.mp3\n",
      "20000 done ../../../Music/Pop, Pop Dance, Club/Rihanna/2007 Good Girl Gone Bad 02 Push Up on Me.mp3\n",
      "done, bitches\n"
     ]
    }
   ],
   "source": [
    "#iteramos por dataframe y guradraos info en coleccion tags\n",
    "for i,r in archivos_mus.iterrows():\n",
    "    \n",
    "    try:\n",
    "\n",
    "        dicc = {}\n",
    "        #tag = TinyTag.get({str(r.ruta)}+'/'+{str(r.archivo)})\n",
    "        tag = TinyTag.get(r.ruta+\"/\"+r.archivo)\n",
    "        dicc['albumartist'] = tag.albumartist\n",
    "        dicc['artist'] = tag.artist\n",
    "        dicc['genre'] = tag.genre\n",
    "        dicc['album'] = tag.album\n",
    "        dicc['year'] = tag.year\n",
    "        dicc['track'] = tag.track    \n",
    "        dicc['track_total'] = tag.track_total\n",
    "        dicc['title'] = tag.title    \n",
    "        dicc['duration'] = tag.duration\n",
    "        dicc['filesize'] = tag.filesize\n",
    "        dicc['audio_offset'] = tag.audio_offset\n",
    "        dicc['channels'] = tag.channels\n",
    "        dicc['comment'] = tag.comment\n",
    "        dicc['composer'] = tag.composer\n",
    "        dicc['disc_total'] = tag.disc_total\n",
    "        #dicc['extra'] = tag.extra\n",
    "        dicc['samplerate'] = tag.samplerate        \n",
    "        dicc['archivo'] = r.archivo\n",
    "        dicc['ruta'] = r.ruta        \n",
    "        dicc['ruta_total'] = f'{r.ruta}/{r.archivo}'\n",
    "\n",
    "        carpeta_music.tags.insert_one(dicc)\n",
    "\n",
    "        if i%10000 == 0:\n",
    "            print(i, 'done', r.ruta, r.archivo)\n",
    "    except Exception as e:\n",
    "        print(e)\n",
    "        print(f'cant be done: {i}, {r.ruta+\"/\"+r.archivo}')\n",
    "        excepcionismo.append(i)\n",
    "print('done, bitches')"
   ]
  },
  {
   "cell_type": "code",
   "execution_count": null,
   "id": "be065838",
   "metadata": {},
   "outputs": [],
   "source": []
  }
 ],
 "metadata": {
  "kernelspec": {
   "display_name": "sinatxe",
   "language": "python",
   "name": "sinatxe"
  },
  "language_info": {
   "codemirror_mode": {
    "name": "ipython",
    "version": 3
   },
   "file_extension": ".py",
   "mimetype": "text/x-python",
   "name": "python",
   "nbconvert_exporter": "python",
   "pygments_lexer": "ipython3",
   "version": "3.8.5"
  }
 },
 "nbformat": 4,
 "nbformat_minor": 5
}
