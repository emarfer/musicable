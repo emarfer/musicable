{
 "cells": [
  {
   "cell_type": "code",
   "execution_count": 2,
   "id": "7bf1a458",
   "metadata": {},
   "outputs": [],
   "source": [
    "import requests \n",
    "import json\n",
    "import os\n",
    "from dotenv import load_dotenv\n",
    "load_dotenv()\n",
    "import pandas as pd\n",
    "from pandas import json_normalize\n",
    "import numpy as np"
   ]
  },
  {
   "cell_type": "code",
   "execution_count": 2,
   "id": "8ce3aeeb",
   "metadata": {},
   "outputs": [],
   "source": [
    "keylast = os.getenv(\"keylast\")"
   ]
  },
  {
   "cell_type": "code",
   "execution_count": 3,
   "id": "5dd17d27",
   "metadata": {},
   "outputs": [],
   "source": [
    "l_user = 'sinatxester'"
   ]
  },
  {
   "cell_type": "markdown",
   "id": "eb897e59",
   "metadata": {},
   "source": [
    "# Conectar api lastfm: info usuarios"
   ]
  },
  {
   "cell_type": "code",
   "execution_count": 4,
   "id": "d66788e1",
   "metadata": {},
   "outputs": [],
   "source": [
    "url_user = f'http://ws.audioscrobbler.com/2.0/?method=user.getinfo&user={l_user}&api_key={keylast}&format=json'"
   ]
  },
  {
   "cell_type": "code",
   "execution_count": 5,
   "id": "9deb00d6",
   "metadata": {},
   "outputs": [],
   "source": [
    "req_user = requests.get(url_user).json()['user']"
   ]
  },
  {
   "cell_type": "code",
   "execution_count": 6,
   "id": "b0b79a26",
   "metadata": {},
   "outputs": [
    {
     "data": {
      "text/plain": [
       "{'country': 'Spain',\n",
       " 'age': '0',\n",
       " 'playcount': '77557',\n",
       " 'subscriber': '0',\n",
       " 'realname': 'Ester Sinatxe',\n",
       " 'playlists': '0',\n",
       " 'bootstrap': '0',\n",
       " 'image': [{'size': 'small',\n",
       "   '#text': 'https://lastfm.freetls.fastly.net/i/u/34s/daa41927775a61b3e4762c4a8eda80f3.png'},\n",
       "  {'size': 'medium',\n",
       "   '#text': 'https://lastfm.freetls.fastly.net/i/u/64s/daa41927775a61b3e4762c4a8eda80f3.png'},\n",
       "  {'size': 'large',\n",
       "   '#text': 'https://lastfm.freetls.fastly.net/i/u/174s/daa41927775a61b3e4762c4a8eda80f3.png'},\n",
       "  {'size': 'extralarge',\n",
       "   '#text': 'https://lastfm.freetls.fastly.net/i/u/300x300/daa41927775a61b3e4762c4a8eda80f3.png'}],\n",
       " 'registered': {'unixtime': '1420141064', '#text': 1420141064},\n",
       " 'url': 'https://www.last.fm/user/sinatxester',\n",
       " 'gender': 'n',\n",
       " 'name': 'sinatxester',\n",
       " 'type': 'user'}"
      ]
     },
     "execution_count": 6,
     "metadata": {},
     "output_type": "execute_result"
    }
   ],
   "source": [
    "req_user"
   ]
  },
  {
   "cell_type": "code",
   "execution_count": 7,
   "id": "2a0813b0",
   "metadata": {},
   "outputs": [
    {
     "data": {
      "text/plain": [
       "dict_keys(['country', 'age', 'playcount', 'subscriber', 'realname', 'playlists', 'bootstrap', 'image', 'registered', 'url', 'gender', 'name', 'type'])"
      ]
     },
     "execution_count": 7,
     "metadata": {},
     "output_type": "execute_result"
    }
   ],
   "source": [
    "req_user.keys()\n",
    "#nos quedaremos con country, playcount,realname, image[1] (medium), registered['unixtime'],url,gender, name, type\n",
    "#crearemos tabla en la base de datos de mysql con estos datos"
   ]
  },
  {
   "cell_type": "markdown",
   "id": "455937ae",
   "metadata": {},
   "source": [
    "### Friends del user para conseguir mas amigos"
   ]
  },
  {
   "cell_type": "code",
   "execution_count": 8,
   "id": "05e50fe1",
   "metadata": {},
   "outputs": [],
   "source": [
    "url_fri = f'http://ws.audioscrobbler.com/2.0/?method=user.getfriends&user={l_user}&api_key={keylast}&format=json'"
   ]
  },
  {
   "cell_type": "code",
   "execution_count": 9,
   "id": "9dcc20af",
   "metadata": {},
   "outputs": [],
   "source": [
    "req_fri = requests.get(url_fri).json()['friends']"
   ]
  },
  {
   "cell_type": "code",
   "execution_count": 10,
   "id": "84217429",
   "metadata": {},
   "outputs": [
    {
     "data": {
      "text/plain": [
       "dict_keys(['@attr', 'user'])"
      ]
     },
     "execution_count": 10,
     "metadata": {},
     "output_type": "execute_result"
    }
   ],
   "source": [
    "req_fri.keys()"
   ]
  },
  {
   "cell_type": "code",
   "execution_count": 11,
   "id": "61ff555e",
   "metadata": {},
   "outputs": [
    {
     "data": {
      "text/plain": [
       "dict_keys(['@attr', 'user'])"
      ]
     },
     "execution_count": 11,
     "metadata": {},
     "output_type": "execute_result"
    }
   ],
   "source": [
    "req_fri.keys()\n"
   ]
  },
  {
   "cell_type": "code",
   "execution_count": 12,
   "id": "1cccd00c",
   "metadata": {},
   "outputs": [
    {
     "data": {
      "text/plain": [
       "{'perPage': '50',\n",
       " 'totalPages': '1',\n",
       " 'page': '1',\n",
       " 'total': '10',\n",
       " 'user': 'sinatxester'}"
      ]
     },
     "execution_count": 12,
     "metadata": {},
     "output_type": "execute_result"
    }
   ],
   "source": [
    "req_fri['@attr']"
   ]
  },
  {
   "cell_type": "code",
   "execution_count": 13,
   "id": "cd762f85",
   "metadata": {},
   "outputs": [
    {
     "data": {
      "text/plain": [
       "{'name': 'Lumanet',\n",
       " 'url': 'https://www.last.fm/user/Lumanet',\n",
       " 'country': 'Spain',\n",
       " 'playlists': '0',\n",
       " 'playcount': '0',\n",
       " 'image': [{'size': 'small',\n",
       "   '#text': 'https://lastfm.freetls.fastly.net/i/u/34s/25602223397211f1f083955ebeacf803.png'},\n",
       "  {'size': 'medium',\n",
       "   '#text': 'https://lastfm.freetls.fastly.net/i/u/64s/25602223397211f1f083955ebeacf803.png'},\n",
       "  {'size': 'large',\n",
       "   '#text': 'https://lastfm.freetls.fastly.net/i/u/174s/25602223397211f1f083955ebeacf803.png'},\n",
       "  {'size': 'extralarge',\n",
       "   '#text': 'https://lastfm.freetls.fastly.net/i/u/300x300/25602223397211f1f083955ebeacf803.png'}],\n",
       " 'registered': {'unixtime': '1196844580', '#text': '2007-12-05 08:49'},\n",
       " 'realname': 'Marcos Robles',\n",
       " 'subscriber': '0',\n",
       " 'bootstrap': '0',\n",
       " 'type': 'user'}"
      ]
     },
     "execution_count": 13,
     "metadata": {},
     "output_type": "execute_result"
    }
   ],
   "source": [
    "req_fri['user'][0] #lista con todos los amiguismos"
   ]
  },
  {
   "cell_type": "code",
   "execution_count": 14,
   "id": "c9a0a2ee",
   "metadata": {},
   "outputs": [],
   "source": [
    "#para crear una tabla con los amigos, el nombre del usuario mismo es la primary key porque no se puede repetir.\n",
    "#bueno, primarykey será la unión de nombre user y el id del usuario concatenados\n",
    "# esta requests tiene paginación con limite... pero para lo que necesitamos no queremos más de 1 pag por usuario."
   ]
  },
  {
   "cell_type": "code",
   "execution_count": 15,
   "id": "0d472aac",
   "metadata": {},
   "outputs": [
    {
     "name": "stdout",
     "output_type": "stream",
     "text": [
      "dict_keys(['name', 'url', 'country', 'playlists', 'playcount', 'image', 'registered', 'realname', 'subscriber', 'bootstrap', 'type'])\n",
      "dict_keys(['name', 'url', 'country', 'playlists', 'playcount', 'image', 'registered', 'realname', 'subscriber', 'bootstrap', 'type'])\n",
      "dict_keys(['name', 'url', 'country', 'playlists', 'playcount', 'image', 'registered', 'realname', 'subscriber', 'bootstrap', 'type'])\n",
      "dict_keys(['name', 'url', 'country', 'playlists', 'playcount', 'image', 'registered', 'realname', 'subscriber', 'bootstrap', 'type'])\n",
      "dict_keys(['name', 'url', 'country', 'playlists', 'playcount', 'image', 'registered', 'realname', 'subscriber', 'bootstrap', 'type'])\n",
      "dict_keys(['name', 'url', 'country', 'playlists', 'playcount', 'image', 'registered', 'realname', 'subscriber', 'bootstrap', 'type'])\n",
      "dict_keys(['name', 'url', 'country', 'playlists', 'playcount', 'image', 'registered', 'realname', 'subscriber', 'bootstrap', 'type'])\n",
      "dict_keys(['name', 'url', 'country', 'playlists', 'playcount', 'image', 'registered', 'realname', 'subscriber', 'bootstrap', 'type'])\n",
      "dict_keys(['name', 'url', 'country', 'playlists', 'playcount', 'image', 'registered', 'realname', 'subscriber', 'bootstrap', 'type'])\n",
      "dict_keys(['name', 'url', 'country', 'playlists', 'playcount', 'image', 'registered', 'realname', 'subscriber', 'bootstrap', 'type'])\n"
     ]
    }
   ],
   "source": [
    "#iteramos por la lista de amiguismos para observar todas las keys de cada friend\n",
    "for fri in req_fri['user']:\n",
    "    print(fri.keys()) #son los datos de usuario que luego se pueden conseguir, por lo que nos quedmso solo con los \"name\""
   ]
  },
  {
   "cell_type": "code",
   "execution_count": 16,
   "id": "fab8d010",
   "metadata": {},
   "outputs": [],
   "source": [
    "lista_amigos=[]\n",
    "for fri in req_fri['user']:\n",
    "    lista_amigos.append(fri['name'].lower())"
   ]
  },
  {
   "cell_type": "code",
   "execution_count": 17,
   "id": "0f870062",
   "metadata": {},
   "outputs": [
    {
     "data": {
      "text/plain": [
       "['lumanet',\n",
       " 'trickywagon',\n",
       " 'crisnuka',\n",
       " 'ghan64',\n",
       " 'aiko4985',\n",
       " 'ljulycastro',\n",
       " 'rubendomfer',\n",
       " 'mister__moss',\n",
       " 'taneli1',\n",
       " 'avekaesar']"
      ]
     },
     "execution_count": 17,
     "metadata": {},
     "output_type": "execute_result"
    }
   ],
   "source": [
    "lista_amigos #para conseguir la infor iríamos iterando por esta lista y llamando a la api get.info de user"
   ]
  },
  {
   "cell_type": "code",
   "execution_count": 18,
   "id": "2a86bfa6",
   "metadata": {},
   "outputs": [],
   "source": [
    "# a la hora de insertarr la info de friends en mysql, primero comprobar si el usuario ya existe. (capitán obvio)"
   ]
  },
  {
   "cell_type": "markdown",
   "id": "9046cee3",
   "metadata": {},
   "source": [
    "## Conseguir los recenttracks"
   ]
  },
  {
   "cell_type": "code",
   "execution_count": 19,
   "id": "2074f33f",
   "metadata": {},
   "outputs": [],
   "source": [
    "url_track = f'http://ws.audioscrobbler.com/2.0/?method=user.getrecenttracks&user={l_user}&api_key={keylast}&limit=1000&format=json'"
   ]
  },
  {
   "cell_type": "code",
   "execution_count": 20,
   "id": "45fe4ada",
   "metadata": {},
   "outputs": [],
   "source": [
    "req_track = requests.get(url_track).json()['recenttracks']"
   ]
  },
  {
   "cell_type": "code",
   "execution_count": 21,
   "id": "a1fc4a99",
   "metadata": {},
   "outputs": [
    {
     "data": {
      "text/plain": [
       "dict_keys(['track', '@attr'])"
      ]
     },
     "execution_count": 21,
     "metadata": {},
     "output_type": "execute_result"
    }
   ],
   "source": [
    "req_track.keys()"
   ]
  },
  {
   "cell_type": "code",
   "execution_count": 22,
   "id": "8ae4d767",
   "metadata": {},
   "outputs": [
    {
     "data": {
      "text/plain": [
       "{'user': 'sinatxester',\n",
       " 'totalPages': '78',\n",
       " 'page': '1',\n",
       " 'total': '77557',\n",
       " 'perPage': '1000'}"
      ]
     },
     "execution_count": 22,
     "metadata": {},
     "output_type": "execute_result"
    }
   ],
   "source": [
    "req_track['@attr'] #aquí podemos observar la paginación... "
   ]
  },
  {
   "cell_type": "code",
   "execution_count": 23,
   "id": "f870ce24",
   "metadata": {},
   "outputs": [
    {
     "data": {
      "text/plain": [
       "{'artist': {'mbid': '', '#text': 'Quique González'},\n",
       " 'streamable': '0',\n",
       " 'image': [{'size': 'small',\n",
       "   '#text': 'https://lastfm.freetls.fastly.net/i/u/34s/2a96cbd8b46e442fc41c2b86b821562f.png'},\n",
       "  {'size': 'medium',\n",
       "   '#text': 'https://lastfm.freetls.fastly.net/i/u/64s/2a96cbd8b46e442fc41c2b86b821562f.png'},\n",
       "  {'size': 'large',\n",
       "   '#text': 'https://lastfm.freetls.fastly.net/i/u/174s/2a96cbd8b46e442fc41c2b86b821562f.png'},\n",
       "  {'size': 'extralarge',\n",
       "   '#text': 'https://lastfm.freetls.fastly.net/i/u/300x300/2a96cbd8b46e442fc41c2b86b821562f.png'}],\n",
       " 'mbid': '',\n",
       " 'album': {'mbid': '', '#text': 'La Noche Americana'},\n",
       " 'name': 'Se equivocaban contigo',\n",
       " 'url': 'https://www.last.fm/music/Quique+Gonz%C3%A1lez/_/Se+equivocaban+contigo',\n",
       " 'date': {'uts': '1651064362', '#text': '27 Apr 2022, 12:59'}}"
      ]
     },
     "execution_count": 23,
     "metadata": {},
     "output_type": "execute_result"
    }
   ],
   "source": [
    "req_track['track'][0] #puede que el primer elemento sea #nowplaying!! cuidaó con esto \n",
    "# el nowplaying está en todas las páginas "
   ]
  },
  {
   "cell_type": "code",
   "execution_count": 24,
   "id": "b7c1c7ba",
   "metadata": {},
   "outputs": [
    {
     "data": {
      "text/plain": [
       "dict_keys(['artist', 'streamable', 'image', 'mbid', 'album', 'name', 'url', 'date'])"
      ]
     },
     "execution_count": 24,
     "metadata": {},
     "output_type": "execute_result"
    }
   ],
   "source": [
    "req_track['track'][1].keys()"
   ]
  },
  {
   "cell_type": "code",
   "execution_count": 25,
   "id": "c257bfac",
   "metadata": {},
   "outputs": [
    {
     "data": {
      "text/plain": [
       "{'artist': {'mbid': '27e948aa-6b38-4da2-acf6-8459964a130a',\n",
       "  '#text': 'Quique González'},\n",
       " 'streamable': '0',\n",
       " 'image': [{'size': 'small',\n",
       "   '#text': 'https://lastfm.freetls.fastly.net/i/u/34s/2a96cbd8b46e442fc41c2b86b821562f.png'},\n",
       "  {'size': 'medium',\n",
       "   '#text': 'https://lastfm.freetls.fastly.net/i/u/64s/2a96cbd8b46e442fc41c2b86b821562f.png'},\n",
       "  {'size': 'large',\n",
       "   '#text': 'https://lastfm.freetls.fastly.net/i/u/174s/2a96cbd8b46e442fc41c2b86b821562f.png'},\n",
       "  {'size': 'extralarge',\n",
       "   '#text': 'https://lastfm.freetls.fastly.net/i/u/300x300/2a96cbd8b46e442fc41c2b86b821562f.png'}],\n",
       " 'mbid': '',\n",
       " 'album': {'mbid': '', '#text': 'La Noche Americana'},\n",
       " 'name': 'Nunca escaparán',\n",
       " 'url': 'https://www.last.fm/music/Quique+Gonz%C3%A1lez/_/Nunca+escapar%C3%A1n',\n",
       " 'date': {'uts': '1651064248', '#text': '27 Apr 2022, 12:57'}}"
      ]
     },
     "execution_count": 25,
     "metadata": {},
     "output_type": "execute_result"
    }
   ],
   "source": [
    "req_track['track'][1] #nos vamos a quedar solo con una serie de información\n",
    "#artist: dic (Ambos)\n",
    "#mbid: si no hay da igual, es el mbid del tema (musicbrainz)\n",
    "#album dic (ambos)\n",
    "#name \n",
    "# url\n",
    "#date: dic. nos quedamos solo con uts (También tenemos hecha ya una función que nos da el uts)"
   ]
  },
  {
   "cell_type": "markdown",
   "id": "08a858c1",
   "metadata": {},
   "source": [
    "# conseguir info de artista\n",
    "- una vez que tenemos el nombre y el mbid podemos ir al endpoint del artista\n",
    "- también con mbid podemos sacar infor del artista de la api de musicbrainz"
   ]
  },
  {
   "cell_type": "markdown",
   "id": "b54bba41",
   "metadata": {},
   "source": [
    "### endpoint lastfm"
   ]
  },
  {
   "cell_type": "code",
   "execution_count": 49,
   "id": "35123184",
   "metadata": {},
   "outputs": [
    {
     "data": {
      "text/plain": [
       "('Quique González', '27e948aa-6b38-4da2-acf6-8459964a130a')"
      ]
     },
     "execution_count": 49,
     "metadata": {},
     "output_type": "execute_result"
    }
   ],
   "source": [
    "artista = req_track['track'][1]['artist']['#text']\n",
    "art_mbid = req_track['track'][1]['artist']['mbid']\n",
    "artista,art_mbid"
   ]
  },
  {
   "cell_type": "code",
   "execution_count": 27,
   "id": "9803d7dc",
   "metadata": {},
   "outputs": [],
   "source": [
    "url_art = f'http://ws.audioscrobbler.com/2.0/?method=artist.getinfo&artist={artista}&api_key={keylast}&format=json'"
   ]
  },
  {
   "cell_type": "code",
   "execution_count": 28,
   "id": "be4a8ae3",
   "metadata": {},
   "outputs": [],
   "source": [
    "req_art = requests.get(url_art).json()['artist']"
   ]
  },
  {
   "cell_type": "code",
   "execution_count": 29,
   "id": "3ba4b3d7",
   "metadata": {},
   "outputs": [
    {
     "data": {
      "text/plain": [
       "{'name': 'Quique González',\n",
       " 'mbid': '27e948aa-6b38-4da2-acf6-8459964a130a',\n",
       " 'url': 'https://www.last.fm/music/+noredirect/Quique+Gonz%C3%A1lez',\n",
       " 'image': [{'#text': 'https://lastfm.freetls.fastly.net/i/u/34s/2a96cbd8b46e442fc41c2b86b821562f.png',\n",
       "   'size': 'small'},\n",
       "  {'#text': 'https://lastfm.freetls.fastly.net/i/u/64s/2a96cbd8b46e442fc41c2b86b821562f.png',\n",
       "   'size': 'medium'},\n",
       "  {'#text': 'https://lastfm.freetls.fastly.net/i/u/174s/2a96cbd8b46e442fc41c2b86b821562f.png',\n",
       "   'size': 'large'},\n",
       "  {'#text': 'https://lastfm.freetls.fastly.net/i/u/300x300/2a96cbd8b46e442fc41c2b86b821562f.png',\n",
       "   'size': 'extralarge'},\n",
       "  {'#text': 'https://lastfm.freetls.fastly.net/i/u/300x300/2a96cbd8b46e442fc41c2b86b821562f.png',\n",
       "   'size': 'mega'},\n",
       "  {'#text': 'https://lastfm.freetls.fastly.net/i/u/300x300/2a96cbd8b46e442fc41c2b86b821562f.png',\n",
       "   'size': ''}],\n",
       " 'streamable': '0',\n",
       " 'ontour': '0',\n",
       " 'stats': {'listeners': '83319', 'playcount': '2485023'},\n",
       " 'similar': {'artist': [{'name': 'Ismael Serrano',\n",
       "    'url': 'https://www.last.fm/music/Ismael+Serrano',\n",
       "    'image': [{'#text': 'https://lastfm.freetls.fastly.net/i/u/34s/2a96cbd8b46e442fc41c2b86b821562f.png',\n",
       "      'size': 'small'},\n",
       "     {'#text': 'https://lastfm.freetls.fastly.net/i/u/64s/2a96cbd8b46e442fc41c2b86b821562f.png',\n",
       "      'size': 'medium'},\n",
       "     {'#text': 'https://lastfm.freetls.fastly.net/i/u/174s/2a96cbd8b46e442fc41c2b86b821562f.png',\n",
       "      'size': 'large'},\n",
       "     {'#text': 'https://lastfm.freetls.fastly.net/i/u/300x300/2a96cbd8b46e442fc41c2b86b821562f.png',\n",
       "      'size': 'extralarge'},\n",
       "     {'#text': 'https://lastfm.freetls.fastly.net/i/u/300x300/2a96cbd8b46e442fc41c2b86b821562f.png',\n",
       "      'size': 'mega'},\n",
       "     {'#text': 'https://lastfm.freetls.fastly.net/i/u/300x300/2a96cbd8b46e442fc41c2b86b821562f.png',\n",
       "      'size': ''}]},\n",
       "   {'name': 'Antonio Vega',\n",
       "    'url': 'https://www.last.fm/music/Antonio+Vega',\n",
       "    'image': [{'#text': 'https://lastfm.freetls.fastly.net/i/u/34s/2a96cbd8b46e442fc41c2b86b821562f.png',\n",
       "      'size': 'small'},\n",
       "     {'#text': 'https://lastfm.freetls.fastly.net/i/u/64s/2a96cbd8b46e442fc41c2b86b821562f.png',\n",
       "      'size': 'medium'},\n",
       "     {'#text': 'https://lastfm.freetls.fastly.net/i/u/174s/2a96cbd8b46e442fc41c2b86b821562f.png',\n",
       "      'size': 'large'},\n",
       "     {'#text': 'https://lastfm.freetls.fastly.net/i/u/300x300/2a96cbd8b46e442fc41c2b86b821562f.png',\n",
       "      'size': 'extralarge'},\n",
       "     {'#text': 'https://lastfm.freetls.fastly.net/i/u/300x300/2a96cbd8b46e442fc41c2b86b821562f.png',\n",
       "      'size': 'mega'},\n",
       "     {'#text': 'https://lastfm.freetls.fastly.net/i/u/300x300/2a96cbd8b46e442fc41c2b86b821562f.png',\n",
       "      'size': ''}]},\n",
       "   {'name': 'Mikel Erentxun',\n",
       "    'url': 'https://www.last.fm/music/Mikel+Erentxun',\n",
       "    'image': [{'#text': 'https://lastfm.freetls.fastly.net/i/u/34s/2a96cbd8b46e442fc41c2b86b821562f.png',\n",
       "      'size': 'small'},\n",
       "     {'#text': 'https://lastfm.freetls.fastly.net/i/u/64s/2a96cbd8b46e442fc41c2b86b821562f.png',\n",
       "      'size': 'medium'},\n",
       "     {'#text': 'https://lastfm.freetls.fastly.net/i/u/174s/2a96cbd8b46e442fc41c2b86b821562f.png',\n",
       "      'size': 'large'},\n",
       "     {'#text': 'https://lastfm.freetls.fastly.net/i/u/300x300/2a96cbd8b46e442fc41c2b86b821562f.png',\n",
       "      'size': 'extralarge'},\n",
       "     {'#text': 'https://lastfm.freetls.fastly.net/i/u/300x300/2a96cbd8b46e442fc41c2b86b821562f.png',\n",
       "      'size': 'mega'},\n",
       "     {'#text': 'https://lastfm.freetls.fastly.net/i/u/300x300/2a96cbd8b46e442fc41c2b86b821562f.png',\n",
       "      'size': ''}]},\n",
       "   {'name': 'Iván Ferreiro',\n",
       "    'url': 'https://www.last.fm/music/Iv%C3%A1n+Ferreiro',\n",
       "    'image': [{'#text': 'https://lastfm.freetls.fastly.net/i/u/34s/2a96cbd8b46e442fc41c2b86b821562f.png',\n",
       "      'size': 'small'},\n",
       "     {'#text': 'https://lastfm.freetls.fastly.net/i/u/64s/2a96cbd8b46e442fc41c2b86b821562f.png',\n",
       "      'size': 'medium'},\n",
       "     {'#text': 'https://lastfm.freetls.fastly.net/i/u/174s/2a96cbd8b46e442fc41c2b86b821562f.png',\n",
       "      'size': 'large'},\n",
       "     {'#text': 'https://lastfm.freetls.fastly.net/i/u/300x300/2a96cbd8b46e442fc41c2b86b821562f.png',\n",
       "      'size': 'extralarge'},\n",
       "     {'#text': 'https://lastfm.freetls.fastly.net/i/u/300x300/2a96cbd8b46e442fc41c2b86b821562f.png',\n",
       "      'size': 'mega'},\n",
       "     {'#text': 'https://lastfm.freetls.fastly.net/i/u/300x300/2a96cbd8b46e442fc41c2b86b821562f.png',\n",
       "      'size': ''}]},\n",
       "   {'name': 'Vetusta Morla',\n",
       "    'url': 'https://www.last.fm/music/Vetusta+Morla',\n",
       "    'image': [{'#text': 'https://lastfm.freetls.fastly.net/i/u/34s/2a96cbd8b46e442fc41c2b86b821562f.png',\n",
       "      'size': 'small'},\n",
       "     {'#text': 'https://lastfm.freetls.fastly.net/i/u/64s/2a96cbd8b46e442fc41c2b86b821562f.png',\n",
       "      'size': 'medium'},\n",
       "     {'#text': 'https://lastfm.freetls.fastly.net/i/u/174s/2a96cbd8b46e442fc41c2b86b821562f.png',\n",
       "      'size': 'large'},\n",
       "     {'#text': 'https://lastfm.freetls.fastly.net/i/u/300x300/2a96cbd8b46e442fc41c2b86b821562f.png',\n",
       "      'size': 'extralarge'},\n",
       "     {'#text': 'https://lastfm.freetls.fastly.net/i/u/300x300/2a96cbd8b46e442fc41c2b86b821562f.png',\n",
       "      'size': 'mega'},\n",
       "     {'#text': 'https://lastfm.freetls.fastly.net/i/u/300x300/2a96cbd8b46e442fc41c2b86b821562f.png',\n",
       "      'size': ''}]}]},\n",
       " 'tags': {'tag': [{'name': 'cantautor',\n",
       "    'url': 'https://www.last.fm/tag/cantautor'},\n",
       "   {'name': 'spanish', 'url': 'https://www.last.fm/tag/spanish'},\n",
       "   {'name': 'singer-songwriter',\n",
       "    'url': 'https://www.last.fm/tag/singer-songwriter'},\n",
       "   {'name': 'rock', 'url': 'https://www.last.fm/tag/rock'},\n",
       "   {'name': 'pop', 'url': 'https://www.last.fm/tag/pop'}]},\n",
       " 'bio': {'links': {'link': {'#text': '',\n",
       "    'rel': 'original',\n",
       "    'href': 'https://last.fm/music/+noredirect/Quique+Gonz%C3%A1lez/+wiki'}},\n",
       "  'published': '13 Feb 2007, 17:57',\n",
       "  'summary': 'Quique González is a Spanish singer-songwriter in the style of Enrique Urquijo and Antonio Vega from the previous generation of the eighties pop-rock. Acoustic Guitars and rock-folk arrangements embrace his sincere and melancolic lyrics. \"Ajuste de Cuentas\" is his sixth album, a live compilation of his work with some new songs added. <a href=\"https://www.last.fm/music/+noredirect/Quique+Gonz%C3%A1lez\">Read more on Last.fm</a>',\n",
       "  'content': 'Quique González is a Spanish singer-songwriter in the style of Enrique Urquijo and Antonio Vega from the previous generation of the eighties pop-rock. Acoustic Guitars and rock-folk arrangements embrace his sincere and melancolic lyrics. \"Ajuste de Cuentas\" is his sixth album, a live compilation of his work with some new songs added. <a href=\"https://www.last.fm/music/+noredirect/Quique+Gonz%C3%A1lez\">Read more on Last.fm</a>. User-contributed text is available under the Creative Commons By-SA License; additional terms may apply.'}}"
      ]
     },
     "execution_count": 29,
     "metadata": {},
     "output_type": "execute_result"
    }
   ],
   "source": [
    "req_art\n",
    "# las imágenes parece que son todas la estrellita... ¿cómo descargarse la imagen real?\n",
    " # para conseguir la imagen hay que recurrir a otras bases de datos como la api de musicbrainz\n"
   ]
  },
  {
   "cell_type": "code",
   "execution_count": 30,
   "id": "4eefe93b",
   "metadata": {},
   "outputs": [
    {
     "data": {
      "text/plain": [
       "dict_keys(['name', 'mbid', 'url', 'image', 'streamable', 'ontour', 'stats', 'similar', 'tags', 'bio'])"
      ]
     },
     "execution_count": 30,
     "metadata": {},
     "output_type": "execute_result"
    }
   ],
   "source": [
    "req_art.keys()"
   ]
  },
  {
   "cell_type": "code",
   "execution_count": 31,
   "id": "0168d906",
   "metadata": {},
   "outputs": [],
   "source": [
    "# nos vamos a quedar con la sig info\n",
    "#name, mbid, url, #stats(listeners+playcount)\n",
    "# puede que nos quedemos también con similar y tags."
   ]
  },
  {
   "cell_type": "markdown",
   "id": "999a92ac",
   "metadata": {},
   "source": [
    "### get.tag del artista en cuestión"
   ]
  },
  {
   "cell_type": "code",
   "execution_count": 32,
   "id": "5e75676d",
   "metadata": {},
   "outputs": [
    {
     "data": {
      "text/plain": [
       "{'tag': [{'name': 'cantautor', 'url': 'https://www.last.fm/tag/cantautor'},\n",
       "  {'name': 'spanish', 'url': 'https://www.last.fm/tag/spanish'},\n",
       "  {'name': 'singer-songwriter',\n",
       "   'url': 'https://www.last.fm/tag/singer-songwriter'},\n",
       "  {'name': 'rock', 'url': 'https://www.last.fm/tag/rock'},\n",
       "  {'name': 'pop', 'url': 'https://www.last.fm/tag/pop'}]}"
      ]
     },
     "execution_count": 32,
     "metadata": {},
     "output_type": "execute_result"
    }
   ],
   "source": [
    "req_art['tags'] #info artista"
   ]
  },
  {
   "cell_type": "code",
   "execution_count": 33,
   "id": "1672451b",
   "metadata": {},
   "outputs": [],
   "source": [
    "url_art_tag = f'http://ws.audioscrobbler.com/2.0/?method=artist.gettoptags&artist={artista}&api_key={keylast}&format=json'"
   ]
  },
  {
   "cell_type": "code",
   "execution_count": 34,
   "id": "d2749663",
   "metadata": {},
   "outputs": [],
   "source": [
    "req_art_tag = requests.get(url_art_tag).json()['toptags']"
   ]
  },
  {
   "cell_type": "code",
   "execution_count": 35,
   "id": "4e185a9d",
   "metadata": {},
   "outputs": [
    {
     "data": {
      "text/plain": [
       "dict_keys(['tag', '@attr'])"
      ]
     },
     "execution_count": 35,
     "metadata": {},
     "output_type": "execute_result"
    }
   ],
   "source": [
    "req_art_tag.keys()"
   ]
  },
  {
   "cell_type": "code",
   "execution_count": 36,
   "id": "a0a153ad",
   "metadata": {},
   "outputs": [
    {
     "data": {
      "text/plain": [
       "{'artist': 'Quique González'}"
      ]
     },
     "execution_count": 36,
     "metadata": {},
     "output_type": "execute_result"
    }
   ],
   "source": [
    "req_art_tag['@attr']"
   ]
  },
  {
   "cell_type": "code",
   "execution_count": 37,
   "id": "b5be04b8",
   "metadata": {},
   "outputs": [
    {
     "data": {
      "text/plain": [
       "{'count': 100, 'name': 'cantautor', 'url': 'https://www.last.fm/tag/cantautor'}"
      ]
     },
     "execution_count": 37,
     "metadata": {},
     "output_type": "execute_result"
    }
   ],
   "source": [
    "req_art_tag['tag'][0] #lista\n",
    "#cada elemento de la lista es un diccioanrio con count,name y url de keys"
   ]
  },
  {
   "cell_type": "code",
   "execution_count": 38,
   "id": "b9a09a8a",
   "metadata": {},
   "outputs": [
    {
     "name": "stdout",
     "output_type": "stream",
     "text": [
      "100 cantautor\n",
      "91 spanish\n",
      "91 singer-songwriter\n",
      "89 rock\n",
      "54 pop\n",
      "10 indie\n",
      "7 seen live\n",
      "7 folk\n",
      "7 Spanish Rock\n",
      "7 Cantautores\n",
      "7 cancion de autor\n",
      "7 quique gonzalez\n",
      "5 classic rock\n",
      "5 country\n",
      "5 alternative\n",
      "5 folk-rock\n",
      "5 spain\n",
      "5 español\n",
      "5 male vocalists\n",
      "5 spanish pop\n",
      "5 Madrid\n",
      "3 jazz\n",
      "3 Grunge\n",
      "3 pop rock\n",
      "3 country-rock\n",
      "3 britpop\n",
      "3 latin\n",
      "3 blues\n",
      "3 singer\n",
      "3 Alt-country\n",
      "3 folk rock\n",
      "3 latino\n",
      "3 Alternative Folk\n",
      "3 Rock en Espanol\n",
      "3 Pop-Rock\n",
      "3 latin pop\n",
      "3 spanish indie pop\n",
      "3 Espana\n",
      "3 franz ferdinand\n",
      "3 Bob Dylan\n",
      "3 All\n",
      "3 my music\n",
      "3 lentas\n",
      "3 Dylan\n",
      "3 genial\n",
      "3 spanish indie\n",
      "3 mediterranean rock\n",
      "3 Spanish Pop Rock\n",
      "3 Bunbury\n",
      "3 canalla\n",
      "3 patxungo\n",
      "3 vorgemerkt\n",
      "3 acustica\n",
      "3 to listen for jan\n",
      "3 que genio\n",
      "3 la vida tiene otro sabor y espanya es la mejor\n",
      "3 para conocer\n",
      "3 spanish rock-pop\n",
      "3 pablo sciuto\n",
      "3 bilbao live 2008\n",
      "3 chanson espagnole\n",
      "3 Qduique Gonzalez\n"
     ]
    }
   ],
   "source": [
    "for arttag in req_art_tag['tag']: \n",
    "    print(arttag['count'], arttag['name'])"
   ]
  },
  {
   "cell_type": "markdown",
   "id": "3ca8ea1b",
   "metadata": {},
   "source": [
    "## Búsqueda de artista. Resultados"
   ]
  },
  {
   "cell_type": "code",
   "execution_count": 39,
   "id": "f20a686b",
   "metadata": {},
   "outputs": [],
   "source": [
    "url_art_bus = f'http://ws.audioscrobbler.com/2.0/?method=artist.search&artist={artista}&api_key={keylast}&format=json'"
   ]
  },
  {
   "cell_type": "code",
   "execution_count": 40,
   "id": "67108faa",
   "metadata": {},
   "outputs": [],
   "source": [
    "req_art_bus = requests.get(url_art_bus).json()['results']"
   ]
  },
  {
   "cell_type": "code",
   "execution_count": 41,
   "id": "4effca30",
   "metadata": {},
   "outputs": [
    {
     "data": {
      "text/plain": [
       "{'opensearch:Query': {'#text': '',\n",
       "  'role': 'request',\n",
       "  'searchTerms': 'Quique González',\n",
       "  'startPage': '1'},\n",
       " 'opensearch:totalResults': '380',\n",
       " 'opensearch:startIndex': '0',\n",
       " 'opensearch:itemsPerPage': '30',\n",
       " 'artistmatches': {'artist': [{'name': 'Quique González',\n",
       "    'listeners': '83319',\n",
       "    'mbid': '27e948aa-6b38-4da2-acf6-8459964a130a',\n",
       "    'url': 'https://www.last.fm/music/Quique+Gonz%C3%A1lez',\n",
       "    'streamable': '0',\n",
       "    'image': [{'#text': 'https://lastfm.freetls.fastly.net/i/u/34s/2a96cbd8b46e442fc41c2b86b821562f.png',\n",
       "      'size': 'small'},\n",
       "     {'#text': 'https://lastfm.freetls.fastly.net/i/u/64s/2a96cbd8b46e442fc41c2b86b821562f.png',\n",
       "      'size': 'medium'},\n",
       "     {'#text': 'https://lastfm.freetls.fastly.net/i/u/174s/2a96cbd8b46e442fc41c2b86b821562f.png',\n",
       "      'size': 'large'},\n",
       "     {'#text': 'https://lastfm.freetls.fastly.net/i/u/300x300/2a96cbd8b46e442fc41c2b86b821562f.png',\n",
       "      'size': 'extralarge'},\n",
       "     {'#text': 'https://lastfm.freetls.fastly.net/i/u/300x300/2a96cbd8b46e442fc41c2b86b821562f.png',\n",
       "      'size': 'mega'}]},\n",
       "   {'name': 'Quique González & Los Detectives',\n",
       "    'listeners': '67',\n",
       "    'mbid': '',\n",
       "    'url': 'https://www.last.fm/music/Quique+Gonz%C3%A1lez+&+Los+Detectives',\n",
       "    'streamable': '0',\n",
       "    'image': [{'#text': '', 'size': 'small'},\n",
       "     {'#text': '', 'size': 'medium'},\n",
       "     {'#text': '', 'size': 'large'},\n",
       "     {'#text': '', 'size': 'extralarge'},\n",
       "     {'#text': '', 'size': 'mega'}]},\n",
       "   {'name': 'Quique González & La Aristocracia del Barrio',\n",
       "    'listeners': '47',\n",
       "    'mbid': '',\n",
       "    'url': 'https://www.last.fm/music/Quique+Gonz%C3%A1lez+&+La+Aristocracia+del+Barrio',\n",
       "    'streamable': '0',\n",
       "    'image': [{'#text': 'https://lastfm.freetls.fastly.net/i/u/34s/2a96cbd8b46e442fc41c2b86b821562f.png',\n",
       "      'size': 'small'},\n",
       "     {'#text': 'https://lastfm.freetls.fastly.net/i/u/64s/2a96cbd8b46e442fc41c2b86b821562f.png',\n",
       "      'size': 'medium'},\n",
       "     {'#text': 'https://lastfm.freetls.fastly.net/i/u/174s/2a96cbd8b46e442fc41c2b86b821562f.png',\n",
       "      'size': 'large'},\n",
       "     {'#text': 'https://lastfm.freetls.fastly.net/i/u/300x300/2a96cbd8b46e442fc41c2b86b821562f.png',\n",
       "      'size': 'extralarge'},\n",
       "     {'#text': 'https://lastfm.freetls.fastly.net/i/u/300x300/2a96cbd8b46e442fc41c2b86b821562f.png',\n",
       "      'size': 'mega'}]},\n",
       "   {'name': 'Quique González y Rebeca Jiménez',\n",
       "    'listeners': '127',\n",
       "    'mbid': '',\n",
       "    'url': 'https://www.last.fm/music/Quique+Gonz%C3%A1lez+y+Rebeca+Jim%C3%A9nez',\n",
       "    'streamable': '0',\n",
       "    'image': [{'#text': 'https://lastfm.freetls.fastly.net/i/u/34s/2a96cbd8b46e442fc41c2b86b821562f.png',\n",
       "      'size': 'small'},\n",
       "     {'#text': 'https://lastfm.freetls.fastly.net/i/u/64s/2a96cbd8b46e442fc41c2b86b821562f.png',\n",
       "      'size': 'medium'},\n",
       "     {'#text': 'https://lastfm.freetls.fastly.net/i/u/174s/2a96cbd8b46e442fc41c2b86b821562f.png',\n",
       "      'size': 'large'},\n",
       "     {'#text': 'https://lastfm.freetls.fastly.net/i/u/300x300/2a96cbd8b46e442fc41c2b86b821562f.png',\n",
       "      'size': 'extralarge'},\n",
       "     {'#text': 'https://lastfm.freetls.fastly.net/i/u/300x300/2a96cbd8b46e442fc41c2b86b821562f.png',\n",
       "      'size': 'mega'}]},\n",
       "   {'name': 'Quique González y La Aristocracia Del Barrio',\n",
       "    'listeners': '5',\n",
       "    'mbid': '',\n",
       "    'url': 'https://www.last.fm/music/Quique+Gonz%C3%A1lez+y+La+Aristocracia+Del+Barrio',\n",
       "    'streamable': '0',\n",
       "    'image': [{'#text': '', 'size': 'small'},\n",
       "     {'#text': '', 'size': 'medium'},\n",
       "     {'#text': '', 'size': 'large'},\n",
       "     {'#text': '', 'size': 'extralarge'},\n",
       "     {'#text': '', 'size': 'mega'}]},\n",
       "   {'name': 'Quique González (Unplugged)',\n",
       "    'listeners': '135',\n",
       "    'mbid': '',\n",
       "    'url': 'https://www.last.fm/music/Quique+Gonz%C3%A1lez+(Unplugged)',\n",
       "    'streamable': '0',\n",
       "    'image': [{'#text': '', 'size': 'small'},\n",
       "     {'#text': '', 'size': 'medium'},\n",
       "     {'#text': '', 'size': 'large'},\n",
       "     {'#text': '', 'size': 'extralarge'},\n",
       "     {'#text': '', 'size': 'mega'}]},\n",
       "   {'name': 'Quique González (España)',\n",
       "    'listeners': '2',\n",
       "    'mbid': '',\n",
       "    'url': 'https://www.last.fm/music/Quique+Gonz%C3%A1lez+(Espa%C3%B1a)',\n",
       "    'streamable': '0',\n",
       "    'image': [{'#text': '', 'size': 'small'},\n",
       "     {'#text': '', 'size': 'medium'},\n",
       "     {'#text': '', 'size': 'large'},\n",
       "     {'#text': '', 'size': 'extralarge'},\n",
       "     {'#text': '', 'size': 'mega'}]},\n",
       "   {'name': 'Quique González & Los Taxidrivers',\n",
       "    'listeners': '113',\n",
       "    'mbid': '',\n",
       "    'url': 'https://www.last.fm/music/Quique+Gonz%C3%A1lez+&+Los+Taxidrivers',\n",
       "    'streamable': '0',\n",
       "    'image': [{'#text': '', 'size': 'small'},\n",
       "     {'#text': '', 'size': 'medium'},\n",
       "     {'#text': '', 'size': 'large'},\n",
       "     {'#text': '', 'size': 'extralarge'},\n",
       "     {'#text': '', 'size': 'mega'}]},\n",
       "   {'name': 'Pereza con Quique González',\n",
       "    'listeners': '108',\n",
       "    'mbid': '',\n",
       "    'url': 'https://www.last.fm/music/Pereza+con+Quique+Gonz%C3%A1lez',\n",
       "    'streamable': '0',\n",
       "    'image': [{'#text': '', 'size': 'small'},\n",
       "     {'#text': '', 'size': 'medium'},\n",
       "     {'#text': '', 'size': 'large'},\n",
       "     {'#text': '', 'size': 'extralarge'},\n",
       "     {'#text': '', 'size': 'mega'}]},\n",
       "   {'name': 'Quique González, Iván Ferreiro',\n",
       "    'listeners': '28',\n",
       "    'mbid': '',\n",
       "    'url': 'https://www.last.fm/music/Quique+Gonz%C3%A1lez,+Iv%C3%A1n+Ferreiro',\n",
       "    'streamable': '0',\n",
       "    'image': [{'#text': '', 'size': 'small'},\n",
       "     {'#text': '', 'size': 'medium'},\n",
       "     {'#text': '', 'size': 'large'},\n",
       "     {'#text': '', 'size': 'extralarge'},\n",
       "     {'#text': '', 'size': 'mega'}]},\n",
       "   {'name': 'Quique González y Rebeca Jimenez',\n",
       "    'listeners': '26',\n",
       "    'mbid': '',\n",
       "    'url': 'https://www.last.fm/music/Quique+Gonz%C3%A1lez+y+Rebeca+Jimenez',\n",
       "    'streamable': '0',\n",
       "    'image': [{'#text': '', 'size': 'small'},\n",
       "     {'#text': '', 'size': 'medium'},\n",
       "     {'#text': '', 'size': 'large'},\n",
       "     {'#text': '', 'size': 'extralarge'},\n",
       "     {'#text': '', 'size': 'mega'}]},\n",
       "   {'name': 'Quique González con Iván Ferreiro',\n",
       "    'listeners': '23',\n",
       "    'mbid': '27e948aa-6b38-4da2-acf6-8459964a130a',\n",
       "    'url': 'https://www.last.fm/music/Quique+Gonz%C3%A1lez+con+Iv%C3%A1n+Ferreiro',\n",
       "    'streamable': '0',\n",
       "    'image': [{'#text': '', 'size': 'small'},\n",
       "     {'#text': '', 'size': 'medium'},\n",
       "     {'#text': '', 'size': 'large'},\n",
       "     {'#text': '', 'size': 'extralarge'},\n",
       "     {'#text': '', 'size': 'mega'}]},\n",
       "   {'name': 'Pereza/Quique González',\n",
       "    'listeners': '12',\n",
       "    'mbid': '',\n",
       "    'url': 'https://www.last.fm/music/Pereza%2FQuique+Gonz%C3%A1lez',\n",
       "    'streamable': '0',\n",
       "    'image': [{'#text': '', 'size': 'small'},\n",
       "     {'#text': '', 'size': 'medium'},\n",
       "     {'#text': '', 'size': 'large'},\n",
       "     {'#text': '', 'size': 'extralarge'},\n",
       "     {'#text': '', 'size': 'mega'}]},\n",
       "   {'name': 'Leiva & Quique González',\n",
       "    'listeners': '40',\n",
       "    'mbid': '2e846d8d-b801-445f-aec2-3934ad843905',\n",
       "    'url': 'https://www.last.fm/music/Leiva+&+Quique+Gonz%C3%A1lez',\n",
       "    'streamable': '0',\n",
       "    'image': [{'#text': '', 'size': 'small'},\n",
       "     {'#text': '', 'size': 'medium'},\n",
       "     {'#text': '', 'size': 'large'},\n",
       "     {'#text': '', 'size': 'extralarge'},\n",
       "     {'#text': '', 'size': 'mega'}]},\n",
       "   {'name': 'Fabián, Quique González',\n",
       "    'listeners': '25',\n",
       "    'mbid': '',\n",
       "    'url': 'https://www.last.fm/music/Fabi%C3%A1n,+Quique+Gonz%C3%A1lez',\n",
       "    'streamable': '0',\n",
       "    'image': [{'#text': '', 'size': 'small'},\n",
       "     {'#text': '', 'size': 'medium'},\n",
       "     {'#text': '', 'size': 'large'},\n",
       "     {'#text': '', 'size': 'extralarge'},\n",
       "     {'#text': '', 'size': 'mega'}]},\n",
       "   {'name': 'Quique González & Iván Ferreiro',\n",
       "    'listeners': '22',\n",
       "    'mbid': '27e948aa-6b38-4da2-acf6-8459964a130a',\n",
       "    'url': 'https://www.last.fm/music/Quique+Gonz%C3%A1lez+&+Iv%C3%A1n+Ferreiro',\n",
       "    'streamable': '0',\n",
       "    'image': [{'#text': '', 'size': 'small'},\n",
       "     {'#text': '', 'size': 'medium'},\n",
       "     {'#text': '', 'size': 'large'},\n",
       "     {'#text': '', 'size': 'extralarge'},\n",
       "     {'#text': '', 'size': 'mega'}]},\n",
       "   {'name': 'Quique González y Jorge Drexler',\n",
       "    'listeners': '14',\n",
       "    'mbid': '',\n",
       "    'url': 'https://www.last.fm/music/Quique+Gonz%C3%A1lez+y+Jorge+Drexler',\n",
       "    'streamable': '0',\n",
       "    'image': [{'#text': '', 'size': 'small'},\n",
       "     {'#text': '', 'size': 'medium'},\n",
       "     {'#text': '', 'size': 'large'},\n",
       "     {'#text': '', 'size': 'extralarge'},\n",
       "     {'#text': '', 'size': 'mega'}]},\n",
       "   {'name': 'Quique González/Quique Gonzalez - [EMG]',\n",
       "    'listeners': '1',\n",
       "    'mbid': '',\n",
       "    'url': 'https://www.last.fm/music/Quique+Gonz%C3%A1lez%2FQuique+Gonzalez+-+%5BEMG%5D',\n",
       "    'streamable': '0',\n",
       "    'image': [{'#text': '', 'size': 'small'},\n",
       "     {'#text': '', 'size': 'medium'},\n",
       "     {'#text': '', 'size': 'large'},\n",
       "     {'#text': '', 'size': 'extralarge'},\n",
       "     {'#text': '', 'size': 'mega'}]},\n",
       "   {'name': 'Quique González, Los Detectives',\n",
       "    'listeners': '8',\n",
       "    'mbid': '',\n",
       "    'url': 'https://www.last.fm/music/Quique+Gonz%C3%A1lez,+Los+Detectives',\n",
       "    'streamable': '0',\n",
       "    'image': [{'#text': '', 'size': 'small'},\n",
       "     {'#text': '', 'size': 'medium'},\n",
       "     {'#text': '', 'size': 'large'},\n",
       "     {'#text': '', 'size': 'extralarge'},\n",
       "     {'#text': '', 'size': 'mega'}]},\n",
       "   {'name': 'Iván Ferreiro & Quique González',\n",
       "    'listeners': '9',\n",
       "    'mbid': '',\n",
       "    'url': 'https://www.last.fm/music/Iv%C3%A1n+Ferreiro+&+Quique+Gonz%C3%A1lez',\n",
       "    'streamable': '0',\n",
       "    'image': [{'#text': 'https://lastfm.freetls.fastly.net/i/u/34s/2a96cbd8b46e442fc41c2b86b821562f.png',\n",
       "      'size': 'small'},\n",
       "     {'#text': 'https://lastfm.freetls.fastly.net/i/u/64s/2a96cbd8b46e442fc41c2b86b821562f.png',\n",
       "      'size': 'medium'},\n",
       "     {'#text': 'https://lastfm.freetls.fastly.net/i/u/174s/2a96cbd8b46e442fc41c2b86b821562f.png',\n",
       "      'size': 'large'},\n",
       "     {'#text': 'https://lastfm.freetls.fastly.net/i/u/300x300/2a96cbd8b46e442fc41c2b86b821562f.png',\n",
       "      'size': 'extralarge'},\n",
       "     {'#text': 'https://lastfm.freetls.fastly.net/i/u/300x300/2a96cbd8b46e442fc41c2b86b821562f.png',\n",
       "      'size': 'mega'}]},\n",
       "   {'name': 'Quique González y Burning',\n",
       "    'listeners': '22',\n",
       "    'mbid': '',\n",
       "    'url': 'https://www.last.fm/music/Quique+Gonz%C3%A1lez+y+Burning',\n",
       "    'streamable': '0',\n",
       "    'image': [{'#text': '', 'size': 'small'},\n",
       "     {'#text': '', 'size': 'medium'},\n",
       "     {'#text': '', 'size': 'large'},\n",
       "     {'#text': '', 'size': 'extralarge'},\n",
       "     {'#text': '', 'size': 'mega'}]},\n",
       "   {'name': 'Quique González & Los Taxidriv',\n",
       "    'listeners': '34',\n",
       "    'mbid': '',\n",
       "    'url': 'https://www.last.fm/music/Quique+Gonz%C3%A1lez+&+Los+Taxidriv',\n",
       "    'streamable': '0',\n",
       "    'image': [{'#text': '', 'size': 'small'},\n",
       "     {'#text': '', 'size': 'medium'},\n",
       "     {'#text': '', 'size': 'large'},\n",
       "     {'#text': '', 'size': 'extralarge'},\n",
       "     {'#text': '', 'size': 'mega'}]},\n",
       "   {'name': 'Quique González e Iván Ferreiro',\n",
       "    'listeners': '15',\n",
       "    'mbid': '',\n",
       "    'url': 'https://www.last.fm/music/Quique+Gonz%C3%A1lez+e+Iv%C3%A1n+Ferreiro',\n",
       "    'streamable': '0',\n",
       "    'image': [{'#text': '', 'size': 'small'},\n",
       "     {'#text': '', 'size': 'medium'},\n",
       "     {'#text': '', 'size': 'large'},\n",
       "     {'#text': '', 'size': 'extralarge'},\n",
       "     {'#text': '', 'size': 'mega'}]},\n",
       "   {'name': 'Quique González & Enrique Bunbury',\n",
       "    'listeners': '8',\n",
       "    'mbid': '',\n",
       "    'url': 'https://www.last.fm/music/Quique+Gonz%C3%A1lez+&+Enrique+Bunbury',\n",
       "    'streamable': '0',\n",
       "    'image': [{'#text': '', 'size': 'small'},\n",
       "     {'#text': '', 'size': 'medium'},\n",
       "     {'#text': '', 'size': 'large'},\n",
       "     {'#text': '', 'size': 'extralarge'},\n",
       "     {'#text': '', 'size': 'mega'}]},\n",
       "   {'name': 'Quique González - Enrique Bunbury',\n",
       "    'listeners': '34',\n",
       "    'mbid': '',\n",
       "    'url': 'https://www.last.fm/music/Quique+Gonz%C3%A1lez+-+Enrique+Bunbury',\n",
       "    'streamable': '0',\n",
       "    'image': [{'#text': '', 'size': 'small'},\n",
       "     {'#text': '', 'size': 'medium'},\n",
       "     {'#text': '', 'size': 'large'},\n",
       "     {'#text': '', 'size': 'extralarge'},\n",
       "     {'#text': '', 'size': 'mega'}]},\n",
       "   {'name': 'González, Quique',\n",
       "    'listeners': '10',\n",
       "    'mbid': '',\n",
       "    'url': 'https://www.last.fm/music/Gonz%C3%A1lez,+Quique',\n",
       "    'streamable': '0',\n",
       "    'image': [{'#text': '', 'size': 'small'},\n",
       "     {'#text': '', 'size': 'medium'},\n",
       "     {'#text': '', 'size': 'large'},\n",
       "     {'#text': '', 'size': 'extralarge'},\n",
       "     {'#text': '', 'size': 'mega'}]},\n",
       "   {'name': 'Quique González/Quique Gonzalez',\n",
       "    'listeners': '4',\n",
       "    'mbid': '',\n",
       "    'url': 'https://www.last.fm/music/Quique+Gonz%C3%A1lez%2FQuique+Gonzalez',\n",
       "    'streamable': '0',\n",
       "    'image': [{'#text': '', 'size': 'small'},\n",
       "     {'#text': '', 'size': 'medium'},\n",
       "     {'#text': '', 'size': 'large'},\n",
       "     {'#text': '', 'size': 'extralarge'},\n",
       "     {'#text': '', 'size': 'mega'}]},\n",
       "   {'name': 'Ariel Rot/Quique González',\n",
       "    'listeners': '12',\n",
       "    'mbid': '',\n",
       "    'url': 'https://www.last.fm/music/Ariel+Rot%2FQuique+Gonz%C3%A1lez',\n",
       "    'streamable': '0',\n",
       "    'image': [{'#text': '', 'size': 'small'},\n",
       "     {'#text': '', 'size': 'medium'},\n",
       "     {'#text': '', 'size': 'large'},\n",
       "     {'#text': '', 'size': 'extralarge'},\n",
       "     {'#text': '', 'size': 'mega'}]},\n",
       "   {'name': 'Pereza & Quique González',\n",
       "    'listeners': '29',\n",
       "    'mbid': '',\n",
       "    'url': 'https://www.last.fm/music/Pereza+&+Quique+Gonz%C3%A1lez',\n",
       "    'streamable': '0',\n",
       "    'image': [{'#text': '', 'size': 'small'},\n",
       "     {'#text': '', 'size': 'medium'},\n",
       "     {'#text': '', 'size': 'large'},\n",
       "     {'#text': '', 'size': 'extralarge'},\n",
       "     {'#text': '', 'size': 'mega'}]},\n",
       "   {'name': 'Quique González / Los Detectives',\n",
       "    'listeners': '2',\n",
       "    'mbid': '',\n",
       "    'url': 'https://www.last.fm/music/Quique+Gonz%C3%A1lez+%2F+Los+Detectives',\n",
       "    'streamable': '0',\n",
       "    'image': [{'#text': '', 'size': 'small'},\n",
       "     {'#text': '', 'size': 'medium'},\n",
       "     {'#text': '', 'size': 'large'},\n",
       "     {'#text': '', 'size': 'extralarge'},\n",
       "     {'#text': '', 'size': 'mega'}]}]},\n",
       " '@attr': {'for': 'Quique González'}}"
      ]
     },
     "execution_count": 41,
     "metadata": {},
     "output_type": "execute_result"
    }
   ],
   "source": [
    "req_art_bus"
   ]
  },
  {
   "cell_type": "markdown",
   "id": "e55774ac",
   "metadata": {},
   "source": [
    "## información del album"
   ]
  },
  {
   "cell_type": "code",
   "execution_count": 48,
   "id": "c80efd9f",
   "metadata": {},
   "outputs": [],
   "source": [
    "album = req_track['track'][1]['album']['#text']"
   ]
  },
  {
   "cell_type": "code",
   "execution_count": 50,
   "id": "294664ae",
   "metadata": {},
   "outputs": [],
   "source": [
    "url_alb = f'http://ws.audioscrobbler.com/2.0/?method=album.getinfo&api_key={keylast}&artist={artista}&album={album}&format=json'"
   ]
  },
  {
   "cell_type": "code",
   "execution_count": 54,
   "id": "7beb4546",
   "metadata": {},
   "outputs": [],
   "source": [
    "req_alb = requests.get(url_alb).json()['album']"
   ]
  },
  {
   "cell_type": "code",
   "execution_count": 55,
   "id": "55514194",
   "metadata": {},
   "outputs": [
    {
     "data": {
      "text/plain": [
       "dict_keys(['artist', 'mbid', 'tags', 'name', 'image', 'tracks', 'listeners', 'playcount', 'url'])"
      ]
     },
     "execution_count": 55,
     "metadata": {},
     "output_type": "execute_result"
    }
   ],
   "source": [
    "req_alb.keys()"
   ]
  },
  {
   "cell_type": "code",
   "execution_count": 59,
   "id": "dca56aeb",
   "metadata": {},
   "outputs": [
    {
     "data": {
      "text/plain": [
       "{'tag': [{'url': 'https://www.last.fm/tag/cantautor', 'name': 'cantautor'},\n",
       "  {'url': 'https://www.last.fm/tag/singer-songwriter',\n",
       "   'name': 'singer-songwriter'},\n",
       "  {'url': 'https://www.last.fm/tag/rock', 'name': 'rock'},\n",
       "  {'url': 'https://www.last.fm/tag/alternative+rock',\n",
       "   'name': 'alternative rock'},\n",
       "  {'url': 'https://www.last.fm/tag/folk', 'name': 'folk'}]}"
      ]
     },
     "execution_count": 59,
     "metadata": {},
     "output_type": "execute_result"
    }
   ],
   "source": [
    "req_alb['tags']"
   ]
  },
  {
   "cell_type": "code",
   "execution_count": 60,
   "id": "8316b51c",
   "metadata": {},
   "outputs": [
    {
     "data": {
      "text/plain": [
       "'La Noche Americana'"
      ]
     },
     "execution_count": 60,
     "metadata": {},
     "output_type": "execute_result"
    }
   ],
   "source": [
    "req_alb['name']"
   ]
  },
  {
   "cell_type": "code",
   "execution_count": 64,
   "id": "acfc8506",
   "metadata": {},
   "outputs": [
    {
     "data": {
      "text/plain": [
       "'https://lastfm.freetls.fastly.net/i/u/174s/cb17b55ab3c94a87adfec7a38cffd7f1.png'"
      ]
     },
     "execution_count": 64,
     "metadata": {},
     "output_type": "execute_result"
    }
   ],
   "source": [
    "req_alb['image'][2]['#text'] #si tiene información... es una lista index 2 = large"
   ]
  },
  {
   "cell_type": "markdown",
   "id": "24f2c81b",
   "metadata": {},
   "source": [
    "### tags albums"
   ]
  },
  {
   "cell_type": "code",
   "execution_count": 65,
   "id": "8538a65d",
   "metadata": {},
   "outputs": [],
   "source": [
    "url_alb_tag = f'http://ws.audioscrobbler.com/2.0/?method=album.gettoptags&artist={artista}&album={album}&api_key={keylast}&format=json'"
   ]
  },
  {
   "cell_type": "code",
   "execution_count": 68,
   "id": "de5373f0",
   "metadata": {},
   "outputs": [],
   "source": [
    "req_alb_tag = requests.get(url_alb_tag).json()['toptags']"
   ]
  },
  {
   "cell_type": "code",
   "execution_count": 72,
   "id": "c8f11873",
   "metadata": {},
   "outputs": [
    {
     "data": {
      "text/plain": [
       "{'tag': [],\n",
       " '@attr': {'artist': 'Quique González', 'album': 'La noche americana'}}"
      ]
     },
     "execution_count": 72,
     "metadata": {},
     "output_type": "execute_result"
    }
   ],
   "source": [
    "req_alb_tag"
   ]
  },
  {
   "cell_type": "code",
   "execution_count": 69,
   "id": "3d263d9e",
   "metadata": {},
   "outputs": [
    {
     "data": {
      "text/plain": [
       "dict_keys(['tag', '@attr'])"
      ]
     },
     "execution_count": 69,
     "metadata": {},
     "output_type": "execute_result"
    }
   ],
   "source": [
    "req_alb_tag.keys()"
   ]
  },
  {
   "cell_type": "code",
   "execution_count": 70,
   "id": "99f54784",
   "metadata": {},
   "outputs": [
    {
     "data": {
      "text/plain": [
       "{'artist': 'Quique González', 'album': 'La noche americana'}"
      ]
     },
     "execution_count": 70,
     "metadata": {},
     "output_type": "execute_result"
    }
   ],
   "source": [
    "req_alb_tag['@attr']"
   ]
  },
  {
   "cell_type": "code",
   "execution_count": 71,
   "id": "0ad0a85b",
   "metadata": {},
   "outputs": [
    {
     "data": {
      "text/plain": [
       "[]"
      ]
     },
     "execution_count": 71,
     "metadata": {},
     "output_type": "execute_result"
    }
   ],
   "source": [
    "req_alb_tag['tag']"
   ]
  },
  {
   "cell_type": "code",
   "execution_count": 73,
   "id": "0d9d7492",
   "metadata": {},
   "outputs": [],
   "source": [
    "# con quique gonzález nofunciona mucho... probaré con el ejemplo que ponene de radiohead"
   ]
  },
  {
   "cell_type": "code",
   "execution_count": 74,
   "id": "5c6559ae",
   "metadata": {},
   "outputs": [],
   "source": [
    "url_tag_alb = f'http://ws.audioscrobbler.com/2.0/?method=album.gettoptags&artist=radiohead&album=the%20bends&api_key={keylast}&format=json'"
   ]
  },
  {
   "cell_type": "code",
   "execution_count": 76,
   "id": "123e0186",
   "metadata": {},
   "outputs": [],
   "source": [
    "req_tag_alb = requests.get(url_tag_alb).json()['toptags']"
   ]
  },
  {
   "cell_type": "code",
   "execution_count": 78,
   "id": "79e78bca",
   "metadata": {},
   "outputs": [
    {
     "data": {
      "text/plain": [
       "{'artist': 'Radiohead', 'album': 'The Bends'}"
      ]
     },
     "execution_count": 78,
     "metadata": {},
     "output_type": "execute_result"
    }
   ],
   "source": [
    "req_tag_alb['@attr']"
   ]
  },
  {
   "cell_type": "code",
   "execution_count": 82,
   "id": "f6f36fa4",
   "metadata": {},
   "outputs": [
    {
     "name": "stdout",
     "output_type": "stream",
     "text": [
      "100 albums I own\n",
      "52 favorite albums\n",
      "51 alternative rock\n",
      "41 radiohead\n",
      "39 rock\n",
      "33 alternative\n",
      "28 90s\n",
      "23 1995\n",
      "18 favourite albums\n",
      "15 indie\n",
      "12 britpop\n",
      "10 british\n",
      "8 indie rock\n",
      "5 the bends\n",
      "4 UK\n",
      "3 classic albums\n",
      "3 experimental\n",
      "3 melancholy\n",
      "3 1001 Albums You Must Hear Before You Die\n",
      "3 Masterpiece\n",
      "3 1990s\n",
      "3 1996\n",
      "3 favorite album\n",
      "3 cd collection\n",
      "2 vinyl\n",
      "2 Favorite\n",
      "2 albums I love\n",
      "2 best albums\n",
      "2 best album ever\n",
      "2 brit-rock\n",
      "2 Radiohead - The Bends\n",
      "2 classic\n",
      "2 Progressive rock\n",
      "2 favorites\n",
      "2 Awesome\n",
      "2 alt rock\n",
      "2 oxford\n",
      "2 overrated\n",
      "2 cathartic\n",
      "2 own\n",
      "2 Grunge\n",
      "2 Love\n",
      "2 acoustic\n",
      "2 england\n",
      "2 Reflective\n",
      "2 genius\n",
      "2 aggressive\n",
      "2 earnest\n",
      "2 somber\n",
      "2 best\n",
      "2 poignant\n",
      "2 brooding\n",
      "2 albums\n",
      "2 thom yorke\n",
      "2 gloomy\n",
      "2 wistful\n",
      "2 Britrock\n",
      "2 theatrical\n",
      "2 wintry\n",
      "2 urgent\n",
      "2 plaintive\n",
      "2 Angst-Ridden\n",
      "2 Great album\n",
      "2 no radiohead radio\n",
      "2 great albums\n",
      "2 radiohead the bends\n"
     ]
    }
   ],
   "source": [
    "req_tag_alb['tag'] # es una lista\n",
    "for altag in req_tag_alb['tag']:\n",
    "    print(altag['count'], altag['name']) # hay que tener cuidado con los tagas porque no son todos géneros."
   ]
  },
  {
   "cell_type": "code",
   "execution_count": null,
   "id": "1b0ec592",
   "metadata": {},
   "outputs": [],
   "source": []
  }
 ],
 "metadata": {
  "kernelspec": {
   "display_name": "ironhack",
   "language": "python",
   "name": "ironhack"
  },
  "language_info": {
   "codemirror_mode": {
    "name": "ipython",
    "version": 3
   },
   "file_extension": ".py",
   "mimetype": "text/x-python",
   "name": "python",
   "nbconvert_exporter": "python",
   "pygments_lexer": "ipython3",
   "version": "3.8.5"
  }
 },
 "nbformat": 4,
 "nbformat_minor": 5
}
