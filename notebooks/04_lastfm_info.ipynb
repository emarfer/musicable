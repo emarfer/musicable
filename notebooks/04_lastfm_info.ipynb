{
 "cells": [
  {
   "cell_type": "code",
   "execution_count": 2,
   "id": "b64bbc1d",
   "metadata": {},
   "outputs": [],
   "source": [
    "import requests \n",
    "import json\n",
    "import os\n",
    "from dotenv import load_dotenv\n",
    "load_dotenv()\n",
    "import pandas as pd\n",
    "from pandas import json_normalize\n",
    "import numpy as np"
   ]
  },
  {
   "cell_type": "code",
   "execution_count": 3,
   "id": "dc630cd3",
   "metadata": {},
   "outputs": [],
   "source": [
    "keylast = os.getenv(\"keylast\")"
   ]
  },
  {
   "cell_type": "code",
   "execution_count": 4,
   "id": "667d8602",
   "metadata": {},
   "outputs": [],
   "source": [
    "l_user = 'sinatxester'"
   ]
  },
  {
   "cell_type": "markdown",
   "id": "a365e289",
   "metadata": {},
   "source": [
    "# Conectar api lastfm: info usuarios"
   ]
  },
  {
   "cell_type": "code",
   "execution_count": 5,
   "id": "4e7a6356",
   "metadata": {},
   "outputs": [],
   "source": [
    "url_user = f'http://ws.audioscrobbler.com/2.0/?method=user.getinfo&user={l_user}&api_key={keylast}&format=json'"
   ]
  },
  {
   "cell_type": "code",
   "execution_count": 9,
   "id": "36a74458",
   "metadata": {},
   "outputs": [],
   "source": [
    "req_user = requests.get(url_user).json()['user']"
   ]
  },
  {
   "cell_type": "code",
   "execution_count": 10,
   "id": "ced407a2",
   "metadata": {},
   "outputs": [
    {
     "data": {
      "text/plain": [
       "{'country': 'Spain',\n",
       " 'age': '0',\n",
       " 'playcount': '77520',\n",
       " 'subscriber': '0',\n",
       " 'realname': 'Ester Sinatxe',\n",
       " 'playlists': '0',\n",
       " 'bootstrap': '0',\n",
       " 'image': [{'size': 'small',\n",
       "   '#text': 'https://lastfm.freetls.fastly.net/i/u/34s/daa41927775a61b3e4762c4a8eda80f3.png'},\n",
       "  {'size': 'medium',\n",
       "   '#text': 'https://lastfm.freetls.fastly.net/i/u/64s/daa41927775a61b3e4762c4a8eda80f3.png'},\n",
       "  {'size': 'large',\n",
       "   '#text': 'https://lastfm.freetls.fastly.net/i/u/174s/daa41927775a61b3e4762c4a8eda80f3.png'},\n",
       "  {'size': 'extralarge',\n",
       "   '#text': 'https://lastfm.freetls.fastly.net/i/u/300x300/daa41927775a61b3e4762c4a8eda80f3.png'}],\n",
       " 'registered': {'unixtime': '1420141064', '#text': 1420141064},\n",
       " 'url': 'https://www.last.fm/user/sinatxester',\n",
       " 'gender': 'n',\n",
       " 'name': 'sinatxester',\n",
       " 'type': 'user'}"
      ]
     },
     "execution_count": 10,
     "metadata": {},
     "output_type": "execute_result"
    }
   ],
   "source": [
    "req_user"
   ]
  },
  {
   "cell_type": "code",
   "execution_count": 12,
   "id": "c4b72e01",
   "metadata": {},
   "outputs": [
    {
     "data": {
      "text/plain": [
       "dict_keys(['country', 'age', 'playcount', 'subscriber', 'realname', 'playlists', 'bootstrap', 'image', 'registered', 'url', 'gender', 'name', 'type'])"
      ]
     },
     "execution_count": 12,
     "metadata": {},
     "output_type": "execute_result"
    }
   ],
   "source": [
    "req_user.keys()\n",
    "#nos quedaremos con country, playcount,realname, image[1] (medium), registered['unixtime'],url,gender, name, type\n",
    "#crearemos tabla en la base de datos de mysql con estos datos"
   ]
  },
  {
   "cell_type": "markdown",
   "id": "54d59955",
   "metadata": {},
   "source": [
    "### Friends del user para conseguir mas amigos"
   ]
  },
  {
   "cell_type": "code",
   "execution_count": 33,
   "id": "50607e84",
   "metadata": {},
   "outputs": [],
   "source": [
    "url_fri = f'http://ws.audioscrobbler.com/2.0/?method=user.getfriends&user={l_user}&api_key={keylast}&format=json'"
   ]
  },
  {
   "cell_type": "code",
   "execution_count": 36,
   "id": "8cd06383",
   "metadata": {},
   "outputs": [],
   "source": [
    "req_fri = requests.get(url_fri).json()['friends']"
   ]
  },
  {
   "cell_type": "code",
   "execution_count": 37,
   "id": "5a3aca5b",
   "metadata": {},
   "outputs": [
    {
     "data": {
      "text/plain": [
       "dict_keys(['@attr', 'user'])"
      ]
     },
     "execution_count": 37,
     "metadata": {},
     "output_type": "execute_result"
    }
   ],
   "source": [
    "req_fri.keys()"
   ]
  },
  {
   "cell_type": "code",
   "execution_count": 38,
   "id": "4ed2a543",
   "metadata": {},
   "outputs": [
    {
     "data": {
      "text/plain": [
       "dict_keys(['@attr', 'user'])"
      ]
     },
     "execution_count": 38,
     "metadata": {},
     "output_type": "execute_result"
    }
   ],
   "source": [
    "req_fri.keys()\n"
   ]
  },
  {
   "cell_type": "code",
   "execution_count": 39,
   "id": "0c93fcca",
   "metadata": {},
   "outputs": [
    {
     "data": {
      "text/plain": [
       "{'perPage': '50',\n",
       " 'totalPages': '1',\n",
       " 'page': '1',\n",
       " 'total': '10',\n",
       " 'user': 'sinatxester'}"
      ]
     },
     "execution_count": 39,
     "metadata": {},
     "output_type": "execute_result"
    }
   ],
   "source": [
    "req_fri['@attr']"
   ]
  },
  {
   "cell_type": "code",
   "execution_count": 40,
   "id": "fee84659",
   "metadata": {},
   "outputs": [
    {
     "data": {
      "text/plain": [
       "{'name': 'Lumanet',\n",
       " 'url': 'https://www.last.fm/user/Lumanet',\n",
       " 'country': 'Spain',\n",
       " 'playlists': '0',\n",
       " 'playcount': '0',\n",
       " 'image': [{'size': 'small',\n",
       "   '#text': 'https://lastfm.freetls.fastly.net/i/u/34s/25602223397211f1f083955ebeacf803.png'},\n",
       "  {'size': 'medium',\n",
       "   '#text': 'https://lastfm.freetls.fastly.net/i/u/64s/25602223397211f1f083955ebeacf803.png'},\n",
       "  {'size': 'large',\n",
       "   '#text': 'https://lastfm.freetls.fastly.net/i/u/174s/25602223397211f1f083955ebeacf803.png'},\n",
       "  {'size': 'extralarge',\n",
       "   '#text': 'https://lastfm.freetls.fastly.net/i/u/300x300/25602223397211f1f083955ebeacf803.png'}],\n",
       " 'registered': {'unixtime': '1196844580', '#text': '2007-12-05 08:49'},\n",
       " 'realname': 'Marcos Robles',\n",
       " 'subscriber': '0',\n",
       " 'bootstrap': '0',\n",
       " 'type': 'user'}"
      ]
     },
     "execution_count": 40,
     "metadata": {},
     "output_type": "execute_result"
    }
   ],
   "source": [
    "req_fri['user'][0] #lista con todos los amiguismos"
   ]
  },
  {
   "cell_type": "code",
   "execution_count": 42,
   "id": "a9fbafba",
   "metadata": {},
   "outputs": [],
   "source": [
    "#para crear una tabla con los amigos, el nombre del usuario mismo es la primary key porque no se puede repetir.\n",
    "#bueno, primarykey será la unión de nombre user y el id del usuario concatenados\n",
    "# esta requests tiene paginación con limite... pero para lo que necesitamos no queremos más de 1 pag por usuario."
   ]
  },
  {
   "cell_type": "code",
   "execution_count": 44,
   "id": "ef3bc1c6",
   "metadata": {},
   "outputs": [
    {
     "name": "stdout",
     "output_type": "stream",
     "text": [
      "dict_keys(['name', 'url', 'country', 'playlists', 'playcount', 'image', 'registered', 'realname', 'subscriber', 'bootstrap', 'type'])\n",
      "dict_keys(['name', 'url', 'country', 'playlists', 'playcount', 'image', 'registered', 'realname', 'subscriber', 'bootstrap', 'type'])\n",
      "dict_keys(['name', 'url', 'country', 'playlists', 'playcount', 'image', 'registered', 'realname', 'subscriber', 'bootstrap', 'type'])\n",
      "dict_keys(['name', 'url', 'country', 'playlists', 'playcount', 'image', 'registered', 'realname', 'subscriber', 'bootstrap', 'type'])\n",
      "dict_keys(['name', 'url', 'country', 'playlists', 'playcount', 'image', 'registered', 'realname', 'subscriber', 'bootstrap', 'type'])\n",
      "dict_keys(['name', 'url', 'country', 'playlists', 'playcount', 'image', 'registered', 'realname', 'subscriber', 'bootstrap', 'type'])\n",
      "dict_keys(['name', 'url', 'country', 'playlists', 'playcount', 'image', 'registered', 'realname', 'subscriber', 'bootstrap', 'type'])\n",
      "dict_keys(['name', 'url', 'country', 'playlists', 'playcount', 'image', 'registered', 'realname', 'subscriber', 'bootstrap', 'type'])\n",
      "dict_keys(['name', 'url', 'country', 'playlists', 'playcount', 'image', 'registered', 'realname', 'subscriber', 'bootstrap', 'type'])\n",
      "dict_keys(['name', 'url', 'country', 'playlists', 'playcount', 'image', 'registered', 'realname', 'subscriber', 'bootstrap', 'type'])\n"
     ]
    }
   ],
   "source": [
    "#iteramos por la lista de amiguismos para observar todas las keys de cada friend\n",
    "for fri in req_fri['user']:\n",
    "    print(fri.keys()) #son los datos de usuario que luego se pueden conseguir, por lo que nos quedmso solo con los \"name\""
   ]
  },
  {
   "cell_type": "code",
   "execution_count": 48,
   "id": "94d0be6e",
   "metadata": {},
   "outputs": [],
   "source": [
    "lista_amigos=[]\n",
    "for fri in req_fri['user']:\n",
    "    lista_amigos.append(fri['name'].lower())"
   ]
  },
  {
   "cell_type": "code",
   "execution_count": 50,
   "id": "feaf25ac",
   "metadata": {},
   "outputs": [
    {
     "data": {
      "text/plain": [
       "['lumanet',\n",
       " 'trickywagon',\n",
       " 'crisnuka',\n",
       " 'ghan64',\n",
       " 'aiko4985',\n",
       " 'ljulycastro',\n",
       " 'rubendomfer',\n",
       " 'mister__moss',\n",
       " 'taneli1',\n",
       " 'avekaesar']"
      ]
     },
     "execution_count": 50,
     "metadata": {},
     "output_type": "execute_result"
    }
   ],
   "source": [
    "lista_amigos #para conseguir la infor iríamos iterando por esta lista y llamando a la api get.info de user"
   ]
  },
  {
   "cell_type": "code",
   "execution_count": 51,
   "id": "da61c575",
   "metadata": {},
   "outputs": [],
   "source": [
    "# a la hora de insertarr la info de friends en mysql, primero comprobar si el usuario ya existe. (capitán obvio)"
   ]
  },
  {
   "cell_type": "markdown",
   "id": "668592f3",
   "metadata": {},
   "source": [
    "## Conseguir los recenttracks"
   ]
  },
  {
   "cell_type": "code",
   "execution_count": 62,
   "id": "000d01ba",
   "metadata": {},
   "outputs": [],
   "source": [
    "url_track = f'http://ws.audioscrobbler.com/2.0/?method=user.getrecenttracks&user={l_user}&api_key={keylast}&limit=1000&format=json'"
   ]
  },
  {
   "cell_type": "code",
   "execution_count": 63,
   "id": "5ddb6390",
   "metadata": {},
   "outputs": [],
   "source": [
    "req_track = requests.get(url_track).json()['recenttracks']"
   ]
  },
  {
   "cell_type": "code",
   "execution_count": 64,
   "id": "567d1e40",
   "metadata": {},
   "outputs": [
    {
     "data": {
      "text/plain": [
       "dict_keys(['track', '@attr'])"
      ]
     },
     "execution_count": 64,
     "metadata": {},
     "output_type": "execute_result"
    }
   ],
   "source": [
    "req_track.keys()"
   ]
  },
  {
   "cell_type": "code",
   "execution_count": 65,
   "id": "5275a018",
   "metadata": {},
   "outputs": [
    {
     "data": {
      "text/plain": [
       "{'user': 'sinatxester',\n",
       " 'totalPages': '78',\n",
       " 'page': '1',\n",
       " 'total': '77525',\n",
       " 'perPage': '1000'}"
      ]
     },
     "execution_count": 65,
     "metadata": {},
     "output_type": "execute_result"
    }
   ],
   "source": [
    "req_track['@attr'] #aquí podemos observar la paginación... "
   ]
  },
  {
   "cell_type": "code",
   "execution_count": 67,
   "id": "48039dae",
   "metadata": {},
   "outputs": [
    {
     "data": {
      "text/plain": [
       "{'artist': {'mbid': '27e948aa-6b38-4da2-acf6-8459964a130a',\n",
       "  '#text': 'Quique González'},\n",
       " 'streamable': '0',\n",
       " 'image': [{'size': 'small',\n",
       "   '#text': 'https://lastfm.freetls.fastly.net/i/u/34s/2a96cbd8b46e442fc41c2b86b821562f.png'},\n",
       "  {'size': 'medium',\n",
       "   '#text': 'https://lastfm.freetls.fastly.net/i/u/64s/2a96cbd8b46e442fc41c2b86b821562f.png'},\n",
       "  {'size': 'large',\n",
       "   '#text': 'https://lastfm.freetls.fastly.net/i/u/174s/2a96cbd8b46e442fc41c2b86b821562f.png'},\n",
       "  {'size': 'extralarge',\n",
       "   '#text': 'https://lastfm.freetls.fastly.net/i/u/300x300/2a96cbd8b46e442fc41c2b86b821562f.png'}],\n",
       " 'mbid': '',\n",
       " 'album': {'mbid': '', '#text': 'Pájaros Mojados'},\n",
       " 'name': 'Avenidas de tu corazón',\n",
       " '@attr': {'nowplaying': 'true'},\n",
       " 'url': 'https://www.last.fm/music/Quique+Gonz%C3%A1lez/_/Avenidas+de+tu+coraz%C3%B3n'}"
      ]
     },
     "execution_count": 67,
     "metadata": {},
     "output_type": "execute_result"
    }
   ],
   "source": [
    "req_track['track'][0] #puede que el primer elemento sea #nowplaying!! cuidaó con esto \n",
    "# el nowplaying está en todas las páginas "
   ]
  },
  {
   "cell_type": "code",
   "execution_count": 69,
   "id": "715c18a7",
   "metadata": {},
   "outputs": [
    {
     "data": {
      "text/plain": [
       "dict_keys(['artist', 'streamable', 'image', 'mbid', 'album', 'name', 'url', 'date'])"
      ]
     },
     "execution_count": 69,
     "metadata": {},
     "output_type": "execute_result"
    }
   ],
   "source": [
    "req_track['track'][1].keys()"
   ]
  },
  {
   "cell_type": "code",
   "execution_count": 71,
   "id": "11d2e930",
   "metadata": {},
   "outputs": [
    {
     "data": {
      "text/plain": [
       "{'artist': {'mbid': '27e948aa-6b38-4da2-acf6-8459964a130a',\n",
       "  '#text': 'Quique González'},\n",
       " 'streamable': '0',\n",
       " 'image': [{'size': 'small',\n",
       "   '#text': 'https://lastfm.freetls.fastly.net/i/u/34s/2a96cbd8b46e442fc41c2b86b821562f.png'},\n",
       "  {'size': 'medium',\n",
       "   '#text': 'https://lastfm.freetls.fastly.net/i/u/64s/2a96cbd8b46e442fc41c2b86b821562f.png'},\n",
       "  {'size': 'large',\n",
       "   '#text': 'https://lastfm.freetls.fastly.net/i/u/174s/2a96cbd8b46e442fc41c2b86b821562f.png'},\n",
       "  {'size': 'extralarge',\n",
       "   '#text': 'https://lastfm.freetls.fastly.net/i/u/300x300/2a96cbd8b46e442fc41c2b86b821562f.png'}],\n",
       " 'mbid': '',\n",
       " 'album': {'mbid': '', '#text': 'Pájaros Mojados'},\n",
       " 'name': 'Avenidas de tu corazón',\n",
       " 'url': 'https://www.last.fm/music/Quique+Gonz%C3%A1lez/_/Avenidas+de+tu+coraz%C3%B3n',\n",
       " 'date': {'uts': '1651051191', '#text': '27 Apr 2022, 09:19'}}"
      ]
     },
     "execution_count": 71,
     "metadata": {},
     "output_type": "execute_result"
    }
   ],
   "source": [
    "req_track['track'][1] #nos vamos a quedar solo con una serie de información\n",
    "#artist: dic (Ambos)\n",
    "#image: dic size medium. lista. image[1]\n",
    "#mbid: si no hay da igual, es el mbid del tema (musicbrainz)\n",
    "#album dic (ambos)\n",
    "#name \n",
    "# url\n",
    "#date: dic. nos quedamos solo con uts (También tenemos hecha ya una función que nos da el uts)"
   ]
  },
  {
   "cell_type": "markdown",
   "id": "f9288cf8",
   "metadata": {},
   "source": [
    "# conseguir info de artista\n",
    "- una vez que tenemos el nombre y el mbid podemos ir al endpoint del artista\n",
    "- también con mbid podemos sacar infor del artista de la api de musicbrainz"
   ]
  },
  {
   "cell_type": "markdown",
   "id": "4505bc13",
   "metadata": {},
   "source": [
    "### endpoint lastfm"
   ]
  },
  {
   "cell_type": "code",
   "execution_count": 73,
   "id": "1fafc0d9",
   "metadata": {},
   "outputs": [
    {
     "data": {
      "text/plain": [
       "('Quique González', '27e948aa-6b38-4da2-acf6-8459964a130a')"
      ]
     },
     "execution_count": 73,
     "metadata": {},
     "output_type": "execute_result"
    }
   ],
   "source": [
    "artista = req_track['track'][1]['artist']['#text']\n",
    "art_mbid = req_track['track'][1]['artist']['mbid']\n",
    "artista,art_mbid"
   ]
  },
  {
   "cell_type": "code",
   "execution_count": 74,
   "id": "63673cdc",
   "metadata": {},
   "outputs": [],
   "source": [
    "url_art = f'http://ws.audioscrobbler.com/2.0/?method=artist.getinfo&artist={artista}&api_key={keylast}&format=json'"
   ]
  },
  {
   "cell_type": "code",
   "execution_count": 79,
   "id": "ec50119f",
   "metadata": {},
   "outputs": [],
   "source": [
    "req_art = requests.get(url_art).json()['artist']"
   ]
  },
  {
   "cell_type": "code",
   "execution_count": 86,
   "id": "a9b7753b",
   "metadata": {
    "scrolled": false
   },
   "outputs": [
    {
     "data": {
      "text/plain": [
       "{'name': 'Quique González',\n",
       " 'mbid': '27e948aa-6b38-4da2-acf6-8459964a130a',\n",
       " 'url': 'https://www.last.fm/music/+noredirect/Quique+Gonz%C3%A1lez',\n",
       " 'image': [{'#text': 'https://lastfm.freetls.fastly.net/i/u/34s/2a96cbd8b46e442fc41c2b86b821562f.png',\n",
       "   'size': 'small'},\n",
       "  {'#text': 'https://lastfm.freetls.fastly.net/i/u/64s/2a96cbd8b46e442fc41c2b86b821562f.png',\n",
       "   'size': 'medium'},\n",
       "  {'#text': 'https://lastfm.freetls.fastly.net/i/u/174s/2a96cbd8b46e442fc41c2b86b821562f.png',\n",
       "   'size': 'large'},\n",
       "  {'#text': 'https://lastfm.freetls.fastly.net/i/u/300x300/2a96cbd8b46e442fc41c2b86b821562f.png',\n",
       "   'size': 'extralarge'},\n",
       "  {'#text': 'https://lastfm.freetls.fastly.net/i/u/300x300/2a96cbd8b46e442fc41c2b86b821562f.png',\n",
       "   'size': 'mega'},\n",
       "  {'#text': 'https://lastfm.freetls.fastly.net/i/u/300x300/2a96cbd8b46e442fc41c2b86b821562f.png',\n",
       "   'size': ''}],\n",
       " 'streamable': '0',\n",
       " 'ontour': '0',\n",
       " 'stats': {'listeners': '83313', 'playcount': '2484905'},\n",
       " 'similar': {'artist': [{'name': 'Ismael Serrano',\n",
       "    'url': 'https://www.last.fm/music/Ismael+Serrano',\n",
       "    'image': [{'#text': 'https://lastfm.freetls.fastly.net/i/u/34s/2a96cbd8b46e442fc41c2b86b821562f.png',\n",
       "      'size': 'small'},\n",
       "     {'#text': 'https://lastfm.freetls.fastly.net/i/u/64s/2a96cbd8b46e442fc41c2b86b821562f.png',\n",
       "      'size': 'medium'},\n",
       "     {'#text': 'https://lastfm.freetls.fastly.net/i/u/174s/2a96cbd8b46e442fc41c2b86b821562f.png',\n",
       "      'size': 'large'},\n",
       "     {'#text': 'https://lastfm.freetls.fastly.net/i/u/300x300/2a96cbd8b46e442fc41c2b86b821562f.png',\n",
       "      'size': 'extralarge'},\n",
       "     {'#text': 'https://lastfm.freetls.fastly.net/i/u/300x300/2a96cbd8b46e442fc41c2b86b821562f.png',\n",
       "      'size': 'mega'},\n",
       "     {'#text': 'https://lastfm.freetls.fastly.net/i/u/300x300/2a96cbd8b46e442fc41c2b86b821562f.png',\n",
       "      'size': ''}]},\n",
       "   {'name': 'Antonio Vega',\n",
       "    'url': 'https://www.last.fm/music/Antonio+Vega',\n",
       "    'image': [{'#text': 'https://lastfm.freetls.fastly.net/i/u/34s/2a96cbd8b46e442fc41c2b86b821562f.png',\n",
       "      'size': 'small'},\n",
       "     {'#text': 'https://lastfm.freetls.fastly.net/i/u/64s/2a96cbd8b46e442fc41c2b86b821562f.png',\n",
       "      'size': 'medium'},\n",
       "     {'#text': 'https://lastfm.freetls.fastly.net/i/u/174s/2a96cbd8b46e442fc41c2b86b821562f.png',\n",
       "      'size': 'large'},\n",
       "     {'#text': 'https://lastfm.freetls.fastly.net/i/u/300x300/2a96cbd8b46e442fc41c2b86b821562f.png',\n",
       "      'size': 'extralarge'},\n",
       "     {'#text': 'https://lastfm.freetls.fastly.net/i/u/300x300/2a96cbd8b46e442fc41c2b86b821562f.png',\n",
       "      'size': 'mega'},\n",
       "     {'#text': 'https://lastfm.freetls.fastly.net/i/u/300x300/2a96cbd8b46e442fc41c2b86b821562f.png',\n",
       "      'size': ''}]},\n",
       "   {'name': 'Mikel Erentxun',\n",
       "    'url': 'https://www.last.fm/music/Mikel+Erentxun',\n",
       "    'image': [{'#text': 'https://lastfm.freetls.fastly.net/i/u/34s/2a96cbd8b46e442fc41c2b86b821562f.png',\n",
       "      'size': 'small'},\n",
       "     {'#text': 'https://lastfm.freetls.fastly.net/i/u/64s/2a96cbd8b46e442fc41c2b86b821562f.png',\n",
       "      'size': 'medium'},\n",
       "     {'#text': 'https://lastfm.freetls.fastly.net/i/u/174s/2a96cbd8b46e442fc41c2b86b821562f.png',\n",
       "      'size': 'large'},\n",
       "     {'#text': 'https://lastfm.freetls.fastly.net/i/u/300x300/2a96cbd8b46e442fc41c2b86b821562f.png',\n",
       "      'size': 'extralarge'},\n",
       "     {'#text': 'https://lastfm.freetls.fastly.net/i/u/300x300/2a96cbd8b46e442fc41c2b86b821562f.png',\n",
       "      'size': 'mega'},\n",
       "     {'#text': 'https://lastfm.freetls.fastly.net/i/u/300x300/2a96cbd8b46e442fc41c2b86b821562f.png',\n",
       "      'size': ''}]},\n",
       "   {'name': 'Iván Ferreiro',\n",
       "    'url': 'https://www.last.fm/music/Iv%C3%A1n+Ferreiro',\n",
       "    'image': [{'#text': 'https://lastfm.freetls.fastly.net/i/u/34s/2a96cbd8b46e442fc41c2b86b821562f.png',\n",
       "      'size': 'small'},\n",
       "     {'#text': 'https://lastfm.freetls.fastly.net/i/u/64s/2a96cbd8b46e442fc41c2b86b821562f.png',\n",
       "      'size': 'medium'},\n",
       "     {'#text': 'https://lastfm.freetls.fastly.net/i/u/174s/2a96cbd8b46e442fc41c2b86b821562f.png',\n",
       "      'size': 'large'},\n",
       "     {'#text': 'https://lastfm.freetls.fastly.net/i/u/300x300/2a96cbd8b46e442fc41c2b86b821562f.png',\n",
       "      'size': 'extralarge'},\n",
       "     {'#text': 'https://lastfm.freetls.fastly.net/i/u/300x300/2a96cbd8b46e442fc41c2b86b821562f.png',\n",
       "      'size': 'mega'},\n",
       "     {'#text': 'https://lastfm.freetls.fastly.net/i/u/300x300/2a96cbd8b46e442fc41c2b86b821562f.png',\n",
       "      'size': ''}]},\n",
       "   {'name': 'Vetusta Morla',\n",
       "    'url': 'https://www.last.fm/music/Vetusta+Morla',\n",
       "    'image': [{'#text': 'https://lastfm.freetls.fastly.net/i/u/34s/2a96cbd8b46e442fc41c2b86b821562f.png',\n",
       "      'size': 'small'},\n",
       "     {'#text': 'https://lastfm.freetls.fastly.net/i/u/64s/2a96cbd8b46e442fc41c2b86b821562f.png',\n",
       "      'size': 'medium'},\n",
       "     {'#text': 'https://lastfm.freetls.fastly.net/i/u/174s/2a96cbd8b46e442fc41c2b86b821562f.png',\n",
       "      'size': 'large'},\n",
       "     {'#text': 'https://lastfm.freetls.fastly.net/i/u/300x300/2a96cbd8b46e442fc41c2b86b821562f.png',\n",
       "      'size': 'extralarge'},\n",
       "     {'#text': 'https://lastfm.freetls.fastly.net/i/u/300x300/2a96cbd8b46e442fc41c2b86b821562f.png',\n",
       "      'size': 'mega'},\n",
       "     {'#text': 'https://lastfm.freetls.fastly.net/i/u/300x300/2a96cbd8b46e442fc41c2b86b821562f.png',\n",
       "      'size': ''}]}]},\n",
       " 'tags': {'tag': [{'name': 'cantautor',\n",
       "    'url': 'https://www.last.fm/tag/cantautor'},\n",
       "   {'name': 'spanish', 'url': 'https://www.last.fm/tag/spanish'},\n",
       "   {'name': 'singer-songwriter',\n",
       "    'url': 'https://www.last.fm/tag/singer-songwriter'},\n",
       "   {'name': 'rock', 'url': 'https://www.last.fm/tag/rock'},\n",
       "   {'name': 'pop', 'url': 'https://www.last.fm/tag/pop'}]},\n",
       " 'bio': {'links': {'link': {'#text': '',\n",
       "    'rel': 'original',\n",
       "    'href': 'https://last.fm/music/+noredirect/Quique+Gonz%C3%A1lez/+wiki'}},\n",
       "  'published': '13 Feb 2007, 17:57',\n",
       "  'summary': 'Quique González is a Spanish singer-songwriter in the style of Enrique Urquijo and Antonio Vega from the previous generation of the eighties pop-rock. Acoustic Guitars and rock-folk arrangements embrace his sincere and melancolic lyrics. \"Ajuste de Cuentas\" is his sixth album, a live compilation of his work with some new songs added. <a href=\"https://www.last.fm/music/+noredirect/Quique+Gonz%C3%A1lez\">Read more on Last.fm</a>',\n",
       "  'content': 'Quique González is a Spanish singer-songwriter in the style of Enrique Urquijo and Antonio Vega from the previous generation of the eighties pop-rock. Acoustic Guitars and rock-folk arrangements embrace his sincere and melancolic lyrics. \"Ajuste de Cuentas\" is his sixth album, a live compilation of his work with some new songs added. <a href=\"https://www.last.fm/music/+noredirect/Quique+Gonz%C3%A1lez\">Read more on Last.fm</a>. User-contributed text is available under the Creative Commons By-SA License; additional terms may apply.'}}"
      ]
     },
     "execution_count": 86,
     "metadata": {},
     "output_type": "execute_result"
    }
   ],
   "source": [
    "req_art"
   ]
  },
  {
   "cell_type": "code",
   "execution_count": 87,
   "id": "119c7bef",
   "metadata": {},
   "outputs": [
    {
     "data": {
      "text/plain": [
       "dict_keys(['name', 'mbid', 'url', 'image', 'streamable', 'ontour', 'stats', 'similar', 'tags', 'bio'])"
      ]
     },
     "execution_count": 87,
     "metadata": {},
     "output_type": "execute_result"
    }
   ],
   "source": [
    "req_art.keys()"
   ]
  },
  {
   "cell_type": "code",
   "execution_count": 114,
   "id": "e5237add",
   "metadata": {},
   "outputs": [],
   "source": [
    "# nos vamos a quedar con la sig info\n",
    "#name, mbid, url, image[1] (medium), #stats(listeners+playcount)\n",
    "# puede que nos quedemos también con similar y tags."
   ]
  },
  {
   "cell_type": "markdown",
   "id": "ea1a039c",
   "metadata": {},
   "source": [
    "### get.tag del artista en cuestión"
   ]
  },
  {
   "cell_type": "code",
   "execution_count": 88,
   "id": "6ad3deea",
   "metadata": {},
   "outputs": [
    {
     "data": {
      "text/plain": [
       "{'tag': [{'name': 'cantautor', 'url': 'https://www.last.fm/tag/cantautor'},\n",
       "  {'name': 'spanish', 'url': 'https://www.last.fm/tag/spanish'},\n",
       "  {'name': 'singer-songwriter',\n",
       "   'url': 'https://www.last.fm/tag/singer-songwriter'},\n",
       "  {'name': 'rock', 'url': 'https://www.last.fm/tag/rock'},\n",
       "  {'name': 'pop', 'url': 'https://www.last.fm/tag/pop'}]}"
      ]
     },
     "execution_count": 88,
     "metadata": {},
     "output_type": "execute_result"
    }
   ],
   "source": [
    "req_art['tags'] #info artista"
   ]
  },
  {
   "cell_type": "code",
   "execution_count": 95,
   "id": "ab3c5861",
   "metadata": {},
   "outputs": [],
   "source": [
    "url_art_tag = f'http://ws.audioscrobbler.com/2.0/?method=artist.gettoptags&artist={artista}&api_key={keylast}&format=json'"
   ]
  },
  {
   "cell_type": "code",
   "execution_count": 99,
   "id": "031fe61a",
   "metadata": {},
   "outputs": [],
   "source": [
    "req_art_tag = requests.get(url_art_tag).json()['toptags']"
   ]
  },
  {
   "cell_type": "code",
   "execution_count": 100,
   "id": "35ba22db",
   "metadata": {},
   "outputs": [
    {
     "data": {
      "text/plain": [
       "dict_keys(['tag', '@attr'])"
      ]
     },
     "execution_count": 100,
     "metadata": {},
     "output_type": "execute_result"
    }
   ],
   "source": [
    "req_art_tag.keys()"
   ]
  },
  {
   "cell_type": "code",
   "execution_count": 102,
   "id": "979fbcaf",
   "metadata": {},
   "outputs": [
    {
     "data": {
      "text/plain": [
       "{'artist': 'Quique González'}"
      ]
     },
     "execution_count": 102,
     "metadata": {},
     "output_type": "execute_result"
    }
   ],
   "source": [
    "req_art_tag['@attr']"
   ]
  },
  {
   "cell_type": "code",
   "execution_count": 103,
   "id": "0ca0496f",
   "metadata": {
    "scrolled": false
   },
   "outputs": [
    {
     "data": {
      "text/plain": [
       "{'count': 100, 'name': 'cantautor', 'url': 'https://www.last.fm/tag/cantautor'}"
      ]
     },
     "execution_count": 103,
     "metadata": {},
     "output_type": "execute_result"
    }
   ],
   "source": [
    "req_art_tag['tag'][0] #lista\n",
    "#cada elemento de la lista es un diccioanrio con count,name y url de keys"
   ]
  },
  {
   "cell_type": "code",
   "execution_count": 107,
   "id": "23027232",
   "metadata": {
    "scrolled": false
   },
   "outputs": [
    {
     "name": "stdout",
     "output_type": "stream",
     "text": [
      "100 cantautor\n",
      "91 spanish\n",
      "91 singer-songwriter\n",
      "89 rock\n",
      "54 pop\n",
      "10 indie\n",
      "7 seen live\n",
      "7 folk\n",
      "7 Spanish Rock\n",
      "7 Cantautores\n",
      "7 cancion de autor\n",
      "7 quique gonzalez\n",
      "5 classic rock\n",
      "5 country\n",
      "5 alternative\n",
      "5 folk-rock\n",
      "5 spain\n",
      "5 español\n",
      "5 male vocalists\n",
      "5 spanish pop\n",
      "5 Madrid\n",
      "3 jazz\n",
      "3 Grunge\n",
      "3 pop rock\n",
      "3 country-rock\n",
      "3 britpop\n",
      "3 latin\n",
      "3 blues\n",
      "3 singer\n",
      "3 Alt-country\n",
      "3 folk rock\n",
      "3 latino\n",
      "3 Alternative Folk\n",
      "3 Rock en Espanol\n",
      "3 Pop-Rock\n",
      "3 latin pop\n",
      "3 spanish indie pop\n",
      "3 Espana\n",
      "3 franz ferdinand\n",
      "3 Bob Dylan\n",
      "3 All\n",
      "3 my music\n",
      "3 lentas\n",
      "3 Dylan\n",
      "3 genial\n",
      "3 spanish indie\n",
      "3 mediterranean rock\n",
      "3 Spanish Pop Rock\n",
      "3 Bunbury\n",
      "3 canalla\n",
      "3 patxungo\n",
      "3 vorgemerkt\n",
      "3 acustica\n",
      "3 to listen for jan\n",
      "3 que genio\n",
      "3 la vida tiene otro sabor y espanya es la mejor\n",
      "3 para conocer\n",
      "3 spanish rock-pop\n",
      "3 pablo sciuto\n",
      "3 bilbao live 2008\n",
      "3 chanson espagnole\n",
      "3 Qduique Gonzalez\n"
     ]
    }
   ],
   "source": [
    "for arttag in req_art_tag['tag']: \n",
    "    print(arttag['count'], arttag['name'])"
   ]
  },
  {
   "cell_type": "markdown",
   "id": "653a3d6f",
   "metadata": {},
   "source": [
    "## Búsqueda de artista. Resultados"
   ]
  },
  {
   "cell_type": "code",
   "execution_count": 108,
   "id": "56f755b3",
   "metadata": {},
   "outputs": [],
   "source": [
    "url_art_bus = f'http://ws.audioscrobbler.com/2.0/?method=artist.search&artist={artista}&api_key={keylast}&format=json'"
   ]
  },
  {
   "cell_type": "code",
   "execution_count": 111,
   "id": "769f0faf",
   "metadata": {},
   "outputs": [],
   "source": [
    "req_art_bus = requests.get(url_art_bus).json()['results']"
   ]
  },
  {
   "cell_type": "code",
   "execution_count": 113,
   "id": "a07a865b",
   "metadata": {
    "scrolled": false
   },
   "outputs": [
    {
     "data": {
      "text/plain": [
       "{'opensearch:Query': {'#text': '',\n",
       "  'role': 'request',\n",
       "  'searchTerms': 'Quique González',\n",
       "  'startPage': '1'},\n",
       " 'opensearch:totalResults': '380',\n",
       " 'opensearch:startIndex': '0',\n",
       " 'opensearch:itemsPerPage': '30',\n",
       " 'artistmatches': {'artist': [{'name': 'Quique González',\n",
       "    'listeners': '83313',\n",
       "    'mbid': '27e948aa-6b38-4da2-acf6-8459964a130a',\n",
       "    'url': 'https://www.last.fm/music/Quique+Gonz%C3%A1lez',\n",
       "    'streamable': '0',\n",
       "    'image': [{'#text': 'https://lastfm.freetls.fastly.net/i/u/34s/2a96cbd8b46e442fc41c2b86b821562f.png',\n",
       "      'size': 'small'},\n",
       "     {'#text': 'https://lastfm.freetls.fastly.net/i/u/64s/2a96cbd8b46e442fc41c2b86b821562f.png',\n",
       "      'size': 'medium'},\n",
       "     {'#text': 'https://lastfm.freetls.fastly.net/i/u/174s/2a96cbd8b46e442fc41c2b86b821562f.png',\n",
       "      'size': 'large'},\n",
       "     {'#text': 'https://lastfm.freetls.fastly.net/i/u/300x300/2a96cbd8b46e442fc41c2b86b821562f.png',\n",
       "      'size': 'extralarge'},\n",
       "     {'#text': 'https://lastfm.freetls.fastly.net/i/u/300x300/2a96cbd8b46e442fc41c2b86b821562f.png',\n",
       "      'size': 'mega'}]},\n",
       "   {'name': 'Quique González & Los Detectives',\n",
       "    'listeners': '67',\n",
       "    'mbid': '',\n",
       "    'url': 'https://www.last.fm/music/Quique+Gonz%C3%A1lez+&+Los+Detectives',\n",
       "    'streamable': '0',\n",
       "    'image': [{'#text': '', 'size': 'small'},\n",
       "     {'#text': '', 'size': 'medium'},\n",
       "     {'#text': '', 'size': 'large'},\n",
       "     {'#text': '', 'size': 'extralarge'},\n",
       "     {'#text': '', 'size': 'mega'}]},\n",
       "   {'name': 'Quique González & La Aristocracia del Barrio',\n",
       "    'listeners': '47',\n",
       "    'mbid': '',\n",
       "    'url': 'https://www.last.fm/music/Quique+Gonz%C3%A1lez+&+La+Aristocracia+del+Barrio',\n",
       "    'streamable': '0',\n",
       "    'image': [{'#text': 'https://lastfm.freetls.fastly.net/i/u/34s/2a96cbd8b46e442fc41c2b86b821562f.png',\n",
       "      'size': 'small'},\n",
       "     {'#text': 'https://lastfm.freetls.fastly.net/i/u/64s/2a96cbd8b46e442fc41c2b86b821562f.png',\n",
       "      'size': 'medium'},\n",
       "     {'#text': 'https://lastfm.freetls.fastly.net/i/u/174s/2a96cbd8b46e442fc41c2b86b821562f.png',\n",
       "      'size': 'large'},\n",
       "     {'#text': 'https://lastfm.freetls.fastly.net/i/u/300x300/2a96cbd8b46e442fc41c2b86b821562f.png',\n",
       "      'size': 'extralarge'},\n",
       "     {'#text': 'https://lastfm.freetls.fastly.net/i/u/300x300/2a96cbd8b46e442fc41c2b86b821562f.png',\n",
       "      'size': 'mega'}]},\n",
       "   {'name': 'Quique González y Rebeca Jiménez',\n",
       "    'listeners': '127',\n",
       "    'mbid': '',\n",
       "    'url': 'https://www.last.fm/music/Quique+Gonz%C3%A1lez+y+Rebeca+Jim%C3%A9nez',\n",
       "    'streamable': '0',\n",
       "    'image': [{'#text': 'https://lastfm.freetls.fastly.net/i/u/34s/2a96cbd8b46e442fc41c2b86b821562f.png',\n",
       "      'size': 'small'},\n",
       "     {'#text': 'https://lastfm.freetls.fastly.net/i/u/64s/2a96cbd8b46e442fc41c2b86b821562f.png',\n",
       "      'size': 'medium'},\n",
       "     {'#text': 'https://lastfm.freetls.fastly.net/i/u/174s/2a96cbd8b46e442fc41c2b86b821562f.png',\n",
       "      'size': 'large'},\n",
       "     {'#text': 'https://lastfm.freetls.fastly.net/i/u/300x300/2a96cbd8b46e442fc41c2b86b821562f.png',\n",
       "      'size': 'extralarge'},\n",
       "     {'#text': 'https://lastfm.freetls.fastly.net/i/u/300x300/2a96cbd8b46e442fc41c2b86b821562f.png',\n",
       "      'size': 'mega'}]},\n",
       "   {'name': 'Quique González y La Aristocracia Del Barrio',\n",
       "    'listeners': '5',\n",
       "    'mbid': '',\n",
       "    'url': 'https://www.last.fm/music/Quique+Gonz%C3%A1lez+y+La+Aristocracia+Del+Barrio',\n",
       "    'streamable': '0',\n",
       "    'image': [{'#text': '', 'size': 'small'},\n",
       "     {'#text': '', 'size': 'medium'},\n",
       "     {'#text': '', 'size': 'large'},\n",
       "     {'#text': '', 'size': 'extralarge'},\n",
       "     {'#text': '', 'size': 'mega'}]},\n",
       "   {'name': 'Quique González (Unplugged)',\n",
       "    'listeners': '135',\n",
       "    'mbid': '',\n",
       "    'url': 'https://www.last.fm/music/Quique+Gonz%C3%A1lez+(Unplugged)',\n",
       "    'streamable': '0',\n",
       "    'image': [{'#text': '', 'size': 'small'},\n",
       "     {'#text': '', 'size': 'medium'},\n",
       "     {'#text': '', 'size': 'large'},\n",
       "     {'#text': '', 'size': 'extralarge'},\n",
       "     {'#text': '', 'size': 'mega'}]},\n",
       "   {'name': 'Quique González (España)',\n",
       "    'listeners': '2',\n",
       "    'mbid': '',\n",
       "    'url': 'https://www.last.fm/music/Quique+Gonz%C3%A1lez+(Espa%C3%B1a)',\n",
       "    'streamable': '0',\n",
       "    'image': [{'#text': '', 'size': 'small'},\n",
       "     {'#text': '', 'size': 'medium'},\n",
       "     {'#text': '', 'size': 'large'},\n",
       "     {'#text': '', 'size': 'extralarge'},\n",
       "     {'#text': '', 'size': 'mega'}]},\n",
       "   {'name': 'Quique González & Los Taxidrivers',\n",
       "    'listeners': '113',\n",
       "    'mbid': '',\n",
       "    'url': 'https://www.last.fm/music/Quique+Gonz%C3%A1lez+&+Los+Taxidrivers',\n",
       "    'streamable': '0',\n",
       "    'image': [{'#text': '', 'size': 'small'},\n",
       "     {'#text': '', 'size': 'medium'},\n",
       "     {'#text': '', 'size': 'large'},\n",
       "     {'#text': '', 'size': 'extralarge'},\n",
       "     {'#text': '', 'size': 'mega'}]},\n",
       "   {'name': 'Pereza con Quique González',\n",
       "    'listeners': '108',\n",
       "    'mbid': '',\n",
       "    'url': 'https://www.last.fm/music/Pereza+con+Quique+Gonz%C3%A1lez',\n",
       "    'streamable': '0',\n",
       "    'image': [{'#text': '', 'size': 'small'},\n",
       "     {'#text': '', 'size': 'medium'},\n",
       "     {'#text': '', 'size': 'large'},\n",
       "     {'#text': '', 'size': 'extralarge'},\n",
       "     {'#text': '', 'size': 'mega'}]},\n",
       "   {'name': 'Quique González, Iván Ferreiro',\n",
       "    'listeners': '28',\n",
       "    'mbid': '',\n",
       "    'url': 'https://www.last.fm/music/Quique+Gonz%C3%A1lez,+Iv%C3%A1n+Ferreiro',\n",
       "    'streamable': '0',\n",
       "    'image': [{'#text': '', 'size': 'small'},\n",
       "     {'#text': '', 'size': 'medium'},\n",
       "     {'#text': '', 'size': 'large'},\n",
       "     {'#text': '', 'size': 'extralarge'},\n",
       "     {'#text': '', 'size': 'mega'}]},\n",
       "   {'name': 'Quique González y Rebeca Jimenez',\n",
       "    'listeners': '26',\n",
       "    'mbid': '',\n",
       "    'url': 'https://www.last.fm/music/Quique+Gonz%C3%A1lez+y+Rebeca+Jimenez',\n",
       "    'streamable': '0',\n",
       "    'image': [{'#text': '', 'size': 'small'},\n",
       "     {'#text': '', 'size': 'medium'},\n",
       "     {'#text': '', 'size': 'large'},\n",
       "     {'#text': '', 'size': 'extralarge'},\n",
       "     {'#text': '', 'size': 'mega'}]},\n",
       "   {'name': 'Quique González con Iván Ferreiro',\n",
       "    'listeners': '23',\n",
       "    'mbid': '27e948aa-6b38-4da2-acf6-8459964a130a',\n",
       "    'url': 'https://www.last.fm/music/Quique+Gonz%C3%A1lez+con+Iv%C3%A1n+Ferreiro',\n",
       "    'streamable': '0',\n",
       "    'image': [{'#text': '', 'size': 'small'},\n",
       "     {'#text': '', 'size': 'medium'},\n",
       "     {'#text': '', 'size': 'large'},\n",
       "     {'#text': '', 'size': 'extralarge'},\n",
       "     {'#text': '', 'size': 'mega'}]},\n",
       "   {'name': 'Pereza/Quique González',\n",
       "    'listeners': '12',\n",
       "    'mbid': '',\n",
       "    'url': 'https://www.last.fm/music/Pereza%2FQuique+Gonz%C3%A1lez',\n",
       "    'streamable': '0',\n",
       "    'image': [{'#text': '', 'size': 'small'},\n",
       "     {'#text': '', 'size': 'medium'},\n",
       "     {'#text': '', 'size': 'large'},\n",
       "     {'#text': '', 'size': 'extralarge'},\n",
       "     {'#text': '', 'size': 'mega'}]},\n",
       "   {'name': 'Leiva & Quique González',\n",
       "    'listeners': '40',\n",
       "    'mbid': '2e846d8d-b801-445f-aec2-3934ad843905',\n",
       "    'url': 'https://www.last.fm/music/Leiva+&+Quique+Gonz%C3%A1lez',\n",
       "    'streamable': '0',\n",
       "    'image': [{'#text': '', 'size': 'small'},\n",
       "     {'#text': '', 'size': 'medium'},\n",
       "     {'#text': '', 'size': 'large'},\n",
       "     {'#text': '', 'size': 'extralarge'},\n",
       "     {'#text': '', 'size': 'mega'}]},\n",
       "   {'name': 'Fabián, Quique González',\n",
       "    'listeners': '25',\n",
       "    'mbid': '',\n",
       "    'url': 'https://www.last.fm/music/Fabi%C3%A1n,+Quique+Gonz%C3%A1lez',\n",
       "    'streamable': '0',\n",
       "    'image': [{'#text': '', 'size': 'small'},\n",
       "     {'#text': '', 'size': 'medium'},\n",
       "     {'#text': '', 'size': 'large'},\n",
       "     {'#text': '', 'size': 'extralarge'},\n",
       "     {'#text': '', 'size': 'mega'}]},\n",
       "   {'name': 'Quique González & Iván Ferreiro',\n",
       "    'listeners': '22',\n",
       "    'mbid': '27e948aa-6b38-4da2-acf6-8459964a130a',\n",
       "    'url': 'https://www.last.fm/music/Quique+Gonz%C3%A1lez+&+Iv%C3%A1n+Ferreiro',\n",
       "    'streamable': '0',\n",
       "    'image': [{'#text': '', 'size': 'small'},\n",
       "     {'#text': '', 'size': 'medium'},\n",
       "     {'#text': '', 'size': 'large'},\n",
       "     {'#text': '', 'size': 'extralarge'},\n",
       "     {'#text': '', 'size': 'mega'}]},\n",
       "   {'name': 'Quique González y Jorge Drexler',\n",
       "    'listeners': '14',\n",
       "    'mbid': '',\n",
       "    'url': 'https://www.last.fm/music/Quique+Gonz%C3%A1lez+y+Jorge+Drexler',\n",
       "    'streamable': '0',\n",
       "    'image': [{'#text': '', 'size': 'small'},\n",
       "     {'#text': '', 'size': 'medium'},\n",
       "     {'#text': '', 'size': 'large'},\n",
       "     {'#text': '', 'size': 'extralarge'},\n",
       "     {'#text': '', 'size': 'mega'}]},\n",
       "   {'name': 'Quique González/Quique Gonzalez - [EMG]',\n",
       "    'listeners': '1',\n",
       "    'mbid': '',\n",
       "    'url': 'https://www.last.fm/music/Quique+Gonz%C3%A1lez%2FQuique+Gonzalez+-+%5BEMG%5D',\n",
       "    'streamable': '0',\n",
       "    'image': [{'#text': '', 'size': 'small'},\n",
       "     {'#text': '', 'size': 'medium'},\n",
       "     {'#text': '', 'size': 'large'},\n",
       "     {'#text': '', 'size': 'extralarge'},\n",
       "     {'#text': '', 'size': 'mega'}]},\n",
       "   {'name': 'Quique González, Los Detectives',\n",
       "    'listeners': '8',\n",
       "    'mbid': '',\n",
       "    'url': 'https://www.last.fm/music/Quique+Gonz%C3%A1lez,+Los+Detectives',\n",
       "    'streamable': '0',\n",
       "    'image': [{'#text': '', 'size': 'small'},\n",
       "     {'#text': '', 'size': 'medium'},\n",
       "     {'#text': '', 'size': 'large'},\n",
       "     {'#text': '', 'size': 'extralarge'},\n",
       "     {'#text': '', 'size': 'mega'}]},\n",
       "   {'name': 'Iván Ferreiro & Quique González',\n",
       "    'listeners': '9',\n",
       "    'mbid': '',\n",
       "    'url': 'https://www.last.fm/music/Iv%C3%A1n+Ferreiro+&+Quique+Gonz%C3%A1lez',\n",
       "    'streamable': '0',\n",
       "    'image': [{'#text': 'https://lastfm.freetls.fastly.net/i/u/34s/2a96cbd8b46e442fc41c2b86b821562f.png',\n",
       "      'size': 'small'},\n",
       "     {'#text': 'https://lastfm.freetls.fastly.net/i/u/64s/2a96cbd8b46e442fc41c2b86b821562f.png',\n",
       "      'size': 'medium'},\n",
       "     {'#text': 'https://lastfm.freetls.fastly.net/i/u/174s/2a96cbd8b46e442fc41c2b86b821562f.png',\n",
       "      'size': 'large'},\n",
       "     {'#text': 'https://lastfm.freetls.fastly.net/i/u/300x300/2a96cbd8b46e442fc41c2b86b821562f.png',\n",
       "      'size': 'extralarge'},\n",
       "     {'#text': 'https://lastfm.freetls.fastly.net/i/u/300x300/2a96cbd8b46e442fc41c2b86b821562f.png',\n",
       "      'size': 'mega'}]},\n",
       "   {'name': 'Quique González y Burning',\n",
       "    'listeners': '22',\n",
       "    'mbid': '',\n",
       "    'url': 'https://www.last.fm/music/Quique+Gonz%C3%A1lez+y+Burning',\n",
       "    'streamable': '0',\n",
       "    'image': [{'#text': '', 'size': 'small'},\n",
       "     {'#text': '', 'size': 'medium'},\n",
       "     {'#text': '', 'size': 'large'},\n",
       "     {'#text': '', 'size': 'extralarge'},\n",
       "     {'#text': '', 'size': 'mega'}]},\n",
       "   {'name': 'Quique González & Los Taxidriv',\n",
       "    'listeners': '34',\n",
       "    'mbid': '',\n",
       "    'url': 'https://www.last.fm/music/Quique+Gonz%C3%A1lez+&+Los+Taxidriv',\n",
       "    'streamable': '0',\n",
       "    'image': [{'#text': '', 'size': 'small'},\n",
       "     {'#text': '', 'size': 'medium'},\n",
       "     {'#text': '', 'size': 'large'},\n",
       "     {'#text': '', 'size': 'extralarge'},\n",
       "     {'#text': '', 'size': 'mega'}]},\n",
       "   {'name': 'Quique González e Iván Ferreiro',\n",
       "    'listeners': '15',\n",
       "    'mbid': '',\n",
       "    'url': 'https://www.last.fm/music/Quique+Gonz%C3%A1lez+e+Iv%C3%A1n+Ferreiro',\n",
       "    'streamable': '0',\n",
       "    'image': [{'#text': '', 'size': 'small'},\n",
       "     {'#text': '', 'size': 'medium'},\n",
       "     {'#text': '', 'size': 'large'},\n",
       "     {'#text': '', 'size': 'extralarge'},\n",
       "     {'#text': '', 'size': 'mega'}]},\n",
       "   {'name': 'Quique González & Enrique Bunbury',\n",
       "    'listeners': '8',\n",
       "    'mbid': '',\n",
       "    'url': 'https://www.last.fm/music/Quique+Gonz%C3%A1lez+&+Enrique+Bunbury',\n",
       "    'streamable': '0',\n",
       "    'image': [{'#text': '', 'size': 'small'},\n",
       "     {'#text': '', 'size': 'medium'},\n",
       "     {'#text': '', 'size': 'large'},\n",
       "     {'#text': '', 'size': 'extralarge'},\n",
       "     {'#text': '', 'size': 'mega'}]},\n",
       "   {'name': 'Quique González - Enrique Bunbury',\n",
       "    'listeners': '34',\n",
       "    'mbid': '',\n",
       "    'url': 'https://www.last.fm/music/Quique+Gonz%C3%A1lez+-+Enrique+Bunbury',\n",
       "    'streamable': '0',\n",
       "    'image': [{'#text': '', 'size': 'small'},\n",
       "     {'#text': '', 'size': 'medium'},\n",
       "     {'#text': '', 'size': 'large'},\n",
       "     {'#text': '', 'size': 'extralarge'},\n",
       "     {'#text': '', 'size': 'mega'}]},\n",
       "   {'name': 'González, Quique',\n",
       "    'listeners': '10',\n",
       "    'mbid': '',\n",
       "    'url': 'https://www.last.fm/music/Gonz%C3%A1lez,+Quique',\n",
       "    'streamable': '0',\n",
       "    'image': [{'#text': '', 'size': 'small'},\n",
       "     {'#text': '', 'size': 'medium'},\n",
       "     {'#text': '', 'size': 'large'},\n",
       "     {'#text': '', 'size': 'extralarge'},\n",
       "     {'#text': '', 'size': 'mega'}]},\n",
       "   {'name': 'Quique González/Quique Gonzalez',\n",
       "    'listeners': '4',\n",
       "    'mbid': '',\n",
       "    'url': 'https://www.last.fm/music/Quique+Gonz%C3%A1lez%2FQuique+Gonzalez',\n",
       "    'streamable': '0',\n",
       "    'image': [{'#text': '', 'size': 'small'},\n",
       "     {'#text': '', 'size': 'medium'},\n",
       "     {'#text': '', 'size': 'large'},\n",
       "     {'#text': '', 'size': 'extralarge'},\n",
       "     {'#text': '', 'size': 'mega'}]},\n",
       "   {'name': 'Ariel Rot/Quique González',\n",
       "    'listeners': '12',\n",
       "    'mbid': '',\n",
       "    'url': 'https://www.last.fm/music/Ariel+Rot%2FQuique+Gonz%C3%A1lez',\n",
       "    'streamable': '0',\n",
       "    'image': [{'#text': '', 'size': 'small'},\n",
       "     {'#text': '', 'size': 'medium'},\n",
       "     {'#text': '', 'size': 'large'},\n",
       "     {'#text': '', 'size': 'extralarge'},\n",
       "     {'#text': '', 'size': 'mega'}]},\n",
       "   {'name': 'Pereza & Quique González',\n",
       "    'listeners': '29',\n",
       "    'mbid': '',\n",
       "    'url': 'https://www.last.fm/music/Pereza+&+Quique+Gonz%C3%A1lez',\n",
       "    'streamable': '0',\n",
       "    'image': [{'#text': '', 'size': 'small'},\n",
       "     {'#text': '', 'size': 'medium'},\n",
       "     {'#text': '', 'size': 'large'},\n",
       "     {'#text': '', 'size': 'extralarge'},\n",
       "     {'#text': '', 'size': 'mega'}]},\n",
       "   {'name': 'Quique González / Los Detectives',\n",
       "    'listeners': '2',\n",
       "    'mbid': '',\n",
       "    'url': 'https://www.last.fm/music/Quique+Gonz%C3%A1lez+%2F+Los+Detectives',\n",
       "    'streamable': '0',\n",
       "    'image': [{'#text': '', 'size': 'small'},\n",
       "     {'#text': '', 'size': 'medium'},\n",
       "     {'#text': '', 'size': 'large'},\n",
       "     {'#text': '', 'size': 'extralarge'},\n",
       "     {'#text': '', 'size': 'mega'}]}]},\n",
       " '@attr': {'for': 'Quique González'}}"
      ]
     },
     "execution_count": 113,
     "metadata": {},
     "output_type": "execute_result"
    }
   ],
   "source": [
    "req_art_bus"
   ]
  },
  {
   "cell_type": "code",
   "execution_count": null,
   "id": "ab25df07",
   "metadata": {},
   "outputs": [],
   "source": []
  }
 ],
 "metadata": {
  "kernelspec": {
   "display_name": "sinatxe",
   "language": "python",
   "name": "sinatxe"
  },
  "language_info": {
   "codemirror_mode": {
    "name": "ipython",
    "version": 3
   },
   "file_extension": ".py",
   "mimetype": "text/x-python",
   "name": "python",
   "nbconvert_exporter": "python",
   "pygments_lexer": "ipython3",
   "version": "3.8.5"
  }
 },
 "nbformat": 4,
 "nbformat_minor": 5
}
