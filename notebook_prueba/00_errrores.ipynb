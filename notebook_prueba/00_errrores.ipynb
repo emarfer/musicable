{
 "cells": [
  {
   "cell_type": "code",
   "execution_count": 1,
   "id": "f7beb6f1",
   "metadata": {},
   "outputs": [],
   "source": [
    "import os\n",
    "import pandas as pd\n",
    "import requests\n",
    "import sys\n",
    "sys.path.append('src')\n",
    "import apilast as als\n",
    "import sqltools as sqt\n",
    "\n",
    "from PIL import Image\n",
    "\n"
   ]
  },
  {
   "cell_type": "code",
   "execution_count": 2,
   "id": "bfe512f8",
   "metadata": {},
   "outputs": [],
   "source": [
    "l_user = 'sinatxester'\n",
    "limit = 1000\n",
    "uts_num = sqt.maxuts() + 1\n",
    "keylast = os.getenv(\"keylast\")"
   ]
  },
  {
   "cell_type": "code",
   "execution_count": 3,
   "id": "dd63879b",
   "metadata": {},
   "outputs": [],
   "source": [
    " #lastf key para la api\n",
    "url = f'http://ws.audioscrobbler.com/2.0/?method=user.getrecenttracks&user={l_user}&limit={limit}&from={uts_num}&api_key={keylast}&format=json'"
   ]
  },
  {
   "cell_type": "code",
   "execution_count": 4,
   "id": "bb9ca3c9",
   "metadata": {},
   "outputs": [],
   "source": [
    "req = requests.get(url).json()"
   ]
  },
  {
   "cell_type": "code",
   "execution_count": null,
   "id": "18a0db5e",
   "metadata": {},
   "outputs": [],
   "source": [
    "#requests.get(url).json()"
   ]
  },
  {
   "cell_type": "code",
   "execution_count": null,
   "id": "dc644939",
   "metadata": {},
   "outputs": [],
   "source": [
    "req['recenttracks']['track'][0].keys()"
   ]
  },
  {
   "cell_type": "code",
   "execution_count": null,
   "id": "804d7cf6",
   "metadata": {},
   "outputs": [],
   "source": [
    "req['recenttracks']['track']"
   ]
  },
  {
   "cell_type": "code",
   "execution_count": null,
   "id": "2364e95e",
   "metadata": {
    "scrolled": true
   },
   "outputs": [],
   "source": [
    "if '@attr' in req['recenttracks']['track'][0].keys():\n",
    "    print(req['recenttracks']['track'][0].keys())\n",
    "else:\n",
    "    print(req['recenttracks']['track'][0].keys())\n",
    "#exists(req['recenttracks']['track'][0]['@attr'])"
   ]
  },
  {
   "cell_type": "code",
   "execution_count": null,
   "id": "01aa0e79",
   "metadata": {},
   "outputs": [],
   "source": [
    "req['recenttracks']['track'][0].keys()"
   ]
  },
  {
   "cell_type": "code",
   "execution_count": null,
   "id": "56185125",
   "metadata": {},
   "outputs": [],
   "source": [
    "requests.get(url).json()['recenttracks']['track'][0]"
   ]
  },
  {
   "cell_type": "code",
   "execution_count": null,
   "id": "4c5b44c5",
   "metadata": {},
   "outputs": [],
   "source": [
    "img_src = requests.get(url).json()['recenttracks']['track'][1]['image'][3]['#text']"
   ]
  },
  {
   "cell_type": "code",
   "execution_count": null,
   "id": "cb851be6",
   "metadata": {},
   "outputs": [],
   "source": [
    "import requests as req\n",
    "from PIL import Image\n",
    "from io import BytesIO\n"
   ]
  },
  {
   "cell_type": "code",
   "execution_count": null,
   "id": "e0ce67fc",
   "metadata": {},
   "outputs": [],
   "source": [
    "response = req.get(img_src)\n",
    "image = Image.open(BytesIO(response.content))\n",
    "image.show()"
   ]
  },
  {
   "cell_type": "markdown",
   "id": "987645cb",
   "metadata": {},
   "source": [
    "![](imagen)\n"
   ]
  },
  {
   "cell_type": "code",
   "execution_count": null,
   "id": "de4646d9",
   "metadata": {},
   "outputs": [],
   "source": [
    "#print(f'Now playing {requests.get(url).json()['recenttracks']['track'][0]['artist']} - {requests.get(url).json()['recenttracks']['track'][0]['name']}')"
   ]
  },
  {
   "cell_type": "code",
   "execution_count": null,
   "id": "ada15eba",
   "metadata": {},
   "outputs": [],
   "source": [
    "req['recenttracks']['track'][1:] #1643911925"
   ]
  },
  {
   "cell_type": "markdown",
   "id": "14b62bd8",
   "metadata": {},
   "source": [
    "```PYTHON\n",
    "req['recenttracks']['track'][0]\n",
    "'@attr': {'nowplaying': 'true'},\n",
    "```"
   ]
  },
  {
   "cell_type": "code",
   "execution_count": null,
   "id": "f2ecdf7e",
   "metadata": {},
   "outputs": [],
   "source": [
    "for r in req['recenttracks']['track']:\n",
    "    print(r.get('date',0))\n"
   ]
  },
  {
   "cell_type": "code",
   "execution_count": 5,
   "id": "3848ac2b",
   "metadata": {},
   "outputs": [],
   "source": [
    "def req_lastfm (l_user,limit,lastuts):\n",
    "    '''\n",
    "    recibe parámetros para el endopint de la api de lastfm de rectents tracks de un usuario\n",
    "    l_user: cadena de texto, nombre del usuario\n",
    "    limit: integer del 1 a 1000 (preferible 1000) #si sabemos cuántos scrobbles hay y son menos de 1000 podemos poner un número\n",
    "    lastuts: int el último uts registrado en la base de datos de mysql (fecha en segundos)\n",
    "    devuelve un diccionario (json) con los últimos tracks\n",
    "    '''\n",
    "    uts_num = lastuts + 1 #le sumamos uno al uts recibido para no tenerlo en cuenta porque ya está en la base de datos\n",
    "    keylast = os.getenv(\"keylast\") #lastf key para la api\n",
    "    url = f'http://ws.audioscrobbler.com/2.0/?method=user.getrecenttracks&user={l_user}&limit={limit}&from={uts_num}&api_key={keylast}&format=json'\n",
    "    req = requests.get(url).json()\n",
    "    if req['recenttracks']['@attr']['totalPages'] == '0':\n",
    "        return 'No hay nuevos scrobbles'\n",
    "    \n",
    "    elif req['recenttracks']['@attr']['totalPages'] == '1':\n",
    "        if req['recenttracks']['track'][0]['@attr'] == {'nowplaying': 'true'}:\n",
    "            art_play = req['recenttracks']['track'][0]['artist']['#text']\n",
    "            tit_play = req['recenttracks']['track'][0]['name']\n",
    "            print(f'Now playing {art_play} by {tit_play}')\n",
    "            return als.df_fromtracks(req['recenttracks']['track'][1:])\n",
    "        else:\n",
    "            tracks = req['recenttracks']['track']            \n",
    "            return als.df_fromtracks(tracks)\n",
    "    else:\n",
    "        lista_lista = []\n",
    "        pages = int(req['recenttracks']['@attr']['totalPages'])\n",
    "        if req['recenttracks']['track'][0]['@attr'] == {'nowplaying': 'true'}:\n",
    "            art_play = req['recenttracks']['track'][0]['artist']['#text']\n",
    "            tit_play = req['recenttracks']['track'][0]['name']\n",
    "            print(f'Now playing {art_play} by {tit_play}')\n",
    "            for i in range(1,pages+1):\n",
    "                url_p = f'http://ws.audioscrobbler.com/2.0/?method=user.getrecenttracks&user={l_user}&limit={limit}&from={uts_num}&page={page}&api_key={keylast}&format=json'\n",
    "                rq_p = requests.get(url_p).json()['recenttracks']['track']\n",
    "                lista_lista.append(rq_p)\n",
    "            tracks = [l for lista in lista_lista for l in lista]\n",
    "            tracks.pop(0)\n",
    "            return als.df_fromtracks(tracks)\n",
    "        else:\n",
    "        \n",
    "            for i in range(1,pages+1):\n",
    "                page = i\n",
    "                url_p = f'http://ws.audioscrobbler.com/2.0/?method=user.getrecenttracks&user={l_user}&limit={limit}&from={uts_num}&page={page}&api_key={keylast}&format=json'\n",
    "                rq_p = requests.get(url_p).json()['recenttracks']['track']\n",
    "                lista_lista.append(rq_p)\n",
    "            tracks = [l for lista in lista_lista for l in lista]\n",
    "        \n",
    "            return als.df_fromtracks(tracks) #llamamos a la función df_fromtracks"
   ]
  },
  {
   "cell_type": "code",
   "execution_count": 6,
   "id": "7fc124ea",
   "metadata": {},
   "outputs": [],
   "source": [
    "l_user = 'sinatxester'\n",
    "limit = 1000\n",
    "lastuts = sqt.maxuts()\n",
    "keylast = os.getenv(\"keylast\")"
   ]
  },
  {
   "cell_type": "code",
   "execution_count": 7,
   "id": "e741f387",
   "metadata": {},
   "outputs": [
    {
     "name": "stdout",
     "output_type": "stream",
     "text": [
      "Now playing Anouk by Nobody's Wife\n"
     ]
    }
   ],
   "source": [
    "recent = req_lastfm (l_user,limit,lastuts)"
   ]
  },
  {
   "cell_type": "code",
   "execution_count": 8,
   "id": "d4ed56b9",
   "metadata": {
    "scrolled": true
   },
   "outputs": [
    {
     "data": {
      "text/html": [
       "<div>\n",
       "<style scoped>\n",
       "    .dataframe tbody tr th:only-of-type {\n",
       "        vertical-align: middle;\n",
       "    }\n",
       "\n",
       "    .dataframe tbody tr th {\n",
       "        vertical-align: top;\n",
       "    }\n",
       "\n",
       "    .dataframe thead th {\n",
       "        text-align: right;\n",
       "    }\n",
       "</style>\n",
       "<table border=\"1\" class=\"dataframe\">\n",
       "  <thead>\n",
       "    <tr style=\"text-align: right;\">\n",
       "      <th></th>\n",
       "      <th>uts</th>\n",
       "      <th>artist</th>\n",
       "      <th>artist_mbid</th>\n",
       "      <th>album</th>\n",
       "      <th>album_mbid</th>\n",
       "      <th>title</th>\n",
       "      <th>track_mbid</th>\n",
       "    </tr>\n",
       "  </thead>\n",
       "  <tbody>\n",
       "    <tr>\n",
       "      <th>0</th>\n",
       "      <td>1643932309</td>\n",
       "      <td>Anouk</td>\n",
       "      <td>5e8da504-c75b-4bf5-9dfc-119057c1a9c0</td>\n",
       "      <td>Together Alone</td>\n",
       "      <td>39751948-bfc3-48af-9064-094c37e94069</td>\n",
       "      <td>Nobody's Wife</td>\n",
       "      <td>0ba5ac26-3704-3142-88c1-6295a1b254c8</td>\n",
       "    </tr>\n",
       "    <tr>\n",
       "      <th>1</th>\n",
       "      <td>1643931996</td>\n",
       "      <td>Gloria Trevi</td>\n",
       "      <td>f5b33d1b-e8bc-444e-bc5c-490473aa0f50</td>\n",
       "      <td>Más Turbada Que Nunca</td>\n",
       "      <td></td>\n",
       "      <td>La Papa Sin Catsup</td>\n",
       "      <td>2af9353d-fb3c-3043-adfc-4b7c5a6df92b</td>\n",
       "    </tr>\n",
       "    <tr>\n",
       "      <th>2</th>\n",
       "      <td>1643931802</td>\n",
       "      <td>Zaz</td>\n",
       "      <td>e3214827-bd09-4d53-a88c-893d61556352</td>\n",
       "      <td>Zaz</td>\n",
       "      <td>1780dbb3-820a-3970-a30c-b3f761543de5</td>\n",
       "      <td>Port coton</td>\n",
       "      <td>009bf74d-fb9f-3927-93d3-ab610fcb69d8</td>\n",
       "    </tr>\n",
       "    <tr>\n",
       "      <th>3</th>\n",
       "      <td>1643931529</td>\n",
       "      <td>Zaz</td>\n",
       "      <td>e3214827-bd09-4d53-a88c-893d61556352</td>\n",
       "      <td>Zaz</td>\n",
       "      <td>1780dbb3-820a-3970-a30c-b3f761543de5</td>\n",
       "      <td>Je veux</td>\n",
       "      <td>00f75be6-8a4f-46d2-8149-6efdee47dd75</td>\n",
       "    </tr>\n",
       "    <tr>\n",
       "      <th>4</th>\n",
       "      <td>1643931037</td>\n",
       "      <td>Kyla La Grange</td>\n",
       "      <td>082e714f-be12-4890-ae83-6203bd9c7d2a</td>\n",
       "      <td>Cut Your Teeth</td>\n",
       "      <td>4182ff81-da03-4941-a387-35f0479ba378</td>\n",
       "      <td>White Doves</td>\n",
       "      <td>1865d443-9f4c-4823-b857-0e336958be2c</td>\n",
       "    </tr>\n",
       "    <tr>\n",
       "      <th>5</th>\n",
       "      <td>1643930738</td>\n",
       "      <td>Rozalén</td>\n",
       "      <td>0432dc38-a03b-4325-9609-1caada06f47a</td>\n",
       "      <td>Con derecho a...</td>\n",
       "      <td>a72ebae6-ba4e-42cc-9c07-6efbf11f5146</td>\n",
       "      <td>80 veces</td>\n",
       "      <td>8e9ee432-6e10-3620-ad69-ee288e1fb5ef</td>\n",
       "    </tr>\n",
       "    <tr>\n",
       "      <th>6</th>\n",
       "      <td>1643930405</td>\n",
       "      <td>Christina Aguilera</td>\n",
       "      <td>b202beb7-99bd-47e7-8b72-195c8d72ebdd</td>\n",
       "      <td>Stripped</td>\n",
       "      <td>0c705c13-d755-4399-9ad4-a44a853ea86b</td>\n",
       "      <td>Can't Hold Us Down</td>\n",
       "      <td>1e2b9863-a38c-4a8e-819f-15fd42780feb</td>\n",
       "    </tr>\n",
       "    <tr>\n",
       "      <th>7</th>\n",
       "      <td>1643929919</td>\n",
       "      <td>Cutting Crew</td>\n",
       "      <td>2aa79fa9-7ac0-443b-b250-18d67227a1cb</td>\n",
       "      <td>Broadcast</td>\n",
       "      <td>07e8751b-d8be-4d09-81e6-62cd27061c7e</td>\n",
       "      <td>(I Just) Died in Your Arms</td>\n",
       "      <td>00734dfa-a187-3b54-ad65-0d8e8694edfe</td>\n",
       "    </tr>\n",
       "  </tbody>\n",
       "</table>\n",
       "</div>"
      ],
      "text/plain": [
       "          uts              artist                           artist_mbid  \\\n",
       "0  1643932309               Anouk  5e8da504-c75b-4bf5-9dfc-119057c1a9c0   \n",
       "1  1643931996        Gloria Trevi  f5b33d1b-e8bc-444e-bc5c-490473aa0f50   \n",
       "2  1643931802                 Zaz  e3214827-bd09-4d53-a88c-893d61556352   \n",
       "3  1643931529                 Zaz  e3214827-bd09-4d53-a88c-893d61556352   \n",
       "4  1643931037      Kyla La Grange  082e714f-be12-4890-ae83-6203bd9c7d2a   \n",
       "5  1643930738             Rozalén  0432dc38-a03b-4325-9609-1caada06f47a   \n",
       "6  1643930405  Christina Aguilera  b202beb7-99bd-47e7-8b72-195c8d72ebdd   \n",
       "7  1643929919        Cutting Crew  2aa79fa9-7ac0-443b-b250-18d67227a1cb   \n",
       "\n",
       "                   album                            album_mbid  \\\n",
       "0         Together Alone  39751948-bfc3-48af-9064-094c37e94069   \n",
       "1  Más Turbada Que Nunca                                         \n",
       "2                    Zaz  1780dbb3-820a-3970-a30c-b3f761543de5   \n",
       "3                    Zaz  1780dbb3-820a-3970-a30c-b3f761543de5   \n",
       "4         Cut Your Teeth  4182ff81-da03-4941-a387-35f0479ba378   \n",
       "5       Con derecho a...  a72ebae6-ba4e-42cc-9c07-6efbf11f5146   \n",
       "6               Stripped  0c705c13-d755-4399-9ad4-a44a853ea86b   \n",
       "7              Broadcast  07e8751b-d8be-4d09-81e6-62cd27061c7e   \n",
       "\n",
       "                        title                            track_mbid  \n",
       "0               Nobody's Wife  0ba5ac26-3704-3142-88c1-6295a1b254c8  \n",
       "1          La Papa Sin Catsup  2af9353d-fb3c-3043-adfc-4b7c5a6df92b  \n",
       "2                  Port coton  009bf74d-fb9f-3927-93d3-ab610fcb69d8  \n",
       "3                     Je veux  00f75be6-8a4f-46d2-8149-6efdee47dd75  \n",
       "4                 White Doves  1865d443-9f4c-4823-b857-0e336958be2c  \n",
       "5                    80 veces  8e9ee432-6e10-3620-ad69-ee288e1fb5ef  \n",
       "6          Can't Hold Us Down  1e2b9863-a38c-4a8e-819f-15fd42780feb  \n",
       "7  (I Just) Died in Your Arms  00734dfa-a187-3b54-ad65-0d8e8694edfe  "
      ]
     },
     "execution_count": 8,
     "metadata": {},
     "output_type": "execute_result"
    }
   ],
   "source": [
    "recent"
   ]
  },
  {
   "cell_type": "code",
   "execution_count": 9,
   "id": "fe30789b",
   "metadata": {},
   "outputs": [
    {
     "data": {
      "text/plain": [
       "{\"'\": \"'\", '\\\\': '\\\\\\\\', '\"': '\"'}"
      ]
     },
     "execution_count": 9,
     "metadata": {},
     "output_type": "execute_result"
    }
   ],
   "source": [
    "remplazos = {\"'\":\"\\'\",'\\\\':'\\\\\\\\','\"':'\\\"'}\n",
    "remplazos\n",
    "#artist.replace(remplazos)"
   ]
  },
  {
   "cell_type": "code",
   "execution_count": 10,
   "id": "6e893db9",
   "metadata": {},
   "outputs": [
    {
     "data": {
      "text/plain": [
       "0                 Nobody's Wife\n",
       "1            La Papa Sin Catsup\n",
       "2                    Port coton\n",
       "3                       Je veux\n",
       "4                   White Doves\n",
       "5                      80 veces\n",
       "6            Can't Hold Us Down\n",
       "7    (I Just) Died in Your Arms\n",
       "Name: title, dtype: object"
      ]
     },
     "execution_count": 10,
     "metadata": {},
     "output_type": "execute_result"
    }
   ],
   "source": [
    "recent.title.replace(remplazos)"
   ]
  },
  {
   "cell_type": "code",
   "execution_count": null,
   "id": "aed668b9",
   "metadata": {},
   "outputs": [],
   "source": []
  },
  {
   "cell_type": "code",
   "execution_count": null,
   "id": "e91a7773",
   "metadata": {},
   "outputs": [],
   "source": [
    "for a in artist:\n",
    "    a.replace(remplazos)"
   ]
  },
  {
   "cell_type": "code",
   "execution_count": null,
   "id": "c4ecf726",
   "metadata": {},
   "outputs": [],
   "source": [
    "prueba = {'e':'ee','g':'gg'}\n",
    "artist.replace(prueba)"
   ]
  },
  {
   "cell_type": "code",
   "execution_count": null,
   "id": "40db987e",
   "metadata": {},
   "outputs": [],
   "source": [
    "artist.replace(\"'\",\"\\'\")"
   ]
  },
  {
   "cell_type": "code",
   "execution_count": null,
   "id": "32dee7c3",
   "metadata": {},
   "outputs": [],
   "source": [
    "def insert_data(uts, artist, artist_mbid, album, album_mbid, title, track_mbid):\n",
    "    '''\n",
    "    recibe los datos del datframe creado con la api de ultimos tracks de lastfm\n",
    "    inserta los datos en la tabla scrobbling de mysql\n",
    "    '''\n",
    "    \n",
    "    remplazos = {\"'\":\"\\'\",'\\\\':'\\\\\\\\','\"':'\\\"'}\n",
    "    artist = artist.replace(remplazos)\n",
    "    \n",
    "    \n",
    "    if '\"' not in str(artist) and '\"' not in str(album) and '\"' not in str(title):\n",
    "        try:\n",
    "            engine.execute(f\"\"\"\n",
    "                    INSERT INTO scrobbling (uts, artist, artist_mbid, album, album_mbid, title, track_mbid)\n",
    "                    VALUES ({uts}, \"{artist}\", \"{artist_mbid}\", \"{album}\", \"{album_mbid}\", \"{title}\",\"{track_mbid}\");\n",
    "                    \"\"\")\n",
    "        except:\n",
    "            print(f'{uts} sin comillas en ningún lugar')    \n",
    "            next\n",
    "    elif '\"' in str(artist) and '\"' not in str(album) and '\"' not in str(title):\n",
    "        try:\n",
    "            engine.execute(f\"\"\"\n",
    "                    INSERT INTO scrobbling (uts, artist, artist_mbid, album, album_mbid, title, track_mbid)\n",
    "                    VALUES ({uts}, '{artist}', \"{artist_mbid}\", \"{album}\", \"{album_mbid}\", \"{title}\",\"{track_mbid}\");\n",
    "                    \"\"\")\n",
    "        except:\n",
    "            print(f'{uts} con comillas en artista')    \n",
    "            next\n",
    "    elif '\"' not in str(artist) and '\"' in str(album) and '\"' not in str(title):\n",
    "        try:\n",
    "            engine.execute(f\"\"\"\n",
    "                    INSERT INTO scrobbling (uts, artist, artist_mbid, album, album_mbid, title, track_mbid)\n",
    "                    VALUES ({uts}, \"{artist}\", \"{artist_mbid}\", '{album}', \"{album_mbid}\", \"{title}\",\"{track_mbid}\");\n",
    "                    \"\"\")\n",
    "        except:\n",
    "            print(f'{uts} con comillas en album')    \n",
    "            next\n",
    "    elif '\"' not in str(artist) and '\"' not in str(album) and '\"' in str(title):\n",
    "        try:\n",
    "            engine.execute(f\"\"\"\n",
    "                    INSERT INTO scrobbling (uts, artist, artist_mbid, album, album_mbid, title, track_mbid)\n",
    "                    VALUES ({uts}, \"{artist}\", \"{artist_mbid}\", \"{album}\", \"{album_mbid}\", '{title}',\"{track_mbid}\");\n",
    "                    \"\"\")\n",
    "        except:\n",
    "            print(f'{uts} con comillas en title')    \n",
    "            next"
   ]
  }
 ],
 "metadata": {
  "kernelspec": {
   "display_name": "ironhack",
   "language": "python",
   "name": "ironhack"
  },
  "language_info": {
   "codemirror_mode": {
    "name": "ipython",
    "version": 3
   },
   "file_extension": ".py",
   "mimetype": "text/x-python",
   "name": "python",
   "nbconvert_exporter": "python",
   "pygments_lexer": "ipython3",
   "version": "3.8.5"
  }
 },
 "nbformat": 4,
 "nbformat_minor": 5
}
